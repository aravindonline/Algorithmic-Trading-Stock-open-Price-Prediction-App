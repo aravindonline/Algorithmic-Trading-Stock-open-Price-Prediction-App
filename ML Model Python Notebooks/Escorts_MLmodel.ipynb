{
 "cells": [
  {
   "cell_type": "markdown",
   "metadata": {},
   "source": [
    "# AUTOMATED STOCK OPEN PRICE PREDICTION\n",
    "### AUTHOR : Aravind Ravikumar\n",
    "### DATE WRITTEN: 10-MAY-2020\n",
    "### Goal: To predict Open price of Escorts Company"
   ]
  },
  {
   "cell_type": "code",
   "execution_count": 1,
   "metadata": {},
   "outputs": [],
   "source": [
    "import pandas as pd\n",
    "import numpy as np\n",
    "import warnings\n",
    "warnings.filterwarnings(\"ignore\")\n",
    "from sklearn.model_selection import train_test_split\n",
    "from sklearn.metrics import mean_squared_error\n",
    "from sklearn.linear_model import LinearRegression\n",
    "from sklearn.ensemble import RandomForestRegressor\n",
    "from sklearn.svm import SVR\n",
    "from sklearn.ensemble import AdaBoostRegressor\n",
    "import xgboost as xgb\n",
    "\n",
    "from sklearn.feature_selection import SelectFromModel\n",
    "from sklearn.model_selection import RandomizedSearchCV\n",
    "from sklearn.model_selection import GridSearchCV\n",
    "from sklearn.preprocessing import MinMaxScaler\n",
    "import matplotlib.pyplot as plt\n",
    "%matplotlib inline"
   ]
  },
  {
   "cell_type": "code",
   "execution_count": 2,
   "metadata": {},
   "outputs": [],
   "source": [
    "train = pd.read_csv('../Data/STOCKS.CSV')\n",
    "dfg = pd.read_csv('../Data/HangSeng.CSV')\n",
    "dfy = pd.read_csv('../Data/NYSE.CSV')\n",
    "dfz = pd.read_csv('../Data/Shenzhen.CSV')\n",
    "dfk = pd.read_csv('../Data/KOSPI.CSV')\n",
    "dfe = pd.read_csv('../Data/Euronext100.CSV')\n",
    "dfx = pd.read_csv('../Data/SGXNifty.CSV')"
   ]
  },
  {
   "cell_type": "code",
   "execution_count": 3,
   "metadata": {},
   "outputs": [
    {
     "data": {
      "text/html": [
       "<div>\n",
       "<style scoped>\n",
       "    .dataframe tbody tr th:only-of-type {\n",
       "        vertical-align: middle;\n",
       "    }\n",
       "\n",
       "    .dataframe tbody tr th {\n",
       "        vertical-align: top;\n",
       "    }\n",
       "\n",
       "    .dataframe thead th {\n",
       "        text-align: right;\n",
       "    }\n",
       "</style>\n",
       "<table border=\"1\" class=\"dataframe\">\n",
       "  <thead>\n",
       "    <tr style=\"text-align: right;\">\n",
       "      <th></th>\n",
       "      <th>Date</th>\n",
       "      <th>SGXNifty Open</th>\n",
       "    </tr>\n",
       "  </thead>\n",
       "  <tbody>\n",
       "    <tr>\n",
       "      <th>0</th>\n",
       "      <td>Jan 07, 2015</td>\n",
       "      <td>8,149.50</td>\n",
       "    </tr>\n",
       "    <tr>\n",
       "      <th>1</th>\n",
       "      <td>Jan 08, 2015</td>\n",
       "      <td>8,151.50</td>\n",
       "    </tr>\n",
       "    <tr>\n",
       "      <th>2</th>\n",
       "      <td>Jan 09, 2015</td>\n",
       "      <td>8,256.50</td>\n",
       "    </tr>\n",
       "    <tr>\n",
       "      <th>3</th>\n",
       "      <td>Jan 12, 2015</td>\n",
       "      <td>8,314.50</td>\n",
       "    </tr>\n",
       "    <tr>\n",
       "      <th>4</th>\n",
       "      <td>Jan 13, 2015</td>\n",
       "      <td>8,357.50</td>\n",
       "    </tr>\n",
       "  </tbody>\n",
       "</table>\n",
       "</div>"
      ],
      "text/plain": [
       "           Date SGXNifty Open\n",
       "0  Jan 07, 2015      8,149.50\n",
       "1  Jan 08, 2015      8,151.50\n",
       "2  Jan 09, 2015      8,256.50\n",
       "3  Jan 12, 2015      8,314.50\n",
       "4  Jan 13, 2015      8,357.50"
      ]
     },
     "execution_count": 3,
     "metadata": {},
     "output_type": "execute_result"
    }
   ],
   "source": [
    "dfx.head()"
   ]
  },
  {
   "cell_type": "markdown",
   "metadata": {},
   "source": [
    "## Converting to common date format"
   ]
  },
  {
   "cell_type": "code",
   "execution_count": 270,
   "metadata": {},
   "outputs": [],
   "source": [
    "train['Date'] =  pd.to_datetime(train['Date'], format='%d-%m-%Y')\n",
    "dfg['Date'] =  pd.to_datetime(dfg['Date'], format='%d-%m-%Y')\n",
    "dfy['Date'] =  pd.to_datetime(dfy['Date'], format='%d-%m-%Y')\n",
    "dfz['Date'] =  pd.to_datetime(dfz['Date'], format='%d-%m-%Y')\n",
    "dfk['Date'] =  pd.to_datetime(dfk['Date'], format='%d-%m-%Y')\n",
    "dfe['Date'] =  pd.to_datetime(dfe['Date'], format='%d-%m-%Y')\n",
    "dfx['Date'] =  pd.to_datetime(dfx['Date'], format='%b %d, %Y')"
   ]
  },
  {
   "cell_type": "markdown",
   "metadata": {},
   "source": [
    "## Merging Dataframes on the basis of date"
   ]
  },
  {
   "cell_type": "code",
   "execution_count": 271,
   "metadata": {},
   "outputs": [],
   "source": [
    "train = pd.merge(train,dfg,how='inner',on='Date')\n",
    "train = pd.merge(train,dfz,how='inner',on='Date')\n",
    "train = pd.merge(train,dfy,how='inner',on='Date')\n",
    "train = pd.merge(train,dfk,how='inner',on='Date')\n",
    "train = pd.merge(train,dfe,how='inner',on='Date')\n",
    "train = pd.merge(train,dfx,how='inner',on='Date')"
   ]
  },
  {
   "cell_type": "code",
   "execution_count": 272,
   "metadata": {},
   "outputs": [],
   "source": [
    "train['SGXNifty Open'] = train['SGXNifty Open'].str.replace(\",\",\"\").astype(float) # string to float conversion"
   ]
  },
  {
   "cell_type": "code",
   "execution_count": 273,
   "metadata": {},
   "outputs": [
    {
     "data": {
      "text/html": [
       "<div>\n",
       "<style scoped>\n",
       "    .dataframe tbody tr th:only-of-type {\n",
       "        vertical-align: middle;\n",
       "    }\n",
       "\n",
       "    .dataframe tbody tr th {\n",
       "        vertical-align: top;\n",
       "    }\n",
       "\n",
       "    .dataframe thead th {\n",
       "        text-align: right;\n",
       "    }\n",
       "</style>\n",
       "<table border=\"1\" class=\"dataframe\">\n",
       "  <thead>\n",
       "    <tr style=\"text-align: right;\">\n",
       "      <th></th>\n",
       "      <th>Date</th>\n",
       "      <th>NIFTY_India Adj Close</th>\n",
       "      <th>Escorts Adj Close</th>\n",
       "      <th>Infosys Adj Close</th>\n",
       "      <th>TCS Adj Close</th>\n",
       "      <th>HCL Adj Close</th>\n",
       "      <th>Wipro Adj Close</th>\n",
       "      <th>Escorts Open</th>\n",
       "      <th>Infosys Open</th>\n",
       "      <th>TCS Open</th>\n",
       "      <th>HCL Open</th>\n",
       "      <th>Wipro Open</th>\n",
       "      <th>HangSeng Open</th>\n",
       "      <th>Shenzhen Open</th>\n",
       "      <th>NYSE Adj Close</th>\n",
       "      <th>KOSPI Open</th>\n",
       "      <th>Euronext Adj Close</th>\n",
       "      <th>SGXNifty Open</th>\n",
       "    </tr>\n",
       "  </thead>\n",
       "  <tbody>\n",
       "    <tr>\n",
       "      <th>0</th>\n",
       "      <td>2015-01-07</td>\n",
       "      <td>8127.350098</td>\n",
       "      <td>119.312721</td>\n",
       "      <td>371.613068</td>\n",
       "      <td>1049.084839</td>\n",
       "      <td>322.932098</td>\n",
       "      <td>183.633774</td>\n",
       "      <td>120.250000</td>\n",
       "      <td>491.250000</td>\n",
       "      <td>1235.000000</td>\n",
       "      <td>384.875000</td>\n",
       "      <td>203.699997</td>\n",
       "      <td>23396.69922</td>\n",
       "      <td>11612.73047</td>\n",
       "      <td>10514.87012</td>\n",
       "      <td>1878.900024</td>\n",
       "      <td>805.469971</td>\n",
       "      <td>8149.5</td>\n",
       "    </tr>\n",
       "    <tr>\n",
       "      <th>1</th>\n",
       "      <td>2015-01-08</td>\n",
       "      <td>8102.100098</td>\n",
       "      <td>118.381363</td>\n",
       "      <td>373.391449</td>\n",
       "      <td>1036.692627</td>\n",
       "      <td>315.258636</td>\n",
       "      <td>182.236313</td>\n",
       "      <td>122.099998</td>\n",
       "      <td>496.399994</td>\n",
       "      <td>1221.199951</td>\n",
       "      <td>379.250000</td>\n",
       "      <td>208.556000</td>\n",
       "      <td>23920.34961</td>\n",
       "      <td>11624.58984</td>\n",
       "      <td>10627.12988</td>\n",
       "      <td>1895.849976</td>\n",
       "      <td>810.940002</td>\n",
       "      <td>8151.5</td>\n",
       "    </tr>\n",
       "    <tr>\n",
       "      <th>2</th>\n",
       "      <td>2015-01-09</td>\n",
       "      <td>8234.599609</td>\n",
       "      <td>123.626411</td>\n",
       "      <td>375.273315</td>\n",
       "      <td>1047.884155</td>\n",
       "      <td>322.553589</td>\n",
       "      <td>183.549332</td>\n",
       "      <td>127.400002</td>\n",
       "      <td>495.024994</td>\n",
       "      <td>1227.500000</td>\n",
       "      <td>384.162994</td>\n",
       "      <td>205.949997</td>\n",
       "      <td>24049.69922</td>\n",
       "      <td>11424.53027</td>\n",
       "      <td>10800.54004</td>\n",
       "      <td>1919.800049</td>\n",
       "      <td>837.729980</td>\n",
       "      <td>8256.5</td>\n",
       "    </tr>\n",
       "    <tr>\n",
       "      <th>3</th>\n",
       "      <td>2015-01-12</td>\n",
       "      <td>8284.500000</td>\n",
       "      <td>123.724457</td>\n",
       "      <td>394.479614</td>\n",
       "      <td>1077.256592</td>\n",
       "      <td>324.919189</td>\n",
       "      <td>186.412491</td>\n",
       "      <td>127.099998</td>\n",
       "      <td>523.000000</td>\n",
       "      <td>1258.500000</td>\n",
       "      <td>388.774994</td>\n",
       "      <td>206.250000</td>\n",
       "      <td>24118.58984</td>\n",
       "      <td>11279.73047</td>\n",
       "      <td>10711.41016</td>\n",
       "      <td>1918.180054</td>\n",
       "      <td>824.390015</td>\n",
       "      <td>8314.5</td>\n",
       "    </tr>\n",
       "    <tr>\n",
       "      <th>4</th>\n",
       "      <td>2015-01-13</td>\n",
       "      <td>8323.000000</td>\n",
       "      <td>122.891121</td>\n",
       "      <td>402.371277</td>\n",
       "      <td>1076.141479</td>\n",
       "      <td>331.226013</td>\n",
       "      <td>187.271072</td>\n",
       "      <td>125.250000</td>\n",
       "      <td>526.950012</td>\n",
       "      <td>1260.000000</td>\n",
       "      <td>393.888000</td>\n",
       "      <td>208.912994</td>\n",
       "      <td>23908.23047</td>\n",
       "      <td>11250.87988</td>\n",
       "      <td>10640.74023</td>\n",
       "      <td>1915.030029</td>\n",
       "      <td>832.760010</td>\n",
       "      <td>8357.5</td>\n",
       "    </tr>\n",
       "  </tbody>\n",
       "</table>\n",
       "</div>"
      ],
      "text/plain": [
       "        Date  NIFTY_India Adj Close  Escorts Adj Close  Infosys Adj Close  \\\n",
       "0 2015-01-07            8127.350098         119.312721         371.613068   \n",
       "1 2015-01-08            8102.100098         118.381363         373.391449   \n",
       "2 2015-01-09            8234.599609         123.626411         375.273315   \n",
       "3 2015-01-12            8284.500000         123.724457         394.479614   \n",
       "4 2015-01-13            8323.000000         122.891121         402.371277   \n",
       "\n",
       "   TCS Adj Close  HCL Adj Close  Wipro Adj Close  Escorts Open  Infosys Open  \\\n",
       "0    1049.084839     322.932098       183.633774    120.250000    491.250000   \n",
       "1    1036.692627     315.258636       182.236313    122.099998    496.399994   \n",
       "2    1047.884155     322.553589       183.549332    127.400002    495.024994   \n",
       "3    1077.256592     324.919189       186.412491    127.099998    523.000000   \n",
       "4    1076.141479     331.226013       187.271072    125.250000    526.950012   \n",
       "\n",
       "      TCS Open    HCL Open  Wipro Open  HangSeng Open  Shenzhen Open  \\\n",
       "0  1235.000000  384.875000  203.699997    23396.69922    11612.73047   \n",
       "1  1221.199951  379.250000  208.556000    23920.34961    11624.58984   \n",
       "2  1227.500000  384.162994  205.949997    24049.69922    11424.53027   \n",
       "3  1258.500000  388.774994  206.250000    24118.58984    11279.73047   \n",
       "4  1260.000000  393.888000  208.912994    23908.23047    11250.87988   \n",
       "\n",
       "   NYSE Adj Close   KOSPI Open  Euronext Adj Close  SGXNifty Open  \n",
       "0     10514.87012  1878.900024          805.469971         8149.5  \n",
       "1     10627.12988  1895.849976          810.940002         8151.5  \n",
       "2     10800.54004  1919.800049          837.729980         8256.5  \n",
       "3     10711.41016  1918.180054          824.390015         8314.5  \n",
       "4     10640.74023  1915.030029          832.760010         8357.5  "
      ]
     },
     "execution_count": 273,
     "metadata": {},
     "output_type": "execute_result"
    }
   ],
   "source": [
    "train.head()"
   ]
  },
  {
   "cell_type": "code",
   "execution_count": 274,
   "metadata": {},
   "outputs": [
    {
     "data": {
      "text/plain": [
       "(1126, 18)"
      ]
     },
     "execution_count": 274,
     "metadata": {},
     "output_type": "execute_result"
    }
   ],
   "source": [
    "train.shape"
   ]
  },
  {
   "cell_type": "code",
   "execution_count": 275,
   "metadata": {},
   "outputs": [
    {
     "data": {
      "text/plain": [
       "Index(['Date', 'NIFTY_India Adj Close', 'Escorts Adj Close',\n",
       "       'Infosys Adj Close', 'TCS Adj Close', 'HCL Adj Close',\n",
       "       'Wipro Adj Close', 'Escorts Open', 'Infosys Open', 'TCS Open',\n",
       "       'HCL Open', 'Wipro Open', 'HangSeng Open', 'Shenzhen Open',\n",
       "       'NYSE Adj Close', 'KOSPI Open', 'Euronext Adj Close', 'SGXNifty Open'],\n",
       "      dtype='object')"
      ]
     },
     "execution_count": 275,
     "metadata": {},
     "output_type": "execute_result"
    }
   ],
   "source": [
    "train.columns"
   ]
  },
  {
   "cell_type": "code",
   "execution_count": 276,
   "metadata": {},
   "outputs": [],
   "source": [
    "# Rearrange columns\n",
    "\n",
    "train = train[['Date', 'NIFTY_India Adj Close', 'Escorts Adj Close',\n",
    "       'HangSeng Open', 'Shenzhen Open',\n",
    "       'NYSE Adj Close', 'KOSPI Open', 'Euronext Adj Close', 'SGXNifty Open', 'Escorts Open']]"
   ]
  },
  {
   "cell_type": "code",
   "execution_count": 277,
   "metadata": {},
   "outputs": [
    {
     "data": {
      "text/html": [
       "<div>\n",
       "<style scoped>\n",
       "    .dataframe tbody tr th:only-of-type {\n",
       "        vertical-align: middle;\n",
       "    }\n",
       "\n",
       "    .dataframe tbody tr th {\n",
       "        vertical-align: top;\n",
       "    }\n",
       "\n",
       "    .dataframe thead th {\n",
       "        text-align: right;\n",
       "    }\n",
       "</style>\n",
       "<table border=\"1\" class=\"dataframe\">\n",
       "  <thead>\n",
       "    <tr style=\"text-align: right;\">\n",
       "      <th></th>\n",
       "      <th>Date</th>\n",
       "      <th>NIFTY_India Adj Close</th>\n",
       "      <th>Escorts Adj Close</th>\n",
       "      <th>HangSeng Open</th>\n",
       "      <th>Shenzhen Open</th>\n",
       "      <th>NYSE Adj Close</th>\n",
       "      <th>KOSPI Open</th>\n",
       "      <th>Euronext Adj Close</th>\n",
       "      <th>SGXNifty Open</th>\n",
       "      <th>Escorts Open</th>\n",
       "    </tr>\n",
       "  </thead>\n",
       "  <tbody>\n",
       "    <tr>\n",
       "      <th>0</th>\n",
       "      <td>2015-01-07</td>\n",
       "      <td>8127.350098</td>\n",
       "      <td>119.312721</td>\n",
       "      <td>23396.69922</td>\n",
       "      <td>11612.73047</td>\n",
       "      <td>10514.87012</td>\n",
       "      <td>1878.900024</td>\n",
       "      <td>805.469971</td>\n",
       "      <td>8149.5</td>\n",
       "      <td>120.250000</td>\n",
       "    </tr>\n",
       "    <tr>\n",
       "      <th>1</th>\n",
       "      <td>2015-01-08</td>\n",
       "      <td>8102.100098</td>\n",
       "      <td>118.381363</td>\n",
       "      <td>23920.34961</td>\n",
       "      <td>11624.58984</td>\n",
       "      <td>10627.12988</td>\n",
       "      <td>1895.849976</td>\n",
       "      <td>810.940002</td>\n",
       "      <td>8151.5</td>\n",
       "      <td>122.099998</td>\n",
       "    </tr>\n",
       "  </tbody>\n",
       "</table>\n",
       "</div>"
      ],
      "text/plain": [
       "        Date  NIFTY_India Adj Close  Escorts Adj Close  HangSeng Open  \\\n",
       "0 2015-01-07            8127.350098         119.312721    23396.69922   \n",
       "1 2015-01-08            8102.100098         118.381363    23920.34961   \n",
       "\n",
       "   Shenzhen Open  NYSE Adj Close   KOSPI Open  Euronext Adj Close  \\\n",
       "0    11612.73047     10514.87012  1878.900024          805.469971   \n",
       "1    11624.58984     10627.12988  1895.849976          810.940002   \n",
       "\n",
       "   SGXNifty Open  Escorts Open  \n",
       "0         8149.5    120.250000  \n",
       "1         8151.5    122.099998  "
      ]
     },
     "execution_count": 277,
     "metadata": {},
     "output_type": "execute_result"
    }
   ],
   "source": [
    "train.head(2)"
   ]
  },
  {
   "cell_type": "code",
   "execution_count": 278,
   "metadata": {},
   "outputs": [
    {
     "data": {
      "text/plain": [
       "Date                     0\n",
       "NIFTY_India Adj Close    7\n",
       "Escorts Adj Close        2\n",
       "HangSeng Open            3\n",
       "Shenzhen Open            1\n",
       "NYSE Adj Close           0\n",
       "KOSPI Open               5\n",
       "Euronext Adj Close       1\n",
       "SGXNifty Open            0\n",
       "Escorts Open             0\n",
       "dtype: int64"
      ]
     },
     "execution_count": 278,
     "metadata": {},
     "output_type": "execute_result"
    }
   ],
   "source": [
    "train.isnull().sum()"
   ]
  },
  {
   "cell_type": "code",
   "execution_count": 279,
   "metadata": {},
   "outputs": [
    {
     "data": {
      "text/html": [
       "<div>\n",
       "<style scoped>\n",
       "    .dataframe tbody tr th:only-of-type {\n",
       "        vertical-align: middle;\n",
       "    }\n",
       "\n",
       "    .dataframe tbody tr th {\n",
       "        vertical-align: top;\n",
       "    }\n",
       "\n",
       "    .dataframe thead th {\n",
       "        text-align: right;\n",
       "    }\n",
       "</style>\n",
       "<table border=\"1\" class=\"dataframe\">\n",
       "  <thead>\n",
       "    <tr style=\"text-align: right;\">\n",
       "      <th></th>\n",
       "      <th>Date</th>\n",
       "      <th>NIFTY_India Adj Close</th>\n",
       "      <th>Escorts Adj Close</th>\n",
       "      <th>HangSeng Open</th>\n",
       "      <th>Shenzhen Open</th>\n",
       "      <th>NYSE Adj Close</th>\n",
       "      <th>KOSPI Open</th>\n",
       "      <th>Euronext Adj Close</th>\n",
       "      <th>SGXNifty Open</th>\n",
       "      <th>Escorts Open</th>\n",
       "    </tr>\n",
       "  </thead>\n",
       "  <tbody>\n",
       "    <tr>\n",
       "      <th>29</th>\n",
       "      <td>2015-03-02</td>\n",
       "      <td>NaN</td>\n",
       "      <td>NaN</td>\n",
       "      <td>24996.75977</td>\n",
       "      <td>11869.959960</td>\n",
       "      <td>11062.79004</td>\n",
       "      <td>1996.719971</td>\n",
       "      <td>973.010010</td>\n",
       "      <td>8895.5</td>\n",
       "      <td>135.399994</td>\n",
       "    </tr>\n",
       "    <tr>\n",
       "      <th>1028</th>\n",
       "      <td>2019-10-29</td>\n",
       "      <td>NaN</td>\n",
       "      <td>NaN</td>\n",
       "      <td>27027.56055</td>\n",
       "      <td>9812.480469</td>\n",
       "      <td>13186.42969</td>\n",
       "      <td>2103.919922</td>\n",
       "      <td>1099.329956</td>\n",
       "      <td>11668.0</td>\n",
       "      <td>644.000000</td>\n",
       "    </tr>\n",
       "  </tbody>\n",
       "</table>\n",
       "</div>"
      ],
      "text/plain": [
       "           Date  NIFTY_India Adj Close  Escorts Adj Close  HangSeng Open  \\\n",
       "29   2015-03-02                    NaN                NaN    24996.75977   \n",
       "1028 2019-10-29                    NaN                NaN    27027.56055   \n",
       "\n",
       "      Shenzhen Open  NYSE Adj Close   KOSPI Open  Euronext Adj Close  \\\n",
       "29     11869.959960     11062.79004  1996.719971          973.010010   \n",
       "1028    9812.480469     13186.42969  2103.919922         1099.329956   \n",
       "\n",
       "      SGXNifty Open  Escorts Open  \n",
       "29           8895.5    135.399994  \n",
       "1028        11668.0    644.000000  "
      ]
     },
     "execution_count": 279,
     "metadata": {},
     "output_type": "execute_result"
    }
   ],
   "source": [
    "#Displaying rows having Null values\n",
    "\n",
    "train[train['Escorts Adj Close'].isnull()]"
   ]
  },
  {
   "cell_type": "code",
   "execution_count": 280,
   "metadata": {},
   "outputs": [],
   "source": [
    "# strategies to fill null values\n",
    "#train['Escorts Open'][train['Date'] == '10/25/2019'] = train['Escorts Open'][train['Date'] == '10/27/2019']\n",
    "train['NIFTY_India Adj Close'].fillna(train['NIFTY_India Adj Close'].mean(),inplace=True)\n",
    "train.dropna(axis=0,inplace=True)"
   ]
  },
  {
   "cell_type": "code",
   "execution_count": 281,
   "metadata": {},
   "outputs": [
    {
     "data": {
      "text/plain": [
       "(1114, 10)"
      ]
     },
     "execution_count": 281,
     "metadata": {},
     "output_type": "execute_result"
    }
   ],
   "source": [
    "train.shape"
   ]
  },
  {
   "cell_type": "code",
   "execution_count": 282,
   "metadata": {},
   "outputs": [
    {
     "data": {
      "text/plain": [
       "Date                     0\n",
       "NIFTY_India Adj Close    0\n",
       "Escorts Adj Close        0\n",
       "HangSeng Open            0\n",
       "Shenzhen Open            0\n",
       "NYSE Adj Close           0\n",
       "KOSPI Open               0\n",
       "Euronext Adj Close       0\n",
       "SGXNifty Open            0\n",
       "Escorts Open             0\n",
       "dtype: int64"
      ]
     },
     "execution_count": 282,
     "metadata": {},
     "output_type": "execute_result"
    }
   ],
   "source": [
    "train.isnull().sum()"
   ]
  },
  {
   "cell_type": "markdown",
   "metadata": {},
   "source": [
    "# Feature Selection Methods \n",
    "## Filter Method: Correlation Coefficient"
   ]
  },
  {
   "cell_type": "code",
   "execution_count": 283,
   "metadata": {},
   "outputs": [
    {
     "data": {
      "text/html": [
       "<div>\n",
       "<style scoped>\n",
       "    .dataframe tbody tr th:only-of-type {\n",
       "        vertical-align: middle;\n",
       "    }\n",
       "\n",
       "    .dataframe tbody tr th {\n",
       "        vertical-align: top;\n",
       "    }\n",
       "\n",
       "    .dataframe thead th {\n",
       "        text-align: right;\n",
       "    }\n",
       "</style>\n",
       "<table border=\"1\" class=\"dataframe\">\n",
       "  <thead>\n",
       "    <tr style=\"text-align: right;\">\n",
       "      <th></th>\n",
       "      <th>Date</th>\n",
       "      <th>NIFTY_India Adj Close</th>\n",
       "      <th>Escorts Adj Close</th>\n",
       "      <th>HangSeng Open</th>\n",
       "      <th>Shenzhen Open</th>\n",
       "      <th>NYSE Adj Close</th>\n",
       "      <th>KOSPI Open</th>\n",
       "      <th>Euronext Adj Close</th>\n",
       "      <th>SGXNifty Open</th>\n",
       "      <th>Escorts Open</th>\n",
       "    </tr>\n",
       "  </thead>\n",
       "  <tbody>\n",
       "    <tr>\n",
       "      <th>0</th>\n",
       "      <td>2015-01-07</td>\n",
       "      <td>8127.350098</td>\n",
       "      <td>119.312721</td>\n",
       "      <td>23396.69922</td>\n",
       "      <td>11612.73047</td>\n",
       "      <td>10514.87012</td>\n",
       "      <td>1878.900024</td>\n",
       "      <td>805.469971</td>\n",
       "      <td>8149.5</td>\n",
       "      <td>120.250000</td>\n",
       "    </tr>\n",
       "    <tr>\n",
       "      <th>1</th>\n",
       "      <td>2015-01-08</td>\n",
       "      <td>8102.100098</td>\n",
       "      <td>118.381363</td>\n",
       "      <td>23920.34961</td>\n",
       "      <td>11624.58984</td>\n",
       "      <td>10627.12988</td>\n",
       "      <td>1895.849976</td>\n",
       "      <td>810.940002</td>\n",
       "      <td>8151.5</td>\n",
       "      <td>122.099998</td>\n",
       "    </tr>\n",
       "    <tr>\n",
       "      <th>2</th>\n",
       "      <td>2015-01-09</td>\n",
       "      <td>8234.599609</td>\n",
       "      <td>123.626411</td>\n",
       "      <td>24049.69922</td>\n",
       "      <td>11424.53027</td>\n",
       "      <td>10800.54004</td>\n",
       "      <td>1919.800049</td>\n",
       "      <td>837.729980</td>\n",
       "      <td>8256.5</td>\n",
       "      <td>127.400002</td>\n",
       "    </tr>\n",
       "    <tr>\n",
       "      <th>3</th>\n",
       "      <td>2015-01-12</td>\n",
       "      <td>8284.500000</td>\n",
       "      <td>123.724457</td>\n",
       "      <td>24118.58984</td>\n",
       "      <td>11279.73047</td>\n",
       "      <td>10711.41016</td>\n",
       "      <td>1918.180054</td>\n",
       "      <td>824.390015</td>\n",
       "      <td>8314.5</td>\n",
       "      <td>127.099998</td>\n",
       "    </tr>\n",
       "    <tr>\n",
       "      <th>4</th>\n",
       "      <td>2015-01-13</td>\n",
       "      <td>8323.000000</td>\n",
       "      <td>122.891121</td>\n",
       "      <td>23908.23047</td>\n",
       "      <td>11250.87988</td>\n",
       "      <td>10640.74023</td>\n",
       "      <td>1915.030029</td>\n",
       "      <td>832.760010</td>\n",
       "      <td>8357.5</td>\n",
       "      <td>125.250000</td>\n",
       "    </tr>\n",
       "  </tbody>\n",
       "</table>\n",
       "</div>"
      ],
      "text/plain": [
       "        Date  NIFTY_India Adj Close  Escorts Adj Close  HangSeng Open  \\\n",
       "0 2015-01-07            8127.350098         119.312721    23396.69922   \n",
       "1 2015-01-08            8102.100098         118.381363    23920.34961   \n",
       "2 2015-01-09            8234.599609         123.626411    24049.69922   \n",
       "3 2015-01-12            8284.500000         123.724457    24118.58984   \n",
       "4 2015-01-13            8323.000000         122.891121    23908.23047   \n",
       "\n",
       "   Shenzhen Open  NYSE Adj Close   KOSPI Open  Euronext Adj Close  \\\n",
       "0    11612.73047     10514.87012  1878.900024          805.469971   \n",
       "1    11624.58984     10627.12988  1895.849976          810.940002   \n",
       "2    11424.53027     10800.54004  1919.800049          837.729980   \n",
       "3    11279.73047     10711.41016  1918.180054          824.390015   \n",
       "4    11250.87988     10640.74023  1915.030029          832.760010   \n",
       "\n",
       "   SGXNifty Open  Escorts Open  \n",
       "0         8149.5    120.250000  \n",
       "1         8151.5    122.099998  \n",
       "2         8256.5    127.400002  \n",
       "3         8314.5    127.099998  \n",
       "4         8357.5    125.250000  "
      ]
     },
     "execution_count": 283,
     "metadata": {},
     "output_type": "execute_result"
    }
   ],
   "source": [
    "train.head()"
   ]
  },
  {
   "cell_type": "code",
   "execution_count": 284,
   "metadata": {},
   "outputs": [
    {
     "data": {
      "text/html": [
       "<div>\n",
       "<style scoped>\n",
       "    .dataframe tbody tr th:only-of-type {\n",
       "        vertical-align: middle;\n",
       "    }\n",
       "\n",
       "    .dataframe tbody tr th {\n",
       "        vertical-align: top;\n",
       "    }\n",
       "\n",
       "    .dataframe thead th {\n",
       "        text-align: right;\n",
       "    }\n",
       "</style>\n",
       "<table border=\"1\" class=\"dataframe\">\n",
       "  <thead>\n",
       "    <tr style=\"text-align: right;\">\n",
       "      <th></th>\n",
       "      <th>NIFTY_India Adj Close</th>\n",
       "      <th>Escorts Adj Close</th>\n",
       "      <th>HangSeng Open</th>\n",
       "      <th>Shenzhen Open</th>\n",
       "      <th>NYSE Adj Close</th>\n",
       "      <th>KOSPI Open</th>\n",
       "      <th>Euronext Adj Close</th>\n",
       "      <th>SGXNifty Open</th>\n",
       "      <th>Escorts Open</th>\n",
       "    </tr>\n",
       "  </thead>\n",
       "  <tbody>\n",
       "    <tr>\n",
       "      <th>NIFTY_India Adj Close</th>\n",
       "      <td>1.000000</td>\n",
       "      <td>0.822620</td>\n",
       "      <td>0.767842</td>\n",
       "      <td>-0.445361</td>\n",
       "      <td>0.945615</td>\n",
       "      <td>0.495648</td>\n",
       "      <td>0.843015</td>\n",
       "      <td>0.998262</td>\n",
       "      <td>0.820352</td>\n",
       "    </tr>\n",
       "    <tr>\n",
       "      <th>Escorts Adj Close</th>\n",
       "      <td>0.822620</td>\n",
       "      <td>1.000000</td>\n",
       "      <td>0.761214</td>\n",
       "      <td>-0.468861</td>\n",
       "      <td>0.800394</td>\n",
       "      <td>0.705350</td>\n",
       "      <td>0.669042</td>\n",
       "      <td>0.822556</td>\n",
       "      <td>0.999666</td>\n",
       "    </tr>\n",
       "    <tr>\n",
       "      <th>HangSeng Open</th>\n",
       "      <td>0.767842</td>\n",
       "      <td>0.761214</td>\n",
       "      <td>1.000000</td>\n",
       "      <td>-0.003758</td>\n",
       "      <td>0.831993</td>\n",
       "      <td>0.775482</td>\n",
       "      <td>0.804192</td>\n",
       "      <td>0.768081</td>\n",
       "      <td>0.762718</td>\n",
       "    </tr>\n",
       "    <tr>\n",
       "      <th>Shenzhen Open</th>\n",
       "      <td>-0.445361</td>\n",
       "      <td>-0.468861</td>\n",
       "      <td>-0.003758</td>\n",
       "      <td>1.000000</td>\n",
       "      <td>-0.296857</td>\n",
       "      <td>-0.017343</td>\n",
       "      <td>-0.077722</td>\n",
       "      <td>-0.449134</td>\n",
       "      <td>-0.467761</td>\n",
       "    </tr>\n",
       "    <tr>\n",
       "      <th>NYSE Adj Close</th>\n",
       "      <td>0.945615</td>\n",
       "      <td>0.800394</td>\n",
       "      <td>0.831993</td>\n",
       "      <td>-0.296857</td>\n",
       "      <td>1.000000</td>\n",
       "      <td>0.623508</td>\n",
       "      <td>0.920624</td>\n",
       "      <td>0.946827</td>\n",
       "      <td>0.799881</td>\n",
       "    </tr>\n",
       "    <tr>\n",
       "      <th>KOSPI Open</th>\n",
       "      <td>0.495648</td>\n",
       "      <td>0.705350</td>\n",
       "      <td>0.775482</td>\n",
       "      <td>-0.017343</td>\n",
       "      <td>0.623508</td>\n",
       "      <td>1.000000</td>\n",
       "      <td>0.624415</td>\n",
       "      <td>0.497371</td>\n",
       "      <td>0.711246</td>\n",
       "    </tr>\n",
       "    <tr>\n",
       "      <th>Euronext Adj Close</th>\n",
       "      <td>0.843015</td>\n",
       "      <td>0.669042</td>\n",
       "      <td>0.804192</td>\n",
       "      <td>-0.077722</td>\n",
       "      <td>0.920624</td>\n",
       "      <td>0.624415</td>\n",
       "      <td>1.000000</td>\n",
       "      <td>0.843444</td>\n",
       "      <td>0.669277</td>\n",
       "    </tr>\n",
       "    <tr>\n",
       "      <th>SGXNifty Open</th>\n",
       "      <td>0.998262</td>\n",
       "      <td>0.822556</td>\n",
       "      <td>0.768081</td>\n",
       "      <td>-0.449134</td>\n",
       "      <td>0.946827</td>\n",
       "      <td>0.497371</td>\n",
       "      <td>0.843444</td>\n",
       "      <td>1.000000</td>\n",
       "      <td>0.820522</td>\n",
       "    </tr>\n",
       "    <tr>\n",
       "      <th>Escorts Open</th>\n",
       "      <td>0.820352</td>\n",
       "      <td>0.999666</td>\n",
       "      <td>0.762718</td>\n",
       "      <td>-0.467761</td>\n",
       "      <td>0.799881</td>\n",
       "      <td>0.711246</td>\n",
       "      <td>0.669277</td>\n",
       "      <td>0.820522</td>\n",
       "      <td>1.000000</td>\n",
       "    </tr>\n",
       "  </tbody>\n",
       "</table>\n",
       "</div>"
      ],
      "text/plain": [
       "                       NIFTY_India Adj Close  Escorts Adj Close  \\\n",
       "NIFTY_India Adj Close               1.000000           0.822620   \n",
       "Escorts Adj Close                   0.822620           1.000000   \n",
       "HangSeng Open                       0.767842           0.761214   \n",
       "Shenzhen Open                      -0.445361          -0.468861   \n",
       "NYSE Adj Close                      0.945615           0.800394   \n",
       "KOSPI Open                          0.495648           0.705350   \n",
       "Euronext Adj Close                  0.843015           0.669042   \n",
       "SGXNifty Open                       0.998262           0.822556   \n",
       "Escorts Open                        0.820352           0.999666   \n",
       "\n",
       "                       HangSeng Open  Shenzhen Open  NYSE Adj Close  \\\n",
       "NIFTY_India Adj Close       0.767842      -0.445361        0.945615   \n",
       "Escorts Adj Close           0.761214      -0.468861        0.800394   \n",
       "HangSeng Open               1.000000      -0.003758        0.831993   \n",
       "Shenzhen Open              -0.003758       1.000000       -0.296857   \n",
       "NYSE Adj Close              0.831993      -0.296857        1.000000   \n",
       "KOSPI Open                  0.775482      -0.017343        0.623508   \n",
       "Euronext Adj Close          0.804192      -0.077722        0.920624   \n",
       "SGXNifty Open               0.768081      -0.449134        0.946827   \n",
       "Escorts Open                0.762718      -0.467761        0.799881   \n",
       "\n",
       "                       KOSPI Open  Euronext Adj Close  SGXNifty Open  \\\n",
       "NIFTY_India Adj Close    0.495648            0.843015       0.998262   \n",
       "Escorts Adj Close        0.705350            0.669042       0.822556   \n",
       "HangSeng Open            0.775482            0.804192       0.768081   \n",
       "Shenzhen Open           -0.017343           -0.077722      -0.449134   \n",
       "NYSE Adj Close           0.623508            0.920624       0.946827   \n",
       "KOSPI Open               1.000000            0.624415       0.497371   \n",
       "Euronext Adj Close       0.624415            1.000000       0.843444   \n",
       "SGXNifty Open            0.497371            0.843444       1.000000   \n",
       "Escorts Open             0.711246            0.669277       0.820522   \n",
       "\n",
       "                       Escorts Open  \n",
       "NIFTY_India Adj Close      0.820352  \n",
       "Escorts Adj Close          0.999666  \n",
       "HangSeng Open              0.762718  \n",
       "Shenzhen Open             -0.467761  \n",
       "NYSE Adj Close             0.799881  \n",
       "KOSPI Open                 0.711246  \n",
       "Euronext Adj Close         0.669277  \n",
       "SGXNifty Open              0.820522  \n",
       "Escorts Open               1.000000  "
      ]
     },
     "execution_count": 284,
     "metadata": {},
     "output_type": "execute_result"
    }
   ],
   "source": [
    "cor = train.corr()\n",
    "cor"
   ]
  },
  {
   "cell_type": "code",
   "execution_count": 285,
   "metadata": {},
   "outputs": [
    {
     "data": {
      "text/plain": [
       "Index(['NIFTY_India Adj Close', 'Escorts Adj Close', 'HangSeng Open',\n",
       "       'NYSE Adj Close', 'KOSPI Open', 'Euronext Adj Close', 'SGXNifty Open',\n",
       "       'Escorts Open'],\n",
       "      dtype='object')"
      ]
     },
     "execution_count": 285,
     "metadata": {},
     "output_type": "execute_result"
    }
   ],
   "source": [
    "cor.index[abs(cor['Escorts Open']) > .6]"
   ]
  },
  {
   "cell_type": "markdown",
   "metadata": {},
   "source": [
    "## Wrapper Method: Step forward feature selection"
   ]
  },
  {
   "cell_type": "code",
   "execution_count": 86,
   "metadata": {},
   "outputs": [],
   "source": [
    "X = train[train.columns[1:-1]]\n",
    "Y = train[train.columns[-1]]\n",
    "X_train, X_test, y_train, y_test = train_test_split(X, Y, test_size=0.2, random_state=42)"
   ]
  },
  {
   "cell_type": "code",
   "execution_count": 87,
   "metadata": {},
   "outputs": [
    {
     "name": "stdout",
     "output_type": "stream",
     "text": [
      "Index(['NIFTY_India Adj Close', 'Escorts Adj Close', 'Shenzhen Open',\n",
      "       'NYSE Adj Close', 'KOSPI Open'],\n",
      "      dtype='object')\n"
     ]
    }
   ],
   "source": [
    "from mlxtend.feature_selection import SequentialFeatureSelector as SFS\n",
    "sfs = SFS(LinearRegression(), \n",
    "           k_features=5, \n",
    "           forward=True, \n",
    "           floating=False,\n",
    "           scoring='neg_mean_squared_error',\n",
    "           cv=5)\n",
    "\n",
    "# fit the object to the training data.\n",
    "sfs = sfs.fit(X_train, y_train)\n",
    "\n",
    "# print the selected features.\n",
    "selected_features = X_train.columns[list(sfs.k_feature_idx_)]\n",
    "print(selected_features)"
   ]
  },
  {
   "cell_type": "markdown",
   "metadata": {},
   "source": [
    "## Finding Independent Features"
   ]
  },
  {
   "cell_type": "code",
   "execution_count": 88,
   "metadata": {},
   "outputs": [],
   "source": [
    "train2 = train[['NIFTY_India Adj Close', 'Escorts Adj Close', 'HangSeng Open',\n",
    "       'NYSE Adj Close', 'KOSPI Open', 'Euronext Adj Close', 'SGXNifty Open']]"
   ]
  },
  {
   "cell_type": "code",
   "execution_count": 89,
   "metadata": {},
   "outputs": [
    {
     "data": {
      "text/html": [
       "<div>\n",
       "<style scoped>\n",
       "    .dataframe tbody tr th:only-of-type {\n",
       "        vertical-align: middle;\n",
       "    }\n",
       "\n",
       "    .dataframe tbody tr th {\n",
       "        vertical-align: top;\n",
       "    }\n",
       "\n",
       "    .dataframe thead th {\n",
       "        text-align: right;\n",
       "    }\n",
       "</style>\n",
       "<table border=\"1\" class=\"dataframe\">\n",
       "  <thead>\n",
       "    <tr style=\"text-align: right;\">\n",
       "      <th></th>\n",
       "      <th>NIFTY_India Adj Close</th>\n",
       "      <th>Escorts Adj Close</th>\n",
       "      <th>HangSeng Open</th>\n",
       "      <th>NYSE Adj Close</th>\n",
       "      <th>KOSPI Open</th>\n",
       "      <th>Euronext Adj Close</th>\n",
       "      <th>SGXNifty Open</th>\n",
       "    </tr>\n",
       "  </thead>\n",
       "  <tbody>\n",
       "    <tr>\n",
       "      <th>0</th>\n",
       "      <td>8127.350098</td>\n",
       "      <td>119.312721</td>\n",
       "      <td>23396.69922</td>\n",
       "      <td>10514.87012</td>\n",
       "      <td>1878.900024</td>\n",
       "      <td>805.469971</td>\n",
       "      <td>8149.5</td>\n",
       "    </tr>\n",
       "    <tr>\n",
       "      <th>1</th>\n",
       "      <td>8102.100098</td>\n",
       "      <td>118.381363</td>\n",
       "      <td>23920.34961</td>\n",
       "      <td>10627.12988</td>\n",
       "      <td>1895.849976</td>\n",
       "      <td>810.940002</td>\n",
       "      <td>8151.5</td>\n",
       "    </tr>\n",
       "  </tbody>\n",
       "</table>\n",
       "</div>"
      ],
      "text/plain": [
       "   NIFTY_India Adj Close  Escorts Adj Close  HangSeng Open  NYSE Adj Close  \\\n",
       "0            8127.350098         119.312721    23396.69922     10514.87012   \n",
       "1            8102.100098         118.381363    23920.34961     10627.12988   \n",
       "\n",
       "    KOSPI Open  Euronext Adj Close  SGXNifty Open  \n",
       "0  1878.900024          805.469971         8149.5  \n",
       "1  1895.849976          810.940002         8151.5  "
      ]
     },
     "execution_count": 89,
     "metadata": {},
     "output_type": "execute_result"
    }
   ],
   "source": [
    "train2.head(2)"
   ]
  },
  {
   "cell_type": "code",
   "execution_count": 90,
   "metadata": {},
   "outputs": [
    {
     "data": {
      "text/html": [
       "<div>\n",
       "<style scoped>\n",
       "    .dataframe tbody tr th:only-of-type {\n",
       "        vertical-align: middle;\n",
       "    }\n",
       "\n",
       "    .dataframe tbody tr th {\n",
       "        vertical-align: top;\n",
       "    }\n",
       "\n",
       "    .dataframe thead th {\n",
       "        text-align: right;\n",
       "    }\n",
       "</style>\n",
       "<table border=\"1\" class=\"dataframe\">\n",
       "  <thead>\n",
       "    <tr style=\"text-align: right;\">\n",
       "      <th></th>\n",
       "      <th>NIFTY_India Adj Close</th>\n",
       "      <th>Escorts Adj Close</th>\n",
       "      <th>HangSeng Open</th>\n",
       "      <th>NYSE Adj Close</th>\n",
       "      <th>KOSPI Open</th>\n",
       "      <th>Euronext Adj Close</th>\n",
       "      <th>SGXNifty Open</th>\n",
       "    </tr>\n",
       "  </thead>\n",
       "  <tbody>\n",
       "    <tr>\n",
       "      <th>NIFTY_India Adj Close</th>\n",
       "      <td>1.000000</td>\n",
       "      <td>0.822620</td>\n",
       "      <td>0.767842</td>\n",
       "      <td>0.945615</td>\n",
       "      <td>0.495648</td>\n",
       "      <td>0.843015</td>\n",
       "      <td>0.998262</td>\n",
       "    </tr>\n",
       "    <tr>\n",
       "      <th>Escorts Adj Close</th>\n",
       "      <td>0.822620</td>\n",
       "      <td>1.000000</td>\n",
       "      <td>0.761214</td>\n",
       "      <td>0.800394</td>\n",
       "      <td>0.705350</td>\n",
       "      <td>0.669042</td>\n",
       "      <td>0.822556</td>\n",
       "    </tr>\n",
       "    <tr>\n",
       "      <th>HangSeng Open</th>\n",
       "      <td>0.767842</td>\n",
       "      <td>0.761214</td>\n",
       "      <td>1.000000</td>\n",
       "      <td>0.831993</td>\n",
       "      <td>0.775482</td>\n",
       "      <td>0.804192</td>\n",
       "      <td>0.768081</td>\n",
       "    </tr>\n",
       "    <tr>\n",
       "      <th>NYSE Adj Close</th>\n",
       "      <td>0.945615</td>\n",
       "      <td>0.800394</td>\n",
       "      <td>0.831993</td>\n",
       "      <td>1.000000</td>\n",
       "      <td>0.623508</td>\n",
       "      <td>0.920624</td>\n",
       "      <td>0.946827</td>\n",
       "    </tr>\n",
       "    <tr>\n",
       "      <th>KOSPI Open</th>\n",
       "      <td>0.495648</td>\n",
       "      <td>0.705350</td>\n",
       "      <td>0.775482</td>\n",
       "      <td>0.623508</td>\n",
       "      <td>1.000000</td>\n",
       "      <td>0.624415</td>\n",
       "      <td>0.497371</td>\n",
       "    </tr>\n",
       "    <tr>\n",
       "      <th>Euronext Adj Close</th>\n",
       "      <td>0.843015</td>\n",
       "      <td>0.669042</td>\n",
       "      <td>0.804192</td>\n",
       "      <td>0.920624</td>\n",
       "      <td>0.624415</td>\n",
       "      <td>1.000000</td>\n",
       "      <td>0.843444</td>\n",
       "    </tr>\n",
       "    <tr>\n",
       "      <th>SGXNifty Open</th>\n",
       "      <td>0.998262</td>\n",
       "      <td>0.822556</td>\n",
       "      <td>0.768081</td>\n",
       "      <td>0.946827</td>\n",
       "      <td>0.497371</td>\n",
       "      <td>0.843444</td>\n",
       "      <td>1.000000</td>\n",
       "    </tr>\n",
       "  </tbody>\n",
       "</table>\n",
       "</div>"
      ],
      "text/plain": [
       "                       NIFTY_India Adj Close  Escorts Adj Close  \\\n",
       "NIFTY_India Adj Close               1.000000           0.822620   \n",
       "Escorts Adj Close                   0.822620           1.000000   \n",
       "HangSeng Open                       0.767842           0.761214   \n",
       "NYSE Adj Close                      0.945615           0.800394   \n",
       "KOSPI Open                          0.495648           0.705350   \n",
       "Euronext Adj Close                  0.843015           0.669042   \n",
       "SGXNifty Open                       0.998262           0.822556   \n",
       "\n",
       "                       HangSeng Open  NYSE Adj Close  KOSPI Open  \\\n",
       "NIFTY_India Adj Close       0.767842        0.945615    0.495648   \n",
       "Escorts Adj Close           0.761214        0.800394    0.705350   \n",
       "HangSeng Open               1.000000        0.831993    0.775482   \n",
       "NYSE Adj Close              0.831993        1.000000    0.623508   \n",
       "KOSPI Open                  0.775482        0.623508    1.000000   \n",
       "Euronext Adj Close          0.804192        0.920624    0.624415   \n",
       "SGXNifty Open               0.768081        0.946827    0.497371   \n",
       "\n",
       "                       Euronext Adj Close  SGXNifty Open  \n",
       "NIFTY_India Adj Close            0.843015       0.998262  \n",
       "Escorts Adj Close                0.669042       0.822556  \n",
       "HangSeng Open                    0.804192       0.768081  \n",
       "NYSE Adj Close                   0.920624       0.946827  \n",
       "KOSPI Open                       0.624415       0.497371  \n",
       "Euronext Adj Close               1.000000       0.843444  \n",
       "SGXNifty Open                    0.843444       1.000000  "
      ]
     },
     "execution_count": 90,
     "metadata": {},
     "output_type": "execute_result"
    }
   ],
   "source": [
    "cor2 = train2.corr()\n",
    "cor2"
   ]
  },
  {
   "cell_type": "code",
   "execution_count": 91,
   "metadata": {},
   "outputs": [
    {
     "data": {
      "text/plain": [
       "(7, 7)"
      ]
     },
     "execution_count": 91,
     "metadata": {},
     "output_type": "execute_result"
    }
   ],
   "source": [
    "cor2.shape"
   ]
  },
  {
   "cell_type": "code",
   "execution_count": 92,
   "metadata": {},
   "outputs": [],
   "source": [
    "columns = np.full((cor2.shape[0],), True, dtype=bool)\n",
    "for i in range(cor2.shape[0]):\n",
    "    for j in range(i+1, cor2.shape[0]):\n",
    "        if cor2.iloc[i,j] >= 0.9:\n",
    "            if columns[j]:\n",
    "                columns[j]=False"
   ]
  },
  {
   "cell_type": "markdown",
   "metadata": {},
   "source": [
    "## It shows that Singapore Nifty Open and Indian Nifty Close are highly correlated. Similarly, NYSE Close and Euronext Close are correlated with each other and also to Indian Nifty Close."
   ]
  },
  {
   "cell_type": "code",
   "execution_count": 93,
   "metadata": {},
   "outputs": [
    {
     "data": {
      "text/plain": [
       "Index(['NIFTY_India Adj Close', 'Escorts Adj Close', 'HangSeng Open',\n",
       "       'KOSPI Open'],\n",
       "      dtype='object')"
      ]
     },
     "execution_count": 93,
     "metadata": {},
     "output_type": "execute_result"
    }
   ],
   "source": [
    "selected = train2.columns[columns]\n",
    "selected"
   ]
  },
  {
   "cell_type": "markdown",
   "metadata": {},
   "source": [
    "## Normalization"
   ]
  },
  {
   "cell_type": "code",
   "execution_count": 29,
   "metadata": {},
   "outputs": [],
   "source": [
    "#X = train[train.columns[0:-1]]\n",
    "# Y = train[train.columns[-1]]\n"
   ]
  },
  {
   "cell_type": "code",
   "execution_count": 30,
   "metadata": {},
   "outputs": [],
   "source": [
    "# scaler = MinMaxScaler()\n",
    "# scaler.fit(X_train)\n",
    "# X_tr = scaler.transform(X_train)\n",
    "# X_te = scaler.transform(X_test)    \n",
    "# #Converting n-d array to dataframe\n",
    "# X_train = pd.DataFrame(X_tr, columns=['Escorts Adj Close', 'NIFTY_India Adj Close', 'HangSeng Open',\n",
    "#        'Nikkei Open'])\n",
    "# X_test = pd.DataFrame(X_te, columns=['Escorts Adj Close', 'NIFTY_India Adj Close', 'HangSeng Open',\n",
    "#        'Nikkei Open'])"
   ]
  },
  {
   "cell_type": "markdown",
   "metadata": {},
   "source": [
    "## Feature Selection using Ensemble Random Forest"
   ]
  },
  {
   "cell_type": "code",
   "execution_count": 286,
   "metadata": {},
   "outputs": [],
   "source": [
    "X = train[train.columns[1:-1]]\n",
    "Y = train[train.columns[-1]]\n"
   ]
  },
  {
   "cell_type": "code",
   "execution_count": 315,
   "metadata": {},
   "outputs": [],
   "source": [
    "model = RandomForestRegressor(max_depth=8, n_estimators=60)"
   ]
  },
  {
   "cell_type": "code",
   "execution_count": 316,
   "metadata": {},
   "outputs": [
    {
     "data": {
      "text/plain": [
       "RandomForestRegressor(bootstrap=True, ccp_alpha=0.0, criterion='mse',\n",
       "                      max_depth=8, max_features='auto', max_leaf_nodes=None,\n",
       "                      max_samples=None, min_impurity_decrease=0.0,\n",
       "                      min_impurity_split=None, min_samples_leaf=1,\n",
       "                      min_samples_split=2, min_weight_fraction_leaf=0.0,\n",
       "                      n_estimators=60, n_jobs=None, oob_score=False,\n",
       "                      random_state=None, verbose=0, warm_start=False)"
      ]
     },
     "execution_count": 316,
     "metadata": {},
     "output_type": "execute_result"
    }
   ],
   "source": [
    "model.fit(X,Y)"
   ]
  },
  {
   "cell_type": "code",
   "execution_count": 317,
   "metadata": {},
   "outputs": [],
   "source": [
    "labels = list(X.columns)[0:-1]"
   ]
  },
  {
   "cell_type": "code",
   "execution_count": 318,
   "metadata": {},
   "outputs": [
    {
     "name": "stdout",
     "output_type": "stream",
     "text": [
      "('NIFTY_India Adj Close', 5.929665193643716e-05)\n",
      "('Escorts Adj Close', 0.9995198299907843)\n",
      "('HangSeng Open', 6.458449145648737e-05)\n",
      "('Shenzhen Open', 2.8658493807181054e-05)\n",
      "('NYSE Adj Close', 0.00011671575745054502)\n",
      "('KOSPI Open', 8.356505868248933e-05)\n",
      "('Euronext Adj Close', 7.060378561076519e-05)\n"
     ]
    }
   ],
   "source": [
    "for feature in zip(labels, model.feature_importances_):\n",
    "    print(feature)"
   ]
  },
  {
   "cell_type": "code",
   "execution_count": 55,
   "metadata": {},
   "outputs": [
    {
     "data": {
      "text/plain": [
       "SelectFromModel(estimator=RandomForestRegressor(bootstrap=False, ccp_alpha=0.0,\n",
       "                                                criterion='mse', max_depth=12,\n",
       "                                                max_features='auto',\n",
       "                                                max_leaf_nodes=None,\n",
       "                                                max_samples=None,\n",
       "                                                min_impurity_decrease=0.0,\n",
       "                                                min_impurity_split=None,\n",
       "                                                min_samples_leaf=2,\n",
       "                                                min_samples_split=2,\n",
       "                                                min_weight_fraction_leaf=0.0,\n",
       "                                                n_estimators=90, n_jobs=None,\n",
       "                                                oob_score=False,\n",
       "                                                random_state=None, verbose=0,\n",
       "                                                warm_start=False),\n",
       "                max_features=None, norm_order=1, prefit=False,\n",
       "                threshold=0.0001)"
      ]
     },
     "execution_count": 55,
     "metadata": {},
     "output_type": "execute_result"
    }
   ],
   "source": [
    "sfm = SelectFromModel(model, threshold=0.0001)\n",
    "sfm.fit(X,Y)"
   ]
  },
  {
   "cell_type": "code",
   "execution_count": 56,
   "metadata": {},
   "outputs": [
    {
     "name": "stdout",
     "output_type": "stream",
     "text": [
      "Escorts Adj Close\n",
      "KOSPI Open\n"
     ]
    }
   ],
   "source": [
    "for index in sfm.get_support(indices=True):\n",
    "    print(labels[index])"
   ]
  },
  {
   "cell_type": "code",
   "execution_count": null,
   "metadata": {},
   "outputs": [],
   "source": [
    "# X_train_imp = sfm.transform(X)\n",
    "# X_test_imp = sfm.transform(X_test)"
   ]
  },
  {
   "cell_type": "markdown",
   "metadata": {},
   "source": [
    "## Since all features are numerical, we give importance to correlation feature selection.\n",
    "## Link: https://machinelearningmastery.com/feature-selection-with-real-and-categorical-data/"
   ]
  },
  {
   "cell_type": "markdown",
   "metadata": {},
   "source": [
    "## Selecting Features"
   ]
  },
  {
   "cell_type": "code",
   "execution_count": 96,
   "metadata": {},
   "outputs": [
    {
     "data": {
      "text/html": [
       "<div>\n",
       "<style scoped>\n",
       "    .dataframe tbody tr th:only-of-type {\n",
       "        vertical-align: middle;\n",
       "    }\n",
       "\n",
       "    .dataframe tbody tr th {\n",
       "        vertical-align: top;\n",
       "    }\n",
       "\n",
       "    .dataframe thead th {\n",
       "        text-align: right;\n",
       "    }\n",
       "</style>\n",
       "<table border=\"1\" class=\"dataframe\">\n",
       "  <thead>\n",
       "    <tr style=\"text-align: right;\">\n",
       "      <th></th>\n",
       "      <th>NIFTY_India Adj Close</th>\n",
       "      <th>Escorts Adj Close</th>\n",
       "      <th>HangSeng Open</th>\n",
       "      <th>KOSPI Open</th>\n",
       "      <th>Escorts Open</th>\n",
       "    </tr>\n",
       "  </thead>\n",
       "  <tbody>\n",
       "    <tr>\n",
       "      <th>0</th>\n",
       "      <td>8127.350098</td>\n",
       "      <td>119.312721</td>\n",
       "      <td>23396.69922</td>\n",
       "      <td>1878.900024</td>\n",
       "      <td>120.250000</td>\n",
       "    </tr>\n",
       "    <tr>\n",
       "      <th>1</th>\n",
       "      <td>8102.100098</td>\n",
       "      <td>118.381363</td>\n",
       "      <td>23920.34961</td>\n",
       "      <td>1895.849976</td>\n",
       "      <td>122.099998</td>\n",
       "    </tr>\n",
       "  </tbody>\n",
       "</table>\n",
       "</div>"
      ],
      "text/plain": [
       "   NIFTY_India Adj Close  Escorts Adj Close  HangSeng Open   KOSPI Open  \\\n",
       "0            8127.350098         119.312721    23396.69922  1878.900024   \n",
       "1            8102.100098         118.381363    23920.34961  1895.849976   \n",
       "\n",
       "   Escorts Open  \n",
       "0    120.250000  \n",
       "1    122.099998  "
      ]
     },
     "execution_count": 96,
     "metadata": {},
     "output_type": "execute_result"
    }
   ],
   "source": [
    "#Dont forget to add target column\n",
    "train = train[['NIFTY_India Adj Close',\n",
    "               'Escorts Adj Close', \n",
    "               'HangSeng Open',\n",
    "               'KOSPI Open',\n",
    "               'Escorts Open']]\n",
    "train.head(2)"
   ]
  },
  {
   "cell_type": "markdown",
   "metadata": {},
   "source": [
    "# Handle outliers using IQR"
   ]
  },
  {
   "cell_type": "code",
   "execution_count": 97,
   "metadata": {},
   "outputs": [
    {
     "name": "stdout",
     "output_type": "stream",
     "text": [
      "NIFTY_India Adj Close    2477.925052\n",
      "Escorts Adj Close         527.678681\n",
      "HangSeng Open            5068.729980\n",
      "KOSPI Open                277.484924\n",
      "Escorts Open              530.975010\n",
      "dtype: float64\n"
     ]
    }
   ],
   "source": [
    "Q1 = train.quantile(0.25)\n",
    "Q3 = train.quantile(0.75)\n",
    "IQR = Q3 - Q1\n",
    "print(IQR)"
   ]
  },
  {
   "cell_type": "code",
   "execution_count": 98,
   "metadata": {},
   "outputs": [
    {
     "data": {
      "text/plain": [
       "(1111, 5)"
      ]
     },
     "execution_count": 98,
     "metadata": {},
     "output_type": "execute_result"
    }
   ],
   "source": [
    "train = train[~((train < (Q1 - 1.5 * IQR)) |(train > (Q3 + 1.5 * IQR))).any(axis=1)]\n",
    "train.shape"
   ]
  },
  {
   "cell_type": "code",
   "execution_count": 108,
   "metadata": {},
   "outputs": [
    {
     "data": {
      "text/html": [
       "<div>\n",
       "<style scoped>\n",
       "    .dataframe tbody tr th:only-of-type {\n",
       "        vertical-align: middle;\n",
       "    }\n",
       "\n",
       "    .dataframe tbody tr th {\n",
       "        vertical-align: top;\n",
       "    }\n",
       "\n",
       "    .dataframe thead th {\n",
       "        text-align: right;\n",
       "    }\n",
       "</style>\n",
       "<table border=\"1\" class=\"dataframe\">\n",
       "  <thead>\n",
       "    <tr style=\"text-align: right;\">\n",
       "      <th></th>\n",
       "      <th>NIFTY_India Adj Close</th>\n",
       "      <th>Escorts Adj Close</th>\n",
       "      <th>HangSeng Open</th>\n",
       "      <th>KOSPI Open</th>\n",
       "      <th>Escorts Open</th>\n",
       "    </tr>\n",
       "  </thead>\n",
       "  <tbody>\n",
       "    <tr>\n",
       "      <th>0</th>\n",
       "      <td>8127.350098</td>\n",
       "      <td>119.312721</td>\n",
       "      <td>23396.69922</td>\n",
       "      <td>1878.900024</td>\n",
       "      <td>120.250000</td>\n",
       "    </tr>\n",
       "    <tr>\n",
       "      <th>1</th>\n",
       "      <td>8102.100098</td>\n",
       "      <td>118.381363</td>\n",
       "      <td>23920.34961</td>\n",
       "      <td>1895.849976</td>\n",
       "      <td>122.099998</td>\n",
       "    </tr>\n",
       "  </tbody>\n",
       "</table>\n",
       "</div>"
      ],
      "text/plain": [
       "   NIFTY_India Adj Close  Escorts Adj Close  HangSeng Open   KOSPI Open  \\\n",
       "0            8127.350098         119.312721    23396.69922  1878.900024   \n",
       "1            8102.100098         118.381363    23920.34961  1895.849976   \n",
       "\n",
       "   Escorts Open  \n",
       "0    120.250000  \n",
       "1    122.099998  "
      ]
     },
     "execution_count": 108,
     "metadata": {},
     "output_type": "execute_result"
    }
   ],
   "source": [
    "train.head(2)"
   ]
  },
  {
   "cell_type": "markdown",
   "metadata": {},
   "source": [
    "## Test Data"
   ]
  },
  {
   "cell_type": "code",
   "execution_count": 99,
   "metadata": {},
   "outputs": [],
   "source": [
    "test = pd.read_csv('../Data/STOCKS_test.CSV')\n",
    "dfgt = pd.read_csv('../Data/HangSeng_test.CSV')\n",
    "dfkt = pd.read_csv('../Data/KOSPI_test.CSV')"
   ]
  },
  {
   "cell_type": "code",
   "execution_count": 100,
   "metadata": {},
   "outputs": [],
   "source": [
    "#Converting to common date format\n",
    "\n",
    "test['Date'] =  pd.to_datetime(test['Date'], format='%d-%m-%Y')\n",
    "dfgt['Date'] =  pd.to_datetime(dfgt['Date'], format='%d-%m-%Y')\n",
    "dfkt['Date'] =  pd.to_datetime(dfkt['Date'], format='%d-%m-%Y')"
   ]
  },
  {
   "cell_type": "code",
   "execution_count": 101,
   "metadata": {},
   "outputs": [],
   "source": [
    "#Merging Dataframes based on date\n",
    "\n",
    "test = pd.merge(test,dfgt,how='inner',on='Date')\n",
    "test = pd.merge(test,dfkt,how='inner',on='Date')"
   ]
  },
  {
   "cell_type": "code",
   "execution_count": 102,
   "metadata": {},
   "outputs": [
    {
     "data": {
      "text/html": [
       "<div>\n",
       "<style scoped>\n",
       "    .dataframe tbody tr th:only-of-type {\n",
       "        vertical-align: middle;\n",
       "    }\n",
       "\n",
       "    .dataframe tbody tr th {\n",
       "        vertical-align: top;\n",
       "    }\n",
       "\n",
       "    .dataframe thead th {\n",
       "        text-align: right;\n",
       "    }\n",
       "</style>\n",
       "<table border=\"1\" class=\"dataframe\">\n",
       "  <thead>\n",
       "    <tr style=\"text-align: right;\">\n",
       "      <th></th>\n",
       "      <th>Date</th>\n",
       "      <th>NIFTY_India Adj Close</th>\n",
       "      <th>Escorts Adj Close</th>\n",
       "      <th>Infosys Adj Close</th>\n",
       "      <th>TCS Adj Close</th>\n",
       "      <th>HCL Adj Close</th>\n",
       "      <th>Wipro Adj Close</th>\n",
       "      <th>Escorts Open</th>\n",
       "      <th>Infosys Open</th>\n",
       "      <th>TCS Open</th>\n",
       "      <th>HCL Open</th>\n",
       "      <th>Wipro Open</th>\n",
       "      <th>HangSeng Open</th>\n",
       "      <th>KOSPI Open</th>\n",
       "    </tr>\n",
       "  </thead>\n",
       "  <tbody>\n",
       "    <tr>\n",
       "      <th>0</th>\n",
       "      <td>2020-04-08</td>\n",
       "      <td>8792.200195</td>\n",
       "      <td>663.750000</td>\n",
       "      <td>630.418579</td>\n",
       "      <td>1769.997070</td>\n",
       "      <td>451.149994</td>\n",
       "      <td>191.899994</td>\n",
       "      <td>653.700012</td>\n",
       "      <td>630.000000</td>\n",
       "      <td>1760.000000</td>\n",
       "      <td>451.000000</td>\n",
       "      <td>191.500000</td>\n",
       "      <td>24191.32031</td>\n",
       "      <td>1815.750000</td>\n",
       "    </tr>\n",
       "    <tr>\n",
       "      <th>1</th>\n",
       "      <td>2020-04-09</td>\n",
       "      <td>8748.750000</td>\n",
       "      <td>642.349976</td>\n",
       "      <td>623.117920</td>\n",
       "      <td>1700.451538</td>\n",
       "      <td>463.100006</td>\n",
       "      <td>192.899994</td>\n",
       "      <td>661.000000</td>\n",
       "      <td>646.799988</td>\n",
       "      <td>1750.449951</td>\n",
       "      <td>480.700012</td>\n",
       "      <td>198.399994</td>\n",
       "      <td>24181.32031</td>\n",
       "      <td>1838.089966</td>\n",
       "    </tr>\n",
       "    <tr>\n",
       "      <th>2</th>\n",
       "      <td>2020-04-16</td>\n",
       "      <td>8925.299805</td>\n",
       "      <td>714.700012</td>\n",
       "      <td>630.467896</td>\n",
       "      <td>1730.064453</td>\n",
       "      <td>478.750000</td>\n",
       "      <td>186.550003</td>\n",
       "      <td>710.000000</td>\n",
       "      <td>619.950012</td>\n",
       "      <td>1709.949951</td>\n",
       "      <td>473.000000</td>\n",
       "      <td>180.000000</td>\n",
       "      <td>24025.44922</td>\n",
       "      <td>1839.510010</td>\n",
       "    </tr>\n",
       "    <tr>\n",
       "      <th>3</th>\n",
       "      <td>2020-04-17</td>\n",
       "      <td>8992.799805</td>\n",
       "      <td>714.299988</td>\n",
       "      <td>615.471985</td>\n",
       "      <td>1711.020508</td>\n",
       "      <td>459.750000</td>\n",
       "      <td>187.850006</td>\n",
       "      <td>744.000000</td>\n",
       "      <td>644.000000</td>\n",
       "      <td>1800.000000</td>\n",
       "      <td>470.000000</td>\n",
       "      <td>192.500000</td>\n",
       "      <td>24457.83008</td>\n",
       "      <td>1893.310059</td>\n",
       "    </tr>\n",
       "    <tr>\n",
       "      <th>4</th>\n",
       "      <td>2020-04-20</td>\n",
       "      <td>9266.750000</td>\n",
       "      <td>746.200012</td>\n",
       "      <td>620.306213</td>\n",
       "      <td>1800.906250</td>\n",
       "      <td>455.250000</td>\n",
       "      <td>187.000000</td>\n",
       "      <td>749.450012</td>\n",
       "      <td>640.000000</td>\n",
       "      <td>1830.000000</td>\n",
       "      <td>458.000000</td>\n",
       "      <td>189.000000</td>\n",
       "      <td>24503.56055</td>\n",
       "      <td>1908.339966</td>\n",
       "    </tr>\n",
       "  </tbody>\n",
       "</table>\n",
       "</div>"
      ],
      "text/plain": [
       "        Date  NIFTY_India Adj Close  Escorts Adj Close  Infosys Adj Close  \\\n",
       "0 2020-04-08            8792.200195         663.750000         630.418579   \n",
       "1 2020-04-09            8748.750000         642.349976         623.117920   \n",
       "2 2020-04-16            8925.299805         714.700012         630.467896   \n",
       "3 2020-04-17            8992.799805         714.299988         615.471985   \n",
       "4 2020-04-20            9266.750000         746.200012         620.306213   \n",
       "\n",
       "   TCS Adj Close  HCL Adj Close  Wipro Adj Close  Escorts Open  Infosys Open  \\\n",
       "0    1769.997070     451.149994       191.899994    653.700012    630.000000   \n",
       "1    1700.451538     463.100006       192.899994    661.000000    646.799988   \n",
       "2    1730.064453     478.750000       186.550003    710.000000    619.950012   \n",
       "3    1711.020508     459.750000       187.850006    744.000000    644.000000   \n",
       "4    1800.906250     455.250000       187.000000    749.450012    640.000000   \n",
       "\n",
       "      TCS Open    HCL Open  Wipro Open  HangSeng Open   KOSPI Open  \n",
       "0  1760.000000  451.000000  191.500000    24191.32031  1815.750000  \n",
       "1  1750.449951  480.700012  198.399994    24181.32031  1838.089966  \n",
       "2  1709.949951  473.000000  180.000000    24025.44922  1839.510010  \n",
       "3  1800.000000  470.000000  192.500000    24457.83008  1893.310059  \n",
       "4  1830.000000  458.000000  189.000000    24503.56055  1908.339966  "
      ]
     },
     "execution_count": 102,
     "metadata": {},
     "output_type": "execute_result"
    }
   ],
   "source": [
    "test.head()"
   ]
  },
  {
   "cell_type": "code",
   "execution_count": 103,
   "metadata": {},
   "outputs": [
    {
     "data": {
      "text/plain": [
       "(29, 14)"
      ]
     },
     "execution_count": 103,
     "metadata": {},
     "output_type": "execute_result"
    }
   ],
   "source": [
    "test.shape"
   ]
  },
  {
   "cell_type": "code",
   "execution_count": 104,
   "metadata": {},
   "outputs": [
    {
     "data": {
      "text/plain": [
       "Index(['Date', 'NIFTY_India Adj Close', 'Escorts Adj Close',\n",
       "       'Infosys Adj Close', 'TCS Adj Close', 'HCL Adj Close',\n",
       "       'Wipro Adj Close', 'Escorts Open', 'Infosys Open', 'TCS Open',\n",
       "       'HCL Open', 'Wipro Open', 'HangSeng Open', 'KOSPI Open'],\n",
       "      dtype='object')"
      ]
     },
     "execution_count": 104,
     "metadata": {},
     "output_type": "execute_result"
    }
   ],
   "source": [
    "test.columns"
   ]
  },
  {
   "cell_type": "code",
   "execution_count": 105,
   "metadata": {},
   "outputs": [],
   "source": [
    "# Rearrange columns\n",
    "\n",
    "test = test[['Date', \n",
    "             'NIFTY_India Adj Close',\n",
    "             'Escorts Adj Close',\n",
    "             'HangSeng Open',\n",
    "             'KOSPI Open',\n",
    "             'Escorts Open']]"
   ]
  },
  {
   "cell_type": "code",
   "execution_count": 106,
   "metadata": {
    "scrolled": true
   },
   "outputs": [
    {
     "data": {
      "text/plain": [
       "Date                     0\n",
       "NIFTY_India Adj Close    0\n",
       "Escorts Adj Close        0\n",
       "HangSeng Open            0\n",
       "KOSPI Open               0\n",
       "Escorts Open             0\n",
       "dtype: int64"
      ]
     },
     "execution_count": 106,
     "metadata": {},
     "output_type": "execute_result"
    }
   ],
   "source": [
    "test.isnull().sum()"
   ]
  },
  {
   "cell_type": "markdown",
   "metadata": {},
   "source": [
    "## Apply Machine Learning Models"
   ]
  },
  {
   "cell_type": "code",
   "execution_count": 109,
   "metadata": {},
   "outputs": [],
   "source": [
    "X = train[train.columns[0:-1]]\n",
    "Y = train[train.columns[-1]]"
   ]
  },
  {
   "cell_type": "code",
   "execution_count": 110,
   "metadata": {},
   "outputs": [],
   "source": [
    "X_test = test[test.columns[1:-1]]"
   ]
  },
  {
   "cell_type": "code",
   "execution_count": 111,
   "metadata": {},
   "outputs": [],
   "source": [
    "test.rename(columns = {'Escorts Open':'Actual Open'}, inplace=True)"
   ]
  },
  {
   "cell_type": "code",
   "execution_count": 112,
   "metadata": {},
   "outputs": [
    {
     "data": {
      "text/plain": [
       "pandas.core.frame.DataFrame"
      ]
     },
     "execution_count": 112,
     "metadata": {},
     "output_type": "execute_result"
    }
   ],
   "source": [
    "type(X_test)"
   ]
  },
  {
   "cell_type": "markdown",
   "metadata": {},
   "source": [
    "## 1. Linear Regression Model"
   ]
  },
  {
   "cell_type": "code",
   "execution_count": 113,
   "metadata": {},
   "outputs": [
    {
     "data": {
      "text/html": [
       "<div>\n",
       "<style scoped>\n",
       "    .dataframe tbody tr th:only-of-type {\n",
       "        vertical-align: middle;\n",
       "    }\n",
       "\n",
       "    .dataframe tbody tr th {\n",
       "        vertical-align: top;\n",
       "    }\n",
       "\n",
       "    .dataframe thead th {\n",
       "        text-align: right;\n",
       "    }\n",
       "</style>\n",
       "<table border=\"1\" class=\"dataframe\">\n",
       "  <thead>\n",
       "    <tr style=\"text-align: right;\">\n",
       "      <th></th>\n",
       "      <th>NIFTY_India Adj Close</th>\n",
       "      <th>Escorts Adj Close</th>\n",
       "      <th>HangSeng Open</th>\n",
       "      <th>KOSPI Open</th>\n",
       "    </tr>\n",
       "  </thead>\n",
       "  <tbody>\n",
       "    <tr>\n",
       "      <th>0</th>\n",
       "      <td>8127.350098</td>\n",
       "      <td>119.312721</td>\n",
       "      <td>23396.69922</td>\n",
       "      <td>1878.900024</td>\n",
       "    </tr>\n",
       "    <tr>\n",
       "      <th>1</th>\n",
       "      <td>8102.100098</td>\n",
       "      <td>118.381363</td>\n",
       "      <td>23920.34961</td>\n",
       "      <td>1895.849976</td>\n",
       "    </tr>\n",
       "    <tr>\n",
       "      <th>2</th>\n",
       "      <td>8234.599609</td>\n",
       "      <td>123.626411</td>\n",
       "      <td>24049.69922</td>\n",
       "      <td>1919.800049</td>\n",
       "    </tr>\n",
       "    <tr>\n",
       "      <th>3</th>\n",
       "      <td>8284.500000</td>\n",
       "      <td>123.724457</td>\n",
       "      <td>24118.58984</td>\n",
       "      <td>1918.180054</td>\n",
       "    </tr>\n",
       "    <tr>\n",
       "      <th>4</th>\n",
       "      <td>8323.000000</td>\n",
       "      <td>122.891121</td>\n",
       "      <td>23908.23047</td>\n",
       "      <td>1915.030029</td>\n",
       "    </tr>\n",
       "  </tbody>\n",
       "</table>\n",
       "</div>"
      ],
      "text/plain": [
       "   NIFTY_India Adj Close  Escorts Adj Close  HangSeng Open   KOSPI Open\n",
       "0            8127.350098         119.312721    23396.69922  1878.900024\n",
       "1            8102.100098         118.381363    23920.34961  1895.849976\n",
       "2            8234.599609         123.626411    24049.69922  1919.800049\n",
       "3            8284.500000         123.724457    24118.58984  1918.180054\n",
       "4            8323.000000         122.891121    23908.23047  1915.030029"
      ]
     },
     "execution_count": 113,
     "metadata": {},
     "output_type": "execute_result"
    }
   ],
   "source": [
    "X.head()"
   ]
  },
  {
   "cell_type": "code",
   "execution_count": 114,
   "metadata": {},
   "outputs": [],
   "source": [
    "model_linear = LinearRegression()"
   ]
  },
  {
   "cell_type": "code",
   "execution_count": 115,
   "metadata": {},
   "outputs": [
    {
     "data": {
      "text/plain": [
       "LinearRegression(copy_X=True, fit_intercept=True, n_jobs=None, normalize=False)"
      ]
     },
     "execution_count": 115,
     "metadata": {},
     "output_type": "execute_result"
    }
   ],
   "source": [
    "model_linear.fit(X,Y)"
   ]
  },
  {
   "cell_type": "code",
   "execution_count": 116,
   "metadata": {},
   "outputs": [
    {
     "data": {
      "text/plain": [
       "array([-1.03791638e-04,  9.96872322e-01, -3.15206115e-04,  1.99434938e-02])"
      ]
     },
     "execution_count": 116,
     "metadata": {},
     "output_type": "execute_result"
    }
   ],
   "source": [
    "model_linear.coef_"
   ]
  },
  {
   "cell_type": "code",
   "execution_count": 117,
   "metadata": {},
   "outputs": [
    {
     "data": {
      "text/html": [
       "<div>\n",
       "<style scoped>\n",
       "    .dataframe tbody tr th:only-of-type {\n",
       "        vertical-align: middle;\n",
       "    }\n",
       "\n",
       "    .dataframe tbody tr th {\n",
       "        vertical-align: top;\n",
       "    }\n",
       "\n",
       "    .dataframe thead th {\n",
       "        text-align: right;\n",
       "    }\n",
       "</style>\n",
       "<table border=\"1\" class=\"dataframe\">\n",
       "  <thead>\n",
       "    <tr style=\"text-align: right;\">\n",
       "      <th></th>\n",
       "      <th>NIFTY_India Adj Close</th>\n",
       "      <th>Escorts Adj Close</th>\n",
       "      <th>HangSeng Open</th>\n",
       "      <th>KOSPI Open</th>\n",
       "    </tr>\n",
       "  </thead>\n",
       "  <tbody>\n",
       "    <tr>\n",
       "      <th>0</th>\n",
       "      <td>8792.200195</td>\n",
       "      <td>663.750000</td>\n",
       "      <td>24191.32031</td>\n",
       "      <td>1815.750000</td>\n",
       "    </tr>\n",
       "    <tr>\n",
       "      <th>1</th>\n",
       "      <td>8748.750000</td>\n",
       "      <td>642.349976</td>\n",
       "      <td>24181.32031</td>\n",
       "      <td>1838.089966</td>\n",
       "    </tr>\n",
       "    <tr>\n",
       "      <th>2</th>\n",
       "      <td>8925.299805</td>\n",
       "      <td>714.700012</td>\n",
       "      <td>24025.44922</td>\n",
       "      <td>1839.510010</td>\n",
       "    </tr>\n",
       "    <tr>\n",
       "      <th>3</th>\n",
       "      <td>8992.799805</td>\n",
       "      <td>714.299988</td>\n",
       "      <td>24457.83008</td>\n",
       "      <td>1893.310059</td>\n",
       "    </tr>\n",
       "    <tr>\n",
       "      <th>4</th>\n",
       "      <td>9266.750000</td>\n",
       "      <td>746.200012</td>\n",
       "      <td>24503.56055</td>\n",
       "      <td>1908.339966</td>\n",
       "    </tr>\n",
       "  </tbody>\n",
       "</table>\n",
       "</div>"
      ],
      "text/plain": [
       "   NIFTY_India Adj Close  Escorts Adj Close  HangSeng Open   KOSPI Open\n",
       "0            8792.200195         663.750000    24191.32031  1815.750000\n",
       "1            8748.750000         642.349976    24181.32031  1838.089966\n",
       "2            8925.299805         714.700012    24025.44922  1839.510010\n",
       "3            8992.799805         714.299988    24457.83008  1893.310059\n",
       "4            9266.750000         746.200012    24503.56055  1908.339966"
      ]
     },
     "execution_count": 117,
     "metadata": {},
     "output_type": "execute_result"
    }
   ],
   "source": [
    "X_test.head()"
   ]
  },
  {
   "cell_type": "code",
   "execution_count": 118,
   "metadata": {},
   "outputs": [],
   "source": [
    "test['LR Predicted Open'] = model_linear.predict(X_test)"
   ]
  },
  {
   "cell_type": "code",
   "execution_count": 119,
   "metadata": {},
   "outputs": [
    {
     "data": {
      "text/html": [
       "<div>\n",
       "<style scoped>\n",
       "    .dataframe tbody tr th:only-of-type {\n",
       "        vertical-align: middle;\n",
       "    }\n",
       "\n",
       "    .dataframe tbody tr th {\n",
       "        vertical-align: top;\n",
       "    }\n",
       "\n",
       "    .dataframe thead th {\n",
       "        text-align: right;\n",
       "    }\n",
       "</style>\n",
       "<table border=\"1\" class=\"dataframe\">\n",
       "  <thead>\n",
       "    <tr style=\"text-align: right;\">\n",
       "      <th></th>\n",
       "      <th>Date</th>\n",
       "      <th>NIFTY_India Adj Close</th>\n",
       "      <th>Escorts Adj Close</th>\n",
       "      <th>HangSeng Open</th>\n",
       "      <th>KOSPI Open</th>\n",
       "      <th>Actual Open</th>\n",
       "      <th>LR Predicted Open</th>\n",
       "    </tr>\n",
       "  </thead>\n",
       "  <tbody>\n",
       "    <tr>\n",
       "      <th>0</th>\n",
       "      <td>2020-04-08</td>\n",
       "      <td>8792.200195</td>\n",
       "      <td>663.750000</td>\n",
       "      <td>24191.32031</td>\n",
       "      <td>1815.750000</td>\n",
       "      <td>653.700012</td>\n",
       "      <td>660.918381</td>\n",
       "    </tr>\n",
       "    <tr>\n",
       "      <th>1</th>\n",
       "      <td>2020-04-09</td>\n",
       "      <td>8748.750000</td>\n",
       "      <td>642.349976</td>\n",
       "      <td>24181.32031</td>\n",
       "      <td>1838.089966</td>\n",
       "      <td>661.000000</td>\n",
       "      <td>640.038488</td>\n",
       "    </tr>\n",
       "    <tr>\n",
       "      <th>2</th>\n",
       "      <td>2020-04-16</td>\n",
       "      <td>8925.299805</td>\n",
       "      <td>714.700012</td>\n",
       "      <td>24025.44922</td>\n",
       "      <td>1839.510010</td>\n",
       "      <td>710.000000</td>\n",
       "      <td>712.221364</td>\n",
       "    </tr>\n",
       "    <tr>\n",
       "      <th>3</th>\n",
       "      <td>2020-04-17</td>\n",
       "      <td>8992.799805</td>\n",
       "      <td>714.299988</td>\n",
       "      <td>24457.83008</td>\n",
       "      <td>1893.310059</td>\n",
       "      <td>744.000000</td>\n",
       "      <td>712.752257</td>\n",
       "    </tr>\n",
       "    <tr>\n",
       "      <th>4</th>\n",
       "      <td>2020-04-20</td>\n",
       "      <td>9266.750000</td>\n",
       "      <td>746.200012</td>\n",
       "      <td>24503.56055</td>\n",
       "      <td>1908.339966</td>\n",
       "      <td>749.450012</td>\n",
       "      <td>744.809409</td>\n",
       "    </tr>\n",
       "  </tbody>\n",
       "</table>\n",
       "</div>"
      ],
      "text/plain": [
       "        Date  NIFTY_India Adj Close  Escorts Adj Close  HangSeng Open  \\\n",
       "0 2020-04-08            8792.200195         663.750000    24191.32031   \n",
       "1 2020-04-09            8748.750000         642.349976    24181.32031   \n",
       "2 2020-04-16            8925.299805         714.700012    24025.44922   \n",
       "3 2020-04-17            8992.799805         714.299988    24457.83008   \n",
       "4 2020-04-20            9266.750000         746.200012    24503.56055   \n",
       "\n",
       "    KOSPI Open  Actual Open  LR Predicted Open  \n",
       "0  1815.750000   653.700012         660.918381  \n",
       "1  1838.089966   661.000000         640.038488  \n",
       "2  1839.510010   710.000000         712.221364  \n",
       "3  1893.310059   744.000000         712.752257  \n",
       "4  1908.339966   749.450012         744.809409  "
      ]
     },
     "execution_count": 119,
     "metadata": {},
     "output_type": "execute_result"
    }
   ],
   "source": [
    "test.head()"
   ]
  },
  {
   "cell_type": "code",
   "execution_count": 120,
   "metadata": {},
   "outputs": [
    {
     "data": {
      "text/plain": [
       "0.9694911803380363"
      ]
     },
     "execution_count": 120,
     "metadata": {},
     "output_type": "execute_result"
    }
   ],
   "source": [
    "model_linear.score(X_test, test['Actual Open'])"
   ]
  },
  {
   "cell_type": "code",
   "execution_count": 121,
   "metadata": {},
   "outputs": [
    {
     "data": {
      "text/plain": [
       "139.72525878330097"
      ]
     },
     "execution_count": 121,
     "metadata": {},
     "output_type": "execute_result"
    }
   ],
   "source": [
    "# Mean squared error regression loss\n",
    "mean_squared_error(test['Actual Open'], test['LR Predicted Open'])"
   ]
  },
  {
   "cell_type": "markdown",
   "metadata": {},
   "source": [
    "## 2. Support Vector Regression"
   ]
  },
  {
   "cell_type": "code",
   "execution_count": 122,
   "metadata": {},
   "outputs": [],
   "source": [
    "model_svr = SVR()"
   ]
  },
  {
   "cell_type": "code",
   "execution_count": 123,
   "metadata": {},
   "outputs": [],
   "source": [
    "hyperparameter_grid = {'kernel':['rbf', 'linear'],\n",
    "                       'C':[.01, .1, 1, 10, 50, 100],\n",
    "                       'tol': [1e-4, 1e-3]\n",
    "                      }\n",
    "                       \n",
    "grid_cv = GridSearchCV(estimator=model_svr,\n",
    "            param_grid=hyperparameter_grid,\n",
    "            cv=5,\n",
    "            scoring = 'neg_mean_squared_error',\n",
    "            n_jobs = -1,\n",
    "            verbose = 5 )"
   ]
  },
  {
   "cell_type": "code",
   "execution_count": 124,
   "metadata": {},
   "outputs": [
    {
     "name": "stderr",
     "output_type": "stream",
     "text": [
      "[Parallel(n_jobs=-1)]: Using backend LokyBackend with 4 concurrent workers.\n"
     ]
    },
    {
     "name": "stdout",
     "output_type": "stream",
     "text": [
      "Fitting 5 folds for each of 24 candidates, totalling 120 fits\n"
     ]
    },
    {
     "name": "stderr",
     "output_type": "stream",
     "text": [
      "[Parallel(n_jobs=-1)]: Done  10 tasks      | elapsed:    2.0s\n",
      "[Parallel(n_jobs=-1)]: Done  64 tasks      | elapsed:   58.4s\n",
      "[Parallel(n_jobs=-1)]: Done 120 out of 120 | elapsed:  2.5min finished\n"
     ]
    },
    {
     "data": {
      "text/plain": [
       "GridSearchCV(cv=5, error_score=nan,\n",
       "             estimator=SVR(C=1.0, cache_size=200, coef0=0.0, degree=3,\n",
       "                           epsilon=0.1, gamma='scale', kernel='rbf',\n",
       "                           max_iter=-1, shrinking=True, tol=0.001,\n",
       "                           verbose=False),\n",
       "             iid='deprecated', n_jobs=-1,\n",
       "             param_grid={'C': [0.01, 0.1, 1, 10, 50, 100],\n",
       "                         'kernel': ['rbf', 'linear'], 'tol': [0.0001, 0.001]},\n",
       "             pre_dispatch='2*n_jobs', refit=True, return_train_score=False,\n",
       "             scoring='neg_mean_squared_error', verbose=5)"
      ]
     },
     "execution_count": 124,
     "metadata": {},
     "output_type": "execute_result"
    }
   ],
   "source": [
    "grid_cv.fit(X,Y)"
   ]
  },
  {
   "cell_type": "code",
   "execution_count": 125,
   "metadata": {},
   "outputs": [
    {
     "data": {
      "text/plain": [
       "SVR(C=0.01, cache_size=200, coef0=0.0, degree=3, epsilon=0.1, gamma='scale',\n",
       "    kernel='linear', max_iter=-1, shrinking=True, tol=0.001, verbose=False)"
      ]
     },
     "execution_count": 125,
     "metadata": {},
     "output_type": "execute_result"
    }
   ],
   "source": [
    "grid_cv.best_estimator_"
   ]
  },
  {
   "cell_type": "code",
   "execution_count": 132,
   "metadata": {},
   "outputs": [],
   "source": [
    "model_svr = SVR(C=0.01, cache_size=200, coef0=0.0, degree=3, epsilon=0.1, gamma='scale',\n",
    "    kernel='linear', max_iter=-1, shrinking=True, tol=0.001, verbose=False)"
   ]
  },
  {
   "cell_type": "code",
   "execution_count": 133,
   "metadata": {},
   "outputs": [
    {
     "data": {
      "text/plain": [
       "SVR(C=0.01, cache_size=200, coef0=0.0, degree=3, epsilon=0.1, gamma='scale',\n",
       "    kernel='linear', max_iter=-1, shrinking=True, tol=0.001, verbose=False)"
      ]
     },
     "execution_count": 133,
     "metadata": {},
     "output_type": "execute_result"
    }
   ],
   "source": [
    "model_svr.fit(X,Y)"
   ]
  },
  {
   "cell_type": "code",
   "execution_count": 134,
   "metadata": {},
   "outputs": [],
   "source": [
    "test['SVR Predicted Open'] = model_svr.predict(X_test)"
   ]
  },
  {
   "cell_type": "code",
   "execution_count": 135,
   "metadata": {},
   "outputs": [
    {
     "data": {
      "text/html": [
       "<div>\n",
       "<style scoped>\n",
       "    .dataframe tbody tr th:only-of-type {\n",
       "        vertical-align: middle;\n",
       "    }\n",
       "\n",
       "    .dataframe tbody tr th {\n",
       "        vertical-align: top;\n",
       "    }\n",
       "\n",
       "    .dataframe thead th {\n",
       "        text-align: right;\n",
       "    }\n",
       "</style>\n",
       "<table border=\"1\" class=\"dataframe\">\n",
       "  <thead>\n",
       "    <tr style=\"text-align: right;\">\n",
       "      <th></th>\n",
       "      <th>Date</th>\n",
       "      <th>NIFTY_India Adj Close</th>\n",
       "      <th>Escorts Adj Close</th>\n",
       "      <th>HangSeng Open</th>\n",
       "      <th>KOSPI Open</th>\n",
       "      <th>Actual Open</th>\n",
       "      <th>LR Predicted Open</th>\n",
       "      <th>SVR Predicted Open</th>\n",
       "    </tr>\n",
       "  </thead>\n",
       "  <tbody>\n",
       "    <tr>\n",
       "      <th>0</th>\n",
       "      <td>2020-04-08</td>\n",
       "      <td>8792.200195</td>\n",
       "      <td>663.750000</td>\n",
       "      <td>24191.32031</td>\n",
       "      <td>1815.750000</td>\n",
       "      <td>653.700012</td>\n",
       "      <td>660.918381</td>\n",
       "      <td>665.293591</td>\n",
       "    </tr>\n",
       "    <tr>\n",
       "      <th>1</th>\n",
       "      <td>2020-04-09</td>\n",
       "      <td>8748.750000</td>\n",
       "      <td>642.349976</td>\n",
       "      <td>24181.32031</td>\n",
       "      <td>1838.089966</td>\n",
       "      <td>661.000000</td>\n",
       "      <td>640.038488</td>\n",
       "      <td>644.117885</td>\n",
       "    </tr>\n",
       "    <tr>\n",
       "      <th>2</th>\n",
       "      <td>2020-04-16</td>\n",
       "      <td>8925.299805</td>\n",
       "      <td>714.700012</td>\n",
       "      <td>24025.44922</td>\n",
       "      <td>1839.510010</td>\n",
       "      <td>710.000000</td>\n",
       "      <td>712.221364</td>\n",
       "      <td>716.467650</td>\n",
       "    </tr>\n",
       "    <tr>\n",
       "      <th>3</th>\n",
       "      <td>2020-04-17</td>\n",
       "      <td>8992.799805</td>\n",
       "      <td>714.299988</td>\n",
       "      <td>24457.83008</td>\n",
       "      <td>1893.310059</td>\n",
       "      <td>744.000000</td>\n",
       "      <td>712.752257</td>\n",
       "      <td>716.546609</td>\n",
       "    </tr>\n",
       "    <tr>\n",
       "      <th>4</th>\n",
       "      <td>2020-04-20</td>\n",
       "      <td>9266.750000</td>\n",
       "      <td>746.200012</td>\n",
       "      <td>24503.56055</td>\n",
       "      <td>1908.339966</td>\n",
       "      <td>749.450012</td>\n",
       "      <td>744.809409</td>\n",
       "      <td>748.464695</td>\n",
       "    </tr>\n",
       "  </tbody>\n",
       "</table>\n",
       "</div>"
      ],
      "text/plain": [
       "        Date  NIFTY_India Adj Close  Escorts Adj Close  HangSeng Open  \\\n",
       "0 2020-04-08            8792.200195         663.750000    24191.32031   \n",
       "1 2020-04-09            8748.750000         642.349976    24181.32031   \n",
       "2 2020-04-16            8925.299805         714.700012    24025.44922   \n",
       "3 2020-04-17            8992.799805         714.299988    24457.83008   \n",
       "4 2020-04-20            9266.750000         746.200012    24503.56055   \n",
       "\n",
       "    KOSPI Open  Actual Open  LR Predicted Open  SVR Predicted Open  \n",
       "0  1815.750000   653.700012         660.918381          665.293591  \n",
       "1  1838.089966   661.000000         640.038488          644.117885  \n",
       "2  1839.510010   710.000000         712.221364          716.467650  \n",
       "3  1893.310059   744.000000         712.752257          716.546609  \n",
       "4  1908.339966   749.450012         744.809409          748.464695  "
      ]
     },
     "execution_count": 135,
     "metadata": {},
     "output_type": "execute_result"
    }
   ],
   "source": [
    "test.head()"
   ]
  },
  {
   "cell_type": "code",
   "execution_count": 136,
   "metadata": {},
   "outputs": [],
   "source": [
    "#test.drop('Predicted Open',axis=1)"
   ]
  },
  {
   "cell_type": "code",
   "execution_count": 137,
   "metadata": {},
   "outputs": [
    {
     "data": {
      "text/plain": [
       "0.9716345158823855"
      ]
     },
     "execution_count": 137,
     "metadata": {},
     "output_type": "execute_result"
    }
   ],
   "source": [
    "model_svr.score(X_test, test['Actual Open'])"
   ]
  },
  {
   "cell_type": "code",
   "execution_count": 138,
   "metadata": {},
   "outputs": [
    {
     "data": {
      "text/plain": [
       "129.9091427581044"
      ]
     },
     "execution_count": 138,
     "metadata": {},
     "output_type": "execute_result"
    }
   ],
   "source": [
    "# Mean squared error regression loss\n",
    "mean_squared_error(test['Actual Open'], test['SVR Predicted Open'])"
   ]
  },
  {
   "cell_type": "markdown",
   "metadata": {},
   "source": [
    "## 3. Random Forest Regressor"
   ]
  },
  {
   "cell_type": "code",
   "execution_count": 139,
   "metadata": {},
   "outputs": [],
   "source": [
    "model_rf = RandomForestRegressor()"
   ]
  },
  {
   "cell_type": "code",
   "execution_count": 140,
   "metadata": {},
   "outputs": [],
   "source": [
    "hyperparameter_grid = {'n_estimators':[ _ for _ in range(20,150,10)],\n",
    "                       'max_depth':[_ for _ in range(4,20,2)],\n",
    "                       'max_features': ['sqrt','auto'],\n",
    "                       'min_samples_leaf': [1,2,3],\n",
    "                       'bootstrap':[True, False] }\n",
    "\n",
    "\n",
    "grid_cv = GridSearchCV(estimator=model_rf,\n",
    "            param_grid=hyperparameter_grid,\n",
    "            cv=5, \n",
    "            scoring = 'neg_mean_squared_error',\n",
    "            n_jobs = -1,\n",
    "            verbose = 5 )"
   ]
  },
  {
   "cell_type": "code",
   "execution_count": 141,
   "metadata": {},
   "outputs": [
    {
     "name": "stdout",
     "output_type": "stream",
     "text": [
      "Fitting 5 folds for each of 1248 candidates, totalling 6240 fits\n"
     ]
    },
    {
     "name": "stderr",
     "output_type": "stream",
     "text": [
      "[Parallel(n_jobs=-1)]: Using backend LokyBackend with 4 concurrent workers.\n",
      "[Parallel(n_jobs=-1)]: Done  12 tasks      | elapsed:    0.2s\n",
      "[Parallel(n_jobs=-1)]: Done 216 tasks      | elapsed:    6.3s\n",
      "[Parallel(n_jobs=-1)]: Done 576 tasks      | elapsed:   19.1s\n",
      "[Parallel(n_jobs=-1)]: Done 1080 tasks      | elapsed:   40.8s\n",
      "[Parallel(n_jobs=-1)]: Done 1592 tasks      | elapsed:  1.1min\n",
      "[Parallel(n_jobs=-1)]: Done 1988 tasks      | elapsed:  1.4min\n",
      "[Parallel(n_jobs=-1)]: Done 2456 tasks      | elapsed:  1.8min\n",
      "[Parallel(n_jobs=-1)]: Done 2996 tasks      | elapsed:  2.3min\n",
      "[Parallel(n_jobs=-1)]: Done 3608 tasks      | elapsed:  2.7min\n",
      "[Parallel(n_jobs=-1)]: Done 4292 tasks      | elapsed:  3.3min\n",
      "[Parallel(n_jobs=-1)]: Done 5048 tasks      | elapsed:  4.1min\n",
      "[Parallel(n_jobs=-1)]: Done 5607 tasks      | elapsed:  4.8min\n",
      "[Parallel(n_jobs=-1)]: Done 6057 tasks      | elapsed:  5.3min\n",
      "[Parallel(n_jobs=-1)]: Done 6240 out of 6240 | elapsed:  5.6min finished\n"
     ]
    },
    {
     "data": {
      "text/plain": [
       "GridSearchCV(cv=5, error_score=nan,\n",
       "             estimator=RandomForestRegressor(bootstrap=True, ccp_alpha=0.0,\n",
       "                                             criterion='mse', max_depth=None,\n",
       "                                             max_features='auto',\n",
       "                                             max_leaf_nodes=None,\n",
       "                                             max_samples=None,\n",
       "                                             min_impurity_decrease=0.0,\n",
       "                                             min_impurity_split=None,\n",
       "                                             min_samples_leaf=1,\n",
       "                                             min_samples_split=2,\n",
       "                                             min_weight_fraction_leaf=0.0,\n",
       "                                             n_estimators=100, n_jobs=None,\n",
       "                                             oob_score=False, rand...\n",
       "                                             verbose=0, warm_start=False),\n",
       "             iid='deprecated', n_jobs=-1,\n",
       "             param_grid={'bootstrap': [True, False],\n",
       "                         'max_depth': [4, 6, 8, 10, 12, 14, 16, 18],\n",
       "                         'max_features': ['sqrt', 'auto'],\n",
       "                         'min_samples_leaf': [1, 2, 3],\n",
       "                         'n_estimators': [20, 30, 40, 50, 60, 70, 80, 90, 100,\n",
       "                                          110, 120, 130, 140]},\n",
       "             pre_dispatch='2*n_jobs', refit=True, return_train_score=False,\n",
       "             scoring='neg_mean_squared_error', verbose=5)"
      ]
     },
     "execution_count": 141,
     "metadata": {},
     "output_type": "execute_result"
    }
   ],
   "source": [
    "grid_cv.fit(X,Y)"
   ]
  },
  {
   "cell_type": "code",
   "execution_count": 142,
   "metadata": {},
   "outputs": [
    {
     "data": {
      "text/plain": [
       "RandomForestRegressor(bootstrap=True, ccp_alpha=0.0, criterion='mse',\n",
       "                      max_depth=8, max_features='auto', max_leaf_nodes=None,\n",
       "                      max_samples=None, min_impurity_decrease=0.0,\n",
       "                      min_impurity_split=None, min_samples_leaf=3,\n",
       "                      min_samples_split=2, min_weight_fraction_leaf=0.0,\n",
       "                      n_estimators=40, n_jobs=None, oob_score=False,\n",
       "                      random_state=None, verbose=0, warm_start=False)"
      ]
     },
     "execution_count": 142,
     "metadata": {},
     "output_type": "execute_result"
    }
   ],
   "source": [
    "grid_cv.best_estimator_"
   ]
  },
  {
   "cell_type": "code",
   "execution_count": 149,
   "metadata": {},
   "outputs": [],
   "source": [
    "model_rf = RandomForestRegressor(bootstrap=True, ccp_alpha=0.0, criterion='mse',\n",
    "                      max_depth=8, max_features='auto', max_leaf_nodes=None,\n",
    "                      max_samples=None, min_impurity_decrease=0.0,\n",
    "                      min_impurity_split=None, min_samples_leaf=3,\n",
    "                      min_samples_split=2, min_weight_fraction_leaf=0.0,\n",
    "                      n_estimators=40, n_jobs=None, oob_score=False,\n",
    "                      random_state=None, verbose=0, warm_start=False)"
   ]
  },
  {
   "cell_type": "code",
   "execution_count": 155,
   "metadata": {},
   "outputs": [
    {
     "data": {
      "text/plain": [
       "RandomForestRegressor(bootstrap=True, ccp_alpha=0.0, criterion='mse',\n",
       "                      max_depth=8, max_features='auto', max_leaf_nodes=None,\n",
       "                      max_samples=None, min_impurity_decrease=0.0,\n",
       "                      min_impurity_split=None, min_samples_leaf=3,\n",
       "                      min_samples_split=2, min_weight_fraction_leaf=0.0,\n",
       "                      n_estimators=40, n_jobs=None, oob_score=False,\n",
       "                      random_state=None, verbose=0, warm_start=False)"
      ]
     },
     "execution_count": 155,
     "metadata": {},
     "output_type": "execute_result"
    }
   ],
   "source": [
    "model_rf.fit(X,Y)"
   ]
  },
  {
   "cell_type": "code",
   "execution_count": 156,
   "metadata": {},
   "outputs": [],
   "source": [
    "test['Random Forest Predicted Open'] = model_rf.predict(X_test)"
   ]
  },
  {
   "cell_type": "code",
   "execution_count": 157,
   "metadata": {},
   "outputs": [
    {
     "data": {
      "text/html": [
       "<div>\n",
       "<style scoped>\n",
       "    .dataframe tbody tr th:only-of-type {\n",
       "        vertical-align: middle;\n",
       "    }\n",
       "\n",
       "    .dataframe tbody tr th {\n",
       "        vertical-align: top;\n",
       "    }\n",
       "\n",
       "    .dataframe thead th {\n",
       "        text-align: right;\n",
       "    }\n",
       "</style>\n",
       "<table border=\"1\" class=\"dataframe\">\n",
       "  <thead>\n",
       "    <tr style=\"text-align: right;\">\n",
       "      <th></th>\n",
       "      <th>Date</th>\n",
       "      <th>NIFTY_India Adj Close</th>\n",
       "      <th>Escorts Adj Close</th>\n",
       "      <th>HangSeng Open</th>\n",
       "      <th>KOSPI Open</th>\n",
       "      <th>Actual Open</th>\n",
       "      <th>LR Predicted Open</th>\n",
       "      <th>SVR Predicted Open</th>\n",
       "      <th>Random Forest Predicted Open</th>\n",
       "    </tr>\n",
       "  </thead>\n",
       "  <tbody>\n",
       "    <tr>\n",
       "      <th>0</th>\n",
       "      <td>2020-04-08</td>\n",
       "      <td>8792.200195</td>\n",
       "      <td>663.750000</td>\n",
       "      <td>24191.32031</td>\n",
       "      <td>1815.750000</td>\n",
       "      <td>653.700012</td>\n",
       "      <td>660.918381</td>\n",
       "      <td>665.293591</td>\n",
       "      <td>654.433729</td>\n",
       "    </tr>\n",
       "    <tr>\n",
       "      <th>1</th>\n",
       "      <td>2020-04-09</td>\n",
       "      <td>8748.750000</td>\n",
       "      <td>642.349976</td>\n",
       "      <td>24181.32031</td>\n",
       "      <td>1838.089966</td>\n",
       "      <td>661.000000</td>\n",
       "      <td>640.038488</td>\n",
       "      <td>644.117885</td>\n",
       "      <td>643.040534</td>\n",
       "    </tr>\n",
       "    <tr>\n",
       "      <th>2</th>\n",
       "      <td>2020-04-16</td>\n",
       "      <td>8925.299805</td>\n",
       "      <td>714.700012</td>\n",
       "      <td>24025.44922</td>\n",
       "      <td>1839.510010</td>\n",
       "      <td>710.000000</td>\n",
       "      <td>712.221364</td>\n",
       "      <td>716.467650</td>\n",
       "      <td>721.860087</td>\n",
       "    </tr>\n",
       "    <tr>\n",
       "      <th>3</th>\n",
       "      <td>2020-04-17</td>\n",
       "      <td>8992.799805</td>\n",
       "      <td>714.299988</td>\n",
       "      <td>24457.83008</td>\n",
       "      <td>1893.310059</td>\n",
       "      <td>744.000000</td>\n",
       "      <td>712.752257</td>\n",
       "      <td>716.546609</td>\n",
       "      <td>721.860087</td>\n",
       "    </tr>\n",
       "    <tr>\n",
       "      <th>4</th>\n",
       "      <td>2020-04-20</td>\n",
       "      <td>9266.750000</td>\n",
       "      <td>746.200012</td>\n",
       "      <td>24503.56055</td>\n",
       "      <td>1908.339966</td>\n",
       "      <td>749.450012</td>\n",
       "      <td>744.809409</td>\n",
       "      <td>748.464695</td>\n",
       "      <td>738.980109</td>\n",
       "    </tr>\n",
       "  </tbody>\n",
       "</table>\n",
       "</div>"
      ],
      "text/plain": [
       "        Date  NIFTY_India Adj Close  Escorts Adj Close  HangSeng Open  \\\n",
       "0 2020-04-08            8792.200195         663.750000    24191.32031   \n",
       "1 2020-04-09            8748.750000         642.349976    24181.32031   \n",
       "2 2020-04-16            8925.299805         714.700012    24025.44922   \n",
       "3 2020-04-17            8992.799805         714.299988    24457.83008   \n",
       "4 2020-04-20            9266.750000         746.200012    24503.56055   \n",
       "\n",
       "    KOSPI Open  Actual Open  LR Predicted Open  SVR Predicted Open  \\\n",
       "0  1815.750000   653.700012         660.918381          665.293591   \n",
       "1  1838.089966   661.000000         640.038488          644.117885   \n",
       "2  1839.510010   710.000000         712.221364          716.467650   \n",
       "3  1893.310059   744.000000         712.752257          716.546609   \n",
       "4  1908.339966   749.450012         744.809409          748.464695   \n",
       "\n",
       "   Random Forest Predicted Open  \n",
       "0                    654.433729  \n",
       "1                    643.040534  \n",
       "2                    721.860087  \n",
       "3                    721.860087  \n",
       "4                    738.980109  "
      ]
     },
     "execution_count": 157,
     "metadata": {},
     "output_type": "execute_result"
    }
   ],
   "source": [
    "test.head()"
   ]
  },
  {
   "cell_type": "code",
   "execution_count": 158,
   "metadata": {},
   "outputs": [
    {
     "data": {
      "text/plain": [
       "0.9715527178851832"
      ]
     },
     "execution_count": 158,
     "metadata": {},
     "output_type": "execute_result"
    }
   ],
   "source": [
    "model_rf.score(X_test, test['Actual Open'])"
   ]
  },
  {
   "cell_type": "code",
   "execution_count": 159,
   "metadata": {},
   "outputs": [
    {
     "data": {
      "text/plain": [
       "130.2837638169879"
      ]
     },
     "execution_count": 159,
     "metadata": {},
     "output_type": "execute_result"
    }
   ],
   "source": [
    "# Mean squared error regression loss\n",
    "mean_squared_error(test['Actual Open'], test['Random Forest Predicted Open'])"
   ]
  },
  {
   "cell_type": "markdown",
   "metadata": {},
   "source": [
    "## 4. XGBoost Regressor"
   ]
  },
  {
   "cell_type": "code",
   "execution_count": 194,
   "metadata": {},
   "outputs": [],
   "source": [
    "model_xg = xgb.XGBRegressor()"
   ]
  },
  {
   "cell_type": "code",
   "execution_count": 195,
   "metadata": {},
   "outputs": [],
   "source": [
    "hyperparameter_grid = {  \n",
    "    \"n_estimators\": [_ for _ in range(20,200,20)],\n",
    "    \"max_depth\": [_ for _ in range(2,14,2)],\n",
    "    \"learning_rate\": [0.01, 0.1, 0.3, 0.5],\n",
    "    \"colsample_bytree\": [0.4, 0.6, 0.8, 1.0],\n",
    "    'colsample_bylevel': [0.4, 0.6, 0.8, 1.0],\n",
    "    'min_child_weight': [0.5, 1.0, 3.0, 5.0, 7.0, 10.0],\n",
    "    \"subsample\": [0.5, 0.7, 0.9, 1.0],\n",
    "    \"gamma\": [0, 0.25, 0.5, 1.0],\n",
    "    'reg_lambda': [0.1, 1.0, 5.0, 10.0, 50.0, 100.0],\n",
    "    \n",
    "    \n",
    "}\n",
    "                       \n",
    "\n",
    "random_cv = RandomizedSearchCV(estimator=model_xg,\n",
    "            param_distributions=hyperparameter_grid,\n",
    "            cv=5, n_iter=100, \n",
    "            scoring = 'neg_mean_squared_error',\n",
    "            n_jobs = -1,\n",
    "            verbose = 5 )"
   ]
  },
  {
   "cell_type": "code",
   "execution_count": 196,
   "metadata": {},
   "outputs": [
    {
     "name": "stdout",
     "output_type": "stream",
     "text": [
      "Fitting 5 folds for each of 100 candidates, totalling 500 fits\n"
     ]
    },
    {
     "name": "stderr",
     "output_type": "stream",
     "text": [
      "[Parallel(n_jobs=-1)]: Using backend LokyBackend with 4 concurrent workers.\n",
      "[Parallel(n_jobs=-1)]: Done  28 tasks      | elapsed:    0.6s\n",
      "[Parallel(n_jobs=-1)]: Done 500 out of 500 | elapsed:   10.0s finished\n"
     ]
    },
    {
     "data": {
      "text/plain": [
       "RandomizedSearchCV(cv=5, error_score=nan,\n",
       "                   estimator=XGBRegressor(base_score=None, booster=None,\n",
       "                                          colsample_bylevel=None,\n",
       "                                          colsample_bynode=None,\n",
       "                                          colsample_bytree=None, gamma=None,\n",
       "                                          gpu_id=None, importance_type='gain',\n",
       "                                          interaction_constraints=None,\n",
       "                                          learning_rate=None,\n",
       "                                          max_delta_step=None, max_depth=None,\n",
       "                                          min_child_weight=None, missing=nan,\n",
       "                                          monotone_constraints=None,\n",
       "                                          n_...\n",
       "                                        'learning_rate': [0.01, 0.1, 0.3, 0.5],\n",
       "                                        'max_depth': [2, 4, 6, 8, 10, 12],\n",
       "                                        'min_child_weight': [0.5, 1.0, 3.0, 5.0,\n",
       "                                                             7.0, 10.0],\n",
       "                                        'n_estimators': [20, 40, 60, 80, 100,\n",
       "                                                         120, 140, 160, 180],\n",
       "                                        'reg_lambda': [0.1, 1.0, 5.0, 10.0,\n",
       "                                                       50.0, 100.0],\n",
       "                                        'subsample': [0.5, 0.7, 0.9, 1.0]},\n",
       "                   pre_dispatch='2*n_jobs', random_state=None, refit=True,\n",
       "                   return_train_score=False, scoring='neg_mean_squared_error',\n",
       "                   verbose=5)"
      ]
     },
     "execution_count": 196,
     "metadata": {},
     "output_type": "execute_result"
    }
   ],
   "source": [
    "random_cv.fit(X,Y)"
   ]
  },
  {
   "cell_type": "code",
   "execution_count": 197,
   "metadata": {},
   "outputs": [
    {
     "data": {
      "text/plain": [
       "XGBRegressor(base_score=0.5, booster=None, colsample_bylevel=1.0,\n",
       "             colsample_bynode=1, colsample_bytree=1.0, gamma=0, gpu_id=-1,\n",
       "             importance_type='gain', interaction_constraints=None,\n",
       "             learning_rate=0.3, max_delta_step=0, max_depth=10,\n",
       "             min_child_weight=7.0, missing=nan, monotone_constraints=None,\n",
       "             n_estimators=100, n_jobs=0, num_parallel_tree=1,\n",
       "             objective='reg:squarederror', random_state=0, reg_alpha=0,\n",
       "             reg_lambda=0.1, scale_pos_weight=1, subsample=0.7,\n",
       "             tree_method=None, validate_parameters=False, verbosity=None)"
      ]
     },
     "execution_count": 197,
     "metadata": {},
     "output_type": "execute_result"
    }
   ],
   "source": [
    "random_cv.best_estimator_"
   ]
  },
  {
   "cell_type": "code",
   "execution_count": 201,
   "metadata": {},
   "outputs": [],
   "source": [
    "model_xg = xgb.XGBRegressor(base_score=0.5, booster=None, colsample_bylevel=1.0,\n",
    "             colsample_bynode=1, colsample_bytree=1.0, gamma=0, gpu_id=-1,\n",
    "             importance_type='gain', interaction_constraints=None,\n",
    "             learning_rate=0.3, max_delta_step=0, max_depth=10,\n",
    "             min_child_weight=7.0, monotone_constraints=None,\n",
    "             n_estimators=100, n_jobs=0, num_parallel_tree=1,\n",
    "             objective='reg:squarederror', random_state=0, reg_alpha=0,\n",
    "             reg_lambda=0.1, scale_pos_weight=1, subsample=0.7,\n",
    "             tree_method=None, validate_parameters=False, verbosity=None)"
   ]
  },
  {
   "cell_type": "code",
   "execution_count": 202,
   "metadata": {},
   "outputs": [
    {
     "data": {
      "text/plain": [
       "XGBRegressor(base_score=0.5, booster=None, colsample_bylevel=1.0,\n",
       "             colsample_bynode=1, colsample_bytree=1.0, gamma=0, gpu_id=-1,\n",
       "             importance_type='gain', interaction_constraints=None,\n",
       "             learning_rate=0.3, max_delta_step=0, max_depth=10,\n",
       "             min_child_weight=7.0, missing=nan, monotone_constraints=None,\n",
       "             n_estimators=100, n_jobs=0, num_parallel_tree=1,\n",
       "             objective='reg:squarederror', random_state=0, reg_alpha=0,\n",
       "             reg_lambda=0.1, scale_pos_weight=1, subsample=0.7,\n",
       "             tree_method=None, validate_parameters=False, verbosity=None)"
      ]
     },
     "execution_count": 202,
     "metadata": {},
     "output_type": "execute_result"
    }
   ],
   "source": [
    "model_xg.fit(X,Y)"
   ]
  },
  {
   "cell_type": "code",
   "execution_count": 203,
   "metadata": {},
   "outputs": [
    {
     "data": {
      "text/html": [
       "<div>\n",
       "<style scoped>\n",
       "    .dataframe tbody tr th:only-of-type {\n",
       "        vertical-align: middle;\n",
       "    }\n",
       "\n",
       "    .dataframe tbody tr th {\n",
       "        vertical-align: top;\n",
       "    }\n",
       "\n",
       "    .dataframe thead th {\n",
       "        text-align: right;\n",
       "    }\n",
       "</style>\n",
       "<table border=\"1\" class=\"dataframe\">\n",
       "  <thead>\n",
       "    <tr style=\"text-align: right;\">\n",
       "      <th></th>\n",
       "      <th>NIFTY_India Adj Close</th>\n",
       "      <th>Escorts Adj Close</th>\n",
       "      <th>HangSeng Open</th>\n",
       "      <th>KOSPI Open</th>\n",
       "    </tr>\n",
       "  </thead>\n",
       "  <tbody>\n",
       "    <tr>\n",
       "      <th>0</th>\n",
       "      <td>8792.200195</td>\n",
       "      <td>663.750000</td>\n",
       "      <td>24191.32031</td>\n",
       "      <td>1815.750000</td>\n",
       "    </tr>\n",
       "    <tr>\n",
       "      <th>1</th>\n",
       "      <td>8748.750000</td>\n",
       "      <td>642.349976</td>\n",
       "      <td>24181.32031</td>\n",
       "      <td>1838.089966</td>\n",
       "    </tr>\n",
       "    <tr>\n",
       "      <th>2</th>\n",
       "      <td>8925.299805</td>\n",
       "      <td>714.700012</td>\n",
       "      <td>24025.44922</td>\n",
       "      <td>1839.510010</td>\n",
       "    </tr>\n",
       "    <tr>\n",
       "      <th>3</th>\n",
       "      <td>8992.799805</td>\n",
       "      <td>714.299988</td>\n",
       "      <td>24457.83008</td>\n",
       "      <td>1893.310059</td>\n",
       "    </tr>\n",
       "    <tr>\n",
       "      <th>4</th>\n",
       "      <td>9266.750000</td>\n",
       "      <td>746.200012</td>\n",
       "      <td>24503.56055</td>\n",
       "      <td>1908.339966</td>\n",
       "    </tr>\n",
       "  </tbody>\n",
       "</table>\n",
       "</div>"
      ],
      "text/plain": [
       "   NIFTY_India Adj Close  Escorts Adj Close  HangSeng Open   KOSPI Open\n",
       "0            8792.200195         663.750000    24191.32031  1815.750000\n",
       "1            8748.750000         642.349976    24181.32031  1838.089966\n",
       "2            8925.299805         714.700012    24025.44922  1839.510010\n",
       "3            8992.799805         714.299988    24457.83008  1893.310059\n",
       "4            9266.750000         746.200012    24503.56055  1908.339966"
      ]
     },
     "execution_count": 203,
     "metadata": {},
     "output_type": "execute_result"
    }
   ],
   "source": [
    "X_test.head()"
   ]
  },
  {
   "cell_type": "code",
   "execution_count": 204,
   "metadata": {},
   "outputs": [],
   "source": [
    "test['XGBoost Predicted Open'] = model_xg.predict(X_test)"
   ]
  },
  {
   "cell_type": "code",
   "execution_count": 205,
   "metadata": {},
   "outputs": [
    {
     "data": {
      "text/html": [
       "<div>\n",
       "<style scoped>\n",
       "    .dataframe tbody tr th:only-of-type {\n",
       "        vertical-align: middle;\n",
       "    }\n",
       "\n",
       "    .dataframe tbody tr th {\n",
       "        vertical-align: top;\n",
       "    }\n",
       "\n",
       "    .dataframe thead th {\n",
       "        text-align: right;\n",
       "    }\n",
       "</style>\n",
       "<table border=\"1\" class=\"dataframe\">\n",
       "  <thead>\n",
       "    <tr style=\"text-align: right;\">\n",
       "      <th></th>\n",
       "      <th>Date</th>\n",
       "      <th>NIFTY_India Adj Close</th>\n",
       "      <th>Escorts Adj Close</th>\n",
       "      <th>HangSeng Open</th>\n",
       "      <th>KOSPI Open</th>\n",
       "      <th>Actual Open</th>\n",
       "      <th>LR Predicted Open</th>\n",
       "      <th>SVR Predicted Open</th>\n",
       "      <th>Random Forest Predicted Open</th>\n",
       "      <th>XGBoost Predicted Open</th>\n",
       "    </tr>\n",
       "  </thead>\n",
       "  <tbody>\n",
       "    <tr>\n",
       "      <th>0</th>\n",
       "      <td>2020-04-08</td>\n",
       "      <td>8792.200195</td>\n",
       "      <td>663.750000</td>\n",
       "      <td>24191.32031</td>\n",
       "      <td>1815.750000</td>\n",
       "      <td>653.700012</td>\n",
       "      <td>660.918381</td>\n",
       "      <td>665.293591</td>\n",
       "      <td>654.433729</td>\n",
       "      <td>656.520203</td>\n",
       "    </tr>\n",
       "    <tr>\n",
       "      <th>1</th>\n",
       "      <td>2020-04-09</td>\n",
       "      <td>8748.750000</td>\n",
       "      <td>642.349976</td>\n",
       "      <td>24181.32031</td>\n",
       "      <td>1838.089966</td>\n",
       "      <td>661.000000</td>\n",
       "      <td>640.038488</td>\n",
       "      <td>644.117885</td>\n",
       "      <td>643.040534</td>\n",
       "      <td>644.240479</td>\n",
       "    </tr>\n",
       "    <tr>\n",
       "      <th>2</th>\n",
       "      <td>2020-04-16</td>\n",
       "      <td>8925.299805</td>\n",
       "      <td>714.700012</td>\n",
       "      <td>24025.44922</td>\n",
       "      <td>1839.510010</td>\n",
       "      <td>710.000000</td>\n",
       "      <td>712.221364</td>\n",
       "      <td>716.467650</td>\n",
       "      <td>721.860087</td>\n",
       "      <td>699.867676</td>\n",
       "    </tr>\n",
       "    <tr>\n",
       "      <th>3</th>\n",
       "      <td>2020-04-17</td>\n",
       "      <td>8992.799805</td>\n",
       "      <td>714.299988</td>\n",
       "      <td>24457.83008</td>\n",
       "      <td>1893.310059</td>\n",
       "      <td>744.000000</td>\n",
       "      <td>712.752257</td>\n",
       "      <td>716.546609</td>\n",
       "      <td>721.860087</td>\n",
       "      <td>710.654358</td>\n",
       "    </tr>\n",
       "    <tr>\n",
       "      <th>4</th>\n",
       "      <td>2020-04-20</td>\n",
       "      <td>9266.750000</td>\n",
       "      <td>746.200012</td>\n",
       "      <td>24503.56055</td>\n",
       "      <td>1908.339966</td>\n",
       "      <td>749.450012</td>\n",
       "      <td>744.809409</td>\n",
       "      <td>748.464695</td>\n",
       "      <td>738.980109</td>\n",
       "      <td>733.424805</td>\n",
       "    </tr>\n",
       "  </tbody>\n",
       "</table>\n",
       "</div>"
      ],
      "text/plain": [
       "        Date  NIFTY_India Adj Close  Escorts Adj Close  HangSeng Open  \\\n",
       "0 2020-04-08            8792.200195         663.750000    24191.32031   \n",
       "1 2020-04-09            8748.750000         642.349976    24181.32031   \n",
       "2 2020-04-16            8925.299805         714.700012    24025.44922   \n",
       "3 2020-04-17            8992.799805         714.299988    24457.83008   \n",
       "4 2020-04-20            9266.750000         746.200012    24503.56055   \n",
       "\n",
       "    KOSPI Open  Actual Open  LR Predicted Open  SVR Predicted Open  \\\n",
       "0  1815.750000   653.700012         660.918381          665.293591   \n",
       "1  1838.089966   661.000000         640.038488          644.117885   \n",
       "2  1839.510010   710.000000         712.221364          716.467650   \n",
       "3  1893.310059   744.000000         712.752257          716.546609   \n",
       "4  1908.339966   749.450012         744.809409          748.464695   \n",
       "\n",
       "   Random Forest Predicted Open  XGBoost Predicted Open  \n",
       "0                    654.433729              656.520203  \n",
       "1                    643.040534              644.240479  \n",
       "2                    721.860087              699.867676  \n",
       "3                    721.860087              710.654358  \n",
       "4                    738.980109              733.424805  "
      ]
     },
     "execution_count": 205,
     "metadata": {},
     "output_type": "execute_result"
    }
   ],
   "source": [
    "test.head()"
   ]
  },
  {
   "cell_type": "code",
   "execution_count": 206,
   "metadata": {},
   "outputs": [
    {
     "data": {
      "text/plain": [
       "0.9587168152333455"
      ]
     },
     "execution_count": 206,
     "metadata": {},
     "output_type": "execute_result"
    }
   ],
   "source": [
    "model_xg.score(X_test, test['Actual Open'])"
   ]
  },
  {
   "cell_type": "code",
   "execution_count": 207,
   "metadata": {},
   "outputs": [
    {
     "data": {
      "text/plain": [
       "189.07003741318653"
      ]
     },
     "execution_count": 207,
     "metadata": {},
     "output_type": "execute_result"
    }
   ],
   "source": [
    "# Mean squared error regression loss\n",
    "mean_squared_error(test['Actual Open'], test['XGBoost Predicted Open'])"
   ]
  },
  {
   "cell_type": "markdown",
   "metadata": {},
   "source": [
    "## 5. AdaBoost Regressor"
   ]
  },
  {
   "cell_type": "code",
   "execution_count": 235,
   "metadata": {},
   "outputs": [],
   "source": [
    "model_ada = AdaBoostRegressor()"
   ]
  },
  {
   "cell_type": "code",
   "execution_count": 236,
   "metadata": {},
   "outputs": [],
   "source": [
    "hyperparameter_grid = {'n_estimators':[20, 40, 50, 60, 80, 100, 200, 400, 1000],\n",
    "                       'learning_rate':[0.1, 0.3, 0.5],\n",
    "                       'loss': ['linear','square'] }\n",
    "\n",
    "\n",
    "grid_cv = GridSearchCV(estimator=model_ada,\n",
    "            param_grid=hyperparameter_grid,\n",
    "            cv=5, \n",
    "            scoring = 'neg_mean_squared_error',\n",
    "            n_jobs = -1,\n",
    "            verbose = 5 )"
   ]
  },
  {
   "cell_type": "code",
   "execution_count": 251,
   "metadata": {},
   "outputs": [
    {
     "name": "stdout",
     "output_type": "stream",
     "text": [
      "Fitting 5 folds for each of 54 candidates, totalling 270 fits\n"
     ]
    },
    {
     "name": "stderr",
     "output_type": "stream",
     "text": [
      "[Parallel(n_jobs=-1)]: Using backend LokyBackend with 4 concurrent workers.\n",
      "[Parallel(n_jobs=-1)]: Done  20 tasks      | elapsed:    0.8s\n",
      "[Parallel(n_jobs=-1)]: Done 159 tasks      | elapsed:   12.8s\n",
      "[Parallel(n_jobs=-1)]: Done 249 tasks      | elapsed:   21.1s\n",
      "[Parallel(n_jobs=-1)]: Done 270 out of 270 | elapsed:   25.5s finished\n"
     ]
    },
    {
     "data": {
      "text/plain": [
       "GridSearchCV(cv=5, error_score=nan,\n",
       "             estimator=AdaBoostRegressor(base_estimator=None, learning_rate=1.0,\n",
       "                                         loss='linear', n_estimators=50,\n",
       "                                         random_state=None),\n",
       "             iid='deprecated', n_jobs=-1,\n",
       "             param_grid={'learning_rate': [0.1, 0.3, 0.5],\n",
       "                         'loss': ['linear', 'square'],\n",
       "                         'n_estimators': [20, 40, 50, 60, 80, 100, 200, 400,\n",
       "                                          1000]},\n",
       "             pre_dispatch='2*n_jobs', refit=True, return_train_score=False,\n",
       "             scoring='neg_mean_squared_error', verbose=5)"
      ]
     },
     "execution_count": 251,
     "metadata": {},
     "output_type": "execute_result"
    }
   ],
   "source": [
    "grid_cv.fit(X,Y)"
   ]
  },
  {
   "cell_type": "code",
   "execution_count": 252,
   "metadata": {},
   "outputs": [
    {
     "data": {
      "text/plain": [
       "AdaBoostRegressor(base_estimator=None, learning_rate=0.5, loss='square',\n",
       "                  n_estimators=80, random_state=None)"
      ]
     },
     "execution_count": 252,
     "metadata": {},
     "output_type": "execute_result"
    }
   ],
   "source": [
    "grid_cv.best_estimator_"
   ]
  },
  {
   "cell_type": "code",
   "execution_count": 253,
   "metadata": {},
   "outputs": [],
   "source": [
    "model_ada = AdaBoostRegressor(base_estimator=None, learning_rate=0.5, loss='square',\n",
    "                  n_estimators=80, random_state=None)"
   ]
  },
  {
   "cell_type": "code",
   "execution_count": 254,
   "metadata": {},
   "outputs": [
    {
     "data": {
      "text/plain": [
       "AdaBoostRegressor(base_estimator=None, learning_rate=0.5, loss='square',\n",
       "                  n_estimators=80, random_state=None)"
      ]
     },
     "execution_count": 254,
     "metadata": {},
     "output_type": "execute_result"
    }
   ],
   "source": [
    "model_ada.fit(X,Y)"
   ]
  },
  {
   "cell_type": "code",
   "execution_count": 255,
   "metadata": {},
   "outputs": [],
   "source": [
    "test['AdaBoost Predicted Open'] = model_ada.predict(X_test)"
   ]
  },
  {
   "cell_type": "code",
   "execution_count": 256,
   "metadata": {},
   "outputs": [
    {
     "data": {
      "text/html": [
       "<div>\n",
       "<style scoped>\n",
       "    .dataframe tbody tr th:only-of-type {\n",
       "        vertical-align: middle;\n",
       "    }\n",
       "\n",
       "    .dataframe tbody tr th {\n",
       "        vertical-align: top;\n",
       "    }\n",
       "\n",
       "    .dataframe thead th {\n",
       "        text-align: right;\n",
       "    }\n",
       "</style>\n",
       "<table border=\"1\" class=\"dataframe\">\n",
       "  <thead>\n",
       "    <tr style=\"text-align: right;\">\n",
       "      <th></th>\n",
       "      <th>Date</th>\n",
       "      <th>NIFTY_India Adj Close</th>\n",
       "      <th>Escorts Adj Close</th>\n",
       "      <th>HangSeng Open</th>\n",
       "      <th>KOSPI Open</th>\n",
       "      <th>Actual Open</th>\n",
       "      <th>LR Predicted Open</th>\n",
       "      <th>SVR Predicted Open</th>\n",
       "      <th>Random Forest Predicted Open</th>\n",
       "      <th>XGBoost Predicted Open</th>\n",
       "      <th>AdaBoost Predicted Open</th>\n",
       "    </tr>\n",
       "  </thead>\n",
       "  <tbody>\n",
       "    <tr>\n",
       "      <th>0</th>\n",
       "      <td>2020-04-08</td>\n",
       "      <td>8792.200195</td>\n",
       "      <td>663.750000</td>\n",
       "      <td>24191.32031</td>\n",
       "      <td>1815.750000</td>\n",
       "      <td>653.700012</td>\n",
       "      <td>660.918381</td>\n",
       "      <td>665.293591</td>\n",
       "      <td>654.433729</td>\n",
       "      <td>656.520203</td>\n",
       "      <td>646.362651</td>\n",
       "    </tr>\n",
       "    <tr>\n",
       "      <th>1</th>\n",
       "      <td>2020-04-09</td>\n",
       "      <td>8748.750000</td>\n",
       "      <td>642.349976</td>\n",
       "      <td>24181.32031</td>\n",
       "      <td>1838.089966</td>\n",
       "      <td>661.000000</td>\n",
       "      <td>640.038488</td>\n",
       "      <td>644.117885</td>\n",
       "      <td>643.040534</td>\n",
       "      <td>644.240479</td>\n",
       "      <td>644.607728</td>\n",
       "    </tr>\n",
       "    <tr>\n",
       "      <th>2</th>\n",
       "      <td>2020-04-16</td>\n",
       "      <td>8925.299805</td>\n",
       "      <td>714.700012</td>\n",
       "      <td>24025.44922</td>\n",
       "      <td>1839.510010</td>\n",
       "      <td>710.000000</td>\n",
       "      <td>712.221364</td>\n",
       "      <td>716.467650</td>\n",
       "      <td>721.860087</td>\n",
       "      <td>699.867676</td>\n",
       "      <td>719.545725</td>\n",
       "    </tr>\n",
       "    <tr>\n",
       "      <th>3</th>\n",
       "      <td>2020-04-17</td>\n",
       "      <td>8992.799805</td>\n",
       "      <td>714.299988</td>\n",
       "      <td>24457.83008</td>\n",
       "      <td>1893.310059</td>\n",
       "      <td>744.000000</td>\n",
       "      <td>712.752257</td>\n",
       "      <td>716.546609</td>\n",
       "      <td>721.860087</td>\n",
       "      <td>710.654358</td>\n",
       "      <td>719.545725</td>\n",
       "    </tr>\n",
       "    <tr>\n",
       "      <th>4</th>\n",
       "      <td>2020-04-20</td>\n",
       "      <td>9266.750000</td>\n",
       "      <td>746.200012</td>\n",
       "      <td>24503.56055</td>\n",
       "      <td>1908.339966</td>\n",
       "      <td>749.450012</td>\n",
       "      <td>744.809409</td>\n",
       "      <td>748.464695</td>\n",
       "      <td>738.980109</td>\n",
       "      <td>733.424805</td>\n",
       "      <td>726.311423</td>\n",
       "    </tr>\n",
       "  </tbody>\n",
       "</table>\n",
       "</div>"
      ],
      "text/plain": [
       "        Date  NIFTY_India Adj Close  Escorts Adj Close  HangSeng Open  \\\n",
       "0 2020-04-08            8792.200195         663.750000    24191.32031   \n",
       "1 2020-04-09            8748.750000         642.349976    24181.32031   \n",
       "2 2020-04-16            8925.299805         714.700012    24025.44922   \n",
       "3 2020-04-17            8992.799805         714.299988    24457.83008   \n",
       "4 2020-04-20            9266.750000         746.200012    24503.56055   \n",
       "\n",
       "    KOSPI Open  Actual Open  LR Predicted Open  SVR Predicted Open  \\\n",
       "0  1815.750000   653.700012         660.918381          665.293591   \n",
       "1  1838.089966   661.000000         640.038488          644.117885   \n",
       "2  1839.510010   710.000000         712.221364          716.467650   \n",
       "3  1893.310059   744.000000         712.752257          716.546609   \n",
       "4  1908.339966   749.450012         744.809409          748.464695   \n",
       "\n",
       "   Random Forest Predicted Open  XGBoost Predicted Open  \\\n",
       "0                    654.433729              656.520203   \n",
       "1                    643.040534              644.240479   \n",
       "2                    721.860087              699.867676   \n",
       "3                    721.860087              710.654358   \n",
       "4                    738.980109              733.424805   \n",
       "\n",
       "   AdaBoost Predicted Open  \n",
       "0               646.362651  \n",
       "1               644.607728  \n",
       "2               719.545725  \n",
       "3               719.545725  \n",
       "4               726.311423  "
      ]
     },
     "execution_count": 256,
     "metadata": {},
     "output_type": "execute_result"
    }
   ],
   "source": [
    "test.head(5)"
   ]
  },
  {
   "cell_type": "code",
   "execution_count": 257,
   "metadata": {},
   "outputs": [
    {
     "data": {
      "text/plain": [
       "0.9562372868253239"
      ]
     },
     "execution_count": 257,
     "metadata": {},
     "output_type": "execute_result"
    }
   ],
   "source": [
    "model_ada.score(X_test, test['Actual Open'])"
   ]
  },
  {
   "cell_type": "code",
   "execution_count": 258,
   "metadata": {},
   "outputs": [
    {
     "data": {
      "text/plain": [
       "200.42586016575544"
      ]
     },
     "execution_count": 258,
     "metadata": {},
     "output_type": "execute_result"
    }
   ],
   "source": [
    "# Mean squared error regression loss\n",
    "mean_squared_error(test['Actual Open'], test['AdaBoost Predicted Open'])"
   ]
  },
  {
   "cell_type": "markdown",
   "metadata": {},
   "source": [
    "# Results\n",
    "\n",
    "|Model | Score | \n",
    "| --- | --- | \n",
    "| Linear Regression| .9694 |\n",
    "| Support Vector Regression | .9716 |\n",
    "| Random Forest Regressor | .9715 |  \n",
    "| XGBoost Regressor | .9587 | \n",
    "| AdaBoost Regressor | .9562 | \n"
   ]
  },
  {
   "cell_type": "markdown",
   "metadata": {},
   "source": [
    "# SVR model is selected for Stock Open Price prediction."
   ]
  },
  {
   "cell_type": "code",
   "execution_count": 259,
   "metadata": {},
   "outputs": [],
   "source": [
    "test.set_index('Date',inplace=True)"
   ]
  },
  {
   "cell_type": "code",
   "execution_count": 260,
   "metadata": {},
   "outputs": [
    {
     "data": {
      "image/png": "[encoded data removed]",
      "text/plain": [
       "<Figure size 1800x720 with 1 Axes>"
      ]
     },
     "metadata": {
      "needs_background": "light"
     },
     "output_type": "display_data"
    }
   ],
   "source": [
    "plt.figure(figsize = (25, 10))\n",
    "\n",
    "plt.plot(test['Actual Open'], 'bs-', label = 'Actual')\n",
    "plt.plot(test['SVR Predicted Open'], 'ro-', label = 'Predicted')\n",
    "plt.legend()\n",
    "plt.xlabel(\"Date\")\n",
    "plt.ylabel(\"Open Price\")\n",
    "\n",
    "plt.title('Escorts Open Price Price prediction using SVR')\n",
    "plt.show()"
   ]
  },
  {
   "cell_type": "code",
   "execution_count": 261,
   "metadata": {},
   "outputs": [
    {
     "data": {
      "text/plain": [
       "['escorts_SVR.joblib']"
      ]
     },
     "execution_count": 261,
     "metadata": {},
     "output_type": "execute_result"
    }
   ],
   "source": [
    "from joblib import dump, load\n",
    "dump(model_svr, 'escorts_SVR.joblib')"
   ]
  },
  {
   "cell_type": "code",
   "execution_count": null,
   "metadata": {},
   "outputs": [],
   "source": []
  }
 ],
 "metadata": {
  "kernelspec": {
   "display_name": "Python 3",
   "language": "python",
   "name": "python3"
  },
  "language_info": {
   "codemirror_mode": {
    "name": "ipython",
    "version": 3
   },
   "file_extension": ".py",
   "mimetype": "text/x-python",
   "name": "python",
   "nbconvert_exporter": "python",
   "pygments_lexer": "ipython3",
   "version": "3.7.3"
  }
 },
 "nbformat": 4,
 "nbformat_minor": 4
}
