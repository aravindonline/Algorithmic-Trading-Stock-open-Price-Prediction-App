{
 "cells": [
  {
   "cell_type": "markdown",
   "metadata": {},
   "source": [
    "# AUTOMATED STOCK OPEN PRICE PREDICTION\n",
    "### AUTHOR : Aravind Ravikumar\n",
    "### DATE WRITTEN: 7-June-2020\n",
    "### Goal: To predict Open price of HCL Tech "
   ]
  },
  {
   "cell_type": "code",
   "execution_count": 25,
   "metadata": {},
   "outputs": [],
   "source": [
    "import pandas as pd\n",
    "import numpy as np\n",
    "import warnings\n",
    "warnings.filterwarnings(\"ignore\")\n",
    "from sklearn.model_selection import train_test_split\n",
    "from sklearn.metrics import mean_squared_error\n",
    "from sklearn.linear_model import LinearRegression\n",
    "from sklearn.ensemble import RandomForestRegressor\n",
    "from sklearn.svm import SVR\n",
    "from sklearn.ensemble import AdaBoostRegressor\n",
    "import xgboost as xgb\n",
    "\n",
    "from sklearn.feature_selection import SelectFromModel\n",
    "from sklearn.model_selection import RandomizedSearchCV\n",
    "from sklearn.model_selection import GridSearchCV\n",
    "from sklearn.preprocessing import MinMaxScaler\n",
    "import matplotlib.pyplot as plt\n",
    "%matplotlib inline"
   ]
  },
  {
   "cell_type": "code",
   "execution_count": 26,
   "metadata": {},
   "outputs": [],
   "source": [
    "train = pd.read_csv('../Data/STOCKS.CSV')\n",
    "dfg = pd.read_csv('../Data/HangSeng.CSV')\n",
    "dfy = pd.read_csv('../Data/NYSE.CSV')\n",
    "dfz = pd.read_csv('../Data/Shenzhen.CSV')\n",
    "dfk = pd.read_csv('../Data/KOSPI.CSV')\n",
    "dfe = pd.read_csv('../Data/Euronext100.CSV')\n",
    "dfx = pd.read_csv('../Data/SGXNifty.CSV')\n",
    "dfn = pd.read_csv('../Data/NASDAQ.CSV')\n",
    "dfi = pd.read_csv('../Data/Nikkei.CSV')"
   ]
  },
  {
   "cell_type": "code",
   "execution_count": 27,
   "metadata": {},
   "outputs": [
    {
     "data": {
      "text/html": [
       "<div>\n",
       "<style scoped>\n",
       "    .dataframe tbody tr th:only-of-type {\n",
       "        vertical-align: middle;\n",
       "    }\n",
       "\n",
       "    .dataframe tbody tr th {\n",
       "        vertical-align: top;\n",
       "    }\n",
       "\n",
       "    .dataframe thead th {\n",
       "        text-align: right;\n",
       "    }\n",
       "</style>\n",
       "<table border=\"1\" class=\"dataframe\">\n",
       "  <thead>\n",
       "    <tr style=\"text-align: right;\">\n",
       "      <th></th>\n",
       "      <th>Date</th>\n",
       "      <th>Nikkei Open</th>\n",
       "    </tr>\n",
       "  </thead>\n",
       "  <tbody>\n",
       "    <tr>\n",
       "      <th>0</th>\n",
       "      <td>07-01-2015</td>\n",
       "      <td>16808.25977</td>\n",
       "    </tr>\n",
       "    <tr>\n",
       "      <th>1</th>\n",
       "      <td>08-01-2015</td>\n",
       "      <td>17067.40039</td>\n",
       "    </tr>\n",
       "    <tr>\n",
       "      <th>2</th>\n",
       "      <td>09-01-2015</td>\n",
       "      <td>17318.74023</td>\n",
       "    </tr>\n",
       "    <tr>\n",
       "      <th>3</th>\n",
       "      <td>13-01-2015</td>\n",
       "      <td>16970.88086</td>\n",
       "    </tr>\n",
       "    <tr>\n",
       "      <th>4</th>\n",
       "      <td>14-01-2015</td>\n",
       "      <td>16961.82031</td>\n",
       "    </tr>\n",
       "  </tbody>\n",
       "</table>\n",
       "</div>"
      ],
      "text/plain": [
       "         Date  Nikkei Open\n",
       "0  07-01-2015  16808.25977\n",
       "1  08-01-2015  17067.40039\n",
       "2  09-01-2015  17318.74023\n",
       "3  13-01-2015  16970.88086\n",
       "4  14-01-2015  16961.82031"
      ]
     },
     "execution_count": 27,
     "metadata": {},
     "output_type": "execute_result"
    }
   ],
   "source": [
    "dfi.head()"
   ]
  },
  {
   "cell_type": "code",
   "execution_count": 28,
   "metadata": {},
   "outputs": [
    {
     "data": {
      "text/html": [
       "<div>\n",
       "<style scoped>\n",
       "    .dataframe tbody tr th:only-of-type {\n",
       "        vertical-align: middle;\n",
       "    }\n",
       "\n",
       "    .dataframe tbody tr th {\n",
       "        vertical-align: top;\n",
       "    }\n",
       "\n",
       "    .dataframe thead th {\n",
       "        text-align: right;\n",
       "    }\n",
       "</style>\n",
       "<table border=\"1\" class=\"dataframe\">\n",
       "  <thead>\n",
       "    <tr style=\"text-align: right;\">\n",
       "      <th></th>\n",
       "      <th>Date</th>\n",
       "      <th>SGXNifty Open</th>\n",
       "    </tr>\n",
       "  </thead>\n",
       "  <tbody>\n",
       "    <tr>\n",
       "      <th>0</th>\n",
       "      <td>Jan 07, 2015</td>\n",
       "      <td>8,149.50</td>\n",
       "    </tr>\n",
       "    <tr>\n",
       "      <th>1</th>\n",
       "      <td>Jan 08, 2015</td>\n",
       "      <td>8,151.50</td>\n",
       "    </tr>\n",
       "    <tr>\n",
       "      <th>2</th>\n",
       "      <td>Jan 09, 2015</td>\n",
       "      <td>8,256.50</td>\n",
       "    </tr>\n",
       "    <tr>\n",
       "      <th>3</th>\n",
       "      <td>Jan 12, 2015</td>\n",
       "      <td>8,314.50</td>\n",
       "    </tr>\n",
       "    <tr>\n",
       "      <th>4</th>\n",
       "      <td>Jan 13, 2015</td>\n",
       "      <td>8,357.50</td>\n",
       "    </tr>\n",
       "  </tbody>\n",
       "</table>\n",
       "</div>"
      ],
      "text/plain": [
       "           Date SGXNifty Open\n",
       "0  Jan 07, 2015      8,149.50\n",
       "1  Jan 08, 2015      8,151.50\n",
       "2  Jan 09, 2015      8,256.50\n",
       "3  Jan 12, 2015      8,314.50\n",
       "4  Jan 13, 2015      8,357.50"
      ]
     },
     "execution_count": 28,
     "metadata": {},
     "output_type": "execute_result"
    }
   ],
   "source": [
    "dfx.head()"
   ]
  },
  {
   "cell_type": "markdown",
   "metadata": {},
   "source": [
    "## Converting to common date format"
   ]
  },
  {
   "cell_type": "code",
   "execution_count": 29,
   "metadata": {},
   "outputs": [],
   "source": [
    "train['Date'] =  pd.to_datetime(train['Date'], format='%d-%m-%Y')\n",
    "dfg['Date'] =  pd.to_datetime(dfg['Date'], format='%d-%m-%Y')\n",
    "dfy['Date'] =  pd.to_datetime(dfy['Date'], format='%d-%m-%Y')\n",
    "dfz['Date'] =  pd.to_datetime(dfz['Date'], format='%d-%m-%Y')\n",
    "dfk['Date'] =  pd.to_datetime(dfk['Date'], format='%d-%m-%Y')\n",
    "dfe['Date'] =  pd.to_datetime(dfe['Date'], format='%d-%m-%Y')\n",
    "dfx['Date'] =  pd.to_datetime(dfx['Date'], format='%b %d, %Y')\n",
    "dfn['Date'] =  pd.to_datetime(dfn['Date'], format='%d-%m-%Y')\n",
    "dfi['Date'] =  pd.to_datetime(dfi['Date'], format='%d-%m-%Y')"
   ]
  },
  {
   "cell_type": "markdown",
   "metadata": {},
   "source": [
    "## Merging Dataframes on the basis of date"
   ]
  },
  {
   "cell_type": "code",
   "execution_count": 30,
   "metadata": {},
   "outputs": [],
   "source": [
    "train = pd.merge(train,dfg,how='inner',on='Date')\n",
    "train = pd.merge(train,dfz,how='inner',on='Date')\n",
    "train = pd.merge(train,dfy,how='inner',on='Date')\n",
    "train = pd.merge(train,dfk,how='inner',on='Date')\n",
    "train = pd.merge(train,dfe,how='inner',on='Date')\n",
    "train = pd.merge(train,dfx,how='inner',on='Date')\n",
    "train = pd.merge(train,dfn,how='inner',on='Date')\n",
    "train = pd.merge(train,dfi,how='inner',on='Date')"
   ]
  },
  {
   "cell_type": "code",
   "execution_count": 31,
   "metadata": {},
   "outputs": [],
   "source": [
    "train['SGXNifty Open'] = train['SGXNifty Open'].str.replace(\",\",\"\").astype(float) # string to float conversion"
   ]
  },
  {
   "cell_type": "code",
   "execution_count": 32,
   "metadata": {},
   "outputs": [
    {
     "data": {
      "text/html": [
       "<div>\n",
       "<style scoped>\n",
       "    .dataframe tbody tr th:only-of-type {\n",
       "        vertical-align: middle;\n",
       "    }\n",
       "\n",
       "    .dataframe tbody tr th {\n",
       "        vertical-align: top;\n",
       "    }\n",
       "\n",
       "    .dataframe thead th {\n",
       "        text-align: right;\n",
       "    }\n",
       "</style>\n",
       "<table border=\"1\" class=\"dataframe\">\n",
       "  <thead>\n",
       "    <tr style=\"text-align: right;\">\n",
       "      <th></th>\n",
       "      <th>Date</th>\n",
       "      <th>NIFTY_India Adj Close</th>\n",
       "      <th>Escorts Adj Close</th>\n",
       "      <th>Muthoot Adj Close</th>\n",
       "      <th>SBI Adj Close</th>\n",
       "      <th>HCL Adj Close</th>\n",
       "      <th>ICICI Adj Close</th>\n",
       "      <th>Escorts Open</th>\n",
       "      <th>Muthoot Open</th>\n",
       "      <th>SBI Open</th>\n",
       "      <th>HCL Open</th>\n",
       "      <th>ICICI Open</th>\n",
       "      <th>HangSeng Open</th>\n",
       "      <th>Shenzhen Open</th>\n",
       "      <th>NYSE Adj Close</th>\n",
       "      <th>KOSPI Open</th>\n",
       "      <th>Euronext Adj Close</th>\n",
       "      <th>SGXNifty Open</th>\n",
       "      <th>NASDAQ Adj Close</th>\n",
       "      <th>Nikkei Open</th>\n",
       "    </tr>\n",
       "  </thead>\n",
       "  <tbody>\n",
       "    <tr>\n",
       "      <th>0</th>\n",
       "      <td>2015-01-07</td>\n",
       "      <td>8127.350098</td>\n",
       "      <td>119.312721</td>\n",
       "      <td>172.062637</td>\n",
       "      <td>289.701782</td>\n",
       "      <td>322.932098</td>\n",
       "      <td>292.334198</td>\n",
       "      <td>120.250000</td>\n",
       "      <td>195.899994</td>\n",
       "      <td>300.000000</td>\n",
       "      <td>384.875000</td>\n",
       "      <td>314.182007</td>\n",
       "      <td>23396.69922</td>\n",
       "      <td>11612.73047</td>\n",
       "      <td>10514.87012</td>\n",
       "      <td>1878.900024</td>\n",
       "      <td>805.469971</td>\n",
       "      <td>8149.5</td>\n",
       "      <td>4592.740234</td>\n",
       "      <td>16808.25977</td>\n",
       "    </tr>\n",
       "    <tr>\n",
       "      <th>1</th>\n",
       "      <td>2015-01-08</td>\n",
       "      <td>8102.100098</td>\n",
       "      <td>118.381363</td>\n",
       "      <td>171.755310</td>\n",
       "      <td>289.943268</td>\n",
       "      <td>315.258636</td>\n",
       "      <td>284.430267</td>\n",
       "      <td>122.099998</td>\n",
       "      <td>197.000000</td>\n",
       "      <td>305.000000</td>\n",
       "      <td>379.250000</td>\n",
       "      <td>313.635986</td>\n",
       "      <td>23920.34961</td>\n",
       "      <td>11624.58984</td>\n",
       "      <td>10627.12988</td>\n",
       "      <td>1895.849976</td>\n",
       "      <td>810.940002</td>\n",
       "      <td>8151.5</td>\n",
       "      <td>4650.470215</td>\n",
       "      <td>17067.40039</td>\n",
       "    </tr>\n",
       "    <tr>\n",
       "      <th>2</th>\n",
       "      <td>2015-01-09</td>\n",
       "      <td>8234.599609</td>\n",
       "      <td>123.626411</td>\n",
       "      <td>172.589493</td>\n",
       "      <td>294.483459</td>\n",
       "      <td>322.553589</td>\n",
       "      <td>292.166840</td>\n",
       "      <td>127.400002</td>\n",
       "      <td>201.050003</td>\n",
       "      <td>306.700012</td>\n",
       "      <td>384.162994</td>\n",
       "      <td>318.135986</td>\n",
       "      <td>24049.69922</td>\n",
       "      <td>11424.53027</td>\n",
       "      <td>10800.54004</td>\n",
       "      <td>1919.800049</td>\n",
       "      <td>837.729980</td>\n",
       "      <td>8256.5</td>\n",
       "      <td>4736.189941</td>\n",
       "      <td>17318.74023</td>\n",
       "    </tr>\n",
       "    <tr>\n",
       "      <th>3</th>\n",
       "      <td>2015-01-13</td>\n",
       "      <td>8323.000000</td>\n",
       "      <td>122.891121</td>\n",
       "      <td>172.238251</td>\n",
       "      <td>296.656952</td>\n",
       "      <td>331.226013</td>\n",
       "      <td>291.409241</td>\n",
       "      <td>125.250000</td>\n",
       "      <td>195.350006</td>\n",
       "      <td>308.149994</td>\n",
       "      <td>393.888000</td>\n",
       "      <td>317.273010</td>\n",
       "      <td>23908.23047</td>\n",
       "      <td>11250.87988</td>\n",
       "      <td>10640.74023</td>\n",
       "      <td>1915.030029</td>\n",
       "      <td>832.760010</td>\n",
       "      <td>8357.5</td>\n",
       "      <td>4664.709961</td>\n",
       "      <td>16970.88086</td>\n",
       "    </tr>\n",
       "    <tr>\n",
       "      <th>4</th>\n",
       "      <td>2015-01-14</td>\n",
       "      <td>8299.400391</td>\n",
       "      <td>124.067589</td>\n",
       "      <td>172.150452</td>\n",
       "      <td>294.724976</td>\n",
       "      <td>332.917969</td>\n",
       "      <td>286.658508</td>\n",
       "      <td>126.099998</td>\n",
       "      <td>196.199997</td>\n",
       "      <td>304.000000</td>\n",
       "      <td>398.975006</td>\n",
       "      <td>308.408997</td>\n",
       "      <td>24276.33008</td>\n",
       "      <td>11366.95020</td>\n",
       "      <td>10622.95996</td>\n",
       "      <td>1919.310059</td>\n",
       "      <td>845.299988</td>\n",
       "      <td>8343.5</td>\n",
       "      <td>4661.500000</td>\n",
       "      <td>16961.82031</td>\n",
       "    </tr>\n",
       "  </tbody>\n",
       "</table>\n",
       "</div>"
      ],
      "text/plain": [
       "        Date  NIFTY_India Adj Close  Escorts Adj Close  Muthoot Adj Close  \\\n",
       "0 2015-01-07            8127.350098         119.312721         172.062637   \n",
       "1 2015-01-08            8102.100098         118.381363         171.755310   \n",
       "2 2015-01-09            8234.599609         123.626411         172.589493   \n",
       "3 2015-01-13            8323.000000         122.891121         172.238251   \n",
       "4 2015-01-14            8299.400391         124.067589         172.150452   \n",
       "\n",
       "   SBI Adj Close  HCL Adj Close  ICICI Adj Close  Escorts Open  Muthoot Open  \\\n",
       "0     289.701782     322.932098       292.334198    120.250000    195.899994   \n",
       "1     289.943268     315.258636       284.430267    122.099998    197.000000   \n",
       "2     294.483459     322.553589       292.166840    127.400002    201.050003   \n",
       "3     296.656952     331.226013       291.409241    125.250000    195.350006   \n",
       "4     294.724976     332.917969       286.658508    126.099998    196.199997   \n",
       "\n",
       "     SBI Open    HCL Open  ICICI Open  HangSeng Open  Shenzhen Open  \\\n",
       "0  300.000000  384.875000  314.182007    23396.69922    11612.73047   \n",
       "1  305.000000  379.250000  313.635986    23920.34961    11624.58984   \n",
       "2  306.700012  384.162994  318.135986    24049.69922    11424.53027   \n",
       "3  308.149994  393.888000  317.273010    23908.23047    11250.87988   \n",
       "4  304.000000  398.975006  308.408997    24276.33008    11366.95020   \n",
       "\n",
       "   NYSE Adj Close   KOSPI Open  Euronext Adj Close  SGXNifty Open  \\\n",
       "0     10514.87012  1878.900024          805.469971         8149.5   \n",
       "1     10627.12988  1895.849976          810.940002         8151.5   \n",
       "2     10800.54004  1919.800049          837.729980         8256.5   \n",
       "3     10640.74023  1915.030029          832.760010         8357.5   \n",
       "4     10622.95996  1919.310059          845.299988         8343.5   \n",
       "\n",
       "   NASDAQ Adj Close  Nikkei Open  \n",
       "0       4592.740234  16808.25977  \n",
       "1       4650.470215  17067.40039  \n",
       "2       4736.189941  17318.74023  \n",
       "3       4664.709961  16970.88086  \n",
       "4       4661.500000  16961.82031  "
      ]
     },
     "execution_count": 32,
     "metadata": {},
     "output_type": "execute_result"
    }
   ],
   "source": [
    "train.head()"
   ]
  },
  {
   "cell_type": "code",
   "execution_count": 33,
   "metadata": {},
   "outputs": [
    {
     "data": {
      "text/plain": [
       "(1081, 20)"
      ]
     },
     "execution_count": 33,
     "metadata": {},
     "output_type": "execute_result"
    }
   ],
   "source": [
    "train.shape"
   ]
  },
  {
   "cell_type": "code",
   "execution_count": 34,
   "metadata": {},
   "outputs": [
    {
     "data": {
      "text/plain": [
       "Index(['Date', 'NIFTY_India Adj Close', 'Escorts Adj Close',\n",
       "       'Muthoot Adj Close', 'SBI Adj Close', 'HCL Adj Close',\n",
       "       'ICICI Adj Close', 'Escorts Open', 'Muthoot Open', 'SBI Open',\n",
       "       'HCL Open', 'ICICI Open', 'HangSeng Open', 'Shenzhen Open',\n",
       "       'NYSE Adj Close', 'KOSPI Open', 'Euronext Adj Close', 'SGXNifty Open',\n",
       "       'NASDAQ Adj Close', 'Nikkei Open'],\n",
       "      dtype='object')"
      ]
     },
     "execution_count": 34,
     "metadata": {},
     "output_type": "execute_result"
    }
   ],
   "source": [
    "train.columns"
   ]
  },
  {
   "cell_type": "code",
   "execution_count": 35,
   "metadata": {},
   "outputs": [],
   "source": [
    "# Rearrange columns\n",
    "\n",
    "train = train[['Date', 'NIFTY_India Adj Close', 'HCL Adj Close',\n",
    "       'HangSeng Open', 'Shenzhen Open',\n",
    "       'NYSE Adj Close', 'KOSPI Open', 'Euronext Adj Close', 'SGXNifty Open',\n",
    "       'NASDAQ Adj Close', 'Nikkei Open', 'HCL Open']]"
   ]
  },
  {
   "cell_type": "code",
   "execution_count": 36,
   "metadata": {},
   "outputs": [
    {
     "data": {
      "text/html": [
       "<div>\n",
       "<style scoped>\n",
       "    .dataframe tbody tr th:only-of-type {\n",
       "        vertical-align: middle;\n",
       "    }\n",
       "\n",
       "    .dataframe tbody tr th {\n",
       "        vertical-align: top;\n",
       "    }\n",
       "\n",
       "    .dataframe thead th {\n",
       "        text-align: right;\n",
       "    }\n",
       "</style>\n",
       "<table border=\"1\" class=\"dataframe\">\n",
       "  <thead>\n",
       "    <tr style=\"text-align: right;\">\n",
       "      <th></th>\n",
       "      <th>Date</th>\n",
       "      <th>NIFTY_India Adj Close</th>\n",
       "      <th>HCL Adj Close</th>\n",
       "      <th>HangSeng Open</th>\n",
       "      <th>Shenzhen Open</th>\n",
       "      <th>NYSE Adj Close</th>\n",
       "      <th>KOSPI Open</th>\n",
       "      <th>Euronext Adj Close</th>\n",
       "      <th>SGXNifty Open</th>\n",
       "      <th>NASDAQ Adj Close</th>\n",
       "      <th>Nikkei Open</th>\n",
       "      <th>HCL Open</th>\n",
       "    </tr>\n",
       "  </thead>\n",
       "  <tbody>\n",
       "    <tr>\n",
       "      <th>0</th>\n",
       "      <td>2015-01-07</td>\n",
       "      <td>8127.350098</td>\n",
       "      <td>322.932098</td>\n",
       "      <td>23396.69922</td>\n",
       "      <td>11612.73047</td>\n",
       "      <td>10514.87012</td>\n",
       "      <td>1878.900024</td>\n",
       "      <td>805.469971</td>\n",
       "      <td>8149.5</td>\n",
       "      <td>4592.740234</td>\n",
       "      <td>16808.25977</td>\n",
       "      <td>384.875</td>\n",
       "    </tr>\n",
       "    <tr>\n",
       "      <th>1</th>\n",
       "      <td>2015-01-08</td>\n",
       "      <td>8102.100098</td>\n",
       "      <td>315.258636</td>\n",
       "      <td>23920.34961</td>\n",
       "      <td>11624.58984</td>\n",
       "      <td>10627.12988</td>\n",
       "      <td>1895.849976</td>\n",
       "      <td>810.940002</td>\n",
       "      <td>8151.5</td>\n",
       "      <td>4650.470215</td>\n",
       "      <td>17067.40039</td>\n",
       "      <td>379.250</td>\n",
       "    </tr>\n",
       "  </tbody>\n",
       "</table>\n",
       "</div>"
      ],
      "text/plain": [
       "        Date  NIFTY_India Adj Close  HCL Adj Close  HangSeng Open  \\\n",
       "0 2015-01-07            8127.350098     322.932098    23396.69922   \n",
       "1 2015-01-08            8102.100098     315.258636    23920.34961   \n",
       "\n",
       "   Shenzhen Open  NYSE Adj Close   KOSPI Open  Euronext Adj Close  \\\n",
       "0    11612.73047     10514.87012  1878.900024          805.469971   \n",
       "1    11624.58984     10627.12988  1895.849976          810.940002   \n",
       "\n",
       "   SGXNifty Open  NASDAQ Adj Close  Nikkei Open  HCL Open  \n",
       "0         8149.5       4592.740234  16808.25977   384.875  \n",
       "1         8151.5       4650.470215  17067.40039   379.250  "
      ]
     },
     "execution_count": 36,
     "metadata": {},
     "output_type": "execute_result"
    }
   ],
   "source": [
    "train.head(2)"
   ]
  },
  {
   "cell_type": "code",
   "execution_count": 37,
   "metadata": {},
   "outputs": [
    {
     "data": {
      "text/plain": [
       "Date                      0\n",
       "NIFTY_India Adj Close     6\n",
       "HCL Adj Close             2\n",
       "HangSeng Open             3\n",
       "Shenzhen Open             1\n",
       "NYSE Adj Close            0\n",
       "KOSPI Open                5\n",
       "Euronext Adj Close        1\n",
       "SGXNifty Open             0\n",
       "NASDAQ Adj Close          0\n",
       "Nikkei Open              13\n",
       "HCL Open                  0\n",
       "dtype: int64"
      ]
     },
     "execution_count": 37,
     "metadata": {},
     "output_type": "execute_result"
    }
   ],
   "source": [
    "train.isnull().sum()"
   ]
  },
  {
   "cell_type": "code",
   "execution_count": 38,
   "metadata": {},
   "outputs": [
    {
     "data": {
      "text/html": [
       "<div>\n",
       "<style scoped>\n",
       "    .dataframe tbody tr th:only-of-type {\n",
       "        vertical-align: middle;\n",
       "    }\n",
       "\n",
       "    .dataframe tbody tr th {\n",
       "        vertical-align: top;\n",
       "    }\n",
       "\n",
       "    .dataframe thead th {\n",
       "        text-align: right;\n",
       "    }\n",
       "</style>\n",
       "<table border=\"1\" class=\"dataframe\">\n",
       "  <thead>\n",
       "    <tr style=\"text-align: right;\">\n",
       "      <th></th>\n",
       "      <th>Date</th>\n",
       "      <th>NIFTY_India Adj Close</th>\n",
       "      <th>HCL Adj Close</th>\n",
       "      <th>HangSeng Open</th>\n",
       "      <th>Shenzhen Open</th>\n",
       "      <th>NYSE Adj Close</th>\n",
       "      <th>KOSPI Open</th>\n",
       "      <th>Euronext Adj Close</th>\n",
       "      <th>SGXNifty Open</th>\n",
       "      <th>NASDAQ Adj Close</th>\n",
       "      <th>Nikkei Open</th>\n",
       "      <th>HCL Open</th>\n",
       "    </tr>\n",
       "  </thead>\n",
       "  <tbody>\n",
       "    <tr>\n",
       "      <th>27</th>\n",
       "      <td>2015-03-02</td>\n",
       "      <td>NaN</td>\n",
       "      <td>NaN</td>\n",
       "      <td>24996.75977</td>\n",
       "      <td>11869.959960</td>\n",
       "      <td>11062.79004</td>\n",
       "      <td>1996.719971</td>\n",
       "      <td>973.010010</td>\n",
       "      <td>8895.5</td>\n",
       "      <td>4963.529785</td>\n",
       "      <td>18869.40039</td>\n",
       "      <td>510.225006</td>\n",
       "    </tr>\n",
       "    <tr>\n",
       "      <th>990</th>\n",
       "      <td>2019-10-29</td>\n",
       "      <td>NaN</td>\n",
       "      <td>NaN</td>\n",
       "      <td>27027.56055</td>\n",
       "      <td>9812.480469</td>\n",
       "      <td>13186.42969</td>\n",
       "      <td>2103.919922</td>\n",
       "      <td>1099.329956</td>\n",
       "      <td>11668.0</td>\n",
       "      <td>8325.990234</td>\n",
       "      <td>22950.78906</td>\n",
       "      <td>565.450012</td>\n",
       "    </tr>\n",
       "  </tbody>\n",
       "</table>\n",
       "</div>"
      ],
      "text/plain": [
       "          Date  NIFTY_India Adj Close  HCL Adj Close  HangSeng Open  \\\n",
       "27  2015-03-02                    NaN            NaN    24996.75977   \n",
       "990 2019-10-29                    NaN            NaN    27027.56055   \n",
       "\n",
       "     Shenzhen Open  NYSE Adj Close   KOSPI Open  Euronext Adj Close  \\\n",
       "27    11869.959960     11062.79004  1996.719971          973.010010   \n",
       "990    9812.480469     13186.42969  2103.919922         1099.329956   \n",
       "\n",
       "     SGXNifty Open  NASDAQ Adj Close  Nikkei Open    HCL Open  \n",
       "27          8895.5       4963.529785  18869.40039  510.225006  \n",
       "990        11668.0       8325.990234  22950.78906  565.450012  "
      ]
     },
     "execution_count": 38,
     "metadata": {},
     "output_type": "execute_result"
    }
   ],
   "source": [
    "#Displaying rows having Null values\n",
    "\n",
    "train[train['HCL Adj Close'].isnull()]"
   ]
  },
  {
   "cell_type": "code",
   "execution_count": 39,
   "metadata": {},
   "outputs": [],
   "source": [
    "# strategies to fill null values\n",
    "#train['Escorts Open'][train['Date'] == '10/25/2019'] = train['Escorts Open'][train['Date'] == '10/27/2019']\n",
    "train['NIFTY_India Adj Close'].fillna(train['NIFTY_India Adj Close'].mean(),inplace=True)\n",
    "train['Nikkei Open'].fillna(train['Nikkei Open'].mean(),inplace=True)\n",
    "train.dropna(axis=0,inplace=True)"
   ]
  },
  {
   "cell_type": "code",
   "execution_count": 40,
   "metadata": {},
   "outputs": [
    {
     "data": {
      "text/plain": [
       "(1069, 12)"
      ]
     },
     "execution_count": 40,
     "metadata": {},
     "output_type": "execute_result"
    }
   ],
   "source": [
    "train.shape"
   ]
  },
  {
   "cell_type": "code",
   "execution_count": 41,
   "metadata": {},
   "outputs": [
    {
     "data": {
      "text/plain": [
       "Date                     0\n",
       "NIFTY_India Adj Close    0\n",
       "HCL Adj Close            0\n",
       "HangSeng Open            0\n",
       "Shenzhen Open            0\n",
       "NYSE Adj Close           0\n",
       "KOSPI Open               0\n",
       "Euronext Adj Close       0\n",
       "SGXNifty Open            0\n",
       "NASDAQ Adj Close         0\n",
       "Nikkei Open              0\n",
       "HCL Open                 0\n",
       "dtype: int64"
      ]
     },
     "execution_count": 41,
     "metadata": {},
     "output_type": "execute_result"
    }
   ],
   "source": [
    "train.isnull().sum()"
   ]
  },
  {
   "cell_type": "markdown",
   "metadata": {},
   "source": [
    "# Feature Selection Methods \n",
    "## Filter Method: Correlation Coefficient"
   ]
  },
  {
   "cell_type": "code",
   "execution_count": 42,
   "metadata": {},
   "outputs": [
    {
     "data": {
      "text/html": [
       "<div>\n",
       "<style scoped>\n",
       "    .dataframe tbody tr th:only-of-type {\n",
       "        vertical-align: middle;\n",
       "    }\n",
       "\n",
       "    .dataframe tbody tr th {\n",
       "        vertical-align: top;\n",
       "    }\n",
       "\n",
       "    .dataframe thead th {\n",
       "        text-align: right;\n",
       "    }\n",
       "</style>\n",
       "<table border=\"1\" class=\"dataframe\">\n",
       "  <thead>\n",
       "    <tr style=\"text-align: right;\">\n",
       "      <th></th>\n",
       "      <th>Date</th>\n",
       "      <th>NIFTY_India Adj Close</th>\n",
       "      <th>HCL Adj Close</th>\n",
       "      <th>HangSeng Open</th>\n",
       "      <th>Shenzhen Open</th>\n",
       "      <th>NYSE Adj Close</th>\n",
       "      <th>KOSPI Open</th>\n",
       "      <th>Euronext Adj Close</th>\n",
       "      <th>SGXNifty Open</th>\n",
       "      <th>NASDAQ Adj Close</th>\n",
       "      <th>Nikkei Open</th>\n",
       "      <th>HCL Open</th>\n",
       "    </tr>\n",
       "  </thead>\n",
       "  <tbody>\n",
       "    <tr>\n",
       "      <th>0</th>\n",
       "      <td>2015-01-07</td>\n",
       "      <td>8127.350098</td>\n",
       "      <td>322.932098</td>\n",
       "      <td>23396.69922</td>\n",
       "      <td>11612.73047</td>\n",
       "      <td>10514.87012</td>\n",
       "      <td>1878.900024</td>\n",
       "      <td>805.469971</td>\n",
       "      <td>8149.5</td>\n",
       "      <td>4592.740234</td>\n",
       "      <td>16808.25977</td>\n",
       "      <td>384.875000</td>\n",
       "    </tr>\n",
       "    <tr>\n",
       "      <th>1</th>\n",
       "      <td>2015-01-08</td>\n",
       "      <td>8102.100098</td>\n",
       "      <td>315.258636</td>\n",
       "      <td>23920.34961</td>\n",
       "      <td>11624.58984</td>\n",
       "      <td>10627.12988</td>\n",
       "      <td>1895.849976</td>\n",
       "      <td>810.940002</td>\n",
       "      <td>8151.5</td>\n",
       "      <td>4650.470215</td>\n",
       "      <td>17067.40039</td>\n",
       "      <td>379.250000</td>\n",
       "    </tr>\n",
       "    <tr>\n",
       "      <th>2</th>\n",
       "      <td>2015-01-09</td>\n",
       "      <td>8234.599609</td>\n",
       "      <td>322.553589</td>\n",
       "      <td>24049.69922</td>\n",
       "      <td>11424.53027</td>\n",
       "      <td>10800.54004</td>\n",
       "      <td>1919.800049</td>\n",
       "      <td>837.729980</td>\n",
       "      <td>8256.5</td>\n",
       "      <td>4736.189941</td>\n",
       "      <td>17318.74023</td>\n",
       "      <td>384.162994</td>\n",
       "    </tr>\n",
       "    <tr>\n",
       "      <th>3</th>\n",
       "      <td>2015-01-13</td>\n",
       "      <td>8323.000000</td>\n",
       "      <td>331.226013</td>\n",
       "      <td>23908.23047</td>\n",
       "      <td>11250.87988</td>\n",
       "      <td>10640.74023</td>\n",
       "      <td>1915.030029</td>\n",
       "      <td>832.760010</td>\n",
       "      <td>8357.5</td>\n",
       "      <td>4664.709961</td>\n",
       "      <td>16970.88086</td>\n",
       "      <td>393.888000</td>\n",
       "    </tr>\n",
       "    <tr>\n",
       "      <th>4</th>\n",
       "      <td>2015-01-14</td>\n",
       "      <td>8299.400391</td>\n",
       "      <td>332.917969</td>\n",
       "      <td>24276.33008</td>\n",
       "      <td>11366.95020</td>\n",
       "      <td>10622.95996</td>\n",
       "      <td>1919.310059</td>\n",
       "      <td>845.299988</td>\n",
       "      <td>8343.5</td>\n",
       "      <td>4661.500000</td>\n",
       "      <td>16961.82031</td>\n",
       "      <td>398.975006</td>\n",
       "    </tr>\n",
       "  </tbody>\n",
       "</table>\n",
       "</div>"
      ],
      "text/plain": [
       "        Date  NIFTY_India Adj Close  HCL Adj Close  HangSeng Open  \\\n",
       "0 2015-01-07            8127.350098     322.932098    23396.69922   \n",
       "1 2015-01-08            8102.100098     315.258636    23920.34961   \n",
       "2 2015-01-09            8234.599609     322.553589    24049.69922   \n",
       "3 2015-01-13            8323.000000     331.226013    23908.23047   \n",
       "4 2015-01-14            8299.400391     332.917969    24276.33008   \n",
       "\n",
       "   Shenzhen Open  NYSE Adj Close   KOSPI Open  Euronext Adj Close  \\\n",
       "0    11612.73047     10514.87012  1878.900024          805.469971   \n",
       "1    11624.58984     10627.12988  1895.849976          810.940002   \n",
       "2    11424.53027     10800.54004  1919.800049          837.729980   \n",
       "3    11250.87988     10640.74023  1915.030029          832.760010   \n",
       "4    11366.95020     10622.95996  1919.310059          845.299988   \n",
       "\n",
       "   SGXNifty Open  NASDAQ Adj Close  Nikkei Open    HCL Open  \n",
       "0         8149.5       4592.740234  16808.25977  384.875000  \n",
       "1         8151.5       4650.470215  17067.40039  379.250000  \n",
       "2         8256.5       4736.189941  17318.74023  384.162994  \n",
       "3         8357.5       4664.709961  16970.88086  393.888000  \n",
       "4         8343.5       4661.500000  16961.82031  398.975006  "
      ]
     },
     "execution_count": 42,
     "metadata": {},
     "output_type": "execute_result"
    }
   ],
   "source": [
    "train.head()"
   ]
  },
  {
   "cell_type": "code",
   "execution_count": 43,
   "metadata": {},
   "outputs": [
    {
     "data": {
      "text/html": [
       "<div>\n",
       "<style scoped>\n",
       "    .dataframe tbody tr th:only-of-type {\n",
       "        vertical-align: middle;\n",
       "    }\n",
       "\n",
       "    .dataframe tbody tr th {\n",
       "        vertical-align: top;\n",
       "    }\n",
       "\n",
       "    .dataframe thead th {\n",
       "        text-align: right;\n",
       "    }\n",
       "</style>\n",
       "<table border=\"1\" class=\"dataframe\">\n",
       "  <thead>\n",
       "    <tr style=\"text-align: right;\">\n",
       "      <th></th>\n",
       "      <th>NIFTY_India Adj Close</th>\n",
       "      <th>HCL Adj Close</th>\n",
       "      <th>HangSeng Open</th>\n",
       "      <th>Shenzhen Open</th>\n",
       "      <th>NYSE Adj Close</th>\n",
       "      <th>KOSPI Open</th>\n",
       "      <th>Euronext Adj Close</th>\n",
       "      <th>SGXNifty Open</th>\n",
       "      <th>NASDAQ Adj Close</th>\n",
       "      <th>Nikkei Open</th>\n",
       "      <th>HCL Open</th>\n",
       "    </tr>\n",
       "  </thead>\n",
       "  <tbody>\n",
       "    <tr>\n",
       "      <th>NIFTY_India Adj Close</th>\n",
       "      <td>1.000000</td>\n",
       "      <td>0.896625</td>\n",
       "      <td>0.766893</td>\n",
       "      <td>-0.450094</td>\n",
       "      <td>0.945338</td>\n",
       "      <td>0.495026</td>\n",
       "      <td>0.842400</td>\n",
       "      <td>0.998477</td>\n",
       "      <td>0.947671</td>\n",
       "      <td>0.824164</td>\n",
       "      <td>0.777039</td>\n",
       "    </tr>\n",
       "    <tr>\n",
       "      <th>HCL Adj Close</th>\n",
       "      <td>0.896625</td>\n",
       "      <td>1.000000</td>\n",
       "      <td>0.630363</td>\n",
       "      <td>-0.374884</td>\n",
       "      <td>0.844548</td>\n",
       "      <td>0.264869</td>\n",
       "      <td>0.790730</td>\n",
       "      <td>0.896821</td>\n",
       "      <td>0.916721</td>\n",
       "      <td>0.793313</td>\n",
       "      <td>0.949463</td>\n",
       "    </tr>\n",
       "    <tr>\n",
       "      <th>HangSeng Open</th>\n",
       "      <td>0.766893</td>\n",
       "      <td>0.630363</td>\n",
       "      <td>1.000000</td>\n",
       "      <td>-0.005471</td>\n",
       "      <td>0.833537</td>\n",
       "      <td>0.777748</td>\n",
       "      <td>0.806060</td>\n",
       "      <td>0.767356</td>\n",
       "      <td>0.703703</td>\n",
       "      <td>0.832053</td>\n",
       "      <td>0.564377</td>\n",
       "    </tr>\n",
       "    <tr>\n",
       "      <th>Shenzhen Open</th>\n",
       "      <td>-0.450094</td>\n",
       "      <td>-0.374884</td>\n",
       "      <td>-0.005471</td>\n",
       "      <td>1.000000</td>\n",
       "      <td>-0.303254</td>\n",
       "      <td>-0.018939</td>\n",
       "      <td>-0.083794</td>\n",
       "      <td>-0.452783</td>\n",
       "      <td>-0.446607</td>\n",
       "      <td>-0.141168</td>\n",
       "      <td>-0.197152</td>\n",
       "    </tr>\n",
       "    <tr>\n",
       "      <th>NYSE Adj Close</th>\n",
       "      <td>0.945338</td>\n",
       "      <td>0.844548</td>\n",
       "      <td>0.833537</td>\n",
       "      <td>-0.303254</td>\n",
       "      <td>1.000000</td>\n",
       "      <td>0.624710</td>\n",
       "      <td>0.919124</td>\n",
       "      <td>0.947106</td>\n",
       "      <td>0.920579</td>\n",
       "      <td>0.889342</td>\n",
       "      <td>0.734936</td>\n",
       "    </tr>\n",
       "    <tr>\n",
       "      <th>KOSPI Open</th>\n",
       "      <td>0.495026</td>\n",
       "      <td>0.264869</td>\n",
       "      <td>0.777748</td>\n",
       "      <td>-0.018939</td>\n",
       "      <td>0.624710</td>\n",
       "      <td>1.000000</td>\n",
       "      <td>0.624734</td>\n",
       "      <td>0.497214</td>\n",
       "      <td>0.417057</td>\n",
       "      <td>0.618370</td>\n",
       "      <td>0.144969</td>\n",
       "    </tr>\n",
       "    <tr>\n",
       "      <th>Euronext Adj Close</th>\n",
       "      <td>0.842400</td>\n",
       "      <td>0.790730</td>\n",
       "      <td>0.806060</td>\n",
       "      <td>-0.083794</td>\n",
       "      <td>0.919124</td>\n",
       "      <td>0.624734</td>\n",
       "      <td>1.000000</td>\n",
       "      <td>0.843630</td>\n",
       "      <td>0.810895</td>\n",
       "      <td>0.904074</td>\n",
       "      <td>0.750047</td>\n",
       "    </tr>\n",
       "    <tr>\n",
       "      <th>SGXNifty Open</th>\n",
       "      <td>0.998477</td>\n",
       "      <td>0.896821</td>\n",
       "      <td>0.767356</td>\n",
       "      <td>-0.452783</td>\n",
       "      <td>0.947106</td>\n",
       "      <td>0.497214</td>\n",
       "      <td>0.843630</td>\n",
       "      <td>1.000000</td>\n",
       "      <td>0.947391</td>\n",
       "      <td>0.825160</td>\n",
       "      <td>0.777934</td>\n",
       "    </tr>\n",
       "    <tr>\n",
       "      <th>NASDAQ Adj Close</th>\n",
       "      <td>0.947671</td>\n",
       "      <td>0.916721</td>\n",
       "      <td>0.703703</td>\n",
       "      <td>-0.446607</td>\n",
       "      <td>0.920579</td>\n",
       "      <td>0.417057</td>\n",
       "      <td>0.810895</td>\n",
       "      <td>0.947391</td>\n",
       "      <td>1.000000</td>\n",
       "      <td>0.821314</td>\n",
       "      <td>0.777459</td>\n",
       "    </tr>\n",
       "    <tr>\n",
       "      <th>Nikkei Open</th>\n",
       "      <td>0.824164</td>\n",
       "      <td>0.793313</td>\n",
       "      <td>0.832053</td>\n",
       "      <td>-0.141168</td>\n",
       "      <td>0.889342</td>\n",
       "      <td>0.618370</td>\n",
       "      <td>0.904074</td>\n",
       "      <td>0.825160</td>\n",
       "      <td>0.821314</td>\n",
       "      <td>1.000000</td>\n",
       "      <td>0.742499</td>\n",
       "    </tr>\n",
       "    <tr>\n",
       "      <th>HCL Open</th>\n",
       "      <td>0.777039</td>\n",
       "      <td>0.949463</td>\n",
       "      <td>0.564377</td>\n",
       "      <td>-0.197152</td>\n",
       "      <td>0.734936</td>\n",
       "      <td>0.144969</td>\n",
       "      <td>0.750047</td>\n",
       "      <td>0.777934</td>\n",
       "      <td>0.777459</td>\n",
       "      <td>0.742499</td>\n",
       "      <td>1.000000</td>\n",
       "    </tr>\n",
       "  </tbody>\n",
       "</table>\n",
       "</div>"
      ],
      "text/plain": [
       "                       NIFTY_India Adj Close  HCL Adj Close  HangSeng Open  \\\n",
       "NIFTY_India Adj Close               1.000000       0.896625       0.766893   \n",
       "HCL Adj Close                       0.896625       1.000000       0.630363   \n",
       "HangSeng Open                       0.766893       0.630363       1.000000   \n",
       "Shenzhen Open                      -0.450094      -0.374884      -0.005471   \n",
       "NYSE Adj Close                      0.945338       0.844548       0.833537   \n",
       "KOSPI Open                          0.495026       0.264869       0.777748   \n",
       "Euronext Adj Close                  0.842400       0.790730       0.806060   \n",
       "SGXNifty Open                       0.998477       0.896821       0.767356   \n",
       "NASDAQ Adj Close                    0.947671       0.916721       0.703703   \n",
       "Nikkei Open                         0.824164       0.793313       0.832053   \n",
       "HCL Open                            0.777039       0.949463       0.564377   \n",
       "\n",
       "                       Shenzhen Open  NYSE Adj Close  KOSPI Open  \\\n",
       "NIFTY_India Adj Close      -0.450094        0.945338    0.495026   \n",
       "HCL Adj Close              -0.374884        0.844548    0.264869   \n",
       "HangSeng Open              -0.005471        0.833537    0.777748   \n",
       "Shenzhen Open               1.000000       -0.303254   -0.018939   \n",
       "NYSE Adj Close             -0.303254        1.000000    0.624710   \n",
       "KOSPI Open                 -0.018939        0.624710    1.000000   \n",
       "Euronext Adj Close         -0.083794        0.919124    0.624734   \n",
       "SGXNifty Open              -0.452783        0.947106    0.497214   \n",
       "NASDAQ Adj Close           -0.446607        0.920579    0.417057   \n",
       "Nikkei Open                -0.141168        0.889342    0.618370   \n",
       "HCL Open                   -0.197152        0.734936    0.144969   \n",
       "\n",
       "                       Euronext Adj Close  SGXNifty Open  NASDAQ Adj Close  \\\n",
       "NIFTY_India Adj Close            0.842400       0.998477          0.947671   \n",
       "HCL Adj Close                    0.790730       0.896821          0.916721   \n",
       "HangSeng Open                    0.806060       0.767356          0.703703   \n",
       "Shenzhen Open                   -0.083794      -0.452783         -0.446607   \n",
       "NYSE Adj Close                   0.919124       0.947106          0.920579   \n",
       "KOSPI Open                       0.624734       0.497214          0.417057   \n",
       "Euronext Adj Close               1.000000       0.843630          0.810895   \n",
       "SGXNifty Open                    0.843630       1.000000          0.947391   \n",
       "NASDAQ Adj Close                 0.810895       0.947391          1.000000   \n",
       "Nikkei Open                      0.904074       0.825160          0.821314   \n",
       "HCL Open                         0.750047       0.777934          0.777459   \n",
       "\n",
       "                       Nikkei Open  HCL Open  \n",
       "NIFTY_India Adj Close     0.824164  0.777039  \n",
       "HCL Adj Close             0.793313  0.949463  \n",
       "HangSeng Open             0.832053  0.564377  \n",
       "Shenzhen Open            -0.141168 -0.197152  \n",
       "NYSE Adj Close            0.889342  0.734936  \n",
       "KOSPI Open                0.618370  0.144969  \n",
       "Euronext Adj Close        0.904074  0.750047  \n",
       "SGXNifty Open             0.825160  0.777934  \n",
       "NASDAQ Adj Close          0.821314  0.777459  \n",
       "Nikkei Open               1.000000  0.742499  \n",
       "HCL Open                  0.742499  1.000000  "
      ]
     },
     "execution_count": 43,
     "metadata": {},
     "output_type": "execute_result"
    }
   ],
   "source": [
    "cor = train.corr()\n",
    "cor"
   ]
  },
  {
   "cell_type": "code",
   "execution_count": 44,
   "metadata": {},
   "outputs": [
    {
     "data": {
      "text/plain": [
       "Index(['NIFTY_India Adj Close', 'HCL Adj Close', 'NYSE Adj Close',\n",
       "       'Euronext Adj Close', 'SGXNifty Open', 'NASDAQ Adj Close',\n",
       "       'Nikkei Open', 'HCL Open'],\n",
       "      dtype='object')"
      ]
     },
     "execution_count": 44,
     "metadata": {},
     "output_type": "execute_result"
    }
   ],
   "source": [
    "cor.index[abs(cor['HCL Open']) > .65]"
   ]
  },
  {
   "cell_type": "markdown",
   "metadata": {},
   "source": [
    "## Wrapper Method: Step forward feature selection"
   ]
  },
  {
   "cell_type": "code",
   "execution_count": 41,
   "metadata": {},
   "outputs": [],
   "source": [
    "X = train[train.columns[1:-1]]\n",
    "Y = train[train.columns[-1]]\n",
    "X_train, X_test, y_train, y_test = train_test_split(X, Y, test_size=0.2, random_state=42)"
   ]
  },
  {
   "cell_type": "code",
   "execution_count": 42,
   "metadata": {},
   "outputs": [
    {
     "name": "stdout",
     "output_type": "stream",
     "text": [
      "Index(['HCL Adj Close', 'Shenzhen Open', 'KOSPI Open', 'NASDAQ Adj Close',\n",
      "       'Nikkei Open'],\n",
      "      dtype='object')\n"
     ]
    }
   ],
   "source": [
    "from mlxtend.feature_selection import SequentialFeatureSelector as SFS\n",
    "sfs = SFS(LinearRegression(), \n",
    "           k_features=5, \n",
    "           forward=True, \n",
    "           floating=False,\n",
    "           scoring='neg_mean_squared_error',\n",
    "           cv=5)\n",
    "\n",
    "# fit the object to the training data.\n",
    "sfs = sfs.fit(X_train, y_train)\n",
    "\n",
    "# print the selected features.\n",
    "selected_features = X_train.columns[list(sfs.k_feature_idx_)]\n",
    "print(selected_features)"
   ]
  },
  {
   "cell_type": "markdown",
   "metadata": {},
   "source": [
    "## Finding Independent Features"
   ]
  },
  {
   "cell_type": "code",
   "execution_count": 45,
   "metadata": {},
   "outputs": [],
   "source": [
    "train2 = train[['NIFTY_India Adj Close', 'HCL Adj Close', 'NYSE Adj Close',\n",
    "       'Euronext Adj Close', 'SGXNifty Open', 'NASDAQ Adj Close',\n",
    "       'Nikkei Open']]"
   ]
  },
  {
   "cell_type": "code",
   "execution_count": 46,
   "metadata": {},
   "outputs": [
    {
     "data": {
      "text/html": [
       "<div>\n",
       "<style scoped>\n",
       "    .dataframe tbody tr th:only-of-type {\n",
       "        vertical-align: middle;\n",
       "    }\n",
       "\n",
       "    .dataframe tbody tr th {\n",
       "        vertical-align: top;\n",
       "    }\n",
       "\n",
       "    .dataframe thead th {\n",
       "        text-align: right;\n",
       "    }\n",
       "</style>\n",
       "<table border=\"1\" class=\"dataframe\">\n",
       "  <thead>\n",
       "    <tr style=\"text-align: right;\">\n",
       "      <th></th>\n",
       "      <th>NIFTY_India Adj Close</th>\n",
       "      <th>HCL Adj Close</th>\n",
       "      <th>NYSE Adj Close</th>\n",
       "      <th>Euronext Adj Close</th>\n",
       "      <th>SGXNifty Open</th>\n",
       "      <th>NASDAQ Adj Close</th>\n",
       "      <th>Nikkei Open</th>\n",
       "    </tr>\n",
       "  </thead>\n",
       "  <tbody>\n",
       "    <tr>\n",
       "      <th>0</th>\n",
       "      <td>8127.350098</td>\n",
       "      <td>322.932098</td>\n",
       "      <td>10514.87012</td>\n",
       "      <td>805.469971</td>\n",
       "      <td>8149.5</td>\n",
       "      <td>4592.740234</td>\n",
       "      <td>16808.25977</td>\n",
       "    </tr>\n",
       "    <tr>\n",
       "      <th>1</th>\n",
       "      <td>8102.100098</td>\n",
       "      <td>315.258636</td>\n",
       "      <td>10627.12988</td>\n",
       "      <td>810.940002</td>\n",
       "      <td>8151.5</td>\n",
       "      <td>4650.470215</td>\n",
       "      <td>17067.40039</td>\n",
       "    </tr>\n",
       "  </tbody>\n",
       "</table>\n",
       "</div>"
      ],
      "text/plain": [
       "   NIFTY_India Adj Close  HCL Adj Close  NYSE Adj Close  Euronext Adj Close  \\\n",
       "0            8127.350098     322.932098     10514.87012          805.469971   \n",
       "1            8102.100098     315.258636     10627.12988          810.940002   \n",
       "\n",
       "   SGXNifty Open  NASDAQ Adj Close  Nikkei Open  \n",
       "0         8149.5       4592.740234  16808.25977  \n",
       "1         8151.5       4650.470215  17067.40039  "
      ]
     },
     "execution_count": 46,
     "metadata": {},
     "output_type": "execute_result"
    }
   ],
   "source": [
    "train2.head(2)"
   ]
  },
  {
   "cell_type": "code",
   "execution_count": 24,
   "metadata": {},
   "outputs": [
    {
     "data": {
      "text/html": [
       "<div>\n",
       "<style scoped>\n",
       "    .dataframe tbody tr th:only-of-type {\n",
       "        vertical-align: middle;\n",
       "    }\n",
       "\n",
       "    .dataframe tbody tr th {\n",
       "        vertical-align: top;\n",
       "    }\n",
       "\n",
       "    .dataframe thead th {\n",
       "        text-align: right;\n",
       "    }\n",
       "</style>\n",
       "<table border=\"1\" class=\"dataframe\">\n",
       "  <thead>\n",
       "    <tr style=\"text-align: right;\">\n",
       "      <th></th>\n",
       "      <th>NIFTY_India Adj Close</th>\n",
       "      <th>HCL Adj Close</th>\n",
       "      <th>NYSE Adj Close</th>\n",
       "      <th>Euronext Adj Close</th>\n",
       "      <th>SGXNifty Open</th>\n",
       "      <th>NASDAQ Adj Close</th>\n",
       "      <th>Nikkei Open</th>\n",
       "    </tr>\n",
       "  </thead>\n",
       "  <tbody>\n",
       "    <tr>\n",
       "      <th>NIFTY_India Adj Close</th>\n",
       "      <td>1.000000</td>\n",
       "      <td>0.896625</td>\n",
       "      <td>0.945338</td>\n",
       "      <td>0.842400</td>\n",
       "      <td>0.998477</td>\n",
       "      <td>0.947671</td>\n",
       "      <td>0.824164</td>\n",
       "    </tr>\n",
       "    <tr>\n",
       "      <th>HCL Adj Close</th>\n",
       "      <td>0.896625</td>\n",
       "      <td>1.000000</td>\n",
       "      <td>0.844548</td>\n",
       "      <td>0.790730</td>\n",
       "      <td>0.896821</td>\n",
       "      <td>0.916721</td>\n",
       "      <td>0.793313</td>\n",
       "    </tr>\n",
       "    <tr>\n",
       "      <th>NYSE Adj Close</th>\n",
       "      <td>0.945338</td>\n",
       "      <td>0.844548</td>\n",
       "      <td>1.000000</td>\n",
       "      <td>0.919124</td>\n",
       "      <td>0.947106</td>\n",
       "      <td>0.920579</td>\n",
       "      <td>0.889342</td>\n",
       "    </tr>\n",
       "    <tr>\n",
       "      <th>Euronext Adj Close</th>\n",
       "      <td>0.842400</td>\n",
       "      <td>0.790730</td>\n",
       "      <td>0.919124</td>\n",
       "      <td>1.000000</td>\n",
       "      <td>0.843630</td>\n",
       "      <td>0.810895</td>\n",
       "      <td>0.904074</td>\n",
       "    </tr>\n",
       "    <tr>\n",
       "      <th>SGXNifty Open</th>\n",
       "      <td>0.998477</td>\n",
       "      <td>0.896821</td>\n",
       "      <td>0.947106</td>\n",
       "      <td>0.843630</td>\n",
       "      <td>1.000000</td>\n",
       "      <td>0.947391</td>\n",
       "      <td>0.825160</td>\n",
       "    </tr>\n",
       "    <tr>\n",
       "      <th>NASDAQ Adj Close</th>\n",
       "      <td>0.947671</td>\n",
       "      <td>0.916721</td>\n",
       "      <td>0.920579</td>\n",
       "      <td>0.810895</td>\n",
       "      <td>0.947391</td>\n",
       "      <td>1.000000</td>\n",
       "      <td>0.821314</td>\n",
       "    </tr>\n",
       "    <tr>\n",
       "      <th>Nikkei Open</th>\n",
       "      <td>0.824164</td>\n",
       "      <td>0.793313</td>\n",
       "      <td>0.889342</td>\n",
       "      <td>0.904074</td>\n",
       "      <td>0.825160</td>\n",
       "      <td>0.821314</td>\n",
       "      <td>1.000000</td>\n",
       "    </tr>\n",
       "  </tbody>\n",
       "</table>\n",
       "</div>"
      ],
      "text/plain": [
       "                       NIFTY_India Adj Close  HCL Adj Close  NYSE Adj Close  \\\n",
       "NIFTY_India Adj Close               1.000000       0.896625        0.945338   \n",
       "HCL Adj Close                       0.896625       1.000000        0.844548   \n",
       "NYSE Adj Close                      0.945338       0.844548        1.000000   \n",
       "Euronext Adj Close                  0.842400       0.790730        0.919124   \n",
       "SGXNifty Open                       0.998477       0.896821        0.947106   \n",
       "NASDAQ Adj Close                    0.947671       0.916721        0.920579   \n",
       "Nikkei Open                         0.824164       0.793313        0.889342   \n",
       "\n",
       "                       Euronext Adj Close  SGXNifty Open  NASDAQ Adj Close  \\\n",
       "NIFTY_India Adj Close            0.842400       0.998477          0.947671   \n",
       "HCL Adj Close                    0.790730       0.896821          0.916721   \n",
       "NYSE Adj Close                   0.919124       0.947106          0.920579   \n",
       "Euronext Adj Close               1.000000       0.843630          0.810895   \n",
       "SGXNifty Open                    0.843630       1.000000          0.947391   \n",
       "NASDAQ Adj Close                 0.810895       0.947391          1.000000   \n",
       "Nikkei Open                      0.904074       0.825160          0.821314   \n",
       "\n",
       "                       Nikkei Open  \n",
       "NIFTY_India Adj Close     0.824164  \n",
       "HCL Adj Close             0.793313  \n",
       "NYSE Adj Close            0.889342  \n",
       "Euronext Adj Close        0.904074  \n",
       "SGXNifty Open             0.825160  \n",
       "NASDAQ Adj Close          0.821314  \n",
       "Nikkei Open               1.000000  "
      ]
     },
     "execution_count": 24,
     "metadata": {},
     "output_type": "execute_result"
    }
   ],
   "source": [
    "cor2 = train2.corr()\n",
    "cor2"
   ]
  },
  {
   "cell_type": "markdown",
   "metadata": {},
   "source": [
    "## It shows that Singapore Nifty Open and Indian Nifty Close are highly correlated. Similarly, NYSE Close and Euronext Close are correlated with each other and also to Indian Nifty Close."
   ]
  },
  {
   "cell_type": "markdown",
   "metadata": {},
   "source": [
    "## Normalization"
   ]
  },
  {
   "cell_type": "code",
   "execution_count": 29,
   "metadata": {},
   "outputs": [],
   "source": [
    "#X = train[train.columns[0:-1]]\n",
    "# Y = train[train.columns[-1]]\n"
   ]
  },
  {
   "cell_type": "code",
   "execution_count": 30,
   "metadata": {},
   "outputs": [],
   "source": [
    "# scaler = MinMaxScaler()\n",
    "# scaler.fit(X_train)\n",
    "# X_tr = scaler.transform(X_train)\n",
    "# X_te = scaler.transform(X_test)    \n",
    "# #Converting n-d array to dataframe\n",
    "# X_train = pd.DataFrame(X_tr, columns=['Escorts Adj Close', 'NIFTY_India Adj Close', 'HangSeng Open',\n",
    "#        'Nikkei Open'])\n",
    "# X_test = pd.DataFrame(X_te, columns=['Escorts Adj Close', 'NIFTY_India Adj Close', 'HangSeng Open',\n",
    "#        'Nikkei Open'])"
   ]
  },
  {
   "cell_type": "markdown",
   "metadata": {},
   "source": [
    "## Feature Selection using Ensemble Random Forest"
   ]
  },
  {
   "cell_type": "code",
   "execution_count": 43,
   "metadata": {},
   "outputs": [],
   "source": [
    "X = train[train.columns[1:-1]]\n",
    "Y = train[train.columns[-1]]"
   ]
  },
  {
   "cell_type": "code",
   "execution_count": 44,
   "metadata": {},
   "outputs": [],
   "source": [
    "model = RandomForestRegressor(max_depth=4, n_estimators=160)"
   ]
  },
  {
   "cell_type": "code",
   "execution_count": 45,
   "metadata": {},
   "outputs": [
    {
     "data": {
      "text/plain": [
       "RandomForestRegressor(bootstrap=True, ccp_alpha=0.0, criterion='mse',\n",
       "                      max_depth=4, max_features='auto', max_leaf_nodes=None,\n",
       "                      max_samples=None, min_impurity_decrease=0.0,\n",
       "                      min_impurity_split=None, min_samples_leaf=1,\n",
       "                      min_samples_split=2, min_weight_fraction_leaf=0.0,\n",
       "                      n_estimators=160, n_jobs=None, oob_score=False,\n",
       "                      random_state=None, verbose=0, warm_start=False)"
      ]
     },
     "execution_count": 45,
     "metadata": {},
     "output_type": "execute_result"
    }
   ],
   "source": [
    "model.fit(X,Y)"
   ]
  },
  {
   "cell_type": "code",
   "execution_count": 46,
   "metadata": {},
   "outputs": [],
   "source": [
    "labels = list(X.columns)[0:-1]"
   ]
  },
  {
   "cell_type": "code",
   "execution_count": 47,
   "metadata": {},
   "outputs": [
    {
     "name": "stdout",
     "output_type": "stream",
     "text": [
      "('NIFTY_India Adj Close', 1.7012662437135052e-05)\n",
      "('HCL Adj Close', 0.9589358918358412)\n",
      "('HangSeng Open', 0.0018618730361206592)\n",
      "('Shenzhen Open', 0.002517281121825782)\n",
      "('NYSE Adj Close', 8.586497801523804e-05)\n",
      "('KOSPI Open', 8.792386513674056e-05)\n",
      "('Euronext Adj Close', 0.000228545373701402)\n",
      "('SGXNifty Open', 4.507759804822052e-05)\n",
      "('NASDAQ Adj Close', 0.03592368909905722)\n"
     ]
    }
   ],
   "source": [
    "for feature in zip(labels, model.feature_importances_):\n",
    "    print(feature)"
   ]
  },
  {
   "cell_type": "code",
   "execution_count": 48,
   "metadata": {},
   "outputs": [
    {
     "data": {
      "text/plain": [
       "SelectFromModel(estimator=RandomForestRegressor(bootstrap=True, ccp_alpha=0.0,\n",
       "                                                criterion='mse', max_depth=4,\n",
       "                                                max_features='auto',\n",
       "                                                max_leaf_nodes=None,\n",
       "                                                max_samples=None,\n",
       "                                                min_impurity_decrease=0.0,\n",
       "                                                min_impurity_split=None,\n",
       "                                                min_samples_leaf=1,\n",
       "                                                min_samples_split=2,\n",
       "                                                min_weight_fraction_leaf=0.0,\n",
       "                                                n_estimators=160, n_jobs=None,\n",
       "                                                oob_score=False,\n",
       "                                                random_state=None, verbose=0,\n",
       "                                                warm_start=False),\n",
       "                max_features=None, norm_order=1, prefit=False, threshold=0.001)"
      ]
     },
     "execution_count": 48,
     "metadata": {},
     "output_type": "execute_result"
    }
   ],
   "source": [
    "sfm = SelectFromModel(model, threshold=0.001)\n",
    "sfm.fit(X,Y)"
   ]
  },
  {
   "cell_type": "code",
   "execution_count": 49,
   "metadata": {},
   "outputs": [],
   "source": [
    "# for index in sfm.get_support(indices=True):\n",
    "#     print(labels[index])"
   ]
  },
  {
   "cell_type": "code",
   "execution_count": null,
   "metadata": {},
   "outputs": [],
   "source": [
    "# X_train_imp = sfm.transform(X)\n",
    "# X_test_imp = sfm.transform(X_test)"
   ]
  },
  {
   "cell_type": "markdown",
   "metadata": {},
   "source": [
    "## Since all features are numerical, we give importance to correlation feature selection.\n",
    "## Link: https://machinelearningmastery.com/feature-selection-with-real-and-categorical-data/"
   ]
  },
  {
   "cell_type": "markdown",
   "metadata": {},
   "source": [
    "## Selecting Features"
   ]
  },
  {
   "cell_type": "code",
   "execution_count": 47,
   "metadata": {},
   "outputs": [
    {
     "data": {
      "text/html": [
       "<div>\n",
       "<style scoped>\n",
       "    .dataframe tbody tr th:only-of-type {\n",
       "        vertical-align: middle;\n",
       "    }\n",
       "\n",
       "    .dataframe tbody tr th {\n",
       "        vertical-align: top;\n",
       "    }\n",
       "\n",
       "    .dataframe thead th {\n",
       "        text-align: right;\n",
       "    }\n",
       "</style>\n",
       "<table border=\"1\" class=\"dataframe\">\n",
       "  <thead>\n",
       "    <tr style=\"text-align: right;\">\n",
       "      <th></th>\n",
       "      <th>NIFTY_India Adj Close</th>\n",
       "      <th>HCL Adj Close</th>\n",
       "      <th>HangSeng Open</th>\n",
       "      <th>Euronext Adj Close</th>\n",
       "      <th>HCL Open</th>\n",
       "    </tr>\n",
       "  </thead>\n",
       "  <tbody>\n",
       "    <tr>\n",
       "      <th>0</th>\n",
       "      <td>8127.350098</td>\n",
       "      <td>322.932098</td>\n",
       "      <td>23396.69922</td>\n",
       "      <td>805.469971</td>\n",
       "      <td>384.875</td>\n",
       "    </tr>\n",
       "    <tr>\n",
       "      <th>1</th>\n",
       "      <td>8102.100098</td>\n",
       "      <td>315.258636</td>\n",
       "      <td>23920.34961</td>\n",
       "      <td>810.940002</td>\n",
       "      <td>379.250</td>\n",
       "    </tr>\n",
       "  </tbody>\n",
       "</table>\n",
       "</div>"
      ],
      "text/plain": [
       "   NIFTY_India Adj Close  HCL Adj Close  HangSeng Open  Euronext Adj Close  \\\n",
       "0            8127.350098     322.932098    23396.69922          805.469971   \n",
       "1            8102.100098     315.258636    23920.34961          810.940002   \n",
       "\n",
       "   HCL Open  \n",
       "0   384.875  \n",
       "1   379.250  "
      ]
     },
     "execution_count": 47,
     "metadata": {},
     "output_type": "execute_result"
    }
   ],
   "source": [
    "#Dont forget to add target column\n",
    "train_final = train[['NIFTY_India Adj Close', \n",
    "                     'HCL Adj Close',\n",
    "                    'HangSeng Open', \n",
    "                    # 'Shenzhen Open',\n",
    "                    #'NYSE Adj Close', \n",
    "                     #'KOSPI Open', \n",
    "                     'Euronext Adj Close',\n",
    "                     #'NASDAQ Adj Close',\n",
    "                     'HCL Open']]\n",
    "train_final.head(2)"
   ]
  },
  {
   "cell_type": "markdown",
   "metadata": {},
   "source": [
    "# Handle outliers using IQR"
   ]
  },
  {
   "cell_type": "code",
   "execution_count": 48,
   "metadata": {},
   "outputs": [
    {
     "name": "stdout",
     "output_type": "stream",
     "text": [
      "NIFTY_India Adj Close    2438.500000\n",
      "HCL Adj Close             105.534454\n",
      "HangSeng Open            4994.279300\n",
      "Euronext Adj Close        134.730041\n",
      "HCL Open                   84.475006\n",
      "dtype: float64\n"
     ]
    }
   ],
   "source": [
    "Q1 = train_final.quantile(0.25)\n",
    "Q3 = train_final.quantile(0.75)\n",
    "IQR = Q3 - Q1\n",
    "print(IQR)"
   ]
  },
  {
   "cell_type": "code",
   "execution_count": 49,
   "metadata": {},
   "outputs": [
    {
     "data": {
      "text/plain": [
       "(1069, 5)"
      ]
     },
     "execution_count": 49,
     "metadata": {},
     "output_type": "execute_result"
    }
   ],
   "source": [
    "train_final = train_final[~((train_final < (Q1 - 1.5 * IQR)) |(train_final > (Q3 + 1.5 * IQR))).any(axis=1)]\n",
    "train_final.shape"
   ]
  },
  {
   "cell_type": "code",
   "execution_count": 50,
   "metadata": {},
   "outputs": [
    {
     "data": {
      "text/html": [
       "<div>\n",
       "<style scoped>\n",
       "    .dataframe tbody tr th:only-of-type {\n",
       "        vertical-align: middle;\n",
       "    }\n",
       "\n",
       "    .dataframe tbody tr th {\n",
       "        vertical-align: top;\n",
       "    }\n",
       "\n",
       "    .dataframe thead th {\n",
       "        text-align: right;\n",
       "    }\n",
       "</style>\n",
       "<table border=\"1\" class=\"dataframe\">\n",
       "  <thead>\n",
       "    <tr style=\"text-align: right;\">\n",
       "      <th></th>\n",
       "      <th>NIFTY_India Adj Close</th>\n",
       "      <th>HCL Adj Close</th>\n",
       "      <th>HangSeng Open</th>\n",
       "      <th>Euronext Adj Close</th>\n",
       "      <th>HCL Open</th>\n",
       "    </tr>\n",
       "  </thead>\n",
       "  <tbody>\n",
       "    <tr>\n",
       "      <th>0</th>\n",
       "      <td>8127.350098</td>\n",
       "      <td>322.932098</td>\n",
       "      <td>23396.69922</td>\n",
       "      <td>805.469971</td>\n",
       "      <td>384.875</td>\n",
       "    </tr>\n",
       "    <tr>\n",
       "      <th>1</th>\n",
       "      <td>8102.100098</td>\n",
       "      <td>315.258636</td>\n",
       "      <td>23920.34961</td>\n",
       "      <td>810.940002</td>\n",
       "      <td>379.250</td>\n",
       "    </tr>\n",
       "  </tbody>\n",
       "</table>\n",
       "</div>"
      ],
      "text/plain": [
       "   NIFTY_India Adj Close  HCL Adj Close  HangSeng Open  Euronext Adj Close  \\\n",
       "0            8127.350098     322.932098    23396.69922          805.469971   \n",
       "1            8102.100098     315.258636    23920.34961          810.940002   \n",
       "\n",
       "   HCL Open  \n",
       "0   384.875  \n",
       "1   379.250  "
      ]
     },
     "execution_count": 50,
     "metadata": {},
     "output_type": "execute_result"
    }
   ],
   "source": [
    "train_final.head(2)"
   ]
  },
  {
   "cell_type": "markdown",
   "metadata": {},
   "source": [
    "## Test Data"
   ]
  },
  {
   "cell_type": "code",
   "execution_count": 51,
   "metadata": {},
   "outputs": [],
   "source": [
    "test = pd.read_csv('../Data/STOCKS_test.CSV')\n",
    "dfgt = pd.read_csv('../Data/HangSeng_test.CSV')\n",
    "dfyt = pd.read_csv('../Data/NYSE_test.CSV')\n",
    "dfzt = pd.read_csv('../Data/Shenzhen_test.CSV')\n",
    "dfkt = pd.read_csv('../Data/KOSPI_test.CSV')\n",
    "dfet = pd.read_csv('../Data/Euronext100_test.CSV')\n",
    "dfit = pd.read_csv('../Data/Nikkei_test.CSV')\n",
    "dfnt = pd.read_csv('../Data/NASDAQ_test.CSV')"
   ]
  },
  {
   "cell_type": "code",
   "execution_count": 52,
   "metadata": {},
   "outputs": [],
   "source": [
    "#Converting to common date format\n",
    "\n",
    "test['Date'] =  pd.to_datetime(test['Date'], format='%d-%m-%Y')\n",
    "dfgt['Date'] =  pd.to_datetime(dfgt['Date'], format='%d-%m-%Y')\n",
    "dfyt['Date'] =  pd.to_datetime(dfyt['Date'], format='%d-%m-%Y')\n",
    "dfzt['Date'] =  pd.to_datetime(dfzt['Date'], format='%d-%m-%Y')\n",
    "dfkt['Date'] =  pd.to_datetime(dfkt['Date'], format='%d-%m-%Y')\n",
    "dfet['Date'] =  pd.to_datetime(dfet['Date'], format='%d-%m-%Y')\n",
    "dfit['Date'] =  pd.to_datetime(dfit['Date'], format='%d-%m-%Y')\n",
    "dfnt['Date'] =  pd.to_datetime(dfnt['Date'], format='%d-%m-%Y')"
   ]
  },
  {
   "cell_type": "code",
   "execution_count": 53,
   "metadata": {},
   "outputs": [],
   "source": [
    "#Merging Dataframes based on date\n",
    "\n",
    "test = pd.merge(test,dfgt,how='inner',on='Date')\n",
    "test = pd.merge(test,dfzt,how='inner',on='Date')\n",
    "test = pd.merge(test,dfyt,how='inner',on='Date')\n",
    "test = pd.merge(test,dfkt,how='inner',on='Date')\n",
    "test = pd.merge(test,dfet,how='inner',on='Date')\n",
    "test = pd.merge(test,dfit,how='inner',on='Date')\n",
    "test = pd.merge(test,dfnt,how='inner',on='Date')"
   ]
  },
  {
   "cell_type": "code",
   "execution_count": 54,
   "metadata": {},
   "outputs": [
    {
     "data": {
      "text/html": [
       "<div>\n",
       "<style scoped>\n",
       "    .dataframe tbody tr th:only-of-type {\n",
       "        vertical-align: middle;\n",
       "    }\n",
       "\n",
       "    .dataframe tbody tr th {\n",
       "        vertical-align: top;\n",
       "    }\n",
       "\n",
       "    .dataframe thead th {\n",
       "        text-align: right;\n",
       "    }\n",
       "</style>\n",
       "<table border=\"1\" class=\"dataframe\">\n",
       "  <thead>\n",
       "    <tr style=\"text-align: right;\">\n",
       "      <th></th>\n",
       "      <th>Date</th>\n",
       "      <th>NIFTY_India Adj Close</th>\n",
       "      <th>Escorts Adj Close</th>\n",
       "      <th>Muthoot Adj Close</th>\n",
       "      <th>SBI Adj Close</th>\n",
       "      <th>HCL Adj Close</th>\n",
       "      <th>ICICI Adj Close</th>\n",
       "      <th>Escorts Open</th>\n",
       "      <th>Muthoot Open</th>\n",
       "      <th>SBI Open</th>\n",
       "      <th>HCL Open</th>\n",
       "      <th>ICICI Open</th>\n",
       "      <th>HangSeng Open</th>\n",
       "      <th>Shenzhen Open</th>\n",
       "      <th>NYSE Adj Close</th>\n",
       "      <th>KOSPI Open</th>\n",
       "      <th>Euronext Adj Close</th>\n",
       "      <th>Nikkei Open</th>\n",
       "      <th>NASDAQ Adj Close</th>\n",
       "    </tr>\n",
       "  </thead>\n",
       "  <tbody>\n",
       "    <tr>\n",
       "      <th>0</th>\n",
       "      <td>2020-04-08</td>\n",
       "      <td>8792.200195</td>\n",
       "      <td>663.750000</td>\n",
       "      <td>675.849976</td>\n",
       "      <td>186.399994</td>\n",
       "      <td>451.149994</td>\n",
       "      <td>326.100006</td>\n",
       "      <td>653.700012</td>\n",
       "      <td>662.299988</td>\n",
       "      <td>182.899994</td>\n",
       "      <td>451.000000</td>\n",
       "      <td>322.850006</td>\n",
       "      <td>24191.32031</td>\n",
       "      <td>10372.75977</td>\n",
       "      <td>10537.04004</td>\n",
       "      <td>1815.750000</td>\n",
       "      <td>872.619995</td>\n",
       "      <td>19047.75977</td>\n",
       "      <td>7887.259766</td>\n",
       "    </tr>\n",
       "    <tr>\n",
       "      <th>1</th>\n",
       "      <td>2020-04-09</td>\n",
       "      <td>8748.750000</td>\n",
       "      <td>642.349976</td>\n",
       "      <td>687.150024</td>\n",
       "      <td>183.000000</td>\n",
       "      <td>463.100006</td>\n",
       "      <td>318.950012</td>\n",
       "      <td>661.000000</td>\n",
       "      <td>700.000000</td>\n",
       "      <td>188.000000</td>\n",
       "      <td>480.700012</td>\n",
       "      <td>332.399994</td>\n",
       "      <td>24181.32031</td>\n",
       "      <td>10453.86035</td>\n",
       "      <td>10902.58984</td>\n",
       "      <td>1838.089966</td>\n",
       "      <td>874.390015</td>\n",
       "      <td>19376.00000</td>\n",
       "      <td>8090.899902</td>\n",
       "    </tr>\n",
       "    <tr>\n",
       "      <th>2</th>\n",
       "      <td>2020-04-16</td>\n",
       "      <td>8925.299805</td>\n",
       "      <td>714.700012</td>\n",
       "      <td>691.299988</td>\n",
       "      <td>182.350006</td>\n",
       "      <td>478.750000</td>\n",
       "      <td>327.350006</td>\n",
       "      <td>710.000000</td>\n",
       "      <td>672.000000</td>\n",
       "      <td>182.000000</td>\n",
       "      <td>473.000000</td>\n",
       "      <td>325.299988</td>\n",
       "      <td>24025.44922</td>\n",
       "      <td>10361.76953</td>\n",
       "      <td>10843.91992</td>\n",
       "      <td>1839.510010</td>\n",
       "      <td>857.039978</td>\n",
       "      <td>19311.30078</td>\n",
       "      <td>8393.179688</td>\n",
       "    </tr>\n",
       "    <tr>\n",
       "      <th>3</th>\n",
       "      <td>2020-04-17</td>\n",
       "      <td>8992.799805</td>\n",
       "      <td>714.299988</td>\n",
       "      <td>693.599976</td>\n",
       "      <td>188.500000</td>\n",
       "      <td>459.750000</td>\n",
       "      <td>342.000000</td>\n",
       "      <td>744.000000</td>\n",
       "      <td>715.099976</td>\n",
       "      <td>196.000000</td>\n",
       "      <td>470.000000</td>\n",
       "      <td>362.000000</td>\n",
       "      <td>24457.83008</td>\n",
       "      <td>10562.90039</td>\n",
       "      <td>10818.03027</td>\n",
       "      <td>1893.310059</td>\n",
       "      <td>857.710022</td>\n",
       "      <td>19575.84961</td>\n",
       "      <td>8532.360352</td>\n",
       "    </tr>\n",
       "    <tr>\n",
       "      <th>4</th>\n",
       "      <td>2020-04-20</td>\n",
       "      <td>9266.750000</td>\n",
       "      <td>746.200012</td>\n",
       "      <td>706.799988</td>\n",
       "      <td>193.250000</td>\n",
       "      <td>455.250000</td>\n",
       "      <td>375.549988</td>\n",
       "      <td>749.450012</td>\n",
       "      <td>714.750000</td>\n",
       "      <td>194.000000</td>\n",
       "      <td>458.000000</td>\n",
       "      <td>376.000000</td>\n",
       "      <td>24503.56055</td>\n",
       "      <td>10553.54981</td>\n",
       "      <td>11208.29004</td>\n",
       "      <td>1908.339966</td>\n",
       "      <td>883.280029</td>\n",
       "      <td>19689.84961</td>\n",
       "      <td>8650.139648</td>\n",
       "    </tr>\n",
       "  </tbody>\n",
       "</table>\n",
       "</div>"
      ],
      "text/plain": [
       "        Date  NIFTY_India Adj Close  Escorts Adj Close  Muthoot Adj Close  \\\n",
       "0 2020-04-08            8792.200195         663.750000         675.849976   \n",
       "1 2020-04-09            8748.750000         642.349976         687.150024   \n",
       "2 2020-04-16            8925.299805         714.700012         691.299988   \n",
       "3 2020-04-17            8992.799805         714.299988         693.599976   \n",
       "4 2020-04-20            9266.750000         746.200012         706.799988   \n",
       "\n",
       "   SBI Adj Close  HCL Adj Close  ICICI Adj Close  Escorts Open  Muthoot Open  \\\n",
       "0     186.399994     451.149994       326.100006    653.700012    662.299988   \n",
       "1     183.000000     463.100006       318.950012    661.000000    700.000000   \n",
       "2     182.350006     478.750000       327.350006    710.000000    672.000000   \n",
       "3     188.500000     459.750000       342.000000    744.000000    715.099976   \n",
       "4     193.250000     455.250000       375.549988    749.450012    714.750000   \n",
       "\n",
       "     SBI Open    HCL Open  ICICI Open  HangSeng Open  Shenzhen Open  \\\n",
       "0  182.899994  451.000000  322.850006    24191.32031    10372.75977   \n",
       "1  188.000000  480.700012  332.399994    24181.32031    10453.86035   \n",
       "2  182.000000  473.000000  325.299988    24025.44922    10361.76953   \n",
       "3  196.000000  470.000000  362.000000    24457.83008    10562.90039   \n",
       "4  194.000000  458.000000  376.000000    24503.56055    10553.54981   \n",
       "\n",
       "   NYSE Adj Close   KOSPI Open  Euronext Adj Close  Nikkei Open  \\\n",
       "0     10537.04004  1815.750000          872.619995  19047.75977   \n",
       "1     10902.58984  1838.089966          874.390015  19376.00000   \n",
       "2     10843.91992  1839.510010          857.039978  19311.30078   \n",
       "3     10818.03027  1893.310059          857.710022  19575.84961   \n",
       "4     11208.29004  1908.339966          883.280029  19689.84961   \n",
       "\n",
       "   NASDAQ Adj Close  \n",
       "0       7887.259766  \n",
       "1       8090.899902  \n",
       "2       8393.179688  \n",
       "3       8532.360352  \n",
       "4       8650.139648  "
      ]
     },
     "execution_count": 54,
     "metadata": {},
     "output_type": "execute_result"
    }
   ],
   "source": [
    "test.head()"
   ]
  },
  {
   "cell_type": "code",
   "execution_count": 55,
   "metadata": {},
   "outputs": [
    {
     "data": {
      "text/plain": [
       "(26, 19)"
      ]
     },
     "execution_count": 55,
     "metadata": {},
     "output_type": "execute_result"
    }
   ],
   "source": [
    "test.shape"
   ]
  },
  {
   "cell_type": "code",
   "execution_count": 56,
   "metadata": {},
   "outputs": [
    {
     "data": {
      "text/plain": [
       "Index(['Date', 'NIFTY_India Adj Close', 'Escorts Adj Close',\n",
       "       'Muthoot Adj Close', 'SBI Adj Close', 'HCL Adj Close',\n",
       "       'ICICI Adj Close', 'Escorts Open', 'Muthoot Open', 'SBI Open',\n",
       "       'HCL Open', 'ICICI Open', 'HangSeng Open', 'Shenzhen Open',\n",
       "       'NYSE Adj Close', 'KOSPI Open', 'Euronext Adj Close', 'Nikkei Open',\n",
       "       'NASDAQ Adj Close'],\n",
       "      dtype='object')"
      ]
     },
     "execution_count": 56,
     "metadata": {},
     "output_type": "execute_result"
    }
   ],
   "source": [
    "test.columns"
   ]
  },
  {
   "cell_type": "code",
   "execution_count": 57,
   "metadata": {},
   "outputs": [],
   "source": [
    "# Rearrange columns\n",
    "\n",
    "test = test[['Date','NIFTY_India Adj Close', \n",
    "                     'HCL Adj Close',\n",
    "                    'HangSeng Open', \n",
    "                    # 'Shenzhen Open',\n",
    "                    #'NYSE Adj Close', \n",
    "                     #'KOSPI Open', \n",
    "                     'Euronext Adj Close',\n",
    "                      #'NASDAQ Adj Close',\n",
    "                     'HCL Open']]"
   ]
  },
  {
   "cell_type": "code",
   "execution_count": 58,
   "metadata": {},
   "outputs": [
    {
     "data": {
      "text/html": [
       "<div>\n",
       "<style scoped>\n",
       "    .dataframe tbody tr th:only-of-type {\n",
       "        vertical-align: middle;\n",
       "    }\n",
       "\n",
       "    .dataframe tbody tr th {\n",
       "        vertical-align: top;\n",
       "    }\n",
       "\n",
       "    .dataframe thead th {\n",
       "        text-align: right;\n",
       "    }\n",
       "</style>\n",
       "<table border=\"1\" class=\"dataframe\">\n",
       "  <thead>\n",
       "    <tr style=\"text-align: right;\">\n",
       "      <th></th>\n",
       "      <th>Date</th>\n",
       "      <th>NIFTY_India Adj Close</th>\n",
       "      <th>HCL Adj Close</th>\n",
       "      <th>HangSeng Open</th>\n",
       "      <th>Euronext Adj Close</th>\n",
       "      <th>HCL Open</th>\n",
       "    </tr>\n",
       "  </thead>\n",
       "  <tbody>\n",
       "    <tr>\n",
       "      <th>0</th>\n",
       "      <td>2020-04-08</td>\n",
       "      <td>8792.200195</td>\n",
       "      <td>451.149994</td>\n",
       "      <td>24191.32031</td>\n",
       "      <td>872.619995</td>\n",
       "      <td>451.000000</td>\n",
       "    </tr>\n",
       "    <tr>\n",
       "      <th>1</th>\n",
       "      <td>2020-04-09</td>\n",
       "      <td>8748.750000</td>\n",
       "      <td>463.100006</td>\n",
       "      <td>24181.32031</td>\n",
       "      <td>874.390015</td>\n",
       "      <td>480.700012</td>\n",
       "    </tr>\n",
       "    <tr>\n",
       "      <th>2</th>\n",
       "      <td>2020-04-16</td>\n",
       "      <td>8925.299805</td>\n",
       "      <td>478.750000</td>\n",
       "      <td>24025.44922</td>\n",
       "      <td>857.039978</td>\n",
       "      <td>473.000000</td>\n",
       "    </tr>\n",
       "    <tr>\n",
       "      <th>3</th>\n",
       "      <td>2020-04-17</td>\n",
       "      <td>8992.799805</td>\n",
       "      <td>459.750000</td>\n",
       "      <td>24457.83008</td>\n",
       "      <td>857.710022</td>\n",
       "      <td>470.000000</td>\n",
       "    </tr>\n",
       "    <tr>\n",
       "      <th>4</th>\n",
       "      <td>2020-04-20</td>\n",
       "      <td>9266.750000</td>\n",
       "      <td>455.250000</td>\n",
       "      <td>24503.56055</td>\n",
       "      <td>883.280029</td>\n",
       "      <td>458.000000</td>\n",
       "    </tr>\n",
       "  </tbody>\n",
       "</table>\n",
       "</div>"
      ],
      "text/plain": [
       "        Date  NIFTY_India Adj Close  HCL Adj Close  HangSeng Open  \\\n",
       "0 2020-04-08            8792.200195     451.149994    24191.32031   \n",
       "1 2020-04-09            8748.750000     463.100006    24181.32031   \n",
       "2 2020-04-16            8925.299805     478.750000    24025.44922   \n",
       "3 2020-04-17            8992.799805     459.750000    24457.83008   \n",
       "4 2020-04-20            9266.750000     455.250000    24503.56055   \n",
       "\n",
       "   Euronext Adj Close    HCL Open  \n",
       "0          872.619995  451.000000  \n",
       "1          874.390015  480.700012  \n",
       "2          857.039978  473.000000  \n",
       "3          857.710022  470.000000  \n",
       "4          883.280029  458.000000  "
      ]
     },
     "execution_count": 58,
     "metadata": {},
     "output_type": "execute_result"
    }
   ],
   "source": [
    "test.head()"
   ]
  },
  {
   "cell_type": "code",
   "execution_count": 59,
   "metadata": {
    "scrolled": true
   },
   "outputs": [
    {
     "data": {
      "text/plain": [
       "Date                     0\n",
       "NIFTY_India Adj Close    0\n",
       "HCL Adj Close            0\n",
       "HangSeng Open            0\n",
       "Euronext Adj Close       0\n",
       "HCL Open                 0\n",
       "dtype: int64"
      ]
     },
     "execution_count": 59,
     "metadata": {},
     "output_type": "execute_result"
    }
   ],
   "source": [
    "test.isnull().sum()"
   ]
  },
  {
   "cell_type": "markdown",
   "metadata": {},
   "source": [
    "## Apply Machine Learning Models"
   ]
  },
  {
   "cell_type": "code",
   "execution_count": 60,
   "metadata": {},
   "outputs": [],
   "source": [
    "X = train_final[train_final.columns[0:-1]]\n",
    "Y = train_final[train_final.columns[-1]]"
   ]
  },
  {
   "cell_type": "code",
   "execution_count": 61,
   "metadata": {},
   "outputs": [],
   "source": [
    "X_test = test[test.columns[1:-1]]"
   ]
  },
  {
   "cell_type": "code",
   "execution_count": 62,
   "metadata": {},
   "outputs": [],
   "source": [
    "test.rename(columns = {'HCL Open':'Actual Open'}, inplace=True)"
   ]
  },
  {
   "cell_type": "code",
   "execution_count": 63,
   "metadata": {},
   "outputs": [
    {
     "data": {
      "text/html": [
       "<div>\n",
       "<style scoped>\n",
       "    .dataframe tbody tr th:only-of-type {\n",
       "        vertical-align: middle;\n",
       "    }\n",
       "\n",
       "    .dataframe tbody tr th {\n",
       "        vertical-align: top;\n",
       "    }\n",
       "\n",
       "    .dataframe thead th {\n",
       "        text-align: right;\n",
       "    }\n",
       "</style>\n",
       "<table border=\"1\" class=\"dataframe\">\n",
       "  <thead>\n",
       "    <tr style=\"text-align: right;\">\n",
       "      <th></th>\n",
       "      <th>Date</th>\n",
       "      <th>NIFTY_India Adj Close</th>\n",
       "      <th>HCL Adj Close</th>\n",
       "      <th>HangSeng Open</th>\n",
       "      <th>Euronext Adj Close</th>\n",
       "      <th>Actual Open</th>\n",
       "    </tr>\n",
       "  </thead>\n",
       "  <tbody>\n",
       "    <tr>\n",
       "      <th>0</th>\n",
       "      <td>2020-04-08</td>\n",
       "      <td>8792.200195</td>\n",
       "      <td>451.149994</td>\n",
       "      <td>24191.32031</td>\n",
       "      <td>872.619995</td>\n",
       "      <td>451.000000</td>\n",
       "    </tr>\n",
       "    <tr>\n",
       "      <th>1</th>\n",
       "      <td>2020-04-09</td>\n",
       "      <td>8748.750000</td>\n",
       "      <td>463.100006</td>\n",
       "      <td>24181.32031</td>\n",
       "      <td>874.390015</td>\n",
       "      <td>480.700012</td>\n",
       "    </tr>\n",
       "    <tr>\n",
       "      <th>2</th>\n",
       "      <td>2020-04-16</td>\n",
       "      <td>8925.299805</td>\n",
       "      <td>478.750000</td>\n",
       "      <td>24025.44922</td>\n",
       "      <td>857.039978</td>\n",
       "      <td>473.000000</td>\n",
       "    </tr>\n",
       "    <tr>\n",
       "      <th>3</th>\n",
       "      <td>2020-04-17</td>\n",
       "      <td>8992.799805</td>\n",
       "      <td>459.750000</td>\n",
       "      <td>24457.83008</td>\n",
       "      <td>857.710022</td>\n",
       "      <td>470.000000</td>\n",
       "    </tr>\n",
       "    <tr>\n",
       "      <th>4</th>\n",
       "      <td>2020-04-20</td>\n",
       "      <td>9266.750000</td>\n",
       "      <td>455.250000</td>\n",
       "      <td>24503.56055</td>\n",
       "      <td>883.280029</td>\n",
       "      <td>458.000000</td>\n",
       "    </tr>\n",
       "  </tbody>\n",
       "</table>\n",
       "</div>"
      ],
      "text/plain": [
       "        Date  NIFTY_India Adj Close  HCL Adj Close  HangSeng Open  \\\n",
       "0 2020-04-08            8792.200195     451.149994    24191.32031   \n",
       "1 2020-04-09            8748.750000     463.100006    24181.32031   \n",
       "2 2020-04-16            8925.299805     478.750000    24025.44922   \n",
       "3 2020-04-17            8992.799805     459.750000    24457.83008   \n",
       "4 2020-04-20            9266.750000     455.250000    24503.56055   \n",
       "\n",
       "   Euronext Adj Close  Actual Open  \n",
       "0          872.619995   451.000000  \n",
       "1          874.390015   480.700012  \n",
       "2          857.039978   473.000000  \n",
       "3          857.710022   470.000000  \n",
       "4          883.280029   458.000000  "
      ]
     },
     "execution_count": 63,
     "metadata": {},
     "output_type": "execute_result"
    }
   ],
   "source": [
    "test.head()"
   ]
  },
  {
   "cell_type": "markdown",
   "metadata": {},
   "source": [
    "## 1. Linear Regression Model"
   ]
  },
  {
   "cell_type": "code",
   "execution_count": 64,
   "metadata": {},
   "outputs": [
    {
     "data": {
      "text/html": [
       "<div>\n",
       "<style scoped>\n",
       "    .dataframe tbody tr th:only-of-type {\n",
       "        vertical-align: middle;\n",
       "    }\n",
       "\n",
       "    .dataframe tbody tr th {\n",
       "        vertical-align: top;\n",
       "    }\n",
       "\n",
       "    .dataframe thead th {\n",
       "        text-align: right;\n",
       "    }\n",
       "</style>\n",
       "<table border=\"1\" class=\"dataframe\">\n",
       "  <thead>\n",
       "    <tr style=\"text-align: right;\">\n",
       "      <th></th>\n",
       "      <th>NIFTY_India Adj Close</th>\n",
       "      <th>HCL Adj Close</th>\n",
       "      <th>HangSeng Open</th>\n",
       "      <th>Euronext Adj Close</th>\n",
       "    </tr>\n",
       "  </thead>\n",
       "  <tbody>\n",
       "    <tr>\n",
       "      <th>0</th>\n",
       "      <td>8127.350098</td>\n",
       "      <td>322.932098</td>\n",
       "      <td>23396.69922</td>\n",
       "      <td>805.469971</td>\n",
       "    </tr>\n",
       "    <tr>\n",
       "      <th>1</th>\n",
       "      <td>8102.100098</td>\n",
       "      <td>315.258636</td>\n",
       "      <td>23920.34961</td>\n",
       "      <td>810.940002</td>\n",
       "    </tr>\n",
       "    <tr>\n",
       "      <th>2</th>\n",
       "      <td>8234.599609</td>\n",
       "      <td>322.553589</td>\n",
       "      <td>24049.69922</td>\n",
       "      <td>837.729980</td>\n",
       "    </tr>\n",
       "    <tr>\n",
       "      <th>3</th>\n",
       "      <td>8323.000000</td>\n",
       "      <td>331.226013</td>\n",
       "      <td>23908.23047</td>\n",
       "      <td>832.760010</td>\n",
       "    </tr>\n",
       "    <tr>\n",
       "      <th>4</th>\n",
       "      <td>8299.400391</td>\n",
       "      <td>332.917969</td>\n",
       "      <td>24276.33008</td>\n",
       "      <td>845.299988</td>\n",
       "    </tr>\n",
       "  </tbody>\n",
       "</table>\n",
       "</div>"
      ],
      "text/plain": [
       "   NIFTY_India Adj Close  HCL Adj Close  HangSeng Open  Euronext Adj Close\n",
       "0            8127.350098     322.932098    23396.69922          805.469971\n",
       "1            8102.100098     315.258636    23920.34961          810.940002\n",
       "2            8234.599609     322.553589    24049.69922          837.729980\n",
       "3            8323.000000     331.226013    23908.23047          832.760010\n",
       "4            8299.400391     332.917969    24276.33008          845.299988"
      ]
     },
     "execution_count": 64,
     "metadata": {},
     "output_type": "execute_result"
    }
   ],
   "source": [
    "X.head()"
   ]
  },
  {
   "cell_type": "code",
   "execution_count": 65,
   "metadata": {},
   "outputs": [],
   "source": [
    "model_linear = LinearRegression()"
   ]
  },
  {
   "cell_type": "code",
   "execution_count": 66,
   "metadata": {},
   "outputs": [
    {
     "data": {
      "text/plain": [
       "LinearRegression(copy_X=True, fit_intercept=True, n_jobs=None, normalize=False)"
      ]
     },
     "execution_count": 66,
     "metadata": {},
     "output_type": "execute_result"
    }
   ],
   "source": [
    "model_linear.fit(X,Y)"
   ]
  },
  {
   "cell_type": "code",
   "execution_count": 67,
   "metadata": {},
   "outputs": [
    {
     "data": {
      "text/plain": [
       "array([-2.08294859e-02,  1.07164005e+00,  7.51853561e-04,  9.98210483e-02])"
      ]
     },
     "execution_count": 67,
     "metadata": {},
     "output_type": "execute_result"
    }
   ],
   "source": [
    "model_linear.coef_"
   ]
  },
  {
   "cell_type": "code",
   "execution_count": 68,
   "metadata": {},
   "outputs": [
    {
     "data": {
      "text/html": [
       "<div>\n",
       "<style scoped>\n",
       "    .dataframe tbody tr th:only-of-type {\n",
       "        vertical-align: middle;\n",
       "    }\n",
       "\n",
       "    .dataframe tbody tr th {\n",
       "        vertical-align: top;\n",
       "    }\n",
       "\n",
       "    .dataframe thead th {\n",
       "        text-align: right;\n",
       "    }\n",
       "</style>\n",
       "<table border=\"1\" class=\"dataframe\">\n",
       "  <thead>\n",
       "    <tr style=\"text-align: right;\">\n",
       "      <th></th>\n",
       "      <th>NIFTY_India Adj Close</th>\n",
       "      <th>HCL Adj Close</th>\n",
       "      <th>HangSeng Open</th>\n",
       "      <th>Euronext Adj Close</th>\n",
       "    </tr>\n",
       "  </thead>\n",
       "  <tbody>\n",
       "    <tr>\n",
       "      <th>0</th>\n",
       "      <td>8792.200195</td>\n",
       "      <td>451.149994</td>\n",
       "      <td>24191.32031</td>\n",
       "      <td>872.619995</td>\n",
       "    </tr>\n",
       "    <tr>\n",
       "      <th>1</th>\n",
       "      <td>8748.750000</td>\n",
       "      <td>463.100006</td>\n",
       "      <td>24181.32031</td>\n",
       "      <td>874.390015</td>\n",
       "    </tr>\n",
       "    <tr>\n",
       "      <th>2</th>\n",
       "      <td>8925.299805</td>\n",
       "      <td>478.750000</td>\n",
       "      <td>24025.44922</td>\n",
       "      <td>857.039978</td>\n",
       "    </tr>\n",
       "    <tr>\n",
       "      <th>3</th>\n",
       "      <td>8992.799805</td>\n",
       "      <td>459.750000</td>\n",
       "      <td>24457.83008</td>\n",
       "      <td>857.710022</td>\n",
       "    </tr>\n",
       "    <tr>\n",
       "      <th>4</th>\n",
       "      <td>9266.750000</td>\n",
       "      <td>455.250000</td>\n",
       "      <td>24503.56055</td>\n",
       "      <td>883.280029</td>\n",
       "    </tr>\n",
       "  </tbody>\n",
       "</table>\n",
       "</div>"
      ],
      "text/plain": [
       "   NIFTY_India Adj Close  HCL Adj Close  HangSeng Open  Euronext Adj Close\n",
       "0            8792.200195     451.149994    24191.32031          872.619995\n",
       "1            8748.750000     463.100006    24181.32031          874.390015\n",
       "2            8925.299805     478.750000    24025.44922          857.039978\n",
       "3            8992.799805     459.750000    24457.83008          857.710022\n",
       "4            9266.750000     455.250000    24503.56055          883.280029"
      ]
     },
     "execution_count": 68,
     "metadata": {},
     "output_type": "execute_result"
    }
   ],
   "source": [
    "X_test.head()"
   ]
  },
  {
   "cell_type": "code",
   "execution_count": 69,
   "metadata": {},
   "outputs": [],
   "source": [
    "test['LR Predicted Open'] = model_linear.predict(X_test)"
   ]
  },
  {
   "cell_type": "code",
   "execution_count": 70,
   "metadata": {},
   "outputs": [
    {
     "data": {
      "text/html": [
       "<div>\n",
       "<style scoped>\n",
       "    .dataframe tbody tr th:only-of-type {\n",
       "        vertical-align: middle;\n",
       "    }\n",
       "\n",
       "    .dataframe tbody tr th {\n",
       "        vertical-align: top;\n",
       "    }\n",
       "\n",
       "    .dataframe thead th {\n",
       "        text-align: right;\n",
       "    }\n",
       "</style>\n",
       "<table border=\"1\" class=\"dataframe\">\n",
       "  <thead>\n",
       "    <tr style=\"text-align: right;\">\n",
       "      <th></th>\n",
       "      <th>Date</th>\n",
       "      <th>NIFTY_India Adj Close</th>\n",
       "      <th>HCL Adj Close</th>\n",
       "      <th>HangSeng Open</th>\n",
       "      <th>Euronext Adj Close</th>\n",
       "      <th>Actual Open</th>\n",
       "      <th>LR Predicted Open</th>\n",
       "    </tr>\n",
       "  </thead>\n",
       "  <tbody>\n",
       "    <tr>\n",
       "      <th>0</th>\n",
       "      <td>2020-04-08</td>\n",
       "      <td>8792.200195</td>\n",
       "      <td>451.149994</td>\n",
       "      <td>24191.32031</td>\n",
       "      <td>872.619995</td>\n",
       "      <td>451.000000</td>\n",
       "      <td>480.303070</td>\n",
       "    </tr>\n",
       "    <tr>\n",
       "      <th>1</th>\n",
       "      <td>2020-04-09</td>\n",
       "      <td>8748.750000</td>\n",
       "      <td>463.100006</td>\n",
       "      <td>24181.32031</td>\n",
       "      <td>874.390015</td>\n",
       "      <td>480.700012</td>\n",
       "      <td>494.183394</td>\n",
       "    </tr>\n",
       "    <tr>\n",
       "      <th>2</th>\n",
       "      <td>2020-04-16</td>\n",
       "      <td>8925.299805</td>\n",
       "      <td>478.750000</td>\n",
       "      <td>24025.44922</td>\n",
       "      <td>857.039978</td>\n",
       "      <td>473.000000</td>\n",
       "      <td>505.428021</td>\n",
       "    </tr>\n",
       "    <tr>\n",
       "      <th>3</th>\n",
       "      <td>2020-04-17</td>\n",
       "      <td>8992.799805</td>\n",
       "      <td>459.750000</td>\n",
       "      <td>24457.83008</td>\n",
       "      <td>857.710022</td>\n",
       "      <td>470.000000</td>\n",
       "      <td>484.052841</td>\n",
       "    </tr>\n",
       "    <tr>\n",
       "      <th>4</th>\n",
       "      <td>2020-04-20</td>\n",
       "      <td>9266.750000</td>\n",
       "      <td>455.250000</td>\n",
       "      <td>24503.56055</td>\n",
       "      <td>883.280029</td>\n",
       "      <td>458.000000</td>\n",
       "      <td>476.111027</td>\n",
       "    </tr>\n",
       "  </tbody>\n",
       "</table>\n",
       "</div>"
      ],
      "text/plain": [
       "        Date  NIFTY_India Adj Close  HCL Adj Close  HangSeng Open  \\\n",
       "0 2020-04-08            8792.200195     451.149994    24191.32031   \n",
       "1 2020-04-09            8748.750000     463.100006    24181.32031   \n",
       "2 2020-04-16            8925.299805     478.750000    24025.44922   \n",
       "3 2020-04-17            8992.799805     459.750000    24457.83008   \n",
       "4 2020-04-20            9266.750000     455.250000    24503.56055   \n",
       "\n",
       "   Euronext Adj Close  Actual Open  LR Predicted Open  \n",
       "0          872.619995   451.000000         480.303070  \n",
       "1          874.390015   480.700012         494.183394  \n",
       "2          857.039978   473.000000         505.428021  \n",
       "3          857.710022   470.000000         484.052841  \n",
       "4          883.280029   458.000000         476.111027  "
      ]
     },
     "execution_count": 70,
     "metadata": {},
     "output_type": "execute_result"
    }
   ],
   "source": [
    "test.head()"
   ]
  },
  {
   "cell_type": "code",
   "execution_count": 71,
   "metadata": {},
   "outputs": [
    {
     "data": {
      "text/plain": [
       "0.2628072395328743"
      ]
     },
     "execution_count": 71,
     "metadata": {},
     "output_type": "execute_result"
    }
   ],
   "source": [
    "model_linear.score(X_test, test['Actual Open'])"
   ]
  },
  {
   "cell_type": "code",
   "execution_count": 72,
   "metadata": {},
   "outputs": [
    {
     "data": {
      "text/plain": [
       "648.6659259602836"
      ]
     },
     "execution_count": 72,
     "metadata": {},
     "output_type": "execute_result"
    }
   ],
   "source": [
    "# Mean squared error regression loss\n",
    "mean_squared_error(test['Actual Open'], test['LR Predicted Open'])"
   ]
  },
  {
   "cell_type": "markdown",
   "metadata": {},
   "source": [
    "## 2. Support Vector Regression"
   ]
  },
  {
   "cell_type": "code",
   "execution_count": 76,
   "metadata": {},
   "outputs": [],
   "source": [
    "model_svr = SVR()"
   ]
  },
  {
   "cell_type": "code",
   "execution_count": 77,
   "metadata": {},
   "outputs": [],
   "source": [
    "hyperparameter_grid = {'kernel':['rbf', 'linear'],\n",
    "                       'C':[.01, .1, 1, 10, 50, 100],\n",
    "                       'tol': [1e-4, 1e-3]\n",
    "                      }\n",
    "                       \n",
    "grid_cv = GridSearchCV(estimator=model_svr,\n",
    "            param_grid=hyperparameter_grid,\n",
    "            cv=5,\n",
    "            scoring = 'neg_mean_squared_error',\n",
    "            n_jobs = -1,\n",
    "            verbose = 5 )"
   ]
  },
  {
   "cell_type": "code",
   "execution_count": 78,
   "metadata": {},
   "outputs": [
    {
     "name": "stdout",
     "output_type": "stream",
     "text": [
      "Fitting 5 folds for each of 24 candidates, totalling 120 fits\n"
     ]
    },
    {
     "name": "stderr",
     "output_type": "stream",
     "text": [
      "[Parallel(n_jobs=-1)]: Using backend LokyBackend with 4 concurrent workers.\n",
      "[Parallel(n_jobs=-1)]: Done  10 tasks      | elapsed:    1.9s\n",
      "[Parallel(n_jobs=-1)]: Done  64 tasks      | elapsed:  1.1min\n",
      "[Parallel(n_jobs=-1)]: Done 120 out of 120 | elapsed:  2.5min finished\n"
     ]
    },
    {
     "data": {
      "text/plain": [
       "GridSearchCV(cv=5, error_score=nan,\n",
       "             estimator=SVR(C=1.0, cache_size=200, coef0=0.0, degree=3,\n",
       "                           epsilon=0.1, gamma='scale', kernel='rbf',\n",
       "                           max_iter=-1, shrinking=True, tol=0.001,\n",
       "                           verbose=False),\n",
       "             iid='deprecated', n_jobs=-1,\n",
       "             param_grid={'C': [0.01, 0.1, 1, 10, 50, 100],\n",
       "                         'kernel': ['rbf', 'linear'], 'tol': [0.0001, 0.001]},\n",
       "             pre_dispatch='2*n_jobs', refit=True, return_train_score=False,\n",
       "             scoring='neg_mean_squared_error', verbose=5)"
      ]
     },
     "execution_count": 78,
     "metadata": {},
     "output_type": "execute_result"
    }
   ],
   "source": [
    "grid_cv.fit(X,Y)"
   ]
  },
  {
   "cell_type": "code",
   "execution_count": 79,
   "metadata": {},
   "outputs": [
    {
     "data": {
      "text/plain": [
       "SVR(C=0.01, cache_size=200, coef0=0.0, degree=3, epsilon=0.1, gamma='scale',\n",
       "    kernel='linear', max_iter=-1, shrinking=True, tol=0.0001, verbose=False)"
      ]
     },
     "execution_count": 79,
     "metadata": {},
     "output_type": "execute_result"
    }
   ],
   "source": [
    "grid_cv.best_estimator_"
   ]
  },
  {
   "cell_type": "code",
   "execution_count": 73,
   "metadata": {},
   "outputs": [],
   "source": [
    "model_svr = SVR(C=0.01, cache_size=200, coef0=0.0, degree=3, epsilon=0.1, gamma='scale',\n",
    "    kernel='linear', max_iter=-1, shrinking=True, tol=0.0001, verbose=False)"
   ]
  },
  {
   "cell_type": "code",
   "execution_count": 74,
   "metadata": {},
   "outputs": [
    {
     "data": {
      "text/plain": [
       "SVR(C=0.01, cache_size=200, coef0=0.0, degree=3, epsilon=0.1, gamma='scale',\n",
       "    kernel='linear', max_iter=-1, shrinking=True, tol=0.0001, verbose=False)"
      ]
     },
     "execution_count": 74,
     "metadata": {},
     "output_type": "execute_result"
    }
   ],
   "source": [
    "model_svr.fit(X,Y)"
   ]
  },
  {
   "cell_type": "code",
   "execution_count": 75,
   "metadata": {},
   "outputs": [],
   "source": [
    "test['SVR Predicted Open'] = model_svr.predict(X_test)"
   ]
  },
  {
   "cell_type": "code",
   "execution_count": 76,
   "metadata": {},
   "outputs": [
    {
     "data": {
      "text/html": [
       "<div>\n",
       "<style scoped>\n",
       "    .dataframe tbody tr th:only-of-type {\n",
       "        vertical-align: middle;\n",
       "    }\n",
       "\n",
       "    .dataframe tbody tr th {\n",
       "        vertical-align: top;\n",
       "    }\n",
       "\n",
       "    .dataframe thead th {\n",
       "        text-align: right;\n",
       "    }\n",
       "</style>\n",
       "<table border=\"1\" class=\"dataframe\">\n",
       "  <thead>\n",
       "    <tr style=\"text-align: right;\">\n",
       "      <th></th>\n",
       "      <th>Date</th>\n",
       "      <th>NIFTY_India Adj Close</th>\n",
       "      <th>HCL Adj Close</th>\n",
       "      <th>HangSeng Open</th>\n",
       "      <th>Euronext Adj Close</th>\n",
       "      <th>Actual Open</th>\n",
       "      <th>LR Predicted Open</th>\n",
       "      <th>SVR Predicted Open</th>\n",
       "    </tr>\n",
       "  </thead>\n",
       "  <tbody>\n",
       "    <tr>\n",
       "      <th>0</th>\n",
       "      <td>2020-04-08</td>\n",
       "      <td>8792.200195</td>\n",
       "      <td>451.149994</td>\n",
       "      <td>24191.32031</td>\n",
       "      <td>872.619995</td>\n",
       "      <td>451.000000</td>\n",
       "      <td>480.303070</td>\n",
       "      <td>478.966111</td>\n",
       "    </tr>\n",
       "    <tr>\n",
       "      <th>1</th>\n",
       "      <td>2020-04-09</td>\n",
       "      <td>8748.750000</td>\n",
       "      <td>463.100006</td>\n",
       "      <td>24181.32031</td>\n",
       "      <td>874.390015</td>\n",
       "      <td>480.700012</td>\n",
       "      <td>494.183394</td>\n",
       "      <td>492.704368</td>\n",
       "    </tr>\n",
       "    <tr>\n",
       "      <th>2</th>\n",
       "      <td>2020-04-16</td>\n",
       "      <td>8925.299805</td>\n",
       "      <td>478.750000</td>\n",
       "      <td>24025.44922</td>\n",
       "      <td>857.039978</td>\n",
       "      <td>473.000000</td>\n",
       "      <td>505.428021</td>\n",
       "      <td>505.277456</td>\n",
       "    </tr>\n",
       "    <tr>\n",
       "      <th>3</th>\n",
       "      <td>2020-04-17</td>\n",
       "      <td>8992.799805</td>\n",
       "      <td>459.750000</td>\n",
       "      <td>24457.83008</td>\n",
       "      <td>857.710022</td>\n",
       "      <td>470.000000</td>\n",
       "      <td>484.052841</td>\n",
       "      <td>483.798343</td>\n",
       "    </tr>\n",
       "    <tr>\n",
       "      <th>4</th>\n",
       "      <td>2020-04-20</td>\n",
       "      <td>9266.750000</td>\n",
       "      <td>455.250000</td>\n",
       "      <td>24503.56055</td>\n",
       "      <td>883.280029</td>\n",
       "      <td>458.000000</td>\n",
       "      <td>476.111027</td>\n",
       "      <td>476.011293</td>\n",
       "    </tr>\n",
       "  </tbody>\n",
       "</table>\n",
       "</div>"
      ],
      "text/plain": [
       "        Date  NIFTY_India Adj Close  HCL Adj Close  HangSeng Open  \\\n",
       "0 2020-04-08            8792.200195     451.149994    24191.32031   \n",
       "1 2020-04-09            8748.750000     463.100006    24181.32031   \n",
       "2 2020-04-16            8925.299805     478.750000    24025.44922   \n",
       "3 2020-04-17            8992.799805     459.750000    24457.83008   \n",
       "4 2020-04-20            9266.750000     455.250000    24503.56055   \n",
       "\n",
       "   Euronext Adj Close  Actual Open  LR Predicted Open  SVR Predicted Open  \n",
       "0          872.619995   451.000000         480.303070          478.966111  \n",
       "1          874.390015   480.700012         494.183394          492.704368  \n",
       "2          857.039978   473.000000         505.428021          505.277456  \n",
       "3          857.710022   470.000000         484.052841          483.798343  \n",
       "4          883.280029   458.000000         476.111027          476.011293  "
      ]
     },
     "execution_count": 76,
     "metadata": {},
     "output_type": "execute_result"
    }
   ],
   "source": [
    "test.head()"
   ]
  },
  {
   "cell_type": "code",
   "execution_count": 77,
   "metadata": {},
   "outputs": [],
   "source": [
    "#test.drop('Predicted Open',axis=1)"
   ]
  },
  {
   "cell_type": "code",
   "execution_count": 78,
   "metadata": {},
   "outputs": [
    {
     "data": {
      "text/plain": [
       "0.27677731310062514"
      ]
     },
     "execution_count": 78,
     "metadata": {},
     "output_type": "execute_result"
    }
   ],
   "source": [
    "model_svr.score(X_test, test['Actual Open'])"
   ]
  },
  {
   "cell_type": "code",
   "execution_count": 79,
   "metadata": {},
   "outputs": [
    {
     "data": {
      "text/plain": [
       "636.3734684206622"
      ]
     },
     "execution_count": 79,
     "metadata": {},
     "output_type": "execute_result"
    }
   ],
   "source": [
    "# Mean squared error regression loss\n",
    "mean_squared_error(test['Actual Open'], test['SVR Predicted Open'])"
   ]
  },
  {
   "cell_type": "markdown",
   "metadata": {},
   "source": [
    "## 3. Random Forest Regressor"
   ]
  },
  {
   "cell_type": "code",
   "execution_count": 101,
   "metadata": {},
   "outputs": [],
   "source": [
    "model_rf = RandomForestRegressor()"
   ]
  },
  {
   "cell_type": "code",
   "execution_count": 102,
   "metadata": {},
   "outputs": [],
   "source": [
    "hyperparameter_grid = {'n_estimators':[ _ for _ in range(20,150,10)],\n",
    "                       'max_depth':[_ for _ in range(4,20,2)],\n",
    "                       'max_features': ['sqrt','auto'],\n",
    "                       'min_samples_leaf': [1,2,3],\n",
    "                       'bootstrap':[True, False] }\n",
    "\n",
    "\n",
    "grid_cv = GridSearchCV(estimator=model_rf,\n",
    "            param_grid=hyperparameter_grid,\n",
    "            cv=5, \n",
    "            scoring = 'neg_mean_squared_error',\n",
    "            n_jobs = -1,\n",
    "            verbose = 5 )"
   ]
  },
  {
   "cell_type": "code",
   "execution_count": 103,
   "metadata": {},
   "outputs": [
    {
     "name": "stdout",
     "output_type": "stream",
     "text": [
      "Fitting 5 folds for each of 1248 candidates, totalling 6240 fits\n"
     ]
    },
    {
     "name": "stderr",
     "output_type": "stream",
     "text": [
      "[Parallel(n_jobs=-1)]: Using backend LokyBackend with 4 concurrent workers.\n",
      "[Parallel(n_jobs=-1)]: Done  10 tasks      | elapsed:    1.9s\n",
      "[Parallel(n_jobs=-1)]: Done  96 tasks      | elapsed:    4.1s\n",
      "[Parallel(n_jobs=-1)]: Done 276 tasks      | elapsed:    9.5s\n",
      "[Parallel(n_jobs=-1)]: Done 528 tasks      | elapsed:   17.4s\n",
      "[Parallel(n_jobs=-1)]: Done 852 tasks      | elapsed:   29.3s\n",
      "[Parallel(n_jobs=-1)]: Done 1248 tasks      | elapsed:   45.4s\n",
      "[Parallel(n_jobs=-1)]: Done 1716 tasks      | elapsed:  1.1min\n",
      "[Parallel(n_jobs=-1)]: Done 2256 tasks      | elapsed:  1.5min\n",
      "[Parallel(n_jobs=-1)]: Done 2868 tasks      | elapsed:  2.0min\n",
      "[Parallel(n_jobs=-1)]: Done 3552 tasks      | elapsed:  2.4min\n",
      "[Parallel(n_jobs=-1)]: Done 4308 tasks      | elapsed:  2.9min\n",
      "[Parallel(n_jobs=-1)]: Done 5040 tasks      | elapsed:  3.7min\n",
      "[Parallel(n_jobs=-1)]: Done 5490 tasks      | elapsed:  4.1min\n",
      "[Parallel(n_jobs=-1)]: Done 5976 tasks      | elapsed:  4.6min\n",
      "[Parallel(n_jobs=-1)]: Done 6240 out of 6240 | elapsed:  4.9min finished\n"
     ]
    },
    {
     "data": {
      "text/plain": [
       "GridSearchCV(cv=5, error_score=nan,\n",
       "             estimator=RandomForestRegressor(bootstrap=True, ccp_alpha=0.0,\n",
       "                                             criterion='mse', max_depth=None,\n",
       "                                             max_features='auto',\n",
       "                                             max_leaf_nodes=None,\n",
       "                                             max_samples=None,\n",
       "                                             min_impurity_decrease=0.0,\n",
       "                                             min_impurity_split=None,\n",
       "                                             min_samples_leaf=1,\n",
       "                                             min_samples_split=2,\n",
       "                                             min_weight_fraction_leaf=0.0,\n",
       "                                             n_estimators=100, n_jobs=None,\n",
       "                                             oob_score=False, rand...\n",
       "                                             verbose=0, warm_start=False),\n",
       "             iid='deprecated', n_jobs=-1,\n",
       "             param_grid={'bootstrap': [True, False],\n",
       "                         'max_depth': [4, 6, 8, 10, 12, 14, 16, 18],\n",
       "                         'max_features': ['sqrt', 'auto'],\n",
       "                         'min_samples_leaf': [1, 2, 3],\n",
       "                         'n_estimators': [20, 30, 40, 50, 60, 70, 80, 90, 100,\n",
       "                                          110, 120, 130, 140]},\n",
       "             pre_dispatch='2*n_jobs', refit=True, return_train_score=False,\n",
       "             scoring='neg_mean_squared_error', verbose=5)"
      ]
     },
     "execution_count": 103,
     "metadata": {},
     "output_type": "execute_result"
    }
   ],
   "source": [
    "grid_cv.fit(X,Y)"
   ]
  },
  {
   "cell_type": "code",
   "execution_count": 104,
   "metadata": {},
   "outputs": [
    {
     "data": {
      "text/plain": [
       "RandomForestRegressor(bootstrap=True, ccp_alpha=0.0, criterion='mse',\n",
       "                      max_depth=10, max_features='auto', max_leaf_nodes=None,\n",
       "                      max_samples=None, min_impurity_decrease=0.0,\n",
       "                      min_impurity_split=None, min_samples_leaf=1,\n",
       "                      min_samples_split=2, min_weight_fraction_leaf=0.0,\n",
       "                      n_estimators=30, n_jobs=None, oob_score=False,\n",
       "                      random_state=None, verbose=0, warm_start=False)"
      ]
     },
     "execution_count": 104,
     "metadata": {},
     "output_type": "execute_result"
    }
   ],
   "source": [
    "grid_cv.best_estimator_"
   ]
  },
  {
   "cell_type": "code",
   "execution_count": 80,
   "metadata": {},
   "outputs": [],
   "source": [
    "model_rf = RandomForestRegressor(bootstrap=True, ccp_alpha=0.0, criterion='mse',\n",
    "                      max_depth=10, max_features='auto', max_leaf_nodes=None,\n",
    "                      max_samples=None, min_impurity_decrease=0.0,\n",
    "                      min_impurity_split=None, min_samples_leaf=1,\n",
    "                      min_samples_split=2, min_weight_fraction_leaf=0.0,\n",
    "                      n_estimators=100, n_jobs=None, oob_score=False,\n",
    "                      random_state=None, verbose=0, warm_start=False)"
   ]
  },
  {
   "cell_type": "code",
   "execution_count": 81,
   "metadata": {},
   "outputs": [
    {
     "data": {
      "text/plain": [
       "RandomForestRegressor(bootstrap=True, ccp_alpha=0.0, criterion='mse',\n",
       "                      max_depth=10, max_features='auto', max_leaf_nodes=None,\n",
       "                      max_samples=None, min_impurity_decrease=0.0,\n",
       "                      min_impurity_split=None, min_samples_leaf=1,\n",
       "                      min_samples_split=2, min_weight_fraction_leaf=0.0,\n",
       "                      n_estimators=100, n_jobs=None, oob_score=False,\n",
       "                      random_state=None, verbose=0, warm_start=False)"
      ]
     },
     "execution_count": 81,
     "metadata": {},
     "output_type": "execute_result"
    }
   ],
   "source": [
    "model_rf.fit(X,Y)"
   ]
  },
  {
   "cell_type": "code",
   "execution_count": 82,
   "metadata": {},
   "outputs": [],
   "source": [
    "test['Random Forest Predicted Open'] = model_rf.predict(X_test)"
   ]
  },
  {
   "cell_type": "code",
   "execution_count": 83,
   "metadata": {},
   "outputs": [
    {
     "data": {
      "text/html": [
       "<div>\n",
       "<style scoped>\n",
       "    .dataframe tbody tr th:only-of-type {\n",
       "        vertical-align: middle;\n",
       "    }\n",
       "\n",
       "    .dataframe tbody tr th {\n",
       "        vertical-align: top;\n",
       "    }\n",
       "\n",
       "    .dataframe thead th {\n",
       "        text-align: right;\n",
       "    }\n",
       "</style>\n",
       "<table border=\"1\" class=\"dataframe\">\n",
       "  <thead>\n",
       "    <tr style=\"text-align: right;\">\n",
       "      <th></th>\n",
       "      <th>Date</th>\n",
       "      <th>NIFTY_India Adj Close</th>\n",
       "      <th>HCL Adj Close</th>\n",
       "      <th>HangSeng Open</th>\n",
       "      <th>Euronext Adj Close</th>\n",
       "      <th>Actual Open</th>\n",
       "      <th>LR Predicted Open</th>\n",
       "      <th>SVR Predicted Open</th>\n",
       "      <th>Random Forest Predicted Open</th>\n",
       "    </tr>\n",
       "  </thead>\n",
       "  <tbody>\n",
       "    <tr>\n",
       "      <th>0</th>\n",
       "      <td>2020-04-08</td>\n",
       "      <td>8792.200195</td>\n",
       "      <td>451.149994</td>\n",
       "      <td>24191.32031</td>\n",
       "      <td>872.619995</td>\n",
       "      <td>451.000000</td>\n",
       "      <td>480.303070</td>\n",
       "      <td>478.966111</td>\n",
       "      <td>471.037395</td>\n",
       "    </tr>\n",
       "    <tr>\n",
       "      <th>1</th>\n",
       "      <td>2020-04-09</td>\n",
       "      <td>8748.750000</td>\n",
       "      <td>463.100006</td>\n",
       "      <td>24181.32031</td>\n",
       "      <td>874.390015</td>\n",
       "      <td>480.700012</td>\n",
       "      <td>494.183394</td>\n",
       "      <td>492.704368</td>\n",
       "      <td>467.954976</td>\n",
       "    </tr>\n",
       "    <tr>\n",
       "      <th>2</th>\n",
       "      <td>2020-04-16</td>\n",
       "      <td>8925.299805</td>\n",
       "      <td>478.750000</td>\n",
       "      <td>24025.44922</td>\n",
       "      <td>857.039978</td>\n",
       "      <td>473.000000</td>\n",
       "      <td>505.428021</td>\n",
       "      <td>505.277456</td>\n",
       "      <td>476.040792</td>\n",
       "    </tr>\n",
       "    <tr>\n",
       "      <th>3</th>\n",
       "      <td>2020-04-17</td>\n",
       "      <td>8992.799805</td>\n",
       "      <td>459.750000</td>\n",
       "      <td>24457.83008</td>\n",
       "      <td>857.710022</td>\n",
       "      <td>470.000000</td>\n",
       "      <td>484.052841</td>\n",
       "      <td>483.798343</td>\n",
       "      <td>468.031624</td>\n",
       "    </tr>\n",
       "    <tr>\n",
       "      <th>4</th>\n",
       "      <td>2020-04-20</td>\n",
       "      <td>9266.750000</td>\n",
       "      <td>455.250000</td>\n",
       "      <td>24503.56055</td>\n",
       "      <td>883.280029</td>\n",
       "      <td>458.000000</td>\n",
       "      <td>476.111027</td>\n",
       "      <td>476.011293</td>\n",
       "      <td>461.943628</td>\n",
       "    </tr>\n",
       "  </tbody>\n",
       "</table>\n",
       "</div>"
      ],
      "text/plain": [
       "        Date  NIFTY_India Adj Close  HCL Adj Close  HangSeng Open  \\\n",
       "0 2020-04-08            8792.200195     451.149994    24191.32031   \n",
       "1 2020-04-09            8748.750000     463.100006    24181.32031   \n",
       "2 2020-04-16            8925.299805     478.750000    24025.44922   \n",
       "3 2020-04-17            8992.799805     459.750000    24457.83008   \n",
       "4 2020-04-20            9266.750000     455.250000    24503.56055   \n",
       "\n",
       "   Euronext Adj Close  Actual Open  LR Predicted Open  SVR Predicted Open  \\\n",
       "0          872.619995   451.000000         480.303070          478.966111   \n",
       "1          874.390015   480.700012         494.183394          492.704368   \n",
       "2          857.039978   473.000000         505.428021          505.277456   \n",
       "3          857.710022   470.000000         484.052841          483.798343   \n",
       "4          883.280029   458.000000         476.111027          476.011293   \n",
       "\n",
       "   Random Forest Predicted Open  \n",
       "0                    471.037395  \n",
       "1                    467.954976  \n",
       "2                    476.040792  \n",
       "3                    468.031624  \n",
       "4                    461.943628  "
      ]
     },
     "execution_count": 83,
     "metadata": {},
     "output_type": "execute_result"
    }
   ],
   "source": [
    "test.head()"
   ]
  },
  {
   "cell_type": "code",
   "execution_count": 84,
   "metadata": {},
   "outputs": [
    {
     "data": {
      "text/plain": [
       "0.921721605473412"
      ]
     },
     "execution_count": 84,
     "metadata": {},
     "output_type": "execute_result"
    }
   ],
   "source": [
    "model_rf.score(X_test, test['Actual Open'])"
   ]
  },
  {
   "cell_type": "code",
   "execution_count": 85,
   "metadata": {},
   "outputs": [
    {
     "data": {
      "text/plain": [
       "68.87822288989767"
      ]
     },
     "execution_count": 85,
     "metadata": {},
     "output_type": "execute_result"
    }
   ],
   "source": [
    "# Mean squared error regression loss\n",
    "mean_squared_error(test['Actual Open'], test['Random Forest Predicted Open'])"
   ]
  },
  {
   "cell_type": "markdown",
   "metadata": {},
   "source": [
    "## 4. XGBoost Regressor"
   ]
  },
  {
   "cell_type": "code",
   "execution_count": 134,
   "metadata": {},
   "outputs": [],
   "source": [
    "model_xg = xgb.XGBRegressor()"
   ]
  },
  {
   "cell_type": "code",
   "execution_count": 135,
   "metadata": {},
   "outputs": [],
   "source": [
    "hyperparameter_grid = {  \n",
    "    \"n_estimators\": [_ for _ in range(20,200,20)],\n",
    "    \"max_depth\": [_ for _ in range(2,14,2)],\n",
    "    \"learning_rate\": [0.01, 0.1, 0.3, 0.5],\n",
    "    \"colsample_bytree\": [0.4, 0.6, 0.8, 1.0],\n",
    "    'colsample_bylevel': [0.4, 0.6, 0.8, 1.0],\n",
    "    'min_child_weight': [0.5, 1.0, 3.0, 5.0, 7.0, 10.0],\n",
    "    \"subsample\": [0.5, 0.7, 0.9, 1.0],\n",
    "    \"gamma\": [0, 0.25, 0.5, 1.0],\n",
    "    'reg_lambda': [0.1, 1.0, 5.0, 10.0, 50.0, 100.0],\n",
    "    \n",
    "    \n",
    "}\n",
    "                       \n",
    "\n",
    "random_cv = RandomizedSearchCV(estimator=model_xg,\n",
    "            param_distributions=hyperparameter_grid,\n",
    "            cv=5, n_iter=100, \n",
    "            scoring = 'neg_mean_squared_error',\n",
    "            n_jobs = -1,\n",
    "            verbose = 5 )"
   ]
  },
  {
   "cell_type": "code",
   "execution_count": 136,
   "metadata": {},
   "outputs": [
    {
     "name": "stdout",
     "output_type": "stream",
     "text": [
      "Fitting 5 folds for each of 100 candidates, totalling 500 fits\n"
     ]
    },
    {
     "name": "stderr",
     "output_type": "stream",
     "text": [
      "[Parallel(n_jobs=-1)]: Using backend LokyBackend with 4 concurrent workers.\n",
      "[Parallel(n_jobs=-1)]: Done  10 tasks      | elapsed:    4.4s\n",
      "[Parallel(n_jobs=-1)]: Done 187 tasks      | elapsed:    8.0s\n",
      "[Parallel(n_jobs=-1)]: Done 493 out of 500 | elapsed:   13.7s remaining:    0.1s\n",
      "[Parallel(n_jobs=-1)]: Done 500 out of 500 | elapsed:   13.7s finished\n"
     ]
    },
    {
     "data": {
      "text/plain": [
       "RandomizedSearchCV(cv=5, error_score=nan,\n",
       "                   estimator=XGBRegressor(base_score=None, booster=None,\n",
       "                                          colsample_bylevel=None,\n",
       "                                          colsample_bynode=None,\n",
       "                                          colsample_bytree=None, gamma=None,\n",
       "                                          gpu_id=None, importance_type='gain',\n",
       "                                          interaction_constraints=None,\n",
       "                                          learning_rate=None,\n",
       "                                          max_delta_step=None, max_depth=None,\n",
       "                                          min_child_weight=None, missing=nan,\n",
       "                                          monotone_constraints=None,\n",
       "                                          n_...\n",
       "                                        'learning_rate': [0.01, 0.1, 0.3, 0.5],\n",
       "                                        'max_depth': [2, 4, 6, 8, 10, 12],\n",
       "                                        'min_child_weight': [0.5, 1.0, 3.0, 5.0,\n",
       "                                                             7.0, 10.0],\n",
       "                                        'n_estimators': [20, 40, 60, 80, 100,\n",
       "                                                         120, 140, 160, 180],\n",
       "                                        'reg_lambda': [0.1, 1.0, 5.0, 10.0,\n",
       "                                                       50.0, 100.0],\n",
       "                                        'subsample': [0.5, 0.7, 0.9, 1.0]},\n",
       "                   pre_dispatch='2*n_jobs', random_state=None, refit=True,\n",
       "                   return_train_score=False, scoring='neg_mean_squared_error',\n",
       "                   verbose=5)"
      ]
     },
     "execution_count": 136,
     "metadata": {},
     "output_type": "execute_result"
    }
   ],
   "source": [
    "random_cv.fit(X,Y)"
   ]
  },
  {
   "cell_type": "code",
   "execution_count": 137,
   "metadata": {},
   "outputs": [
    {
     "data": {
      "text/plain": [
       "XGBRegressor(base_score=0.5, booster=None, colsample_bylevel=1.0,\n",
       "             colsample_bynode=1, colsample_bytree=1.0, gamma=0.25, gpu_id=-1,\n",
       "             importance_type='gain', interaction_constraints=None,\n",
       "             learning_rate=0.5, max_delta_step=0, max_depth=6,\n",
       "             min_child_weight=1.0, missing=nan, monotone_constraints=None,\n",
       "             n_estimators=180, n_jobs=0, num_parallel_tree=1,\n",
       "             objective='reg:squarederror', random_state=0, reg_alpha=0,\n",
       "             reg_lambda=10.0, scale_pos_weight=1, subsample=0.7,\n",
       "             tree_method=None, validate_parameters=False, verbosity=None)"
      ]
     },
     "execution_count": 137,
     "metadata": {},
     "output_type": "execute_result"
    }
   ],
   "source": [
    "random_cv.best_estimator_"
   ]
  },
  {
   "cell_type": "code",
   "execution_count": 139,
   "metadata": {},
   "outputs": [],
   "source": [
    "model_xg = xgb.XGBRegressor(base_score=0.5, booster=None, colsample_bylevel=1.0,\n",
    "             colsample_bynode=1, colsample_bytree=1.0, gamma=0.25, gpu_id=-1,\n",
    "             importance_type='gain', interaction_constraints=None,\n",
    "             learning_rate=0.5, max_delta_step=0, max_depth=6,\n",
    "             min_child_weight=1.0, monotone_constraints=None,\n",
    "             n_estimators=180, n_jobs=0, num_parallel_tree=1,\n",
    "             objective='reg:squarederror', random_state=0, reg_alpha=0,\n",
    "             reg_lambda=10.0, scale_pos_weight=1, subsample=0.7,\n",
    "             tree_method=None, validate_parameters=False, verbosity=None)"
   ]
  },
  {
   "cell_type": "code",
   "execution_count": 140,
   "metadata": {},
   "outputs": [
    {
     "data": {
      "text/plain": [
       "XGBRegressor(base_score=0.5, booster=None, colsample_bylevel=1.0,\n",
       "             colsample_bynode=1, colsample_bytree=1.0, gamma=0.25, gpu_id=-1,\n",
       "             importance_type='gain', interaction_constraints=None,\n",
       "             learning_rate=0.5, max_delta_step=0, max_depth=6,\n",
       "             min_child_weight=1.0, missing=nan, monotone_constraints=None,\n",
       "             n_estimators=180, n_jobs=0, num_parallel_tree=1,\n",
       "             objective='reg:squarederror', random_state=0, reg_alpha=0,\n",
       "             reg_lambda=10.0, scale_pos_weight=1, subsample=0.7,\n",
       "             tree_method=None, validate_parameters=False, verbosity=None)"
      ]
     },
     "execution_count": 140,
     "metadata": {},
     "output_type": "execute_result"
    }
   ],
   "source": [
    "model_xg.fit(X,Y)"
   ]
  },
  {
   "cell_type": "code",
   "execution_count": 141,
   "metadata": {},
   "outputs": [
    {
     "data": {
      "text/html": [
       "<div>\n",
       "<style scoped>\n",
       "    .dataframe tbody tr th:only-of-type {\n",
       "        vertical-align: middle;\n",
       "    }\n",
       "\n",
       "    .dataframe tbody tr th {\n",
       "        vertical-align: top;\n",
       "    }\n",
       "\n",
       "    .dataframe thead th {\n",
       "        text-align: right;\n",
       "    }\n",
       "</style>\n",
       "<table border=\"1\" class=\"dataframe\">\n",
       "  <thead>\n",
       "    <tr style=\"text-align: right;\">\n",
       "      <th></th>\n",
       "      <th>NIFTY_India Adj Close</th>\n",
       "      <th>HCL Adj Close</th>\n",
       "      <th>HangSeng Open</th>\n",
       "      <th>Euronext Adj Close</th>\n",
       "    </tr>\n",
       "  </thead>\n",
       "  <tbody>\n",
       "    <tr>\n",
       "      <th>0</th>\n",
       "      <td>8792.200195</td>\n",
       "      <td>451.149994</td>\n",
       "      <td>24191.32031</td>\n",
       "      <td>872.619995</td>\n",
       "    </tr>\n",
       "    <tr>\n",
       "      <th>1</th>\n",
       "      <td>8748.750000</td>\n",
       "      <td>463.100006</td>\n",
       "      <td>24181.32031</td>\n",
       "      <td>874.390015</td>\n",
       "    </tr>\n",
       "    <tr>\n",
       "      <th>2</th>\n",
       "      <td>8925.299805</td>\n",
       "      <td>478.750000</td>\n",
       "      <td>24025.44922</td>\n",
       "      <td>857.039978</td>\n",
       "    </tr>\n",
       "    <tr>\n",
       "      <th>3</th>\n",
       "      <td>8992.799805</td>\n",
       "      <td>459.750000</td>\n",
       "      <td>24457.83008</td>\n",
       "      <td>857.710022</td>\n",
       "    </tr>\n",
       "    <tr>\n",
       "      <th>4</th>\n",
       "      <td>9266.750000</td>\n",
       "      <td>455.250000</td>\n",
       "      <td>24503.56055</td>\n",
       "      <td>883.280029</td>\n",
       "    </tr>\n",
       "  </tbody>\n",
       "</table>\n",
       "</div>"
      ],
      "text/plain": [
       "   NIFTY_India Adj Close  HCL Adj Close  HangSeng Open  Euronext Adj Close\n",
       "0            8792.200195     451.149994    24191.32031          872.619995\n",
       "1            8748.750000     463.100006    24181.32031          874.390015\n",
       "2            8925.299805     478.750000    24025.44922          857.039978\n",
       "3            8992.799805     459.750000    24457.83008          857.710022\n",
       "4            9266.750000     455.250000    24503.56055          883.280029"
      ]
     },
     "execution_count": 141,
     "metadata": {},
     "output_type": "execute_result"
    }
   ],
   "source": [
    "X_test.head()"
   ]
  },
  {
   "cell_type": "code",
   "execution_count": 142,
   "metadata": {},
   "outputs": [],
   "source": [
    "test['XGBoost Predicted Open'] = model_xg.predict(X_test)"
   ]
  },
  {
   "cell_type": "code",
   "execution_count": 143,
   "metadata": {},
   "outputs": [
    {
     "data": {
      "text/html": [
       "<div>\n",
       "<style scoped>\n",
       "    .dataframe tbody tr th:only-of-type {\n",
       "        vertical-align: middle;\n",
       "    }\n",
       "\n",
       "    .dataframe tbody tr th {\n",
       "        vertical-align: top;\n",
       "    }\n",
       "\n",
       "    .dataframe thead th {\n",
       "        text-align: right;\n",
       "    }\n",
       "</style>\n",
       "<table border=\"1\" class=\"dataframe\">\n",
       "  <thead>\n",
       "    <tr style=\"text-align: right;\">\n",
       "      <th></th>\n",
       "      <th>Date</th>\n",
       "      <th>NIFTY_India Adj Close</th>\n",
       "      <th>HCL Adj Close</th>\n",
       "      <th>HangSeng Open</th>\n",
       "      <th>Euronext Adj Close</th>\n",
       "      <th>Actual Open</th>\n",
       "      <th>LR Predicted Open</th>\n",
       "      <th>SVR Predicted Open</th>\n",
       "      <th>Random Forest Predicted Open</th>\n",
       "      <th>XGBoost Predicted Open</th>\n",
       "    </tr>\n",
       "  </thead>\n",
       "  <tbody>\n",
       "    <tr>\n",
       "      <th>0</th>\n",
       "      <td>2020-04-08</td>\n",
       "      <td>8792.200195</td>\n",
       "      <td>451.149994</td>\n",
       "      <td>24191.32031</td>\n",
       "      <td>872.619995</td>\n",
       "      <td>451.000000</td>\n",
       "      <td>480.303070</td>\n",
       "      <td>478.966111</td>\n",
       "      <td>471.020160</td>\n",
       "      <td>468.735413</td>\n",
       "    </tr>\n",
       "    <tr>\n",
       "      <th>1</th>\n",
       "      <td>2020-04-09</td>\n",
       "      <td>8748.750000</td>\n",
       "      <td>463.100006</td>\n",
       "      <td>24181.32031</td>\n",
       "      <td>874.390015</td>\n",
       "      <td>480.700012</td>\n",
       "      <td>494.183394</td>\n",
       "      <td>492.704368</td>\n",
       "      <td>465.484715</td>\n",
       "      <td>462.556549</td>\n",
       "    </tr>\n",
       "    <tr>\n",
       "      <th>2</th>\n",
       "      <td>2020-04-16</td>\n",
       "      <td>8925.299805</td>\n",
       "      <td>478.750000</td>\n",
       "      <td>24025.44922</td>\n",
       "      <td>857.039978</td>\n",
       "      <td>473.000000</td>\n",
       "      <td>505.428021</td>\n",
       "      <td>505.277456</td>\n",
       "      <td>474.807607</td>\n",
       "      <td>491.686096</td>\n",
       "    </tr>\n",
       "    <tr>\n",
       "      <th>3</th>\n",
       "      <td>2020-04-17</td>\n",
       "      <td>8992.799805</td>\n",
       "      <td>459.750000</td>\n",
       "      <td>24457.83008</td>\n",
       "      <td>857.710022</td>\n",
       "      <td>470.000000</td>\n",
       "      <td>484.052841</td>\n",
       "      <td>483.798343</td>\n",
       "      <td>464.270715</td>\n",
       "      <td>477.326233</td>\n",
       "    </tr>\n",
       "    <tr>\n",
       "      <th>4</th>\n",
       "      <td>2020-04-20</td>\n",
       "      <td>9266.750000</td>\n",
       "      <td>455.250000</td>\n",
       "      <td>24503.56055</td>\n",
       "      <td>883.280029</td>\n",
       "      <td>458.000000</td>\n",
       "      <td>476.111027</td>\n",
       "      <td>476.011293</td>\n",
       "      <td>462.078628</td>\n",
       "      <td>450.034302</td>\n",
       "    </tr>\n",
       "  </tbody>\n",
       "</table>\n",
       "</div>"
      ],
      "text/plain": [
       "        Date  NIFTY_India Adj Close  HCL Adj Close  HangSeng Open  \\\n",
       "0 2020-04-08            8792.200195     451.149994    24191.32031   \n",
       "1 2020-04-09            8748.750000     463.100006    24181.32031   \n",
       "2 2020-04-16            8925.299805     478.750000    24025.44922   \n",
       "3 2020-04-17            8992.799805     459.750000    24457.83008   \n",
       "4 2020-04-20            9266.750000     455.250000    24503.56055   \n",
       "\n",
       "   Euronext Adj Close  Actual Open  LR Predicted Open  SVR Predicted Open  \\\n",
       "0          872.619995   451.000000         480.303070          478.966111   \n",
       "1          874.390015   480.700012         494.183394          492.704368   \n",
       "2          857.039978   473.000000         505.428021          505.277456   \n",
       "3          857.710022   470.000000         484.052841          483.798343   \n",
       "4          883.280029   458.000000         476.111027          476.011293   \n",
       "\n",
       "   Random Forest Predicted Open  XGBoost Predicted Open  \n",
       "0                    471.020160              468.735413  \n",
       "1                    465.484715              462.556549  \n",
       "2                    474.807607              491.686096  \n",
       "3                    464.270715              477.326233  \n",
       "4                    462.078628              450.034302  "
      ]
     },
     "execution_count": 143,
     "metadata": {},
     "output_type": "execute_result"
    }
   ],
   "source": [
    "test.head()"
   ]
  },
  {
   "cell_type": "code",
   "execution_count": 144,
   "metadata": {},
   "outputs": [
    {
     "data": {
      "text/plain": [
       "0.5520696257482245"
      ]
     },
     "execution_count": 144,
     "metadata": {},
     "output_type": "execute_result"
    }
   ],
   "source": [
    "model_xg.score(X_test, test['Actual Open'])"
   ]
  },
  {
   "cell_type": "code",
   "execution_count": 145,
   "metadata": {},
   "outputs": [
    {
     "data": {
      "text/plain": [
       "394.14002220484565"
      ]
     },
     "execution_count": 145,
     "metadata": {},
     "output_type": "execute_result"
    }
   ],
   "source": [
    "# Mean squared error regression loss\n",
    "mean_squared_error(test['Actual Open'], test['XGBoost Predicted Open'])"
   ]
  },
  {
   "cell_type": "markdown",
   "metadata": {},
   "source": [
    "## 5. AdaBoost Regressor"
   ]
  },
  {
   "cell_type": "code",
   "execution_count": 146,
   "metadata": {},
   "outputs": [],
   "source": [
    "model_ada = AdaBoostRegressor()"
   ]
  },
  {
   "cell_type": "code",
   "execution_count": 147,
   "metadata": {},
   "outputs": [],
   "source": [
    "hyperparameter_grid = {'n_estimators':[20, 40, 50, 60, 80, 100, 200, 400, 1000],\n",
    "                       'learning_rate':[0.1, 0.3, 0.5],\n",
    "                       'loss': ['linear','square'] }\n",
    "\n",
    "\n",
    "grid_cv = GridSearchCV(estimator=model_ada,\n",
    "            param_grid=hyperparameter_grid,\n",
    "            cv=5, \n",
    "            scoring = 'neg_mean_squared_error',\n",
    "            n_jobs = -1,\n",
    "            verbose = 5 )"
   ]
  },
  {
   "cell_type": "code",
   "execution_count": 148,
   "metadata": {},
   "outputs": [
    {
     "name": "stdout",
     "output_type": "stream",
     "text": [
      "Fitting 5 folds for each of 54 candidates, totalling 270 fits\n"
     ]
    },
    {
     "name": "stderr",
     "output_type": "stream",
     "text": [
      "[Parallel(n_jobs=-1)]: Using backend LokyBackend with 4 concurrent workers.\n",
      "[Parallel(n_jobs=-1)]: Done  10 tasks      | elapsed:    1.1s\n",
      "[Parallel(n_jobs=-1)]: Done  64 tasks      | elapsed:    3.8s\n",
      "[Parallel(n_jobs=-1)]: Done 160 tasks      | elapsed:   10.0s\n",
      "[Parallel(n_jobs=-1)]: Done 270 out of 270 | elapsed:   18.7s finished\n"
     ]
    },
    {
     "data": {
      "text/plain": [
       "GridSearchCV(cv=5, error_score=nan,\n",
       "             estimator=AdaBoostRegressor(base_estimator=None, learning_rate=1.0,\n",
       "                                         loss='linear', n_estimators=50,\n",
       "                                         random_state=None),\n",
       "             iid='deprecated', n_jobs=-1,\n",
       "             param_grid={'learning_rate': [0.1, 0.3, 0.5],\n",
       "                         'loss': ['linear', 'square'],\n",
       "                         'n_estimators': [20, 40, 50, 60, 80, 100, 200, 400,\n",
       "                                          1000]},\n",
       "             pre_dispatch='2*n_jobs', refit=True, return_train_score=False,\n",
       "             scoring='neg_mean_squared_error', verbose=5)"
      ]
     },
     "execution_count": 148,
     "metadata": {},
     "output_type": "execute_result"
    }
   ],
   "source": [
    "grid_cv.fit(X,Y)"
   ]
  },
  {
   "cell_type": "code",
   "execution_count": 149,
   "metadata": {},
   "outputs": [
    {
     "data": {
      "text/plain": [
       "AdaBoostRegressor(base_estimator=None, learning_rate=0.5, loss='square',\n",
       "                  n_estimators=1000, random_state=None)"
      ]
     },
     "execution_count": 149,
     "metadata": {},
     "output_type": "execute_result"
    }
   ],
   "source": [
    "grid_cv.best_estimator_"
   ]
  },
  {
   "cell_type": "code",
   "execution_count": 156,
   "metadata": {},
   "outputs": [],
   "source": [
    "model_ada = AdaBoostRegressor(base_estimator=None, learning_rate=0.5, loss='square',\n",
    "                  n_estimators=100, random_state=None)"
   ]
  },
  {
   "cell_type": "code",
   "execution_count": 157,
   "metadata": {},
   "outputs": [
    {
     "data": {
      "text/plain": [
       "AdaBoostRegressor(base_estimator=None, learning_rate=0.5, loss='square',\n",
       "                  n_estimators=100, random_state=None)"
      ]
     },
     "execution_count": 157,
     "metadata": {},
     "output_type": "execute_result"
    }
   ],
   "source": [
    "model_ada.fit(X,Y)"
   ]
  },
  {
   "cell_type": "code",
   "execution_count": 158,
   "metadata": {},
   "outputs": [],
   "source": [
    "test['AdaBoost Predicted Open'] = model_ada.predict(X_test)"
   ]
  },
  {
   "cell_type": "code",
   "execution_count": 159,
   "metadata": {},
   "outputs": [
    {
     "data": {
      "text/html": [
       "<div>\n",
       "<style scoped>\n",
       "    .dataframe tbody tr th:only-of-type {\n",
       "        vertical-align: middle;\n",
       "    }\n",
       "\n",
       "    .dataframe tbody tr th {\n",
       "        vertical-align: top;\n",
       "    }\n",
       "\n",
       "    .dataframe thead th {\n",
       "        text-align: right;\n",
       "    }\n",
       "</style>\n",
       "<table border=\"1\" class=\"dataframe\">\n",
       "  <thead>\n",
       "    <tr style=\"text-align: right;\">\n",
       "      <th></th>\n",
       "      <th>Date</th>\n",
       "      <th>NIFTY_India Adj Close</th>\n",
       "      <th>HCL Adj Close</th>\n",
       "      <th>HangSeng Open</th>\n",
       "      <th>Euronext Adj Close</th>\n",
       "      <th>Actual Open</th>\n",
       "      <th>LR Predicted Open</th>\n",
       "      <th>SVR Predicted Open</th>\n",
       "      <th>Random Forest Predicted Open</th>\n",
       "      <th>XGBoost Predicted Open</th>\n",
       "      <th>AdaBoost Predicted Open</th>\n",
       "    </tr>\n",
       "  </thead>\n",
       "  <tbody>\n",
       "    <tr>\n",
       "      <th>0</th>\n",
       "      <td>2020-04-08</td>\n",
       "      <td>8792.200195</td>\n",
       "      <td>451.149994</td>\n",
       "      <td>24191.32031</td>\n",
       "      <td>872.619995</td>\n",
       "      <td>451.000000</td>\n",
       "      <td>480.303070</td>\n",
       "      <td>478.966111</td>\n",
       "      <td>471.020160</td>\n",
       "      <td>468.735413</td>\n",
       "      <td>467.002869</td>\n",
       "    </tr>\n",
       "    <tr>\n",
       "      <th>1</th>\n",
       "      <td>2020-04-09</td>\n",
       "      <td>8748.750000</td>\n",
       "      <td>463.100006</td>\n",
       "      <td>24181.32031</td>\n",
       "      <td>874.390015</td>\n",
       "      <td>480.700012</td>\n",
       "      <td>494.183394</td>\n",
       "      <td>492.704368</td>\n",
       "      <td>465.484715</td>\n",
       "      <td>462.556549</td>\n",
       "      <td>468.002568</td>\n",
       "    </tr>\n",
       "    <tr>\n",
       "      <th>2</th>\n",
       "      <td>2020-04-16</td>\n",
       "      <td>8925.299805</td>\n",
       "      <td>478.750000</td>\n",
       "      <td>24025.44922</td>\n",
       "      <td>857.039978</td>\n",
       "      <td>473.000000</td>\n",
       "      <td>505.428021</td>\n",
       "      <td>505.277456</td>\n",
       "      <td>474.807607</td>\n",
       "      <td>491.686096</td>\n",
       "      <td>444.052632</td>\n",
       "    </tr>\n",
       "    <tr>\n",
       "      <th>3</th>\n",
       "      <td>2020-04-17</td>\n",
       "      <td>8992.799805</td>\n",
       "      <td>459.750000</td>\n",
       "      <td>24457.83008</td>\n",
       "      <td>857.710022</td>\n",
       "      <td>470.000000</td>\n",
       "      <td>484.052841</td>\n",
       "      <td>483.798343</td>\n",
       "      <td>464.270715</td>\n",
       "      <td>477.326233</td>\n",
       "      <td>463.210000</td>\n",
       "    </tr>\n",
       "    <tr>\n",
       "      <th>4</th>\n",
       "      <td>2020-04-20</td>\n",
       "      <td>9266.750000</td>\n",
       "      <td>455.250000</td>\n",
       "      <td>24503.56055</td>\n",
       "      <td>883.280029</td>\n",
       "      <td>458.000000</td>\n",
       "      <td>476.111027</td>\n",
       "      <td>476.011293</td>\n",
       "      <td>462.078628</td>\n",
       "      <td>450.034302</td>\n",
       "      <td>468.002568</td>\n",
       "    </tr>\n",
       "  </tbody>\n",
       "</table>\n",
       "</div>"
      ],
      "text/plain": [
       "        Date  NIFTY_India Adj Close  HCL Adj Close  HangSeng Open  \\\n",
       "0 2020-04-08            8792.200195     451.149994    24191.32031   \n",
       "1 2020-04-09            8748.750000     463.100006    24181.32031   \n",
       "2 2020-04-16            8925.299805     478.750000    24025.44922   \n",
       "3 2020-04-17            8992.799805     459.750000    24457.83008   \n",
       "4 2020-04-20            9266.750000     455.250000    24503.56055   \n",
       "\n",
       "   Euronext Adj Close  Actual Open  LR Predicted Open  SVR Predicted Open  \\\n",
       "0          872.619995   451.000000         480.303070          478.966111   \n",
       "1          874.390015   480.700012         494.183394          492.704368   \n",
       "2          857.039978   473.000000         505.428021          505.277456   \n",
       "3          857.710022   470.000000         484.052841          483.798343   \n",
       "4          883.280029   458.000000         476.111027          476.011293   \n",
       "\n",
       "   Random Forest Predicted Open  XGBoost Predicted Open  \\\n",
       "0                    471.020160              468.735413   \n",
       "1                    465.484715              462.556549   \n",
       "2                    474.807607              491.686096   \n",
       "3                    464.270715              477.326233   \n",
       "4                    462.078628              450.034302   \n",
       "\n",
       "   AdaBoost Predicted Open  \n",
       "0               467.002869  \n",
       "1               468.002568  \n",
       "2               444.052632  \n",
       "3               463.210000  \n",
       "4               468.002568  "
      ]
     },
     "execution_count": 159,
     "metadata": {},
     "output_type": "execute_result"
    }
   ],
   "source": [
    "test.head(5)"
   ]
  },
  {
   "cell_type": "code",
   "execution_count": 160,
   "metadata": {},
   "outputs": [
    {
     "data": {
      "text/plain": [
       "0.6769319597973324"
      ]
     },
     "execution_count": 160,
     "metadata": {},
     "output_type": "execute_result"
    }
   ],
   "source": [
    "model_ada.score(X_test, test['Actual Open'])"
   ]
  },
  {
   "cell_type": "code",
   "execution_count": 161,
   "metadata": {},
   "outputs": [
    {
     "data": {
      "text/plain": [
       "284.27195800654187"
      ]
     },
     "execution_count": 161,
     "metadata": {},
     "output_type": "execute_result"
    }
   ],
   "source": [
    "# Mean squared error regression loss\n",
    "mean_squared_error(test['Actual Open'], test['AdaBoost Predicted Open'])"
   ]
  },
  {
   "cell_type": "markdown",
   "metadata": {},
   "source": [
    "# Random Forest Regressor model is selected for Stock Open Price prediction."
   ]
  },
  {
   "cell_type": "code",
   "execution_count": 86,
   "metadata": {},
   "outputs": [],
   "source": [
    "test.set_index('Date',inplace=True)"
   ]
  },
  {
   "cell_type": "code",
   "execution_count": 87,
   "metadata": {},
   "outputs": [
    {
     "data": {
      "image/png": "[encoded data removed]",
      "text/plain": [
       "<Figure size 1800x720 with 1 Axes>"
      ]
     },
     "metadata": {
      "needs_background": "light"
     },
     "output_type": "display_data"
    }
   ],
   "source": [
    "plt.figure(figsize = (25, 10))\n",
    "\n",
    "plt.plot(test['Actual Open'], 'bs-', label = 'Actual')\n",
    "plt.plot(test['Random Forest Predicted Open'], 'ro-', label = 'Predicted')\n",
    "plt.legend()\n",
    "plt.xlabel(\"Date\")\n",
    "plt.ylabel(\"Open Price\")\n",
    "\n",
    "plt.title('HCL Open Price Price prediction using Random Forest Regressor model')\n",
    "plt.show()"
   ]
  },
  {
   "cell_type": "code",
   "execution_count": 164,
   "metadata": {},
   "outputs": [
    {
     "data": {
      "text/plain": [
       "['hcl_rf.joblib']"
      ]
     },
     "execution_count": 164,
     "metadata": {},
     "output_type": "execute_result"
    }
   ],
   "source": [
    "from joblib import dump, load\n",
    "dump(model_rf, 'hcl_rf.joblib')"
   ]
  },
  {
   "cell_type": "code",
   "execution_count": null,
   "metadata": {},
   "outputs": [],
   "source": []
  }
 ],
 "metadata": {
  "kernelspec": {
   "display_name": "Python 3",
   "language": "python",
   "name": "python3"
  },
  "language_info": {
   "codemirror_mode": {
    "name": "ipython",
    "version": 3
   },
   "file_extension": ".py",
   "mimetype": "text/x-python",
   "name": "python",
   "nbconvert_exporter": "python",
   "pygments_lexer": "ipython3",
   "version": "3.7.3"
  }
 },
 "nbformat": 4,
 "nbformat_minor": 4
}
