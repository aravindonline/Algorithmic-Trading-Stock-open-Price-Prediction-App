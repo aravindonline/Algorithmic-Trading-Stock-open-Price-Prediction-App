{
 "cells": [
  {
   "cell_type": "markdown",
   "metadata": {},
   "source": [
    "# AUTOMATED STOCK OPEN PRICE PREDICTION\n",
    "### AUTHOR : Aravind Ravikumar\n",
    "### DATE WRITTEN: 6-June-2020\n",
    "### Goal: To predict Open price of Muthoot Finance Company"
   ]
  },
  {
   "cell_type": "code",
   "execution_count": 104,
   "metadata": {},
   "outputs": [],
   "source": [
    "import pandas as pd\n",
    "import numpy as np\n",
    "import warnings\n",
    "warnings.filterwarnings(\"ignore\")\n",
    "from sklearn.model_selection import train_test_split\n",
    "from sklearn.metrics import mean_squared_error\n",
    "from sklearn.linear_model import LinearRegression\n",
    "from sklearn.ensemble import RandomForestRegressor\n",
    "from sklearn.svm import SVR\n",
    "from sklearn.ensemble import AdaBoostRegressor\n",
    "import xgboost as xgb\n",
    "\n",
    "from sklearn.feature_selection import SelectFromModel\n",
    "from sklearn.model_selection import RandomizedSearchCV\n",
    "from sklearn.model_selection import GridSearchCV\n",
    "from sklearn.preprocessing import MinMaxScaler\n",
    "import matplotlib.pyplot as plt\n",
    "%matplotlib inline"
   ]
  },
  {
   "cell_type": "code",
   "execution_count": 105,
   "metadata": {},
   "outputs": [],
   "source": [
    "train = pd.read_csv('../Data/STOCKS.CSV')\n",
    "dfg = pd.read_csv('../Data/HangSeng.CSV')\n",
    "dfy = pd.read_csv('../Data/NYSE.CSV')\n",
    "dfz = pd.read_csv('../Data/Shenzhen.CSV')\n",
    "dfk = pd.read_csv('../Data/KOSPI.CSV')\n",
    "dfe = pd.read_csv('../Data/Euronext100.CSV')\n",
    "dfx = pd.read_csv('../Data/SGXNifty.CSV')\n",
    "dfn = pd.read_csv('../Data/NASDAQ.CSV')\n",
    "dfi = pd.read_csv('../Data/Nikkei.CSV')"
   ]
  },
  {
   "cell_type": "code",
   "execution_count": 106,
   "metadata": {},
   "outputs": [
    {
     "data": {
      "text/html": [
       "<div>\n",
       "<style scoped>\n",
       "    .dataframe tbody tr th:only-of-type {\n",
       "        vertical-align: middle;\n",
       "    }\n",
       "\n",
       "    .dataframe tbody tr th {\n",
       "        vertical-align: top;\n",
       "    }\n",
       "\n",
       "    .dataframe thead th {\n",
       "        text-align: right;\n",
       "    }\n",
       "</style>\n",
       "<table border=\"1\" class=\"dataframe\">\n",
       "  <thead>\n",
       "    <tr style=\"text-align: right;\">\n",
       "      <th></th>\n",
       "      <th>Date</th>\n",
       "      <th>SGXNifty Open</th>\n",
       "    </tr>\n",
       "  </thead>\n",
       "  <tbody>\n",
       "    <tr>\n",
       "      <th>0</th>\n",
       "      <td>Jan 07, 2015</td>\n",
       "      <td>8,149.50</td>\n",
       "    </tr>\n",
       "    <tr>\n",
       "      <th>1</th>\n",
       "      <td>Jan 08, 2015</td>\n",
       "      <td>8,151.50</td>\n",
       "    </tr>\n",
       "    <tr>\n",
       "      <th>2</th>\n",
       "      <td>Jan 09, 2015</td>\n",
       "      <td>8,256.50</td>\n",
       "    </tr>\n",
       "    <tr>\n",
       "      <th>3</th>\n",
       "      <td>Jan 12, 2015</td>\n",
       "      <td>8,314.50</td>\n",
       "    </tr>\n",
       "    <tr>\n",
       "      <th>4</th>\n",
       "      <td>Jan 13, 2015</td>\n",
       "      <td>8,357.50</td>\n",
       "    </tr>\n",
       "  </tbody>\n",
       "</table>\n",
       "</div>"
      ],
      "text/plain": [
       "           Date SGXNifty Open\n",
       "0  Jan 07, 2015      8,149.50\n",
       "1  Jan 08, 2015      8,151.50\n",
       "2  Jan 09, 2015      8,256.50\n",
       "3  Jan 12, 2015      8,314.50\n",
       "4  Jan 13, 2015      8,357.50"
      ]
     },
     "execution_count": 106,
     "metadata": {},
     "output_type": "execute_result"
    }
   ],
   "source": [
    "dfx.head()"
   ]
  },
  {
   "cell_type": "markdown",
   "metadata": {},
   "source": [
    "## Converting to common date format"
   ]
  },
  {
   "cell_type": "code",
   "execution_count": 107,
   "metadata": {},
   "outputs": [],
   "source": [
    "train['Date'] =  pd.to_datetime(train['Date'], format='%d-%m-%Y')\n",
    "dfg['Date'] =  pd.to_datetime(dfg['Date'], format='%d-%m-%Y')\n",
    "dfy['Date'] =  pd.to_datetime(dfy['Date'], format='%d-%m-%Y')\n",
    "dfz['Date'] =  pd.to_datetime(dfz['Date'], format='%d-%m-%Y')\n",
    "dfk['Date'] =  pd.to_datetime(dfk['Date'], format='%d-%m-%Y')\n",
    "dfe['Date'] =  pd.to_datetime(dfe['Date'], format='%d-%m-%Y')\n",
    "dfx['Date'] =  pd.to_datetime(dfx['Date'], format='%b %d, %Y')\n",
    "dfn['Date'] =  pd.to_datetime(dfn['Date'], format='%d-%m-%Y')\n",
    "dfi['Date'] =  pd.to_datetime(dfi['Date'], format='%d-%m-%Y')"
   ]
  },
  {
   "cell_type": "markdown",
   "metadata": {},
   "source": [
    "## Merging Dataframes on the basis of date"
   ]
  },
  {
   "cell_type": "code",
   "execution_count": 108,
   "metadata": {},
   "outputs": [],
   "source": [
    "train = pd.merge(train,dfg,how='inner',on='Date')\n",
    "train = pd.merge(train,dfz,how='inner',on='Date')\n",
    "train = pd.merge(train,dfy,how='inner',on='Date')\n",
    "train = pd.merge(train,dfk,how='inner',on='Date')\n",
    "train = pd.merge(train,dfe,how='inner',on='Date')\n",
    "train = pd.merge(train,dfx,how='inner',on='Date')\n",
    "train = pd.merge(train,dfn,how='inner',on='Date')\n",
    "train = pd.merge(train,dfi,how='inner',on='Date')"
   ]
  },
  {
   "cell_type": "code",
   "execution_count": 109,
   "metadata": {},
   "outputs": [],
   "source": [
    "train['SGXNifty Open'] = train['SGXNifty Open'].str.replace(\",\",\"\").astype(float) # string to float conversion"
   ]
  },
  {
   "cell_type": "code",
   "execution_count": 110,
   "metadata": {},
   "outputs": [
    {
     "data": {
      "text/html": [
       "<div>\n",
       "<style scoped>\n",
       "    .dataframe tbody tr th:only-of-type {\n",
       "        vertical-align: middle;\n",
       "    }\n",
       "\n",
       "    .dataframe tbody tr th {\n",
       "        vertical-align: top;\n",
       "    }\n",
       "\n",
       "    .dataframe thead th {\n",
       "        text-align: right;\n",
       "    }\n",
       "</style>\n",
       "<table border=\"1\" class=\"dataframe\">\n",
       "  <thead>\n",
       "    <tr style=\"text-align: right;\">\n",
       "      <th></th>\n",
       "      <th>Date</th>\n",
       "      <th>NIFTY_India Adj Close</th>\n",
       "      <th>Escorts Adj Close</th>\n",
       "      <th>Muthoot Adj Close</th>\n",
       "      <th>SBI Adj Close</th>\n",
       "      <th>HCL Adj Close</th>\n",
       "      <th>ICICI Adj Close</th>\n",
       "      <th>Escorts Open</th>\n",
       "      <th>Muthoot Open</th>\n",
       "      <th>SBI Open</th>\n",
       "      <th>HCL Open</th>\n",
       "      <th>ICICI Open</th>\n",
       "      <th>HangSeng Open</th>\n",
       "      <th>Shenzhen Open</th>\n",
       "      <th>NYSE Adj Close</th>\n",
       "      <th>KOSPI Open</th>\n",
       "      <th>Euronext Adj Close</th>\n",
       "      <th>SGXNifty Open</th>\n",
       "      <th>NASDAQ Adj Close</th>\n",
       "      <th>Nikkei Open</th>\n",
       "    </tr>\n",
       "  </thead>\n",
       "  <tbody>\n",
       "    <tr>\n",
       "      <th>0</th>\n",
       "      <td>2015-01-07</td>\n",
       "      <td>8127.350098</td>\n",
       "      <td>119.312721</td>\n",
       "      <td>172.062637</td>\n",
       "      <td>289.701782</td>\n",
       "      <td>322.932098</td>\n",
       "      <td>292.334198</td>\n",
       "      <td>120.250000</td>\n",
       "      <td>195.899994</td>\n",
       "      <td>300.000000</td>\n",
       "      <td>384.875000</td>\n",
       "      <td>314.182007</td>\n",
       "      <td>23396.69922</td>\n",
       "      <td>11612.73047</td>\n",
       "      <td>10514.87012</td>\n",
       "      <td>1878.900024</td>\n",
       "      <td>805.469971</td>\n",
       "      <td>8149.5</td>\n",
       "      <td>4592.740234</td>\n",
       "      <td>16808.25977</td>\n",
       "    </tr>\n",
       "    <tr>\n",
       "      <th>1</th>\n",
       "      <td>2015-01-08</td>\n",
       "      <td>8102.100098</td>\n",
       "      <td>118.381363</td>\n",
       "      <td>171.755310</td>\n",
       "      <td>289.943268</td>\n",
       "      <td>315.258636</td>\n",
       "      <td>284.430267</td>\n",
       "      <td>122.099998</td>\n",
       "      <td>197.000000</td>\n",
       "      <td>305.000000</td>\n",
       "      <td>379.250000</td>\n",
       "      <td>313.635986</td>\n",
       "      <td>23920.34961</td>\n",
       "      <td>11624.58984</td>\n",
       "      <td>10627.12988</td>\n",
       "      <td>1895.849976</td>\n",
       "      <td>810.940002</td>\n",
       "      <td>8151.5</td>\n",
       "      <td>4650.470215</td>\n",
       "      <td>17067.40039</td>\n",
       "    </tr>\n",
       "    <tr>\n",
       "      <th>2</th>\n",
       "      <td>2015-01-09</td>\n",
       "      <td>8234.599609</td>\n",
       "      <td>123.626411</td>\n",
       "      <td>172.589493</td>\n",
       "      <td>294.483459</td>\n",
       "      <td>322.553589</td>\n",
       "      <td>292.166840</td>\n",
       "      <td>127.400002</td>\n",
       "      <td>201.050003</td>\n",
       "      <td>306.700012</td>\n",
       "      <td>384.162994</td>\n",
       "      <td>318.135986</td>\n",
       "      <td>24049.69922</td>\n",
       "      <td>11424.53027</td>\n",
       "      <td>10800.54004</td>\n",
       "      <td>1919.800049</td>\n",
       "      <td>837.729980</td>\n",
       "      <td>8256.5</td>\n",
       "      <td>4736.189941</td>\n",
       "      <td>17318.74023</td>\n",
       "    </tr>\n",
       "    <tr>\n",
       "      <th>3</th>\n",
       "      <td>2015-01-13</td>\n",
       "      <td>8323.000000</td>\n",
       "      <td>122.891121</td>\n",
       "      <td>172.238251</td>\n",
       "      <td>296.656952</td>\n",
       "      <td>331.226013</td>\n",
       "      <td>291.409241</td>\n",
       "      <td>125.250000</td>\n",
       "      <td>195.350006</td>\n",
       "      <td>308.149994</td>\n",
       "      <td>393.888000</td>\n",
       "      <td>317.273010</td>\n",
       "      <td>23908.23047</td>\n",
       "      <td>11250.87988</td>\n",
       "      <td>10640.74023</td>\n",
       "      <td>1915.030029</td>\n",
       "      <td>832.760010</td>\n",
       "      <td>8357.5</td>\n",
       "      <td>4664.709961</td>\n",
       "      <td>16970.88086</td>\n",
       "    </tr>\n",
       "    <tr>\n",
       "      <th>4</th>\n",
       "      <td>2015-01-14</td>\n",
       "      <td>8299.400391</td>\n",
       "      <td>124.067589</td>\n",
       "      <td>172.150452</td>\n",
       "      <td>294.724976</td>\n",
       "      <td>332.917969</td>\n",
       "      <td>286.658508</td>\n",
       "      <td>126.099998</td>\n",
       "      <td>196.199997</td>\n",
       "      <td>304.000000</td>\n",
       "      <td>398.975006</td>\n",
       "      <td>308.408997</td>\n",
       "      <td>24276.33008</td>\n",
       "      <td>11366.95020</td>\n",
       "      <td>10622.95996</td>\n",
       "      <td>1919.310059</td>\n",
       "      <td>845.299988</td>\n",
       "      <td>8343.5</td>\n",
       "      <td>4661.500000</td>\n",
       "      <td>16961.82031</td>\n",
       "    </tr>\n",
       "  </tbody>\n",
       "</table>\n",
       "</div>"
      ],
      "text/plain": [
       "        Date  NIFTY_India Adj Close  Escorts Adj Close  Muthoot Adj Close  \\\n",
       "0 2015-01-07            8127.350098         119.312721         172.062637   \n",
       "1 2015-01-08            8102.100098         118.381363         171.755310   \n",
       "2 2015-01-09            8234.599609         123.626411         172.589493   \n",
       "3 2015-01-13            8323.000000         122.891121         172.238251   \n",
       "4 2015-01-14            8299.400391         124.067589         172.150452   \n",
       "\n",
       "   SBI Adj Close  HCL Adj Close  ICICI Adj Close  Escorts Open  Muthoot Open  \\\n",
       "0     289.701782     322.932098       292.334198    120.250000    195.899994   \n",
       "1     289.943268     315.258636       284.430267    122.099998    197.000000   \n",
       "2     294.483459     322.553589       292.166840    127.400002    201.050003   \n",
       "3     296.656952     331.226013       291.409241    125.250000    195.350006   \n",
       "4     294.724976     332.917969       286.658508    126.099998    196.199997   \n",
       "\n",
       "     SBI Open    HCL Open  ICICI Open  HangSeng Open  Shenzhen Open  \\\n",
       "0  300.000000  384.875000  314.182007    23396.69922    11612.73047   \n",
       "1  305.000000  379.250000  313.635986    23920.34961    11624.58984   \n",
       "2  306.700012  384.162994  318.135986    24049.69922    11424.53027   \n",
       "3  308.149994  393.888000  317.273010    23908.23047    11250.87988   \n",
       "4  304.000000  398.975006  308.408997    24276.33008    11366.95020   \n",
       "\n",
       "   NYSE Adj Close   KOSPI Open  Euronext Adj Close  SGXNifty Open  \\\n",
       "0     10514.87012  1878.900024          805.469971         8149.5   \n",
       "1     10627.12988  1895.849976          810.940002         8151.5   \n",
       "2     10800.54004  1919.800049          837.729980         8256.5   \n",
       "3     10640.74023  1915.030029          832.760010         8357.5   \n",
       "4     10622.95996  1919.310059          845.299988         8343.5   \n",
       "\n",
       "   NASDAQ Adj Close  Nikkei Open  \n",
       "0       4592.740234  16808.25977  \n",
       "1       4650.470215  17067.40039  \n",
       "2       4736.189941  17318.74023  \n",
       "3       4664.709961  16970.88086  \n",
       "4       4661.500000  16961.82031  "
      ]
     },
     "execution_count": 110,
     "metadata": {},
     "output_type": "execute_result"
    }
   ],
   "source": [
    "train.head()"
   ]
  },
  {
   "cell_type": "code",
   "execution_count": 111,
   "metadata": {},
   "outputs": [
    {
     "data": {
      "text/plain": [
       "(1081, 20)"
      ]
     },
     "execution_count": 111,
     "metadata": {},
     "output_type": "execute_result"
    }
   ],
   "source": [
    "train.shape"
   ]
  },
  {
   "cell_type": "code",
   "execution_count": 112,
   "metadata": {},
   "outputs": [
    {
     "data": {
      "text/plain": [
       "Index(['Date', 'NIFTY_India Adj Close', 'Escorts Adj Close',\n",
       "       'Muthoot Adj Close', 'SBI Adj Close', 'HCL Adj Close',\n",
       "       'ICICI Adj Close', 'Escorts Open', 'Muthoot Open', 'SBI Open',\n",
       "       'HCL Open', 'ICICI Open', 'HangSeng Open', 'Shenzhen Open',\n",
       "       'NYSE Adj Close', 'KOSPI Open', 'Euronext Adj Close', 'SGXNifty Open',\n",
       "       'NASDAQ Adj Close', 'Nikkei Open'],\n",
       "      dtype='object')"
      ]
     },
     "execution_count": 112,
     "metadata": {},
     "output_type": "execute_result"
    }
   ],
   "source": [
    "train.columns"
   ]
  },
  {
   "cell_type": "code",
   "execution_count": 113,
   "metadata": {},
   "outputs": [],
   "source": [
    "# Rearrange columns\n",
    "\n",
    "train = train[['Date', 'NIFTY_India Adj Close', 'Muthoot Adj Close',\n",
    "       'HangSeng Open', 'Shenzhen Open',\n",
    "       'NYSE Adj Close', 'KOSPI Open', 'Euronext Adj Close', 'SGXNifty Open',\n",
    "       'NASDAQ Adj Close', 'Nikkei Open', 'Muthoot Open']]"
   ]
  },
  {
   "cell_type": "code",
   "execution_count": 114,
   "metadata": {},
   "outputs": [
    {
     "data": {
      "text/html": [
       "<div>\n",
       "<style scoped>\n",
       "    .dataframe tbody tr th:only-of-type {\n",
       "        vertical-align: middle;\n",
       "    }\n",
       "\n",
       "    .dataframe tbody tr th {\n",
       "        vertical-align: top;\n",
       "    }\n",
       "\n",
       "    .dataframe thead th {\n",
       "        text-align: right;\n",
       "    }\n",
       "</style>\n",
       "<table border=\"1\" class=\"dataframe\">\n",
       "  <thead>\n",
       "    <tr style=\"text-align: right;\">\n",
       "      <th></th>\n",
       "      <th>Date</th>\n",
       "      <th>NIFTY_India Adj Close</th>\n",
       "      <th>Muthoot Adj Close</th>\n",
       "      <th>HangSeng Open</th>\n",
       "      <th>Shenzhen Open</th>\n",
       "      <th>NYSE Adj Close</th>\n",
       "      <th>KOSPI Open</th>\n",
       "      <th>Euronext Adj Close</th>\n",
       "      <th>SGXNifty Open</th>\n",
       "      <th>NASDAQ Adj Close</th>\n",
       "      <th>Nikkei Open</th>\n",
       "      <th>Muthoot Open</th>\n",
       "    </tr>\n",
       "  </thead>\n",
       "  <tbody>\n",
       "    <tr>\n",
       "      <th>0</th>\n",
       "      <td>2015-01-07</td>\n",
       "      <td>8127.350098</td>\n",
       "      <td>172.062637</td>\n",
       "      <td>23396.69922</td>\n",
       "      <td>11612.73047</td>\n",
       "      <td>10514.87012</td>\n",
       "      <td>1878.900024</td>\n",
       "      <td>805.469971</td>\n",
       "      <td>8149.5</td>\n",
       "      <td>4592.740234</td>\n",
       "      <td>16808.25977</td>\n",
       "      <td>195.899994</td>\n",
       "    </tr>\n",
       "    <tr>\n",
       "      <th>1</th>\n",
       "      <td>2015-01-08</td>\n",
       "      <td>8102.100098</td>\n",
       "      <td>171.755310</td>\n",
       "      <td>23920.34961</td>\n",
       "      <td>11624.58984</td>\n",
       "      <td>10627.12988</td>\n",
       "      <td>1895.849976</td>\n",
       "      <td>810.940002</td>\n",
       "      <td>8151.5</td>\n",
       "      <td>4650.470215</td>\n",
       "      <td>17067.40039</td>\n",
       "      <td>197.000000</td>\n",
       "    </tr>\n",
       "  </tbody>\n",
       "</table>\n",
       "</div>"
      ],
      "text/plain": [
       "        Date  NIFTY_India Adj Close  Muthoot Adj Close  HangSeng Open  \\\n",
       "0 2015-01-07            8127.350098         172.062637    23396.69922   \n",
       "1 2015-01-08            8102.100098         171.755310    23920.34961   \n",
       "\n",
       "   Shenzhen Open  NYSE Adj Close   KOSPI Open  Euronext Adj Close  \\\n",
       "0    11612.73047     10514.87012  1878.900024          805.469971   \n",
       "1    11624.58984     10627.12988  1895.849976          810.940002   \n",
       "\n",
       "   SGXNifty Open  NASDAQ Adj Close  Nikkei Open  Muthoot Open  \n",
       "0         8149.5       4592.740234  16808.25977    195.899994  \n",
       "1         8151.5       4650.470215  17067.40039    197.000000  "
      ]
     },
     "execution_count": 114,
     "metadata": {},
     "output_type": "execute_result"
    }
   ],
   "source": [
    "train.head(2)"
   ]
  },
  {
   "cell_type": "code",
   "execution_count": 115,
   "metadata": {},
   "outputs": [
    {
     "data": {
      "text/plain": [
       "Date                      0\n",
       "NIFTY_India Adj Close     6\n",
       "Muthoot Adj Close         2\n",
       "HangSeng Open             3\n",
       "Shenzhen Open             1\n",
       "NYSE Adj Close            0\n",
       "KOSPI Open                5\n",
       "Euronext Adj Close        1\n",
       "SGXNifty Open             0\n",
       "NASDAQ Adj Close          0\n",
       "Nikkei Open              13\n",
       "Muthoot Open              0\n",
       "dtype: int64"
      ]
     },
     "execution_count": 115,
     "metadata": {},
     "output_type": "execute_result"
    }
   ],
   "source": [
    "train.isnull().sum()"
   ]
  },
  {
   "cell_type": "code",
   "execution_count": 116,
   "metadata": {},
   "outputs": [
    {
     "data": {
      "text/html": [
       "<div>\n",
       "<style scoped>\n",
       "    .dataframe tbody tr th:only-of-type {\n",
       "        vertical-align: middle;\n",
       "    }\n",
       "\n",
       "    .dataframe tbody tr th {\n",
       "        vertical-align: top;\n",
       "    }\n",
       "\n",
       "    .dataframe thead th {\n",
       "        text-align: right;\n",
       "    }\n",
       "</style>\n",
       "<table border=\"1\" class=\"dataframe\">\n",
       "  <thead>\n",
       "    <tr style=\"text-align: right;\">\n",
       "      <th></th>\n",
       "      <th>Date</th>\n",
       "      <th>NIFTY_India Adj Close</th>\n",
       "      <th>Muthoot Adj Close</th>\n",
       "      <th>HangSeng Open</th>\n",
       "      <th>Shenzhen Open</th>\n",
       "      <th>NYSE Adj Close</th>\n",
       "      <th>KOSPI Open</th>\n",
       "      <th>Euronext Adj Close</th>\n",
       "      <th>SGXNifty Open</th>\n",
       "      <th>NASDAQ Adj Close</th>\n",
       "      <th>Nikkei Open</th>\n",
       "      <th>Muthoot Open</th>\n",
       "    </tr>\n",
       "  </thead>\n",
       "  <tbody>\n",
       "    <tr>\n",
       "      <th>27</th>\n",
       "      <td>2015-03-02</td>\n",
       "      <td>NaN</td>\n",
       "      <td>NaN</td>\n",
       "      <td>24996.75977</td>\n",
       "      <td>11869.959960</td>\n",
       "      <td>11062.79004</td>\n",
       "      <td>1996.719971</td>\n",
       "      <td>973.010010</td>\n",
       "      <td>8895.5</td>\n",
       "      <td>4963.529785</td>\n",
       "      <td>18869.40039</td>\n",
       "      <td>238.149994</td>\n",
       "    </tr>\n",
       "    <tr>\n",
       "      <th>990</th>\n",
       "      <td>2019-10-29</td>\n",
       "      <td>NaN</td>\n",
       "      <td>NaN</td>\n",
       "      <td>27027.56055</td>\n",
       "      <td>9812.480469</td>\n",
       "      <td>13186.42969</td>\n",
       "      <td>2103.919922</td>\n",
       "      <td>1099.329956</td>\n",
       "      <td>11668.0</td>\n",
       "      <td>8325.990234</td>\n",
       "      <td>22950.78906</td>\n",
       "      <td>665.150024</td>\n",
       "    </tr>\n",
       "  </tbody>\n",
       "</table>\n",
       "</div>"
      ],
      "text/plain": [
       "          Date  NIFTY_India Adj Close  Muthoot Adj Close  HangSeng Open  \\\n",
       "27  2015-03-02                    NaN                NaN    24996.75977   \n",
       "990 2019-10-29                    NaN                NaN    27027.56055   \n",
       "\n",
       "     Shenzhen Open  NYSE Adj Close   KOSPI Open  Euronext Adj Close  \\\n",
       "27    11869.959960     11062.79004  1996.719971          973.010010   \n",
       "990    9812.480469     13186.42969  2103.919922         1099.329956   \n",
       "\n",
       "     SGXNifty Open  NASDAQ Adj Close  Nikkei Open  Muthoot Open  \n",
       "27          8895.5       4963.529785  18869.40039    238.149994  \n",
       "990        11668.0       8325.990234  22950.78906    665.150024  "
      ]
     },
     "execution_count": 116,
     "metadata": {},
     "output_type": "execute_result"
    }
   ],
   "source": [
    "#Displaying rows having Null values\n",
    "\n",
    "train[train['Muthoot Adj Close'].isnull()]"
   ]
  },
  {
   "cell_type": "code",
   "execution_count": 117,
   "metadata": {},
   "outputs": [],
   "source": [
    "# strategies to fill null values\n",
    "#train['Escorts Open'][train['Date'] == '10/25/2019'] = train['Escorts Open'][train['Date'] == '10/27/2019']\n",
    "train['NIFTY_India Adj Close'].fillna(train['NIFTY_India Adj Close'].mean(),inplace=True)\n",
    "train['Nikkei Open'].fillna(train['Nikkei Open'].mean(),inplace=True)\n",
    "train.dropna(axis=0,inplace=True)"
   ]
  },
  {
   "cell_type": "code",
   "execution_count": 118,
   "metadata": {},
   "outputs": [
    {
     "data": {
      "text/plain": [
       "(1069, 12)"
      ]
     },
     "execution_count": 118,
     "metadata": {},
     "output_type": "execute_result"
    }
   ],
   "source": [
    "train.shape"
   ]
  },
  {
   "cell_type": "code",
   "execution_count": 119,
   "metadata": {},
   "outputs": [
    {
     "data": {
      "text/plain": [
       "Date                     0\n",
       "NIFTY_India Adj Close    0\n",
       "Muthoot Adj Close        0\n",
       "HangSeng Open            0\n",
       "Shenzhen Open            0\n",
       "NYSE Adj Close           0\n",
       "KOSPI Open               0\n",
       "Euronext Adj Close       0\n",
       "SGXNifty Open            0\n",
       "NASDAQ Adj Close         0\n",
       "Nikkei Open              0\n",
       "Muthoot Open             0\n",
       "dtype: int64"
      ]
     },
     "execution_count": 119,
     "metadata": {},
     "output_type": "execute_result"
    }
   ],
   "source": [
    "train.isnull().sum()"
   ]
  },
  {
   "cell_type": "markdown",
   "metadata": {},
   "source": [
    "# Feature Selection Methods \n",
    "## Filter Method: Correlation Coefficient"
   ]
  },
  {
   "cell_type": "code",
   "execution_count": 120,
   "metadata": {},
   "outputs": [
    {
     "data": {
      "text/html": [
       "<div>\n",
       "<style scoped>\n",
       "    .dataframe tbody tr th:only-of-type {\n",
       "        vertical-align: middle;\n",
       "    }\n",
       "\n",
       "    .dataframe tbody tr th {\n",
       "        vertical-align: top;\n",
       "    }\n",
       "\n",
       "    .dataframe thead th {\n",
       "        text-align: right;\n",
       "    }\n",
       "</style>\n",
       "<table border=\"1\" class=\"dataframe\">\n",
       "  <thead>\n",
       "    <tr style=\"text-align: right;\">\n",
       "      <th></th>\n",
       "      <th>Date</th>\n",
       "      <th>NIFTY_India Adj Close</th>\n",
       "      <th>Muthoot Adj Close</th>\n",
       "      <th>HangSeng Open</th>\n",
       "      <th>Shenzhen Open</th>\n",
       "      <th>NYSE Adj Close</th>\n",
       "      <th>KOSPI Open</th>\n",
       "      <th>Euronext Adj Close</th>\n",
       "      <th>SGXNifty Open</th>\n",
       "      <th>NASDAQ Adj Close</th>\n",
       "      <th>Nikkei Open</th>\n",
       "      <th>Muthoot Open</th>\n",
       "    </tr>\n",
       "  </thead>\n",
       "  <tbody>\n",
       "    <tr>\n",
       "      <th>0</th>\n",
       "      <td>2015-01-07</td>\n",
       "      <td>8127.350098</td>\n",
       "      <td>172.062637</td>\n",
       "      <td>23396.69922</td>\n",
       "      <td>11612.73047</td>\n",
       "      <td>10514.87012</td>\n",
       "      <td>1878.900024</td>\n",
       "      <td>805.469971</td>\n",
       "      <td>8149.5</td>\n",
       "      <td>4592.740234</td>\n",
       "      <td>16808.25977</td>\n",
       "      <td>195.899994</td>\n",
       "    </tr>\n",
       "    <tr>\n",
       "      <th>1</th>\n",
       "      <td>2015-01-08</td>\n",
       "      <td>8102.100098</td>\n",
       "      <td>171.755310</td>\n",
       "      <td>23920.34961</td>\n",
       "      <td>11624.58984</td>\n",
       "      <td>10627.12988</td>\n",
       "      <td>1895.849976</td>\n",
       "      <td>810.940002</td>\n",
       "      <td>8151.5</td>\n",
       "      <td>4650.470215</td>\n",
       "      <td>17067.40039</td>\n",
       "      <td>197.000000</td>\n",
       "    </tr>\n",
       "    <tr>\n",
       "      <th>2</th>\n",
       "      <td>2015-01-09</td>\n",
       "      <td>8234.599609</td>\n",
       "      <td>172.589493</td>\n",
       "      <td>24049.69922</td>\n",
       "      <td>11424.53027</td>\n",
       "      <td>10800.54004</td>\n",
       "      <td>1919.800049</td>\n",
       "      <td>837.729980</td>\n",
       "      <td>8256.5</td>\n",
       "      <td>4736.189941</td>\n",
       "      <td>17318.74023</td>\n",
       "      <td>201.050003</td>\n",
       "    </tr>\n",
       "    <tr>\n",
       "      <th>3</th>\n",
       "      <td>2015-01-13</td>\n",
       "      <td>8323.000000</td>\n",
       "      <td>172.238251</td>\n",
       "      <td>23908.23047</td>\n",
       "      <td>11250.87988</td>\n",
       "      <td>10640.74023</td>\n",
       "      <td>1915.030029</td>\n",
       "      <td>832.760010</td>\n",
       "      <td>8357.5</td>\n",
       "      <td>4664.709961</td>\n",
       "      <td>16970.88086</td>\n",
       "      <td>195.350006</td>\n",
       "    </tr>\n",
       "    <tr>\n",
       "      <th>4</th>\n",
       "      <td>2015-01-14</td>\n",
       "      <td>8299.400391</td>\n",
       "      <td>172.150452</td>\n",
       "      <td>24276.33008</td>\n",
       "      <td>11366.95020</td>\n",
       "      <td>10622.95996</td>\n",
       "      <td>1919.310059</td>\n",
       "      <td>845.299988</td>\n",
       "      <td>8343.5</td>\n",
       "      <td>4661.500000</td>\n",
       "      <td>16961.82031</td>\n",
       "      <td>196.199997</td>\n",
       "    </tr>\n",
       "  </tbody>\n",
       "</table>\n",
       "</div>"
      ],
      "text/plain": [
       "        Date  NIFTY_India Adj Close  Muthoot Adj Close  HangSeng Open  \\\n",
       "0 2015-01-07            8127.350098         172.062637    23396.69922   \n",
       "1 2015-01-08            8102.100098         171.755310    23920.34961   \n",
       "2 2015-01-09            8234.599609         172.589493    24049.69922   \n",
       "3 2015-01-13            8323.000000         172.238251    23908.23047   \n",
       "4 2015-01-14            8299.400391         172.150452    24276.33008   \n",
       "\n",
       "   Shenzhen Open  NYSE Adj Close   KOSPI Open  Euronext Adj Close  \\\n",
       "0    11612.73047     10514.87012  1878.900024          805.469971   \n",
       "1    11624.58984     10627.12988  1895.849976          810.940002   \n",
       "2    11424.53027     10800.54004  1919.800049          837.729980   \n",
       "3    11250.87988     10640.74023  1915.030029          832.760010   \n",
       "4    11366.95020     10622.95996  1919.310059          845.299988   \n",
       "\n",
       "   SGXNifty Open  NASDAQ Adj Close  Nikkei Open  Muthoot Open  \n",
       "0         8149.5       4592.740234  16808.25977    195.899994  \n",
       "1         8151.5       4650.470215  17067.40039    197.000000  \n",
       "2         8256.5       4736.189941  17318.74023    201.050003  \n",
       "3         8357.5       4664.709961  16970.88086    195.350006  \n",
       "4         8343.5       4661.500000  16961.82031    196.199997  "
      ]
     },
     "execution_count": 120,
     "metadata": {},
     "output_type": "execute_result"
    }
   ],
   "source": [
    "train.head()"
   ]
  },
  {
   "cell_type": "code",
   "execution_count": 121,
   "metadata": {},
   "outputs": [
    {
     "data": {
      "text/html": [
       "<div>\n",
       "<style scoped>\n",
       "    .dataframe tbody tr th:only-of-type {\n",
       "        vertical-align: middle;\n",
       "    }\n",
       "\n",
       "    .dataframe tbody tr th {\n",
       "        vertical-align: top;\n",
       "    }\n",
       "\n",
       "    .dataframe thead th {\n",
       "        text-align: right;\n",
       "    }\n",
       "</style>\n",
       "<table border=\"1\" class=\"dataframe\">\n",
       "  <thead>\n",
       "    <tr style=\"text-align: right;\">\n",
       "      <th></th>\n",
       "      <th>NIFTY_India Adj Close</th>\n",
       "      <th>Muthoot Adj Close</th>\n",
       "      <th>HangSeng Open</th>\n",
       "      <th>Shenzhen Open</th>\n",
       "      <th>NYSE Adj Close</th>\n",
       "      <th>KOSPI Open</th>\n",
       "      <th>Euronext Adj Close</th>\n",
       "      <th>SGXNifty Open</th>\n",
       "      <th>NASDAQ Adj Close</th>\n",
       "      <th>Nikkei Open</th>\n",
       "      <th>Muthoot Open</th>\n",
       "    </tr>\n",
       "  </thead>\n",
       "  <tbody>\n",
       "    <tr>\n",
       "      <th>NIFTY_India Adj Close</th>\n",
       "      <td>1.000000</td>\n",
       "      <td>0.867974</td>\n",
       "      <td>0.766893</td>\n",
       "      <td>-0.450094</td>\n",
       "      <td>0.945338</td>\n",
       "      <td>0.495026</td>\n",
       "      <td>0.842400</td>\n",
       "      <td>0.998477</td>\n",
       "      <td>0.947671</td>\n",
       "      <td>0.824164</td>\n",
       "      <td>0.869160</td>\n",
       "    </tr>\n",
       "    <tr>\n",
       "      <th>Muthoot Adj Close</th>\n",
       "      <td>0.867974</td>\n",
       "      <td>1.000000</td>\n",
       "      <td>0.530693</td>\n",
       "      <td>-0.435455</td>\n",
       "      <td>0.785136</td>\n",
       "      <td>0.260842</td>\n",
       "      <td>0.662098</td>\n",
       "      <td>0.867625</td>\n",
       "      <td>0.906560</td>\n",
       "      <td>0.610033</td>\n",
       "      <td>0.998913</td>\n",
       "    </tr>\n",
       "    <tr>\n",
       "      <th>HangSeng Open</th>\n",
       "      <td>0.766893</td>\n",
       "      <td>0.530693</td>\n",
       "      <td>1.000000</td>\n",
       "      <td>-0.005471</td>\n",
       "      <td>0.833537</td>\n",
       "      <td>0.777748</td>\n",
       "      <td>0.806060</td>\n",
       "      <td>0.767356</td>\n",
       "      <td>0.703703</td>\n",
       "      <td>0.832053</td>\n",
       "      <td>0.539093</td>\n",
       "    </tr>\n",
       "    <tr>\n",
       "      <th>Shenzhen Open</th>\n",
       "      <td>-0.450094</td>\n",
       "      <td>-0.435455</td>\n",
       "      <td>-0.005471</td>\n",
       "      <td>1.000000</td>\n",
       "      <td>-0.303254</td>\n",
       "      <td>-0.018939</td>\n",
       "      <td>-0.083794</td>\n",
       "      <td>-0.452783</td>\n",
       "      <td>-0.446607</td>\n",
       "      <td>-0.141168</td>\n",
       "      <td>-0.429791</td>\n",
       "    </tr>\n",
       "    <tr>\n",
       "      <th>NYSE Adj Close</th>\n",
       "      <td>0.945338</td>\n",
       "      <td>0.785136</td>\n",
       "      <td>0.833537</td>\n",
       "      <td>-0.303254</td>\n",
       "      <td>1.000000</td>\n",
       "      <td>0.624710</td>\n",
       "      <td>0.919124</td>\n",
       "      <td>0.947106</td>\n",
       "      <td>0.920579</td>\n",
       "      <td>0.889342</td>\n",
       "      <td>0.790007</td>\n",
       "    </tr>\n",
       "    <tr>\n",
       "      <th>KOSPI Open</th>\n",
       "      <td>0.495026</td>\n",
       "      <td>0.260842</td>\n",
       "      <td>0.777748</td>\n",
       "      <td>-0.018939</td>\n",
       "      <td>0.624710</td>\n",
       "      <td>1.000000</td>\n",
       "      <td>0.624734</td>\n",
       "      <td>0.497214</td>\n",
       "      <td>0.417057</td>\n",
       "      <td>0.618370</td>\n",
       "      <td>0.279735</td>\n",
       "    </tr>\n",
       "    <tr>\n",
       "      <th>Euronext Adj Close</th>\n",
       "      <td>0.842400</td>\n",
       "      <td>0.662098</td>\n",
       "      <td>0.806060</td>\n",
       "      <td>-0.083794</td>\n",
       "      <td>0.919124</td>\n",
       "      <td>0.624734</td>\n",
       "      <td>1.000000</td>\n",
       "      <td>0.843630</td>\n",
       "      <td>0.810895</td>\n",
       "      <td>0.904074</td>\n",
       "      <td>0.667249</td>\n",
       "    </tr>\n",
       "    <tr>\n",
       "      <th>SGXNifty Open</th>\n",
       "      <td>0.998477</td>\n",
       "      <td>0.867625</td>\n",
       "      <td>0.767356</td>\n",
       "      <td>-0.452783</td>\n",
       "      <td>0.947106</td>\n",
       "      <td>0.497214</td>\n",
       "      <td>0.843630</td>\n",
       "      <td>1.000000</td>\n",
       "      <td>0.947391</td>\n",
       "      <td>0.825160</td>\n",
       "      <td>0.869236</td>\n",
       "    </tr>\n",
       "    <tr>\n",
       "      <th>NASDAQ Adj Close</th>\n",
       "      <td>0.947671</td>\n",
       "      <td>0.906560</td>\n",
       "      <td>0.703703</td>\n",
       "      <td>-0.446607</td>\n",
       "      <td>0.920579</td>\n",
       "      <td>0.417057</td>\n",
       "      <td>0.810895</td>\n",
       "      <td>0.947391</td>\n",
       "      <td>1.000000</td>\n",
       "      <td>0.821314</td>\n",
       "      <td>0.901492</td>\n",
       "    </tr>\n",
       "    <tr>\n",
       "      <th>Nikkei Open</th>\n",
       "      <td>0.824164</td>\n",
       "      <td>0.610033</td>\n",
       "      <td>0.832053</td>\n",
       "      <td>-0.141168</td>\n",
       "      <td>0.889342</td>\n",
       "      <td>0.618370</td>\n",
       "      <td>0.904074</td>\n",
       "      <td>0.825160</td>\n",
       "      <td>0.821314</td>\n",
       "      <td>1.000000</td>\n",
       "      <td>0.611256</td>\n",
       "    </tr>\n",
       "    <tr>\n",
       "      <th>Muthoot Open</th>\n",
       "      <td>0.869160</td>\n",
       "      <td>0.998913</td>\n",
       "      <td>0.539093</td>\n",
       "      <td>-0.429791</td>\n",
       "      <td>0.790007</td>\n",
       "      <td>0.279735</td>\n",
       "      <td>0.667249</td>\n",
       "      <td>0.869236</td>\n",
       "      <td>0.901492</td>\n",
       "      <td>0.611256</td>\n",
       "      <td>1.000000</td>\n",
       "    </tr>\n",
       "  </tbody>\n",
       "</table>\n",
       "</div>"
      ],
      "text/plain": [
       "                       NIFTY_India Adj Close  Muthoot Adj Close  \\\n",
       "NIFTY_India Adj Close               1.000000           0.867974   \n",
       "Muthoot Adj Close                   0.867974           1.000000   \n",
       "HangSeng Open                       0.766893           0.530693   \n",
       "Shenzhen Open                      -0.450094          -0.435455   \n",
       "NYSE Adj Close                      0.945338           0.785136   \n",
       "KOSPI Open                          0.495026           0.260842   \n",
       "Euronext Adj Close                  0.842400           0.662098   \n",
       "SGXNifty Open                       0.998477           0.867625   \n",
       "NASDAQ Adj Close                    0.947671           0.906560   \n",
       "Nikkei Open                         0.824164           0.610033   \n",
       "Muthoot Open                        0.869160           0.998913   \n",
       "\n",
       "                       HangSeng Open  Shenzhen Open  NYSE Adj Close  \\\n",
       "NIFTY_India Adj Close       0.766893      -0.450094        0.945338   \n",
       "Muthoot Adj Close           0.530693      -0.435455        0.785136   \n",
       "HangSeng Open               1.000000      -0.005471        0.833537   \n",
       "Shenzhen Open              -0.005471       1.000000       -0.303254   \n",
       "NYSE Adj Close              0.833537      -0.303254        1.000000   \n",
       "KOSPI Open                  0.777748      -0.018939        0.624710   \n",
       "Euronext Adj Close          0.806060      -0.083794        0.919124   \n",
       "SGXNifty Open               0.767356      -0.452783        0.947106   \n",
       "NASDAQ Adj Close            0.703703      -0.446607        0.920579   \n",
       "Nikkei Open                 0.832053      -0.141168        0.889342   \n",
       "Muthoot Open                0.539093      -0.429791        0.790007   \n",
       "\n",
       "                       KOSPI Open  Euronext Adj Close  SGXNifty Open  \\\n",
       "NIFTY_India Adj Close    0.495026            0.842400       0.998477   \n",
       "Muthoot Adj Close        0.260842            0.662098       0.867625   \n",
       "HangSeng Open            0.777748            0.806060       0.767356   \n",
       "Shenzhen Open           -0.018939           -0.083794      -0.452783   \n",
       "NYSE Adj Close           0.624710            0.919124       0.947106   \n",
       "KOSPI Open               1.000000            0.624734       0.497214   \n",
       "Euronext Adj Close       0.624734            1.000000       0.843630   \n",
       "SGXNifty Open            0.497214            0.843630       1.000000   \n",
       "NASDAQ Adj Close         0.417057            0.810895       0.947391   \n",
       "Nikkei Open              0.618370            0.904074       0.825160   \n",
       "Muthoot Open             0.279735            0.667249       0.869236   \n",
       "\n",
       "                       NASDAQ Adj Close  Nikkei Open  Muthoot Open  \n",
       "NIFTY_India Adj Close          0.947671     0.824164      0.869160  \n",
       "Muthoot Adj Close              0.906560     0.610033      0.998913  \n",
       "HangSeng Open                  0.703703     0.832053      0.539093  \n",
       "Shenzhen Open                 -0.446607    -0.141168     -0.429791  \n",
       "NYSE Adj Close                 0.920579     0.889342      0.790007  \n",
       "KOSPI Open                     0.417057     0.618370      0.279735  \n",
       "Euronext Adj Close             0.810895     0.904074      0.667249  \n",
       "SGXNifty Open                  0.947391     0.825160      0.869236  \n",
       "NASDAQ Adj Close               1.000000     0.821314      0.901492  \n",
       "Nikkei Open                    0.821314     1.000000      0.611256  \n",
       "Muthoot Open                   0.901492     0.611256      1.000000  "
      ]
     },
     "execution_count": 121,
     "metadata": {},
     "output_type": "execute_result"
    }
   ],
   "source": [
    "cor = train.corr()\n",
    "cor"
   ]
  },
  {
   "cell_type": "code",
   "execution_count": 122,
   "metadata": {},
   "outputs": [
    {
     "data": {
      "text/plain": [
       "Index(['NIFTY_India Adj Close', 'Muthoot Adj Close', 'NYSE Adj Close',\n",
       "       'Euronext Adj Close', 'SGXNifty Open', 'NASDAQ Adj Close',\n",
       "       'Muthoot Open'],\n",
       "      dtype='object')"
      ]
     },
     "execution_count": 122,
     "metadata": {},
     "output_type": "execute_result"
    }
   ],
   "source": [
    "cor.index[abs(cor['Muthoot Open']) > .65]"
   ]
  },
  {
   "cell_type": "markdown",
   "metadata": {},
   "source": [
    "## Wrapper Method: Step forward feature selection"
   ]
  },
  {
   "cell_type": "code",
   "execution_count": 20,
   "metadata": {},
   "outputs": [],
   "source": [
    "X = train[train.columns[1:-1]]\n",
    "Y = train[train.columns[-1]]\n",
    "X_train, X_test, y_train, y_test = train_test_split(X, Y, test_size=0.2, random_state=42)"
   ]
  },
  {
   "cell_type": "code",
   "execution_count": 21,
   "metadata": {},
   "outputs": [
    {
     "name": "stdout",
     "output_type": "stream",
     "text": [
      "Index(['Muthoot Adj Close', 'Shenzhen Open', 'NYSE Adj Close', 'KOSPI Open',\n",
      "       'NASDAQ Adj Close'],\n",
      "      dtype='object')\n"
     ]
    }
   ],
   "source": [
    "from mlxtend.feature_selection import SequentialFeatureSelector as SFS\n",
    "sfs = SFS(LinearRegression(), \n",
    "           k_features=5, \n",
    "           forward=True, \n",
    "           floating=False,\n",
    "           scoring='neg_mean_squared_error',\n",
    "           cv=5)\n",
    "\n",
    "# fit the object to the training data.\n",
    "sfs = sfs.fit(X_train, y_train)\n",
    "\n",
    "# print the selected features.\n",
    "selected_features = X_train.columns[list(sfs.k_feature_idx_)]\n",
    "print(selected_features)"
   ]
  },
  {
   "cell_type": "markdown",
   "metadata": {},
   "source": [
    "## Finding Independent Features"
   ]
  },
  {
   "cell_type": "code",
   "execution_count": 123,
   "metadata": {},
   "outputs": [],
   "source": [
    "train2 = train[['NIFTY_India Adj Close', 'Muthoot Adj Close', 'NYSE Adj Close',\n",
    "       'Euronext Adj Close', 'SGXNifty Open', 'NASDAQ Adj Close' ]]"
   ]
  },
  {
   "cell_type": "code",
   "execution_count": 124,
   "metadata": {},
   "outputs": [
    {
     "data": {
      "text/html": [
       "<div>\n",
       "<style scoped>\n",
       "    .dataframe tbody tr th:only-of-type {\n",
       "        vertical-align: middle;\n",
       "    }\n",
       "\n",
       "    .dataframe tbody tr th {\n",
       "        vertical-align: top;\n",
       "    }\n",
       "\n",
       "    .dataframe thead th {\n",
       "        text-align: right;\n",
       "    }\n",
       "</style>\n",
       "<table border=\"1\" class=\"dataframe\">\n",
       "  <thead>\n",
       "    <tr style=\"text-align: right;\">\n",
       "      <th></th>\n",
       "      <th>NIFTY_India Adj Close</th>\n",
       "      <th>Muthoot Adj Close</th>\n",
       "      <th>NYSE Adj Close</th>\n",
       "      <th>Euronext Adj Close</th>\n",
       "      <th>SGXNifty Open</th>\n",
       "      <th>NASDAQ Adj Close</th>\n",
       "    </tr>\n",
       "  </thead>\n",
       "  <tbody>\n",
       "    <tr>\n",
       "      <th>0</th>\n",
       "      <td>8127.350098</td>\n",
       "      <td>172.062637</td>\n",
       "      <td>10514.87012</td>\n",
       "      <td>805.469971</td>\n",
       "      <td>8149.5</td>\n",
       "      <td>4592.740234</td>\n",
       "    </tr>\n",
       "    <tr>\n",
       "      <th>1</th>\n",
       "      <td>8102.100098</td>\n",
       "      <td>171.755310</td>\n",
       "      <td>10627.12988</td>\n",
       "      <td>810.940002</td>\n",
       "      <td>8151.5</td>\n",
       "      <td>4650.470215</td>\n",
       "    </tr>\n",
       "  </tbody>\n",
       "</table>\n",
       "</div>"
      ],
      "text/plain": [
       "   NIFTY_India Adj Close  Muthoot Adj Close  NYSE Adj Close  \\\n",
       "0            8127.350098         172.062637     10514.87012   \n",
       "1            8102.100098         171.755310     10627.12988   \n",
       "\n",
       "   Euronext Adj Close  SGXNifty Open  NASDAQ Adj Close  \n",
       "0          805.469971         8149.5       4592.740234  \n",
       "1          810.940002         8151.5       4650.470215  "
      ]
     },
     "execution_count": 124,
     "metadata": {},
     "output_type": "execute_result"
    }
   ],
   "source": [
    "train2.head(2)"
   ]
  },
  {
   "cell_type": "code",
   "execution_count": 125,
   "metadata": {},
   "outputs": [
    {
     "data": {
      "text/html": [
       "<div>\n",
       "<style scoped>\n",
       "    .dataframe tbody tr th:only-of-type {\n",
       "        vertical-align: middle;\n",
       "    }\n",
       "\n",
       "    .dataframe tbody tr th {\n",
       "        vertical-align: top;\n",
       "    }\n",
       "\n",
       "    .dataframe thead th {\n",
       "        text-align: right;\n",
       "    }\n",
       "</style>\n",
       "<table border=\"1\" class=\"dataframe\">\n",
       "  <thead>\n",
       "    <tr style=\"text-align: right;\">\n",
       "      <th></th>\n",
       "      <th>NIFTY_India Adj Close</th>\n",
       "      <th>Muthoot Adj Close</th>\n",
       "      <th>NYSE Adj Close</th>\n",
       "      <th>Euronext Adj Close</th>\n",
       "      <th>SGXNifty Open</th>\n",
       "      <th>NASDAQ Adj Close</th>\n",
       "    </tr>\n",
       "  </thead>\n",
       "  <tbody>\n",
       "    <tr>\n",
       "      <th>NIFTY_India Adj Close</th>\n",
       "      <td>1.000000</td>\n",
       "      <td>0.867974</td>\n",
       "      <td>0.945338</td>\n",
       "      <td>0.842400</td>\n",
       "      <td>0.998477</td>\n",
       "      <td>0.947671</td>\n",
       "    </tr>\n",
       "    <tr>\n",
       "      <th>Muthoot Adj Close</th>\n",
       "      <td>0.867974</td>\n",
       "      <td>1.000000</td>\n",
       "      <td>0.785136</td>\n",
       "      <td>0.662098</td>\n",
       "      <td>0.867625</td>\n",
       "      <td>0.906560</td>\n",
       "    </tr>\n",
       "    <tr>\n",
       "      <th>NYSE Adj Close</th>\n",
       "      <td>0.945338</td>\n",
       "      <td>0.785136</td>\n",
       "      <td>1.000000</td>\n",
       "      <td>0.919124</td>\n",
       "      <td>0.947106</td>\n",
       "      <td>0.920579</td>\n",
       "    </tr>\n",
       "    <tr>\n",
       "      <th>Euronext Adj Close</th>\n",
       "      <td>0.842400</td>\n",
       "      <td>0.662098</td>\n",
       "      <td>0.919124</td>\n",
       "      <td>1.000000</td>\n",
       "      <td>0.843630</td>\n",
       "      <td>0.810895</td>\n",
       "    </tr>\n",
       "    <tr>\n",
       "      <th>SGXNifty Open</th>\n",
       "      <td>0.998477</td>\n",
       "      <td>0.867625</td>\n",
       "      <td>0.947106</td>\n",
       "      <td>0.843630</td>\n",
       "      <td>1.000000</td>\n",
       "      <td>0.947391</td>\n",
       "    </tr>\n",
       "    <tr>\n",
       "      <th>NASDAQ Adj Close</th>\n",
       "      <td>0.947671</td>\n",
       "      <td>0.906560</td>\n",
       "      <td>0.920579</td>\n",
       "      <td>0.810895</td>\n",
       "      <td>0.947391</td>\n",
       "      <td>1.000000</td>\n",
       "    </tr>\n",
       "  </tbody>\n",
       "</table>\n",
       "</div>"
      ],
      "text/plain": [
       "                       NIFTY_India Adj Close  Muthoot Adj Close  \\\n",
       "NIFTY_India Adj Close               1.000000           0.867974   \n",
       "Muthoot Adj Close                   0.867974           1.000000   \n",
       "NYSE Adj Close                      0.945338           0.785136   \n",
       "Euronext Adj Close                  0.842400           0.662098   \n",
       "SGXNifty Open                       0.998477           0.867625   \n",
       "NASDAQ Adj Close                    0.947671           0.906560   \n",
       "\n",
       "                       NYSE Adj Close  Euronext Adj Close  SGXNifty Open  \\\n",
       "NIFTY_India Adj Close        0.945338            0.842400       0.998477   \n",
       "Muthoot Adj Close            0.785136            0.662098       0.867625   \n",
       "NYSE Adj Close               1.000000            0.919124       0.947106   \n",
       "Euronext Adj Close           0.919124            1.000000       0.843630   \n",
       "SGXNifty Open                0.947106            0.843630       1.000000   \n",
       "NASDAQ Adj Close             0.920579            0.810895       0.947391   \n",
       "\n",
       "                       NASDAQ Adj Close  \n",
       "NIFTY_India Adj Close          0.947671  \n",
       "Muthoot Adj Close              0.906560  \n",
       "NYSE Adj Close                 0.920579  \n",
       "Euronext Adj Close             0.810895  \n",
       "SGXNifty Open                  0.947391  \n",
       "NASDAQ Adj Close               1.000000  "
      ]
     },
     "execution_count": 125,
     "metadata": {},
     "output_type": "execute_result"
    }
   ],
   "source": [
    "cor2 = train2.corr()\n",
    "cor2"
   ]
  },
  {
   "cell_type": "code",
   "execution_count": 126,
   "metadata": {},
   "outputs": [
    {
     "data": {
      "text/plain": [
       "(6, 6)"
      ]
     },
     "execution_count": 126,
     "metadata": {},
     "output_type": "execute_result"
    }
   ],
   "source": [
    "cor2.shape"
   ]
  },
  {
   "cell_type": "markdown",
   "metadata": {},
   "source": [
    "## It shows that Singapore Nifty Open and Indian Nifty Close are highly correlated. Similarly, NYSE Close and Euronext Close are correlated with each other and also to Indian Nifty Close."
   ]
  },
  {
   "cell_type": "markdown",
   "metadata": {},
   "source": [
    "## Normalization"
   ]
  },
  {
   "cell_type": "code",
   "execution_count": 29,
   "metadata": {},
   "outputs": [],
   "source": [
    "#X = train[train.columns[0:-1]]\n",
    "# Y = train[train.columns[-1]]\n"
   ]
  },
  {
   "cell_type": "code",
   "execution_count": 30,
   "metadata": {},
   "outputs": [],
   "source": [
    "# scaler = MinMaxScaler()\n",
    "# scaler.fit(X_train)\n",
    "# X_tr = scaler.transform(X_train)\n",
    "# X_te = scaler.transform(X_test)    \n",
    "# #Converting n-d array to dataframe\n",
    "# X_train = pd.DataFrame(X_tr, columns=['Escorts Adj Close', 'NIFTY_India Adj Close', 'HangSeng Open',\n",
    "#        'Nikkei Open'])\n",
    "# X_test = pd.DataFrame(X_te, columns=['Escorts Adj Close', 'NIFTY_India Adj Close', 'HangSeng Open',\n",
    "#        'Nikkei Open'])"
   ]
  },
  {
   "cell_type": "markdown",
   "metadata": {},
   "source": [
    "## Feature Selection using Ensemble Random Forest"
   ]
  },
  {
   "cell_type": "code",
   "execution_count": 127,
   "metadata": {},
   "outputs": [],
   "source": [
    "X = train[train.columns[1:-1]]\n",
    "Y = train[train.columns[-1]]"
   ]
  },
  {
   "cell_type": "code",
   "execution_count": 128,
   "metadata": {},
   "outputs": [],
   "source": [
    "model = RandomForestRegressor(max_depth=4, n_estimators=60)"
   ]
  },
  {
   "cell_type": "code",
   "execution_count": 129,
   "metadata": {},
   "outputs": [
    {
     "data": {
      "text/plain": [
       "RandomForestRegressor(bootstrap=True, ccp_alpha=0.0, criterion='mse',\n",
       "                      max_depth=4, max_features='auto', max_leaf_nodes=None,\n",
       "                      max_samples=None, min_impurity_decrease=0.0,\n",
       "                      min_impurity_split=None, min_samples_leaf=1,\n",
       "                      min_samples_split=2, min_weight_fraction_leaf=0.0,\n",
       "                      n_estimators=60, n_jobs=None, oob_score=False,\n",
       "                      random_state=None, verbose=0, warm_start=False)"
      ]
     },
     "execution_count": 129,
     "metadata": {},
     "output_type": "execute_result"
    }
   ],
   "source": [
    "model.fit(X,Y)"
   ]
  },
  {
   "cell_type": "code",
   "execution_count": 29,
   "metadata": {},
   "outputs": [],
   "source": [
    "labels = list(X.columns)[0:-1]"
   ]
  },
  {
   "cell_type": "code",
   "execution_count": 30,
   "metadata": {},
   "outputs": [
    {
     "name": "stdout",
     "output_type": "stream",
     "text": [
      "('NIFTY_India Adj Close', 1.0262072978947183e-05)\n",
      "('Muthoot Adj Close', 0.9951655141714043)\n",
      "('HangSeng Open', 3.0808969445234447e-06)\n",
      "('Shenzhen Open', 0.004777314451858591)\n",
      "('NYSE Adj Close', 0.0)\n",
      "('KOSPI Open', 3.5262323331371284e-06)\n",
      "('Euronext Adj Close', 0.0)\n",
      "('SGXNifty Open', 0.0)\n",
      "('NASDAQ Adj Close', 4.030217448038897e-05)\n"
     ]
    }
   ],
   "source": [
    "for feature in zip(labels, model.feature_importances_):\n",
    "    print(feature)"
   ]
  },
  {
   "cell_type": "code",
   "execution_count": 32,
   "metadata": {},
   "outputs": [],
   "source": [
    "# sfm = SelectFromModel(model, threshold=0.001)\n",
    "# sfm.fit(X,Y)"
   ]
  },
  {
   "cell_type": "code",
   "execution_count": 31,
   "metadata": {},
   "outputs": [],
   "source": [
    "# for index in sfm.get_support(indices=True):\n",
    "#     print(labels[index])"
   ]
  },
  {
   "cell_type": "code",
   "execution_count": null,
   "metadata": {},
   "outputs": [],
   "source": [
    "# X_train_imp = sfm.transform(X)\n",
    "# X_test_imp = sfm.transform(X_test)"
   ]
  },
  {
   "cell_type": "markdown",
   "metadata": {},
   "source": [
    "## Since all features are numerical, we give importance to correlation feature selection.\n",
    "## Link: https://machinelearningmastery.com/feature-selection-with-real-and-categorical-data/"
   ]
  },
  {
   "cell_type": "markdown",
   "metadata": {},
   "source": [
    "## Selecting Features"
   ]
  },
  {
   "cell_type": "code",
   "execution_count": 130,
   "metadata": {},
   "outputs": [
    {
     "data": {
      "text/html": [
       "<div>\n",
       "<style scoped>\n",
       "    .dataframe tbody tr th:only-of-type {\n",
       "        vertical-align: middle;\n",
       "    }\n",
       "\n",
       "    .dataframe tbody tr th {\n",
       "        vertical-align: top;\n",
       "    }\n",
       "\n",
       "    .dataframe thead th {\n",
       "        text-align: right;\n",
       "    }\n",
       "</style>\n",
       "<table border=\"1\" class=\"dataframe\">\n",
       "  <thead>\n",
       "    <tr style=\"text-align: right;\">\n",
       "      <th></th>\n",
       "      <th>NIFTY_India Adj Close</th>\n",
       "      <th>Muthoot Adj Close</th>\n",
       "      <th>Euronext Adj Close</th>\n",
       "      <th>NASDAQ Adj Close</th>\n",
       "      <th>Muthoot Open</th>\n",
       "    </tr>\n",
       "  </thead>\n",
       "  <tbody>\n",
       "    <tr>\n",
       "      <th>0</th>\n",
       "      <td>8127.350098</td>\n",
       "      <td>172.062637</td>\n",
       "      <td>805.469971</td>\n",
       "      <td>4592.740234</td>\n",
       "      <td>195.899994</td>\n",
       "    </tr>\n",
       "    <tr>\n",
       "      <th>1</th>\n",
       "      <td>8102.100098</td>\n",
       "      <td>171.755310</td>\n",
       "      <td>810.940002</td>\n",
       "      <td>4650.470215</td>\n",
       "      <td>197.000000</td>\n",
       "    </tr>\n",
       "  </tbody>\n",
       "</table>\n",
       "</div>"
      ],
      "text/plain": [
       "   NIFTY_India Adj Close  Muthoot Adj Close  Euronext Adj Close  \\\n",
       "0            8127.350098         172.062637          805.469971   \n",
       "1            8102.100098         171.755310          810.940002   \n",
       "\n",
       "   NASDAQ Adj Close  Muthoot Open  \n",
       "0       4592.740234    195.899994  \n",
       "1       4650.470215    197.000000  "
      ]
     },
     "execution_count": 130,
     "metadata": {},
     "output_type": "execute_result"
    }
   ],
   "source": [
    "#Dont forget to add target column\n",
    "train_final = train[['NIFTY_India Adj Close', \n",
    "                     'Muthoot Adj Close',\n",
    "                    #'HangSeng Open', \n",
    "                    # 'Shenzhen Open',\n",
    "                    #'NYSE Adj Close', \n",
    "                     #'KOSPI Open', \n",
    "                     'Euronext Adj Close',\n",
    "                     'NASDAQ Adj Close',\n",
    "                     'Muthoot Open']]\n",
    "train_final.head(2)"
   ]
  },
  {
   "cell_type": "markdown",
   "metadata": {},
   "source": [
    "# Handle outliers using IQR"
   ]
  },
  {
   "cell_type": "code",
   "execution_count": 131,
   "metadata": {},
   "outputs": [
    {
     "name": "stdout",
     "output_type": "stream",
     "text": [
      "NIFTY_India Adj Close    2438.500000\n",
      "Muthoot Adj Close         270.948761\n",
      "Euronext Adj Close        134.730041\n",
      "NASDAQ Adj Close         2493.429687\n",
      "Muthoot Open              278.349991\n",
      "dtype: float64\n"
     ]
    }
   ],
   "source": [
    "Q1 = train_final.quantile(0.25)\n",
    "Q3 = train_final.quantile(0.75)\n",
    "IQR = Q3 - Q1\n",
    "print(IQR)"
   ]
  },
  {
   "cell_type": "code",
   "execution_count": 132,
   "metadata": {},
   "outputs": [
    {
     "data": {
      "text/plain": [
       "(1065, 5)"
      ]
     },
     "execution_count": 132,
     "metadata": {},
     "output_type": "execute_result"
    }
   ],
   "source": [
    "train_final = train_final[~((train_final < (Q1 - 1.5 * IQR)) |(train_final > (Q3 + 1.5 * IQR))).any(axis=1)]\n",
    "train_final.shape"
   ]
  },
  {
   "cell_type": "code",
   "execution_count": 133,
   "metadata": {},
   "outputs": [
    {
     "data": {
      "text/html": [
       "<div>\n",
       "<style scoped>\n",
       "    .dataframe tbody tr th:only-of-type {\n",
       "        vertical-align: middle;\n",
       "    }\n",
       "\n",
       "    .dataframe tbody tr th {\n",
       "        vertical-align: top;\n",
       "    }\n",
       "\n",
       "    .dataframe thead th {\n",
       "        text-align: right;\n",
       "    }\n",
       "</style>\n",
       "<table border=\"1\" class=\"dataframe\">\n",
       "  <thead>\n",
       "    <tr style=\"text-align: right;\">\n",
       "      <th></th>\n",
       "      <th>NIFTY_India Adj Close</th>\n",
       "      <th>Muthoot Adj Close</th>\n",
       "      <th>Euronext Adj Close</th>\n",
       "      <th>NASDAQ Adj Close</th>\n",
       "      <th>Muthoot Open</th>\n",
       "    </tr>\n",
       "  </thead>\n",
       "  <tbody>\n",
       "    <tr>\n",
       "      <th>0</th>\n",
       "      <td>8127.350098</td>\n",
       "      <td>172.062637</td>\n",
       "      <td>805.469971</td>\n",
       "      <td>4592.740234</td>\n",
       "      <td>195.899994</td>\n",
       "    </tr>\n",
       "    <tr>\n",
       "      <th>1</th>\n",
       "      <td>8102.100098</td>\n",
       "      <td>171.755310</td>\n",
       "      <td>810.940002</td>\n",
       "      <td>4650.470215</td>\n",
       "      <td>197.000000</td>\n",
       "    </tr>\n",
       "  </tbody>\n",
       "</table>\n",
       "</div>"
      ],
      "text/plain": [
       "   NIFTY_India Adj Close  Muthoot Adj Close  Euronext Adj Close  \\\n",
       "0            8127.350098         172.062637          805.469971   \n",
       "1            8102.100098         171.755310          810.940002   \n",
       "\n",
       "   NASDAQ Adj Close  Muthoot Open  \n",
       "0       4592.740234    195.899994  \n",
       "1       4650.470215    197.000000  "
      ]
     },
     "execution_count": 133,
     "metadata": {},
     "output_type": "execute_result"
    }
   ],
   "source": [
    "train_final.head(2)"
   ]
  },
  {
   "cell_type": "markdown",
   "metadata": {},
   "source": [
    "## Test Data"
   ]
  },
  {
   "cell_type": "code",
   "execution_count": 134,
   "metadata": {},
   "outputs": [],
   "source": [
    "test = pd.read_csv('../Data/STOCKS_test.CSV')\n",
    "dfgt = pd.read_csv('../Data/HangSeng_test.CSV')\n",
    "dfyt = pd.read_csv('../Data/NYSE_test.CSV')\n",
    "dfzt = pd.read_csv('../Data/Shenzhen_test.CSV')\n",
    "dfkt = pd.read_csv('../Data/KOSPI_test.CSV')\n",
    "dfet = pd.read_csv('../Data/Euronext100_test.CSV')\n",
    "dfnt = pd.read_csv('../Data/NASDAQ_test.CSV')"
   ]
  },
  {
   "cell_type": "code",
   "execution_count": 135,
   "metadata": {},
   "outputs": [],
   "source": [
    "#Converting to common date format\n",
    "\n",
    "test['Date'] =  pd.to_datetime(test['Date'], format='%d-%m-%Y')\n",
    "dfgt['Date'] =  pd.to_datetime(dfgt['Date'], format='%d-%m-%Y')\n",
    "dfyt['Date'] =  pd.to_datetime(dfyt['Date'], format='%d-%m-%Y')\n",
    "dfzt['Date'] =  pd.to_datetime(dfzt['Date'], format='%d-%m-%Y')\n",
    "dfkt['Date'] =  pd.to_datetime(dfkt['Date'], format='%d-%m-%Y')\n",
    "dfet['Date'] =  pd.to_datetime(dfet['Date'], format='%d-%m-%Y')\n",
    "dfnt['Date'] =  pd.to_datetime(dfnt['Date'], format='%d-%m-%Y')"
   ]
  },
  {
   "cell_type": "code",
   "execution_count": 136,
   "metadata": {},
   "outputs": [],
   "source": [
    "#Merging Dataframes based on date\n",
    "\n",
    "test = pd.merge(test,dfgt,how='inner',on='Date')\n",
    "test = pd.merge(test,dfzt,how='inner',on='Date')\n",
    "test = pd.merge(test,dfyt,how='inner',on='Date')\n",
    "test = pd.merge(test,dfkt,how='inner',on='Date')\n",
    "test = pd.merge(test,dfet,how='inner',on='Date')\n",
    "test = pd.merge(test,dfnt,how='inner',on='Date')"
   ]
  },
  {
   "cell_type": "code",
   "execution_count": 137,
   "metadata": {},
   "outputs": [
    {
     "data": {
      "text/html": [
       "<div>\n",
       "<style scoped>\n",
       "    .dataframe tbody tr th:only-of-type {\n",
       "        vertical-align: middle;\n",
       "    }\n",
       "\n",
       "    .dataframe tbody tr th {\n",
       "        vertical-align: top;\n",
       "    }\n",
       "\n",
       "    .dataframe thead th {\n",
       "        text-align: right;\n",
       "    }\n",
       "</style>\n",
       "<table border=\"1\" class=\"dataframe\">\n",
       "  <thead>\n",
       "    <tr style=\"text-align: right;\">\n",
       "      <th></th>\n",
       "      <th>Date</th>\n",
       "      <th>NIFTY_India Adj Close</th>\n",
       "      <th>Escorts Adj Close</th>\n",
       "      <th>Muthoot Adj Close</th>\n",
       "      <th>SBI Adj Close</th>\n",
       "      <th>HCL Adj Close</th>\n",
       "      <th>ICICI Adj Close</th>\n",
       "      <th>Escorts Open</th>\n",
       "      <th>Muthoot Open</th>\n",
       "      <th>SBI Open</th>\n",
       "      <th>HCL Open</th>\n",
       "      <th>ICICI Open</th>\n",
       "      <th>HangSeng Open</th>\n",
       "      <th>Shenzhen Open</th>\n",
       "      <th>NYSE Adj Close</th>\n",
       "      <th>KOSPI Open</th>\n",
       "      <th>Euronext Adj Close</th>\n",
       "      <th>NASDAQ Adj Close</th>\n",
       "    </tr>\n",
       "  </thead>\n",
       "  <tbody>\n",
       "    <tr>\n",
       "      <th>0</th>\n",
       "      <td>2020-04-08</td>\n",
       "      <td>8792.200195</td>\n",
       "      <td>663.750000</td>\n",
       "      <td>675.849976</td>\n",
       "      <td>186.399994</td>\n",
       "      <td>451.149994</td>\n",
       "      <td>326.100006</td>\n",
       "      <td>653.700012</td>\n",
       "      <td>662.299988</td>\n",
       "      <td>182.899994</td>\n",
       "      <td>451.000000</td>\n",
       "      <td>322.850006</td>\n",
       "      <td>24191.32031</td>\n",
       "      <td>10372.75977</td>\n",
       "      <td>10537.04004</td>\n",
       "      <td>1815.750000</td>\n",
       "      <td>872.619995</td>\n",
       "      <td>7887.259766</td>\n",
       "    </tr>\n",
       "    <tr>\n",
       "      <th>1</th>\n",
       "      <td>2020-04-09</td>\n",
       "      <td>8748.750000</td>\n",
       "      <td>642.349976</td>\n",
       "      <td>687.150024</td>\n",
       "      <td>183.000000</td>\n",
       "      <td>463.100006</td>\n",
       "      <td>318.950012</td>\n",
       "      <td>661.000000</td>\n",
       "      <td>700.000000</td>\n",
       "      <td>188.000000</td>\n",
       "      <td>480.700012</td>\n",
       "      <td>332.399994</td>\n",
       "      <td>24181.32031</td>\n",
       "      <td>10453.86035</td>\n",
       "      <td>10902.58984</td>\n",
       "      <td>1838.089966</td>\n",
       "      <td>874.390015</td>\n",
       "      <td>8090.899902</td>\n",
       "    </tr>\n",
       "    <tr>\n",
       "      <th>2</th>\n",
       "      <td>2020-04-16</td>\n",
       "      <td>8925.299805</td>\n",
       "      <td>714.700012</td>\n",
       "      <td>691.299988</td>\n",
       "      <td>182.350006</td>\n",
       "      <td>478.750000</td>\n",
       "      <td>327.350006</td>\n",
       "      <td>710.000000</td>\n",
       "      <td>672.000000</td>\n",
       "      <td>182.000000</td>\n",
       "      <td>473.000000</td>\n",
       "      <td>325.299988</td>\n",
       "      <td>24025.44922</td>\n",
       "      <td>10361.76953</td>\n",
       "      <td>10843.91992</td>\n",
       "      <td>1839.510010</td>\n",
       "      <td>857.039978</td>\n",
       "      <td>8393.179688</td>\n",
       "    </tr>\n",
       "    <tr>\n",
       "      <th>3</th>\n",
       "      <td>2020-04-17</td>\n",
       "      <td>8992.799805</td>\n",
       "      <td>714.299988</td>\n",
       "      <td>693.599976</td>\n",
       "      <td>188.500000</td>\n",
       "      <td>459.750000</td>\n",
       "      <td>342.000000</td>\n",
       "      <td>744.000000</td>\n",
       "      <td>715.099976</td>\n",
       "      <td>196.000000</td>\n",
       "      <td>470.000000</td>\n",
       "      <td>362.000000</td>\n",
       "      <td>24457.83008</td>\n",
       "      <td>10562.90039</td>\n",
       "      <td>10818.03027</td>\n",
       "      <td>1893.310059</td>\n",
       "      <td>857.710022</td>\n",
       "      <td>8532.360352</td>\n",
       "    </tr>\n",
       "    <tr>\n",
       "      <th>4</th>\n",
       "      <td>2020-04-20</td>\n",
       "      <td>9266.750000</td>\n",
       "      <td>746.200012</td>\n",
       "      <td>706.799988</td>\n",
       "      <td>193.250000</td>\n",
       "      <td>455.250000</td>\n",
       "      <td>375.549988</td>\n",
       "      <td>749.450012</td>\n",
       "      <td>714.750000</td>\n",
       "      <td>194.000000</td>\n",
       "      <td>458.000000</td>\n",
       "      <td>376.000000</td>\n",
       "      <td>24503.56055</td>\n",
       "      <td>10553.54981</td>\n",
       "      <td>11208.29004</td>\n",
       "      <td>1908.339966</td>\n",
       "      <td>883.280029</td>\n",
       "      <td>8650.139648</td>\n",
       "    </tr>\n",
       "  </tbody>\n",
       "</table>\n",
       "</div>"
      ],
      "text/plain": [
       "        Date  NIFTY_India Adj Close  Escorts Adj Close  Muthoot Adj Close  \\\n",
       "0 2020-04-08            8792.200195         663.750000         675.849976   \n",
       "1 2020-04-09            8748.750000         642.349976         687.150024   \n",
       "2 2020-04-16            8925.299805         714.700012         691.299988   \n",
       "3 2020-04-17            8992.799805         714.299988         693.599976   \n",
       "4 2020-04-20            9266.750000         746.200012         706.799988   \n",
       "\n",
       "   SBI Adj Close  HCL Adj Close  ICICI Adj Close  Escorts Open  Muthoot Open  \\\n",
       "0     186.399994     451.149994       326.100006    653.700012    662.299988   \n",
       "1     183.000000     463.100006       318.950012    661.000000    700.000000   \n",
       "2     182.350006     478.750000       327.350006    710.000000    672.000000   \n",
       "3     188.500000     459.750000       342.000000    744.000000    715.099976   \n",
       "4     193.250000     455.250000       375.549988    749.450012    714.750000   \n",
       "\n",
       "     SBI Open    HCL Open  ICICI Open  HangSeng Open  Shenzhen Open  \\\n",
       "0  182.899994  451.000000  322.850006    24191.32031    10372.75977   \n",
       "1  188.000000  480.700012  332.399994    24181.32031    10453.86035   \n",
       "2  182.000000  473.000000  325.299988    24025.44922    10361.76953   \n",
       "3  196.000000  470.000000  362.000000    24457.83008    10562.90039   \n",
       "4  194.000000  458.000000  376.000000    24503.56055    10553.54981   \n",
       "\n",
       "   NYSE Adj Close   KOSPI Open  Euronext Adj Close  NASDAQ Adj Close  \n",
       "0     10537.04004  1815.750000          872.619995       7887.259766  \n",
       "1     10902.58984  1838.089966          874.390015       8090.899902  \n",
       "2     10843.91992  1839.510010          857.039978       8393.179688  \n",
       "3     10818.03027  1893.310059          857.710022       8532.360352  \n",
       "4     11208.29004  1908.339966          883.280029       8650.139648  "
      ]
     },
     "execution_count": 137,
     "metadata": {},
     "output_type": "execute_result"
    }
   ],
   "source": [
    "test.head()"
   ]
  },
  {
   "cell_type": "code",
   "execution_count": 138,
   "metadata": {},
   "outputs": [
    {
     "data": {
      "text/plain": [
       "(28, 18)"
      ]
     },
     "execution_count": 138,
     "metadata": {},
     "output_type": "execute_result"
    }
   ],
   "source": [
    "test.shape"
   ]
  },
  {
   "cell_type": "code",
   "execution_count": 139,
   "metadata": {},
   "outputs": [
    {
     "data": {
      "text/plain": [
       "Index(['Date', 'NIFTY_India Adj Close', 'Escorts Adj Close',\n",
       "       'Muthoot Adj Close', 'SBI Adj Close', 'HCL Adj Close',\n",
       "       'ICICI Adj Close', 'Escorts Open', 'Muthoot Open', 'SBI Open',\n",
       "       'HCL Open', 'ICICI Open', 'HangSeng Open', 'Shenzhen Open',\n",
       "       'NYSE Adj Close', 'KOSPI Open', 'Euronext Adj Close',\n",
       "       'NASDAQ Adj Close'],\n",
       "      dtype='object')"
      ]
     },
     "execution_count": 139,
     "metadata": {},
     "output_type": "execute_result"
    }
   ],
   "source": [
    "test.columns"
   ]
  },
  {
   "cell_type": "code",
   "execution_count": 140,
   "metadata": {},
   "outputs": [],
   "source": [
    "# Rearrange columns\n",
    "\n",
    "test = test[['Date','NIFTY_India Adj Close', \n",
    "                     'Muthoot Adj Close',\n",
    "                    #'HangSeng Open', \n",
    "                    # 'Shenzhen Open',\n",
    "                    #'NYSE Adj Close', \n",
    "                     #'KOSPI Open', \n",
    "                     'Euronext Adj Close',\n",
    "                     'NASDAQ Adj Close',\n",
    "                     'Muthoot Open']]"
   ]
  },
  {
   "cell_type": "code",
   "execution_count": 141,
   "metadata": {},
   "outputs": [
    {
     "data": {
      "text/html": [
       "<div>\n",
       "<style scoped>\n",
       "    .dataframe tbody tr th:only-of-type {\n",
       "        vertical-align: middle;\n",
       "    }\n",
       "\n",
       "    .dataframe tbody tr th {\n",
       "        vertical-align: top;\n",
       "    }\n",
       "\n",
       "    .dataframe thead th {\n",
       "        text-align: right;\n",
       "    }\n",
       "</style>\n",
       "<table border=\"1\" class=\"dataframe\">\n",
       "  <thead>\n",
       "    <tr style=\"text-align: right;\">\n",
       "      <th></th>\n",
       "      <th>Date</th>\n",
       "      <th>NIFTY_India Adj Close</th>\n",
       "      <th>Muthoot Adj Close</th>\n",
       "      <th>Euronext Adj Close</th>\n",
       "      <th>NASDAQ Adj Close</th>\n",
       "      <th>Muthoot Open</th>\n",
       "    </tr>\n",
       "  </thead>\n",
       "  <tbody>\n",
       "    <tr>\n",
       "      <th>0</th>\n",
       "      <td>2020-04-08</td>\n",
       "      <td>8792.200195</td>\n",
       "      <td>675.849976</td>\n",
       "      <td>872.619995</td>\n",
       "      <td>7887.259766</td>\n",
       "      <td>662.299988</td>\n",
       "    </tr>\n",
       "    <tr>\n",
       "      <th>1</th>\n",
       "      <td>2020-04-09</td>\n",
       "      <td>8748.750000</td>\n",
       "      <td>687.150024</td>\n",
       "      <td>874.390015</td>\n",
       "      <td>8090.899902</td>\n",
       "      <td>700.000000</td>\n",
       "    </tr>\n",
       "    <tr>\n",
       "      <th>2</th>\n",
       "      <td>2020-04-16</td>\n",
       "      <td>8925.299805</td>\n",
       "      <td>691.299988</td>\n",
       "      <td>857.039978</td>\n",
       "      <td>8393.179688</td>\n",
       "      <td>672.000000</td>\n",
       "    </tr>\n",
       "    <tr>\n",
       "      <th>3</th>\n",
       "      <td>2020-04-17</td>\n",
       "      <td>8992.799805</td>\n",
       "      <td>693.599976</td>\n",
       "      <td>857.710022</td>\n",
       "      <td>8532.360352</td>\n",
       "      <td>715.099976</td>\n",
       "    </tr>\n",
       "    <tr>\n",
       "      <th>4</th>\n",
       "      <td>2020-04-20</td>\n",
       "      <td>9266.750000</td>\n",
       "      <td>706.799988</td>\n",
       "      <td>883.280029</td>\n",
       "      <td>8650.139648</td>\n",
       "      <td>714.750000</td>\n",
       "    </tr>\n",
       "  </tbody>\n",
       "</table>\n",
       "</div>"
      ],
      "text/plain": [
       "        Date  NIFTY_India Adj Close  Muthoot Adj Close  Euronext Adj Close  \\\n",
       "0 2020-04-08            8792.200195         675.849976          872.619995   \n",
       "1 2020-04-09            8748.750000         687.150024          874.390015   \n",
       "2 2020-04-16            8925.299805         691.299988          857.039978   \n",
       "3 2020-04-17            8992.799805         693.599976          857.710022   \n",
       "4 2020-04-20            9266.750000         706.799988          883.280029   \n",
       "\n",
       "   NASDAQ Adj Close  Muthoot Open  \n",
       "0       7887.259766    662.299988  \n",
       "1       8090.899902    700.000000  \n",
       "2       8393.179688    672.000000  \n",
       "3       8532.360352    715.099976  \n",
       "4       8650.139648    714.750000  "
      ]
     },
     "execution_count": 141,
     "metadata": {},
     "output_type": "execute_result"
    }
   ],
   "source": [
    "test.head()"
   ]
  },
  {
   "cell_type": "code",
   "execution_count": 142,
   "metadata": {
    "scrolled": true
   },
   "outputs": [
    {
     "data": {
      "text/plain": [
       "Date                     0\n",
       "NIFTY_India Adj Close    0\n",
       "Muthoot Adj Close        0\n",
       "Euronext Adj Close       0\n",
       "NASDAQ Adj Close         0\n",
       "Muthoot Open             0\n",
       "dtype: int64"
      ]
     },
     "execution_count": 142,
     "metadata": {},
     "output_type": "execute_result"
    }
   ],
   "source": [
    "test.isnull().sum()"
   ]
  },
  {
   "cell_type": "markdown",
   "metadata": {},
   "source": [
    "## Apply Machine Learning Models"
   ]
  },
  {
   "cell_type": "code",
   "execution_count": 143,
   "metadata": {},
   "outputs": [],
   "source": [
    "X = train_final[train_final.columns[0:-1]]\n",
    "Y = train_final[train_final.columns[-1]]"
   ]
  },
  {
   "cell_type": "code",
   "execution_count": 144,
   "metadata": {},
   "outputs": [],
   "source": [
    "X_test = test[test.columns[1:-1]]"
   ]
  },
  {
   "cell_type": "code",
   "execution_count": 145,
   "metadata": {},
   "outputs": [],
   "source": [
    "test.rename(columns = {'Muthoot Open':'Actual Open'}, inplace=True)"
   ]
  },
  {
   "cell_type": "code",
   "execution_count": 146,
   "metadata": {},
   "outputs": [
    {
     "data": {
      "text/html": [
       "<div>\n",
       "<style scoped>\n",
       "    .dataframe tbody tr th:only-of-type {\n",
       "        vertical-align: middle;\n",
       "    }\n",
       "\n",
       "    .dataframe tbody tr th {\n",
       "        vertical-align: top;\n",
       "    }\n",
       "\n",
       "    .dataframe thead th {\n",
       "        text-align: right;\n",
       "    }\n",
       "</style>\n",
       "<table border=\"1\" class=\"dataframe\">\n",
       "  <thead>\n",
       "    <tr style=\"text-align: right;\">\n",
       "      <th></th>\n",
       "      <th>Date</th>\n",
       "      <th>NIFTY_India Adj Close</th>\n",
       "      <th>Muthoot Adj Close</th>\n",
       "      <th>Euronext Adj Close</th>\n",
       "      <th>NASDAQ Adj Close</th>\n",
       "      <th>Actual Open</th>\n",
       "    </tr>\n",
       "  </thead>\n",
       "  <tbody>\n",
       "    <tr>\n",
       "      <th>0</th>\n",
       "      <td>2020-04-08</td>\n",
       "      <td>8792.200195</td>\n",
       "      <td>675.849976</td>\n",
       "      <td>872.619995</td>\n",
       "      <td>7887.259766</td>\n",
       "      <td>662.299988</td>\n",
       "    </tr>\n",
       "    <tr>\n",
       "      <th>1</th>\n",
       "      <td>2020-04-09</td>\n",
       "      <td>8748.750000</td>\n",
       "      <td>687.150024</td>\n",
       "      <td>874.390015</td>\n",
       "      <td>8090.899902</td>\n",
       "      <td>700.000000</td>\n",
       "    </tr>\n",
       "    <tr>\n",
       "      <th>2</th>\n",
       "      <td>2020-04-16</td>\n",
       "      <td>8925.299805</td>\n",
       "      <td>691.299988</td>\n",
       "      <td>857.039978</td>\n",
       "      <td>8393.179688</td>\n",
       "      <td>672.000000</td>\n",
       "    </tr>\n",
       "    <tr>\n",
       "      <th>3</th>\n",
       "      <td>2020-04-17</td>\n",
       "      <td>8992.799805</td>\n",
       "      <td>693.599976</td>\n",
       "      <td>857.710022</td>\n",
       "      <td>8532.360352</td>\n",
       "      <td>715.099976</td>\n",
       "    </tr>\n",
       "    <tr>\n",
       "      <th>4</th>\n",
       "      <td>2020-04-20</td>\n",
       "      <td>9266.750000</td>\n",
       "      <td>706.799988</td>\n",
       "      <td>883.280029</td>\n",
       "      <td>8650.139648</td>\n",
       "      <td>714.750000</td>\n",
       "    </tr>\n",
       "  </tbody>\n",
       "</table>\n",
       "</div>"
      ],
      "text/plain": [
       "        Date  NIFTY_India Adj Close  Muthoot Adj Close  Euronext Adj Close  \\\n",
       "0 2020-04-08            8792.200195         675.849976          872.619995   \n",
       "1 2020-04-09            8748.750000         687.150024          874.390015   \n",
       "2 2020-04-16            8925.299805         691.299988          857.039978   \n",
       "3 2020-04-17            8992.799805         693.599976          857.710022   \n",
       "4 2020-04-20            9266.750000         706.799988          883.280029   \n",
       "\n",
       "   NASDAQ Adj Close  Actual Open  \n",
       "0       7887.259766   662.299988  \n",
       "1       8090.899902   700.000000  \n",
       "2       8393.179688   672.000000  \n",
       "3       8532.360352   715.099976  \n",
       "4       8650.139648   714.750000  "
      ]
     },
     "execution_count": 146,
     "metadata": {},
     "output_type": "execute_result"
    }
   ],
   "source": [
    "test.head()"
   ]
  },
  {
   "cell_type": "markdown",
   "metadata": {},
   "source": [
    "## 1. Linear Regression Model"
   ]
  },
  {
   "cell_type": "code",
   "execution_count": 161,
   "metadata": {},
   "outputs": [
    {
     "data": {
      "text/html": [
       "<div>\n",
       "<style scoped>\n",
       "    .dataframe tbody tr th:only-of-type {\n",
       "        vertical-align: middle;\n",
       "    }\n",
       "\n",
       "    .dataframe tbody tr th {\n",
       "        vertical-align: top;\n",
       "    }\n",
       "\n",
       "    .dataframe thead th {\n",
       "        text-align: right;\n",
       "    }\n",
       "</style>\n",
       "<table border=\"1\" class=\"dataframe\">\n",
       "  <thead>\n",
       "    <tr style=\"text-align: right;\">\n",
       "      <th></th>\n",
       "      <th>NIFTY_India Adj Close</th>\n",
       "      <th>Muthoot Adj Close</th>\n",
       "      <th>Euronext Adj Close</th>\n",
       "      <th>NASDAQ Adj Close</th>\n",
       "    </tr>\n",
       "  </thead>\n",
       "  <tbody>\n",
       "    <tr>\n",
       "      <th>0</th>\n",
       "      <td>8127.350098</td>\n",
       "      <td>172.062637</td>\n",
       "      <td>805.469971</td>\n",
       "      <td>4592.740234</td>\n",
       "    </tr>\n",
       "    <tr>\n",
       "      <th>1</th>\n",
       "      <td>8102.100098</td>\n",
       "      <td>171.755310</td>\n",
       "      <td>810.940002</td>\n",
       "      <td>4650.470215</td>\n",
       "    </tr>\n",
       "    <tr>\n",
       "      <th>2</th>\n",
       "      <td>8234.599609</td>\n",
       "      <td>172.589493</td>\n",
       "      <td>837.729980</td>\n",
       "      <td>4736.189941</td>\n",
       "    </tr>\n",
       "    <tr>\n",
       "      <th>3</th>\n",
       "      <td>8323.000000</td>\n",
       "      <td>172.238251</td>\n",
       "      <td>832.760010</td>\n",
       "      <td>4664.709961</td>\n",
       "    </tr>\n",
       "    <tr>\n",
       "      <th>4</th>\n",
       "      <td>8299.400391</td>\n",
       "      <td>172.150452</td>\n",
       "      <td>845.299988</td>\n",
       "      <td>4661.500000</td>\n",
       "    </tr>\n",
       "  </tbody>\n",
       "</table>\n",
       "</div>"
      ],
      "text/plain": [
       "   NIFTY_India Adj Close  Muthoot Adj Close  Euronext Adj Close  \\\n",
       "0            8127.350098         172.062637          805.469971   \n",
       "1            8102.100098         171.755310          810.940002   \n",
       "2            8234.599609         172.589493          837.729980   \n",
       "3            8323.000000         172.238251          832.760010   \n",
       "4            8299.400391         172.150452          845.299988   \n",
       "\n",
       "   NASDAQ Adj Close  \n",
       "0       4592.740234  \n",
       "1       4650.470215  \n",
       "2       4736.189941  \n",
       "3       4664.709961  \n",
       "4       4661.500000  "
      ]
     },
     "execution_count": 161,
     "metadata": {},
     "output_type": "execute_result"
    }
   ],
   "source": [
    "X.head()"
   ]
  },
  {
   "cell_type": "code",
   "execution_count": 162,
   "metadata": {},
   "outputs": [],
   "source": [
    "model_linear = LinearRegression()"
   ]
  },
  {
   "cell_type": "code",
   "execution_count": 163,
   "metadata": {},
   "outputs": [
    {
     "data": {
      "text/plain": [
       "LinearRegression(copy_X=True, fit_intercept=True, n_jobs=None, normalize=False)"
      ]
     },
     "execution_count": 163,
     "metadata": {},
     "output_type": "execute_result"
    }
   ],
   "source": [
    "model_linear.fit(X,Y)"
   ]
  },
  {
   "cell_type": "code",
   "execution_count": 164,
   "metadata": {},
   "outputs": [
    {
     "data": {
      "text/plain": [
       "array([ 0.00462262,  1.02212264,  0.05033545, -0.01119879])"
      ]
     },
     "execution_count": 164,
     "metadata": {},
     "output_type": "execute_result"
    }
   ],
   "source": [
    "model_linear.coef_"
   ]
  },
  {
   "cell_type": "code",
   "execution_count": 165,
   "metadata": {},
   "outputs": [
    {
     "data": {
      "text/html": [
       "<div>\n",
       "<style scoped>\n",
       "    .dataframe tbody tr th:only-of-type {\n",
       "        vertical-align: middle;\n",
       "    }\n",
       "\n",
       "    .dataframe tbody tr th {\n",
       "        vertical-align: top;\n",
       "    }\n",
       "\n",
       "    .dataframe thead th {\n",
       "        text-align: right;\n",
       "    }\n",
       "</style>\n",
       "<table border=\"1\" class=\"dataframe\">\n",
       "  <thead>\n",
       "    <tr style=\"text-align: right;\">\n",
       "      <th></th>\n",
       "      <th>NIFTY_India Adj Close</th>\n",
       "      <th>Muthoot Adj Close</th>\n",
       "      <th>Euronext Adj Close</th>\n",
       "      <th>NASDAQ Adj Close</th>\n",
       "    </tr>\n",
       "  </thead>\n",
       "  <tbody>\n",
       "    <tr>\n",
       "      <th>0</th>\n",
       "      <td>8792.200195</td>\n",
       "      <td>675.849976</td>\n",
       "      <td>872.619995</td>\n",
       "      <td>7887.259766</td>\n",
       "    </tr>\n",
       "    <tr>\n",
       "      <th>1</th>\n",
       "      <td>8748.750000</td>\n",
       "      <td>687.150024</td>\n",
       "      <td>874.390015</td>\n",
       "      <td>8090.899902</td>\n",
       "    </tr>\n",
       "    <tr>\n",
       "      <th>2</th>\n",
       "      <td>8925.299805</td>\n",
       "      <td>691.299988</td>\n",
       "      <td>857.039978</td>\n",
       "      <td>8393.179688</td>\n",
       "    </tr>\n",
       "    <tr>\n",
       "      <th>3</th>\n",
       "      <td>8992.799805</td>\n",
       "      <td>693.599976</td>\n",
       "      <td>857.710022</td>\n",
       "      <td>8532.360352</td>\n",
       "    </tr>\n",
       "    <tr>\n",
       "      <th>4</th>\n",
       "      <td>9266.750000</td>\n",
       "      <td>706.799988</td>\n",
       "      <td>883.280029</td>\n",
       "      <td>8650.139648</td>\n",
       "    </tr>\n",
       "  </tbody>\n",
       "</table>\n",
       "</div>"
      ],
      "text/plain": [
       "   NIFTY_India Adj Close  Muthoot Adj Close  Euronext Adj Close  \\\n",
       "0            8792.200195         675.849976          872.619995   \n",
       "1            8748.750000         687.150024          874.390015   \n",
       "2            8925.299805         691.299988          857.039978   \n",
       "3            8992.799805         693.599976          857.710022   \n",
       "4            9266.750000         706.799988          883.280029   \n",
       "\n",
       "   NASDAQ Adj Close  \n",
       "0       7887.259766  \n",
       "1       8090.899902  \n",
       "2       8393.179688  \n",
       "3       8532.360352  \n",
       "4       8650.139648  "
      ]
     },
     "execution_count": 165,
     "metadata": {},
     "output_type": "execute_result"
    }
   ],
   "source": [
    "X_test.head()"
   ]
  },
  {
   "cell_type": "code",
   "execution_count": 166,
   "metadata": {},
   "outputs": [],
   "source": [
    "test['LR Predicted Open'] = model_linear.predict(X_test)"
   ]
  },
  {
   "cell_type": "code",
   "execution_count": 167,
   "metadata": {},
   "outputs": [
    {
     "data": {
      "text/html": [
       "<div>\n",
       "<style scoped>\n",
       "    .dataframe tbody tr th:only-of-type {\n",
       "        vertical-align: middle;\n",
       "    }\n",
       "\n",
       "    .dataframe tbody tr th {\n",
       "        vertical-align: top;\n",
       "    }\n",
       "\n",
       "    .dataframe thead th {\n",
       "        text-align: right;\n",
       "    }\n",
       "</style>\n",
       "<table border=\"1\" class=\"dataframe\">\n",
       "  <thead>\n",
       "    <tr style=\"text-align: right;\">\n",
       "      <th></th>\n",
       "      <th>Date</th>\n",
       "      <th>NIFTY_India Adj Close</th>\n",
       "      <th>Muthoot Adj Close</th>\n",
       "      <th>Euronext Adj Close</th>\n",
       "      <th>NASDAQ Adj Close</th>\n",
       "      <th>Actual Open</th>\n",
       "      <th>Random Forest Predicted Open</th>\n",
       "      <th>SVR Predicted Open</th>\n",
       "      <th>LR Predicted Open</th>\n",
       "    </tr>\n",
       "  </thead>\n",
       "  <tbody>\n",
       "    <tr>\n",
       "      <th>0</th>\n",
       "      <td>2020-04-08</td>\n",
       "      <td>8792.200195</td>\n",
       "      <td>675.849976</td>\n",
       "      <td>872.619995</td>\n",
       "      <td>7887.259766</td>\n",
       "      <td>662.299988</td>\n",
       "      <td>693.605005</td>\n",
       "      <td>684.029535</td>\n",
       "      <td>678.517704</td>\n",
       "    </tr>\n",
       "    <tr>\n",
       "      <th>1</th>\n",
       "      <td>2020-04-09</td>\n",
       "      <td>8748.750000</td>\n",
       "      <td>687.150024</td>\n",
       "      <td>874.390015</td>\n",
       "      <td>8090.899902</td>\n",
       "      <td>700.000000</td>\n",
       "      <td>710.000000</td>\n",
       "      <td>693.331301</td>\n",
       "      <td>687.675457</td>\n",
       "    </tr>\n",
       "    <tr>\n",
       "      <th>2</th>\n",
       "      <td>2020-04-16</td>\n",
       "      <td>8925.299805</td>\n",
       "      <td>691.299988</td>\n",
       "      <td>857.039978</td>\n",
       "      <td>8393.179688</td>\n",
       "      <td>672.000000</td>\n",
       "      <td>710.000000</td>\n",
       "      <td>694.325266</td>\n",
       "      <td>688.474863</td>\n",
       "    </tr>\n",
       "    <tr>\n",
       "      <th>3</th>\n",
       "      <td>2020-04-17</td>\n",
       "      <td>8992.799805</td>\n",
       "      <td>693.599976</td>\n",
       "      <td>857.710022</td>\n",
       "      <td>8532.360352</td>\n",
       "      <td>715.099976</td>\n",
       "      <td>711.000000</td>\n",
       "      <td>695.471006</td>\n",
       "      <td>689.612833</td>\n",
       "    </tr>\n",
       "    <tr>\n",
       "      <th>4</th>\n",
       "      <td>2020-04-20</td>\n",
       "      <td>9266.750000</td>\n",
       "      <td>706.799988</td>\n",
       "      <td>883.280029</td>\n",
       "      <td>8650.139648</td>\n",
       "      <td>714.750000</td>\n",
       "      <td>724.791989</td>\n",
       "      <td>710.027003</td>\n",
       "      <td>704.339325</td>\n",
       "    </tr>\n",
       "  </tbody>\n",
       "</table>\n",
       "</div>"
      ],
      "text/plain": [
       "        Date  NIFTY_India Adj Close  Muthoot Adj Close  Euronext Adj Close  \\\n",
       "0 2020-04-08            8792.200195         675.849976          872.619995   \n",
       "1 2020-04-09            8748.750000         687.150024          874.390015   \n",
       "2 2020-04-16            8925.299805         691.299988          857.039978   \n",
       "3 2020-04-17            8992.799805         693.599976          857.710022   \n",
       "4 2020-04-20            9266.750000         706.799988          883.280029   \n",
       "\n",
       "   NASDAQ Adj Close  Actual Open  Random Forest Predicted Open  \\\n",
       "0       7887.259766   662.299988                    693.605005   \n",
       "1       8090.899902   700.000000                    710.000000   \n",
       "2       8393.179688   672.000000                    710.000000   \n",
       "3       8532.360352   715.099976                    711.000000   \n",
       "4       8650.139648   714.750000                    724.791989   \n",
       "\n",
       "   SVR Predicted Open  LR Predicted Open  \n",
       "0          684.029535         678.517704  \n",
       "1          693.331301         687.675457  \n",
       "2          694.325266         688.474863  \n",
       "3          695.471006         689.612833  \n",
       "4          710.027003         704.339325  "
      ]
     },
     "execution_count": 167,
     "metadata": {},
     "output_type": "execute_result"
    }
   ],
   "source": [
    "test.head()"
   ]
  },
  {
   "cell_type": "code",
   "execution_count": 168,
   "metadata": {},
   "outputs": [
    {
     "data": {
      "text/plain": [
       "0.9337925458980335"
      ]
     },
     "execution_count": 168,
     "metadata": {},
     "output_type": "execute_result"
    }
   ],
   "source": [
    "model_linear.score(X_test, test['Actual Open'])"
   ]
  },
  {
   "cell_type": "code",
   "execution_count": 169,
   "metadata": {},
   "outputs": [
    {
     "data": {
      "text/plain": [
       "193.63832559443003"
      ]
     },
     "execution_count": 169,
     "metadata": {},
     "output_type": "execute_result"
    }
   ],
   "source": [
    "# Mean squared error regression loss\n",
    "mean_squared_error(test['Actual Open'], test['LR Predicted Open'])"
   ]
  },
  {
   "cell_type": "markdown",
   "metadata": {},
   "source": [
    "## 2. Support Vector Regression"
   ]
  },
  {
   "cell_type": "code",
   "execution_count": 153,
   "metadata": {},
   "outputs": [],
   "source": [
    "model_svr = SVR()"
   ]
  },
  {
   "cell_type": "code",
   "execution_count": 154,
   "metadata": {},
   "outputs": [],
   "source": [
    "hyperparameter_grid = {'kernel':['rbf', 'linear'],\n",
    "                       'C':[.01, .1, 1, 10, 50, 100],\n",
    "                       'tol': [1e-4, 1e-3]\n",
    "                      }\n",
    "                       \n",
    "grid_cv = GridSearchCV(estimator=model_svr,\n",
    "            param_grid=hyperparameter_grid,\n",
    "            cv=5,\n",
    "            scoring = 'neg_mean_squared_error',\n",
    "            n_jobs = -1,\n",
    "            verbose = 5 )"
   ]
  },
  {
   "cell_type": "code",
   "execution_count": 61,
   "metadata": {},
   "outputs": [
    {
     "name": "stdout",
     "output_type": "stream",
     "text": [
      "Fitting 5 folds for each of 24 candidates, totalling 120 fits\n"
     ]
    },
    {
     "name": "stderr",
     "output_type": "stream",
     "text": [
      "[Parallel(n_jobs=-1)]: Using backend LokyBackend with 4 concurrent workers.\n",
      "[Parallel(n_jobs=-1)]: Done  10 tasks      | elapsed:    1.8s\n",
      "[Parallel(n_jobs=-1)]: Done  64 tasks      | elapsed:  1.2min\n",
      "[Parallel(n_jobs=-1)]: Done 120 out of 120 | elapsed:  2.9min finished\n"
     ]
    },
    {
     "data": {
      "text/plain": [
       "GridSearchCV(cv=5, error_score=nan,\n",
       "             estimator=SVR(C=1.0, cache_size=200, coef0=0.0, degree=3,\n",
       "                           epsilon=0.1, gamma='scale', kernel='rbf',\n",
       "                           max_iter=-1, shrinking=True, tol=0.001,\n",
       "                           verbose=False),\n",
       "             iid='deprecated', n_jobs=-1,\n",
       "             param_grid={'C': [0.01, 0.1, 1, 10, 50, 100],\n",
       "                         'kernel': ['rbf', 'linear'], 'tol': [0.0001, 0.001]},\n",
       "             pre_dispatch='2*n_jobs', refit=True, return_train_score=False,\n",
       "             scoring='neg_mean_squared_error', verbose=5)"
      ]
     },
     "execution_count": 61,
     "metadata": {},
     "output_type": "execute_result"
    }
   ],
   "source": [
    "grid_cv.fit(X,Y)"
   ]
  },
  {
   "cell_type": "code",
   "execution_count": 62,
   "metadata": {},
   "outputs": [
    {
     "data": {
      "text/plain": [
       "SVR(C=0.1, cache_size=200, coef0=0.0, degree=3, epsilon=0.1, gamma='scale',\n",
       "    kernel='linear', max_iter=-1, shrinking=True, tol=0.001, verbose=False)"
      ]
     },
     "execution_count": 62,
     "metadata": {},
     "output_type": "execute_result"
    }
   ],
   "source": [
    "grid_cv.best_estimator_"
   ]
  },
  {
   "cell_type": "code",
   "execution_count": 155,
   "metadata": {},
   "outputs": [],
   "source": [
    "model_svr = SVR(C=0.01, cache_size=200, coef0=0.0, degree=3, epsilon=0.1, gamma='scale',\n",
    "    kernel='linear', max_iter=-1, shrinking=True, tol=0.001, verbose=False)"
   ]
  },
  {
   "cell_type": "code",
   "execution_count": 170,
   "metadata": {},
   "outputs": [
    {
     "data": {
      "text/plain": [
       "SVR(C=0.01, cache_size=200, coef0=0.0, degree=3, epsilon=0.1, gamma='scale',\n",
       "    kernel='linear', max_iter=-1, shrinking=True, tol=0.001, verbose=False)"
      ]
     },
     "execution_count": 170,
     "metadata": {},
     "output_type": "execute_result"
    }
   ],
   "source": [
    "model_svr.fit(X,Y)"
   ]
  },
  {
   "cell_type": "code",
   "execution_count": 171,
   "metadata": {},
   "outputs": [],
   "source": [
    "test['SVR Predicted Open'] = model_svr.predict(X_test)"
   ]
  },
  {
   "cell_type": "code",
   "execution_count": 172,
   "metadata": {},
   "outputs": [
    {
     "data": {
      "text/html": [
       "<div>\n",
       "<style scoped>\n",
       "    .dataframe tbody tr th:only-of-type {\n",
       "        vertical-align: middle;\n",
       "    }\n",
       "\n",
       "    .dataframe tbody tr th {\n",
       "        vertical-align: top;\n",
       "    }\n",
       "\n",
       "    .dataframe thead th {\n",
       "        text-align: right;\n",
       "    }\n",
       "</style>\n",
       "<table border=\"1\" class=\"dataframe\">\n",
       "  <thead>\n",
       "    <tr style=\"text-align: right;\">\n",
       "      <th></th>\n",
       "      <th>Date</th>\n",
       "      <th>NIFTY_India Adj Close</th>\n",
       "      <th>Muthoot Adj Close</th>\n",
       "      <th>Euronext Adj Close</th>\n",
       "      <th>NASDAQ Adj Close</th>\n",
       "      <th>Actual Open</th>\n",
       "      <th>Random Forest Predicted Open</th>\n",
       "      <th>SVR Predicted Open</th>\n",
       "      <th>LR Predicted Open</th>\n",
       "    </tr>\n",
       "  </thead>\n",
       "  <tbody>\n",
       "    <tr>\n",
       "      <th>0</th>\n",
       "      <td>2020-04-08</td>\n",
       "      <td>8792.200195</td>\n",
       "      <td>675.849976</td>\n",
       "      <td>872.619995</td>\n",
       "      <td>7887.259766</td>\n",
       "      <td>662.299988</td>\n",
       "      <td>693.605005</td>\n",
       "      <td>684.029535</td>\n",
       "      <td>678.517704</td>\n",
       "    </tr>\n",
       "    <tr>\n",
       "      <th>1</th>\n",
       "      <td>2020-04-09</td>\n",
       "      <td>8748.750000</td>\n",
       "      <td>687.150024</td>\n",
       "      <td>874.390015</td>\n",
       "      <td>8090.899902</td>\n",
       "      <td>700.000000</td>\n",
       "      <td>710.000000</td>\n",
       "      <td>693.331301</td>\n",
       "      <td>687.675457</td>\n",
       "    </tr>\n",
       "    <tr>\n",
       "      <th>2</th>\n",
       "      <td>2020-04-16</td>\n",
       "      <td>8925.299805</td>\n",
       "      <td>691.299988</td>\n",
       "      <td>857.039978</td>\n",
       "      <td>8393.179688</td>\n",
       "      <td>672.000000</td>\n",
       "      <td>710.000000</td>\n",
       "      <td>694.325266</td>\n",
       "      <td>688.474863</td>\n",
       "    </tr>\n",
       "    <tr>\n",
       "      <th>3</th>\n",
       "      <td>2020-04-17</td>\n",
       "      <td>8992.799805</td>\n",
       "      <td>693.599976</td>\n",
       "      <td>857.710022</td>\n",
       "      <td>8532.360352</td>\n",
       "      <td>715.099976</td>\n",
       "      <td>711.000000</td>\n",
       "      <td>695.471006</td>\n",
       "      <td>689.612833</td>\n",
       "    </tr>\n",
       "    <tr>\n",
       "      <th>4</th>\n",
       "      <td>2020-04-20</td>\n",
       "      <td>9266.750000</td>\n",
       "      <td>706.799988</td>\n",
       "      <td>883.280029</td>\n",
       "      <td>8650.139648</td>\n",
       "      <td>714.750000</td>\n",
       "      <td>724.791989</td>\n",
       "      <td>710.027003</td>\n",
       "      <td>704.339325</td>\n",
       "    </tr>\n",
       "  </tbody>\n",
       "</table>\n",
       "</div>"
      ],
      "text/plain": [
       "        Date  NIFTY_India Adj Close  Muthoot Adj Close  Euronext Adj Close  \\\n",
       "0 2020-04-08            8792.200195         675.849976          872.619995   \n",
       "1 2020-04-09            8748.750000         687.150024          874.390015   \n",
       "2 2020-04-16            8925.299805         691.299988          857.039978   \n",
       "3 2020-04-17            8992.799805         693.599976          857.710022   \n",
       "4 2020-04-20            9266.750000         706.799988          883.280029   \n",
       "\n",
       "   NASDAQ Adj Close  Actual Open  Random Forest Predicted Open  \\\n",
       "0       7887.259766   662.299988                    693.605005   \n",
       "1       8090.899902   700.000000                    710.000000   \n",
       "2       8393.179688   672.000000                    710.000000   \n",
       "3       8532.360352   715.099976                    711.000000   \n",
       "4       8650.139648   714.750000                    724.791989   \n",
       "\n",
       "   SVR Predicted Open  LR Predicted Open  \n",
       "0          684.029535         678.517704  \n",
       "1          693.331301         687.675457  \n",
       "2          694.325266         688.474863  \n",
       "3          695.471006         689.612833  \n",
       "4          710.027003         704.339325  "
      ]
     },
     "execution_count": 172,
     "metadata": {},
     "output_type": "execute_result"
    }
   ],
   "source": [
    "test.head()"
   ]
  },
  {
   "cell_type": "code",
   "execution_count": 81,
   "metadata": {},
   "outputs": [],
   "source": [
    "#test.drop('Predicted Open',axis=1)"
   ]
  },
  {
   "cell_type": "code",
   "execution_count": 159,
   "metadata": {},
   "outputs": [
    {
     "data": {
      "text/plain": [
       "0.9545779948289402"
      ]
     },
     "execution_count": 159,
     "metadata": {},
     "output_type": "execute_result"
    }
   ],
   "source": [
    "model_svr.score(X_test, test['Actual Open'])"
   ]
  },
  {
   "cell_type": "code",
   "execution_count": 160,
   "metadata": {},
   "outputs": [
    {
     "data": {
      "text/plain": [
       "132.84668842453374"
      ]
     },
     "execution_count": 160,
     "metadata": {},
     "output_type": "execute_result"
    }
   ],
   "source": [
    "# Mean squared error regression loss\n",
    "mean_squared_error(test['Actual Open'], test['SVR Predicted Open'])"
   ]
  },
  {
   "cell_type": "markdown",
   "metadata": {},
   "source": [
    "## 3. Random Forest Regressor"
   ]
  },
  {
   "cell_type": "code",
   "execution_count": 147,
   "metadata": {},
   "outputs": [],
   "source": [
    "model_rf = RandomForestRegressor()"
   ]
  },
  {
   "cell_type": "code",
   "execution_count": 148,
   "metadata": {},
   "outputs": [],
   "source": [
    "hyperparameter_grid = {'n_estimators':[ _ for _ in range(20,150,10)],\n",
    "                       'max_depth':[_ for _ in range(4,20,2)],\n",
    "                       'max_features': ['sqrt','auto'],\n",
    "                       'min_samples_leaf': [1,2,3],\n",
    "                       'bootstrap':[True, False] }\n",
    "\n",
    "\n",
    "grid_cv = GridSearchCV(estimator=model_rf,\n",
    "            param_grid=hyperparameter_grid,\n",
    "            cv=5, \n",
    "            scoring = 'neg_mean_squared_error',\n",
    "            n_jobs = -1,\n",
    "            verbose = 5 )"
   ]
  },
  {
   "cell_type": "code",
   "execution_count": 144,
   "metadata": {},
   "outputs": [
    {
     "name": "stdout",
     "output_type": "stream",
     "text": [
      "Fitting 5 folds for each of 1248 candidates, totalling 6240 fits\n"
     ]
    },
    {
     "name": "stderr",
     "output_type": "stream",
     "text": [
      "[Parallel(n_jobs=-1)]: Using backend LokyBackend with 4 concurrent workers.\n",
      "[Parallel(n_jobs=-1)]: Done  10 tasks      | elapsed:    2.0s\n",
      "[Parallel(n_jobs=-1)]: Done  97 tasks      | elapsed:    4.4s\n",
      "[Parallel(n_jobs=-1)]: Done 277 tasks      | elapsed:    9.7s\n",
      "[Parallel(n_jobs=-1)]: Done 529 tasks      | elapsed:   18.5s\n",
      "[Parallel(n_jobs=-1)]: Done 853 tasks      | elapsed:   30.8s\n",
      "[Parallel(n_jobs=-1)]: Done 1249 tasks      | elapsed:   49.2s\n",
      "[Parallel(n_jobs=-1)]: Done 1717 tasks      | elapsed:  1.2min\n",
      "[Parallel(n_jobs=-1)]: Done 2257 tasks      | elapsed:  1.6min\n",
      "[Parallel(n_jobs=-1)]: Done 2869 tasks      | elapsed:  2.2min\n",
      "[Parallel(n_jobs=-1)]: Done 3553 tasks      | elapsed:  2.6min\n",
      "[Parallel(n_jobs=-1)]: Done 4309 tasks      | elapsed:  3.3min\n",
      "[Parallel(n_jobs=-1)]: Done 5137 tasks      | elapsed:  4.1min\n",
      "[Parallel(n_jobs=-1)]: Done 5719 tasks      | elapsed:  4.8min\n",
      "[Parallel(n_jobs=-1)]: Done 6205 tasks      | elapsed:  5.3min\n",
      "[Parallel(n_jobs=-1)]: Done 6240 out of 6240 | elapsed:  5.3min finished\n"
     ]
    },
    {
     "data": {
      "text/plain": [
       "GridSearchCV(cv=5, error_score=nan,\n",
       "             estimator=RandomForestRegressor(bootstrap=True, ccp_alpha=0.0,\n",
       "                                             criterion='mse', max_depth=None,\n",
       "                                             max_features='auto',\n",
       "                                             max_leaf_nodes=None,\n",
       "                                             max_samples=None,\n",
       "                                             min_impurity_decrease=0.0,\n",
       "                                             min_impurity_split=None,\n",
       "                                             min_samples_leaf=1,\n",
       "                                             min_samples_split=2,\n",
       "                                             min_weight_fraction_leaf=0.0,\n",
       "                                             n_estimators=100, n_jobs=None,\n",
       "                                             oob_score=False, rand...\n",
       "                                             verbose=0, warm_start=False),\n",
       "             iid='deprecated', n_jobs=-1,\n",
       "             param_grid={'bootstrap': [True, False],\n",
       "                         'max_depth': [4, 6, 8, 10, 12, 14, 16, 18],\n",
       "                         'max_features': ['sqrt', 'auto'],\n",
       "                         'min_samples_leaf': [1, 2, 3],\n",
       "                         'n_estimators': [20, 30, 40, 50, 60, 70, 80, 90, 100,\n",
       "                                          110, 120, 130, 140]},\n",
       "             pre_dispatch='2*n_jobs', refit=True, return_train_score=False,\n",
       "             scoring='neg_mean_squared_error', verbose=5)"
      ]
     },
     "execution_count": 144,
     "metadata": {},
     "output_type": "execute_result"
    }
   ],
   "source": [
    "grid_cv.fit(X,Y)"
   ]
  },
  {
   "cell_type": "code",
   "execution_count": 145,
   "metadata": {},
   "outputs": [
    {
     "data": {
      "text/plain": [
       "RandomForestRegressor(bootstrap=False, ccp_alpha=0.0, criterion='mse',\n",
       "                      max_depth=18, max_features='auto', max_leaf_nodes=None,\n",
       "                      max_samples=None, min_impurity_decrease=0.0,\n",
       "                      min_impurity_split=None, min_samples_leaf=1,\n",
       "                      min_samples_split=2, min_weight_fraction_leaf=0.0,\n",
       "                      n_estimators=20, n_jobs=None, oob_score=False,\n",
       "                      random_state=None, verbose=0, warm_start=False)"
      ]
     },
     "execution_count": 145,
     "metadata": {},
     "output_type": "execute_result"
    }
   ],
   "source": [
    "grid_cv.best_estimator_"
   ]
  },
  {
   "cell_type": "code",
   "execution_count": 173,
   "metadata": {},
   "outputs": [],
   "source": [
    "model_rf = RandomForestRegressor(bootstrap=False, ccp_alpha=0.0, criterion='mse',\n",
    "                      max_depth=10, max_features='auto', max_leaf_nodes=None,\n",
    "                      max_samples=None, min_impurity_decrease=0.0,\n",
    "                      min_impurity_split=None, min_samples_leaf=1,\n",
    "                      min_samples_split=2, min_weight_fraction_leaf=0.0,\n",
    "                      n_estimators=100, n_jobs=None, oob_score=False,\n",
    "                      random_state=None, verbose=0, warm_start=False)"
   ]
  },
  {
   "cell_type": "code",
   "execution_count": 174,
   "metadata": {},
   "outputs": [
    {
     "data": {
      "text/plain": [
       "RandomForestRegressor(bootstrap=False, ccp_alpha=0.0, criterion='mse',\n",
       "                      max_depth=10, max_features='auto', max_leaf_nodes=None,\n",
       "                      max_samples=None, min_impurity_decrease=0.0,\n",
       "                      min_impurity_split=None, min_samples_leaf=1,\n",
       "                      min_samples_split=2, min_weight_fraction_leaf=0.0,\n",
       "                      n_estimators=100, n_jobs=None, oob_score=False,\n",
       "                      random_state=None, verbose=0, warm_start=False)"
      ]
     },
     "execution_count": 174,
     "metadata": {},
     "output_type": "execute_result"
    }
   ],
   "source": [
    "model_rf.fit(X,Y)"
   ]
  },
  {
   "cell_type": "code",
   "execution_count": 175,
   "metadata": {},
   "outputs": [],
   "source": [
    "test['Random Forest Predicted Open'] = model_rf.predict(X_test)"
   ]
  },
  {
   "cell_type": "code",
   "execution_count": 176,
   "metadata": {},
   "outputs": [
    {
     "data": {
      "text/html": [
       "<div>\n",
       "<style scoped>\n",
       "    .dataframe tbody tr th:only-of-type {\n",
       "        vertical-align: middle;\n",
       "    }\n",
       "\n",
       "    .dataframe tbody tr th {\n",
       "        vertical-align: top;\n",
       "    }\n",
       "\n",
       "    .dataframe thead th {\n",
       "        text-align: right;\n",
       "    }\n",
       "</style>\n",
       "<table border=\"1\" class=\"dataframe\">\n",
       "  <thead>\n",
       "    <tr style=\"text-align: right;\">\n",
       "      <th></th>\n",
       "      <th>Date</th>\n",
       "      <th>NIFTY_India Adj Close</th>\n",
       "      <th>Muthoot Adj Close</th>\n",
       "      <th>Euronext Adj Close</th>\n",
       "      <th>NASDAQ Adj Close</th>\n",
       "      <th>Actual Open</th>\n",
       "      <th>Random Forest Predicted Open</th>\n",
       "      <th>SVR Predicted Open</th>\n",
       "      <th>LR Predicted Open</th>\n",
       "    </tr>\n",
       "  </thead>\n",
       "  <tbody>\n",
       "    <tr>\n",
       "      <th>0</th>\n",
       "      <td>2020-04-08</td>\n",
       "      <td>8792.200195</td>\n",
       "      <td>675.849976</td>\n",
       "      <td>872.619995</td>\n",
       "      <td>7887.259766</td>\n",
       "      <td>662.299988</td>\n",
       "      <td>693.641005</td>\n",
       "      <td>684.029535</td>\n",
       "      <td>678.517704</td>\n",
       "    </tr>\n",
       "    <tr>\n",
       "      <th>1</th>\n",
       "      <td>2020-04-09</td>\n",
       "      <td>8748.750000</td>\n",
       "      <td>687.150024</td>\n",
       "      <td>874.390015</td>\n",
       "      <td>8090.899902</td>\n",
       "      <td>700.000000</td>\n",
       "      <td>710.000000</td>\n",
       "      <td>693.331301</td>\n",
       "      <td>687.675457</td>\n",
       "    </tr>\n",
       "    <tr>\n",
       "      <th>2</th>\n",
       "      <td>2020-04-16</td>\n",
       "      <td>8925.299805</td>\n",
       "      <td>691.299988</td>\n",
       "      <td>857.039978</td>\n",
       "      <td>8393.179688</td>\n",
       "      <td>672.000000</td>\n",
       "      <td>710.000000</td>\n",
       "      <td>694.325266</td>\n",
       "      <td>688.474863</td>\n",
       "    </tr>\n",
       "    <tr>\n",
       "      <th>3</th>\n",
       "      <td>2020-04-17</td>\n",
       "      <td>8992.799805</td>\n",
       "      <td>693.599976</td>\n",
       "      <td>857.710022</td>\n",
       "      <td>8532.360352</td>\n",
       "      <td>715.099976</td>\n",
       "      <td>711.000000</td>\n",
       "      <td>695.471006</td>\n",
       "      <td>689.612833</td>\n",
       "    </tr>\n",
       "    <tr>\n",
       "      <th>4</th>\n",
       "      <td>2020-04-20</td>\n",
       "      <td>9266.750000</td>\n",
       "      <td>706.799988</td>\n",
       "      <td>883.280029</td>\n",
       "      <td>8650.139648</td>\n",
       "      <td>714.750000</td>\n",
       "      <td>725.201988</td>\n",
       "      <td>710.027003</td>\n",
       "      <td>704.339325</td>\n",
       "    </tr>\n",
       "  </tbody>\n",
       "</table>\n",
       "</div>"
      ],
      "text/plain": [
       "        Date  NIFTY_India Adj Close  Muthoot Adj Close  Euronext Adj Close  \\\n",
       "0 2020-04-08            8792.200195         675.849976          872.619995   \n",
       "1 2020-04-09            8748.750000         687.150024          874.390015   \n",
       "2 2020-04-16            8925.299805         691.299988          857.039978   \n",
       "3 2020-04-17            8992.799805         693.599976          857.710022   \n",
       "4 2020-04-20            9266.750000         706.799988          883.280029   \n",
       "\n",
       "   NASDAQ Adj Close  Actual Open  Random Forest Predicted Open  \\\n",
       "0       7887.259766   662.299988                    693.641005   \n",
       "1       8090.899902   700.000000                    710.000000   \n",
       "2       8393.179688   672.000000                    710.000000   \n",
       "3       8532.360352   715.099976                    711.000000   \n",
       "4       8650.139648   714.750000                    725.201988   \n",
       "\n",
       "   SVR Predicted Open  LR Predicted Open  \n",
       "0          684.029535         678.517704  \n",
       "1          693.331301         687.675457  \n",
       "2          694.325266         688.474863  \n",
       "3          695.471006         689.612833  \n",
       "4          710.027003         704.339325  "
      ]
     },
     "execution_count": 176,
     "metadata": {},
     "output_type": "execute_result"
    }
   ],
   "source": [
    "test.head()"
   ]
  },
  {
   "cell_type": "code",
   "execution_count": 177,
   "metadata": {},
   "outputs": [
    {
     "data": {
      "text/plain": [
       "0.8718603746857889"
      ]
     },
     "execution_count": 177,
     "metadata": {},
     "output_type": "execute_result"
    }
   ],
   "source": [
    "model_rf.score(X_test, test['Actual Open'])"
   ]
  },
  {
   "cell_type": "code",
   "execution_count": 178,
   "metadata": {},
   "outputs": [
    {
     "data": {
      "text/plain": [
       "374.7726419132086"
      ]
     },
     "execution_count": 178,
     "metadata": {},
     "output_type": "execute_result"
    }
   ],
   "source": [
    "# Mean squared error regression loss\n",
    "mean_squared_error(test['Actual Open'], test['Random Forest Predicted Open'])"
   ]
  },
  {
   "cell_type": "markdown",
   "metadata": {},
   "source": [
    "## 4. XGBoost Regressor"
   ]
  },
  {
   "cell_type": "code",
   "execution_count": 212,
   "metadata": {},
   "outputs": [],
   "source": [
    "model_xg = xgb.XGBRegressor()"
   ]
  },
  {
   "cell_type": "code",
   "execution_count": 213,
   "metadata": {},
   "outputs": [],
   "source": [
    "hyperparameter_grid = {  \n",
    "    \"n_estimators\": [_ for _ in range(20,200,20)],\n",
    "    \"max_depth\": [_ for _ in range(2,14,2)],\n",
    "    \"learning_rate\": [0.01, 0.1, 0.3, 0.5],\n",
    "    \"colsample_bytree\": [0.4, 0.6, 0.8, 1.0],\n",
    "    'colsample_bylevel': [0.4, 0.6, 0.8, 1.0],\n",
    "    'min_child_weight': [0.5, 1.0, 3.0, 5.0, 7.0, 10.0],\n",
    "    \"subsample\": [0.5, 0.7, 0.9, 1.0],\n",
    "    \"gamma\": [0, 0.25, 0.5, 1.0],\n",
    "    'reg_lambda': [0.1, 1.0, 5.0, 10.0, 50.0, 100.0],\n",
    "    \n",
    "    \n",
    "}\n",
    "                       \n",
    "\n",
    "random_cv = RandomizedSearchCV(estimator=model_xg,\n",
    "            param_distributions=hyperparameter_grid,\n",
    "            cv=5, n_iter=100, \n",
    "            scoring = 'neg_mean_squared_error',\n",
    "            n_jobs = -1,\n",
    "            verbose = 5 )"
   ]
  },
  {
   "cell_type": "code",
   "execution_count": 214,
   "metadata": {},
   "outputs": [
    {
     "name": "stdout",
     "output_type": "stream",
     "text": [
      "Fitting 5 folds for each of 100 candidates, totalling 500 fits\n"
     ]
    },
    {
     "name": "stderr",
     "output_type": "stream",
     "text": [
      "[Parallel(n_jobs=-1)]: Using backend LokyBackend with 4 concurrent workers.\n",
      "[Parallel(n_jobs=-1)]: Done  10 tasks      | elapsed:    4.1s\n",
      "[Parallel(n_jobs=-1)]: Done 206 tasks      | elapsed:    7.6s\n",
      "[Parallel(n_jobs=-1)]: Done 500 out of 500 | elapsed:   12.6s finished\n"
     ]
    },
    {
     "data": {
      "text/plain": [
       "RandomizedSearchCV(cv=5, error_score=nan,\n",
       "                   estimator=XGBRegressor(base_score=None, booster=None,\n",
       "                                          colsample_bylevel=None,\n",
       "                                          colsample_bynode=None,\n",
       "                                          colsample_bytree=None, gamma=None,\n",
       "                                          gpu_id=None, importance_type='gain',\n",
       "                                          interaction_constraints=None,\n",
       "                                          learning_rate=None,\n",
       "                                          max_delta_step=None, max_depth=None,\n",
       "                                          min_child_weight=None, missing=nan,\n",
       "                                          monotone_constraints=None,\n",
       "                                          n_...\n",
       "                                        'learning_rate': [0.01, 0.1, 0.3, 0.5],\n",
       "                                        'max_depth': [2, 4, 6, 8, 10, 12],\n",
       "                                        'min_child_weight': [0.5, 1.0, 3.0, 5.0,\n",
       "                                                             7.0, 10.0],\n",
       "                                        'n_estimators': [20, 40, 60, 80, 100,\n",
       "                                                         120, 140, 160, 180],\n",
       "                                        'reg_lambda': [0.1, 1.0, 5.0, 10.0,\n",
       "                                                       50.0, 100.0],\n",
       "                                        'subsample': [0.5, 0.7, 0.9, 1.0]},\n",
       "                   pre_dispatch='2*n_jobs', random_state=None, refit=True,\n",
       "                   return_train_score=False, scoring='neg_mean_squared_error',\n",
       "                   verbose=5)"
      ]
     },
     "execution_count": 214,
     "metadata": {},
     "output_type": "execute_result"
    }
   ],
   "source": [
    "random_cv.fit(X,Y)"
   ]
  },
  {
   "cell_type": "code",
   "execution_count": 215,
   "metadata": {},
   "outputs": [
    {
     "data": {
      "text/plain": [
       "XGBRegressor(base_score=0.5, booster=None, colsample_bylevel=1.0,\n",
       "             colsample_bynode=1, colsample_bytree=1.0, gamma=0, gpu_id=-1,\n",
       "             importance_type='gain', interaction_constraints=None,\n",
       "             learning_rate=0.3, max_delta_step=0, max_depth=2,\n",
       "             min_child_weight=0.5, missing=nan, monotone_constraints=None,\n",
       "             n_estimators=20, n_jobs=0, num_parallel_tree=1,\n",
       "             objective='reg:squarederror', random_state=0, reg_alpha=0,\n",
       "             reg_lambda=0.1, scale_pos_weight=1, subsample=0.7,\n",
       "             tree_method=None, validate_parameters=False, verbosity=None)"
      ]
     },
     "execution_count": 215,
     "metadata": {},
     "output_type": "execute_result"
    }
   ],
   "source": [
    "random_cv.best_estimator_"
   ]
  },
  {
   "cell_type": "code",
   "execution_count": 252,
   "metadata": {},
   "outputs": [],
   "source": [
    "model_xg = xgb.XGBRegressor(base_score=0.5, booster=None, colsample_bylevel=1.0,\n",
    "             colsample_bynode=1, colsample_bytree=1.0, gamma=0, gpu_id=-1,\n",
    "             importance_type='gain', interaction_constraints=None,\n",
    "             learning_rate=0.3, max_delta_step=0, max_depth=2,\n",
    "             min_child_weight=0.5, monotone_constraints=None,\n",
    "             n_estimators=20, n_jobs=0, num_parallel_tree=1,\n",
    "             objective='reg:squarederror', random_state=0, reg_alpha=0,\n",
    "             reg_lambda=0.1, scale_pos_weight=1, subsample=0.7,\n",
    "             tree_method=None, validate_parameters=False, verbosity=None)"
   ]
  },
  {
   "cell_type": "code",
   "execution_count": 253,
   "metadata": {},
   "outputs": [
    {
     "data": {
      "text/plain": [
       "XGBRegressor(base_score=0.5, booster=None, colsample_bylevel=1.0,\n",
       "             colsample_bynode=1, colsample_bytree=1.0, gamma=0, gpu_id=-1,\n",
       "             importance_type='gain', interaction_constraints=None,\n",
       "             learning_rate=0.3, max_delta_step=0, max_depth=2,\n",
       "             min_child_weight=0.5, missing=nan, monotone_constraints=None,\n",
       "             n_estimators=20, n_jobs=0, num_parallel_tree=1,\n",
       "             objective='reg:squarederror', random_state=0, reg_alpha=0,\n",
       "             reg_lambda=0.1, scale_pos_weight=1, subsample=0.7,\n",
       "             tree_method=None, validate_parameters=False, verbosity=None)"
      ]
     },
     "execution_count": 253,
     "metadata": {},
     "output_type": "execute_result"
    }
   ],
   "source": [
    "model_xg.fit(X,Y)"
   ]
  },
  {
   "cell_type": "code",
   "execution_count": 254,
   "metadata": {},
   "outputs": [
    {
     "data": {
      "text/html": [
       "<div>\n",
       "<style scoped>\n",
       "    .dataframe tbody tr th:only-of-type {\n",
       "        vertical-align: middle;\n",
       "    }\n",
       "\n",
       "    .dataframe tbody tr th {\n",
       "        vertical-align: top;\n",
       "    }\n",
       "\n",
       "    .dataframe thead th {\n",
       "        text-align: right;\n",
       "    }\n",
       "</style>\n",
       "<table border=\"1\" class=\"dataframe\">\n",
       "  <thead>\n",
       "    <tr style=\"text-align: right;\">\n",
       "      <th></th>\n",
       "      <th>NIFTY_India Adj Close</th>\n",
       "      <th>Muthoot Adj Close</th>\n",
       "      <th>Euronext Adj Close</th>\n",
       "      <th>NASDAQ Adj Close</th>\n",
       "    </tr>\n",
       "  </thead>\n",
       "  <tbody>\n",
       "    <tr>\n",
       "      <th>0</th>\n",
       "      <td>8792.200195</td>\n",
       "      <td>675.849976</td>\n",
       "      <td>872.619995</td>\n",
       "      <td>7887.259766</td>\n",
       "    </tr>\n",
       "    <tr>\n",
       "      <th>1</th>\n",
       "      <td>8748.750000</td>\n",
       "      <td>687.150024</td>\n",
       "      <td>874.390015</td>\n",
       "      <td>8090.899902</td>\n",
       "    </tr>\n",
       "    <tr>\n",
       "      <th>2</th>\n",
       "      <td>8925.299805</td>\n",
       "      <td>691.299988</td>\n",
       "      <td>857.039978</td>\n",
       "      <td>8393.179688</td>\n",
       "    </tr>\n",
       "    <tr>\n",
       "      <th>3</th>\n",
       "      <td>8992.799805</td>\n",
       "      <td>693.599976</td>\n",
       "      <td>857.710022</td>\n",
       "      <td>8532.360352</td>\n",
       "    </tr>\n",
       "    <tr>\n",
       "      <th>4</th>\n",
       "      <td>9266.750000</td>\n",
       "      <td>706.799988</td>\n",
       "      <td>883.280029</td>\n",
       "      <td>8650.139648</td>\n",
       "    </tr>\n",
       "  </tbody>\n",
       "</table>\n",
       "</div>"
      ],
      "text/plain": [
       "   NIFTY_India Adj Close  Muthoot Adj Close  Euronext Adj Close  \\\n",
       "0            8792.200195         675.849976          872.619995   \n",
       "1            8748.750000         687.150024          874.390015   \n",
       "2            8925.299805         691.299988          857.039978   \n",
       "3            8992.799805         693.599976          857.710022   \n",
       "4            9266.750000         706.799988          883.280029   \n",
       "\n",
       "   NASDAQ Adj Close  \n",
       "0       7887.259766  \n",
       "1       8090.899902  \n",
       "2       8393.179688  \n",
       "3       8532.360352  \n",
       "4       8650.139648  "
      ]
     },
     "execution_count": 254,
     "metadata": {},
     "output_type": "execute_result"
    }
   ],
   "source": [
    "X_test.head()"
   ]
  },
  {
   "cell_type": "code",
   "execution_count": 255,
   "metadata": {},
   "outputs": [],
   "source": [
    "test['XGBoost Predicted Open'] = model_xg.predict(X_test)"
   ]
  },
  {
   "cell_type": "code",
   "execution_count": 256,
   "metadata": {},
   "outputs": [
    {
     "data": {
      "text/html": [
       "<div>\n",
       "<style scoped>\n",
       "    .dataframe tbody tr th:only-of-type {\n",
       "        vertical-align: middle;\n",
       "    }\n",
       "\n",
       "    .dataframe tbody tr th {\n",
       "        vertical-align: top;\n",
       "    }\n",
       "\n",
       "    .dataframe thead th {\n",
       "        text-align: right;\n",
       "    }\n",
       "</style>\n",
       "<table border=\"1\" class=\"dataframe\">\n",
       "  <thead>\n",
       "    <tr style=\"text-align: right;\">\n",
       "      <th></th>\n",
       "      <th>Date</th>\n",
       "      <th>NIFTY_India Adj Close</th>\n",
       "      <th>Muthoot Adj Close</th>\n",
       "      <th>Euronext Adj Close</th>\n",
       "      <th>NASDAQ Adj Close</th>\n",
       "      <th>Actual Open</th>\n",
       "      <th>LR Predicted Open</th>\n",
       "      <th>SVR Predicted Open</th>\n",
       "      <th>Random Forest Predicted Open</th>\n",
       "      <th>XGBoost Predicted Open</th>\n",
       "    </tr>\n",
       "  </thead>\n",
       "  <tbody>\n",
       "    <tr>\n",
       "      <th>0</th>\n",
       "      <td>2020-04-08</td>\n",
       "      <td>8792.200195</td>\n",
       "      <td>675.849976</td>\n",
       "      <td>872.619995</td>\n",
       "      <td>7887.259766</td>\n",
       "      <td>662.299988</td>\n",
       "      <td>678.072304</td>\n",
       "      <td>682.990965</td>\n",
       "      <td>693.594005</td>\n",
       "      <td>686.463623</td>\n",
       "    </tr>\n",
       "    <tr>\n",
       "      <th>1</th>\n",
       "      <td>2020-04-09</td>\n",
       "      <td>8748.750000</td>\n",
       "      <td>687.150024</td>\n",
       "      <td>874.390015</td>\n",
       "      <td>8090.899902</td>\n",
       "      <td>700.000000</td>\n",
       "      <td>687.194755</td>\n",
       "      <td>692.200113</td>\n",
       "      <td>710.000000</td>\n",
       "      <td>686.463623</td>\n",
       "    </tr>\n",
       "    <tr>\n",
       "      <th>2</th>\n",
       "      <td>2020-04-16</td>\n",
       "      <td>8925.299805</td>\n",
       "      <td>691.299988</td>\n",
       "      <td>857.039978</td>\n",
       "      <td>8393.179688</td>\n",
       "      <td>672.000000</td>\n",
       "      <td>687.976369</td>\n",
       "      <td>693.177793</td>\n",
       "      <td>710.000000</td>\n",
       "      <td>691.342163</td>\n",
       "    </tr>\n",
       "    <tr>\n",
       "      <th>3</th>\n",
       "      <td>2020-04-17</td>\n",
       "      <td>8992.799805</td>\n",
       "      <td>693.599976</td>\n",
       "      <td>857.710022</td>\n",
       "      <td>8532.360352</td>\n",
       "      <td>715.099976</td>\n",
       "      <td>689.105846</td>\n",
       "      <td>694.304744</td>\n",
       "      <td>711.000000</td>\n",
       "      <td>729.810913</td>\n",
       "    </tr>\n",
       "    <tr>\n",
       "      <th>4</th>\n",
       "      <td>2020-04-20</td>\n",
       "      <td>9266.750000</td>\n",
       "      <td>706.799988</td>\n",
       "      <td>883.280029</td>\n",
       "      <td>8650.139648</td>\n",
       "      <td>714.750000</td>\n",
       "      <td>703.858368</td>\n",
       "      <td>708.913382</td>\n",
       "      <td>725.726486</td>\n",
       "      <td>729.810913</td>\n",
       "    </tr>\n",
       "  </tbody>\n",
       "</table>\n",
       "</div>"
      ],
      "text/plain": [
       "        Date  NIFTY_India Adj Close  Muthoot Adj Close  Euronext Adj Close  \\\n",
       "0 2020-04-08            8792.200195         675.849976          872.619995   \n",
       "1 2020-04-09            8748.750000         687.150024          874.390015   \n",
       "2 2020-04-16            8925.299805         691.299988          857.039978   \n",
       "3 2020-04-17            8992.799805         693.599976          857.710022   \n",
       "4 2020-04-20            9266.750000         706.799988          883.280029   \n",
       "\n",
       "   NASDAQ Adj Close  Actual Open  LR Predicted Open  SVR Predicted Open  \\\n",
       "0       7887.259766   662.299988         678.072304          682.990965   \n",
       "1       8090.899902   700.000000         687.194755          692.200113   \n",
       "2       8393.179688   672.000000         687.976369          693.177793   \n",
       "3       8532.360352   715.099976         689.105846          694.304744   \n",
       "4       8650.139648   714.750000         703.858368          708.913382   \n",
       "\n",
       "   Random Forest Predicted Open  XGBoost Predicted Open  \n",
       "0                    693.594005              686.463623  \n",
       "1                    710.000000              686.463623  \n",
       "2                    710.000000              691.342163  \n",
       "3                    711.000000              729.810913  \n",
       "4                    725.726486              729.810913  "
      ]
     },
     "execution_count": 256,
     "metadata": {},
     "output_type": "execute_result"
    }
   ],
   "source": [
    "test.head()"
   ]
  },
  {
   "cell_type": "code",
   "execution_count": 257,
   "metadata": {},
   "outputs": [
    {
     "data": {
      "text/plain": [
       "0.9338865461492771"
      ]
     },
     "execution_count": 257,
     "metadata": {},
     "output_type": "execute_result"
    }
   ],
   "source": [
    "model_xg.score(X_test, test['Actual Open'])"
   ]
  },
  {
   "cell_type": "code",
   "execution_count": 258,
   "metadata": {},
   "outputs": [
    {
     "data": {
      "text/plain": [
       "193.36340109381075"
      ]
     },
     "execution_count": 258,
     "metadata": {},
     "output_type": "execute_result"
    }
   ],
   "source": [
    "# Mean squared error regression loss\n",
    "mean_squared_error(test['Actual Open'], test['XGBoost Predicted Open'])"
   ]
  },
  {
   "cell_type": "markdown",
   "metadata": {},
   "source": [
    "## 5. AdaBoost Regressor"
   ]
  },
  {
   "cell_type": "code",
   "execution_count": 259,
   "metadata": {},
   "outputs": [],
   "source": [
    "model_ada = AdaBoostRegressor()"
   ]
  },
  {
   "cell_type": "code",
   "execution_count": 260,
   "metadata": {},
   "outputs": [],
   "source": [
    "hyperparameter_grid = {'n_estimators':[20, 40, 50, 60, 80, 100, 200, 400, 1000],\n",
    "                       'learning_rate':[0.1, 0.3, 0.5],\n",
    "                       'loss': ['linear','square'] }\n",
    "\n",
    "\n",
    "grid_cv = GridSearchCV(estimator=model_ada,\n",
    "            param_grid=hyperparameter_grid,\n",
    "            cv=5, \n",
    "            scoring = 'neg_mean_squared_error',\n",
    "            n_jobs = -1,\n",
    "            verbose = 5 )"
   ]
  },
  {
   "cell_type": "code",
   "execution_count": 261,
   "metadata": {},
   "outputs": [
    {
     "name": "stdout",
     "output_type": "stream",
     "text": [
      "Fitting 5 folds for each of 54 candidates, totalling 270 fits\n"
     ]
    },
    {
     "name": "stderr",
     "output_type": "stream",
     "text": [
      "[Parallel(n_jobs=-1)]: Using backend LokyBackend with 4 concurrent workers.\n",
      "[Parallel(n_jobs=-1)]: Done  10 tasks      | elapsed:    0.8s\n",
      "[Parallel(n_jobs=-1)]: Done  64 tasks      | elapsed:    3.5s\n",
      "[Parallel(n_jobs=-1)]: Done 157 tasks      | elapsed:    9.0s\n",
      "[Parallel(n_jobs=-1)]: Done 263 out of 270 | elapsed:   14.9s remaining:    0.3s\n",
      "[Parallel(n_jobs=-1)]: Done 270 out of 270 | elapsed:   17.0s finished\n"
     ]
    },
    {
     "data": {
      "text/plain": [
       "GridSearchCV(cv=5, error_score=nan,\n",
       "             estimator=AdaBoostRegressor(base_estimator=None, learning_rate=1.0,\n",
       "                                         loss='linear', n_estimators=50,\n",
       "                                         random_state=None),\n",
       "             iid='deprecated', n_jobs=-1,\n",
       "             param_grid={'learning_rate': [0.1, 0.3, 0.5],\n",
       "                         'loss': ['linear', 'square'],\n",
       "                         'n_estimators': [20, 40, 50, 60, 80, 100, 200, 400,\n",
       "                                          1000]},\n",
       "             pre_dispatch='2*n_jobs', refit=True, return_train_score=False,\n",
       "             scoring='neg_mean_squared_error', verbose=5)"
      ]
     },
     "execution_count": 261,
     "metadata": {},
     "output_type": "execute_result"
    }
   ],
   "source": [
    "grid_cv.fit(X,Y)"
   ]
  },
  {
   "cell_type": "code",
   "execution_count": 262,
   "metadata": {},
   "outputs": [
    {
     "data": {
      "text/plain": [
       "AdaBoostRegressor(base_estimator=None, learning_rate=0.3, loss='square',\n",
       "                  n_estimators=400, random_state=None)"
      ]
     },
     "execution_count": 262,
     "metadata": {},
     "output_type": "execute_result"
    }
   ],
   "source": [
    "grid_cv.best_estimator_"
   ]
  },
  {
   "cell_type": "code",
   "execution_count": 305,
   "metadata": {},
   "outputs": [],
   "source": [
    "model_ada = AdaBoostRegressor(base_estimator=None, learning_rate=0.5, loss='square',\n",
    "                  n_estimators=1000, random_state=None)"
   ]
  },
  {
   "cell_type": "code",
   "execution_count": 306,
   "metadata": {},
   "outputs": [
    {
     "data": {
      "text/plain": [
       "AdaBoostRegressor(base_estimator=None, learning_rate=0.5, loss='square',\n",
       "                  n_estimators=1000, random_state=None)"
      ]
     },
     "execution_count": 306,
     "metadata": {},
     "output_type": "execute_result"
    }
   ],
   "source": [
    "model_ada.fit(X,Y)"
   ]
  },
  {
   "cell_type": "code",
   "execution_count": 307,
   "metadata": {},
   "outputs": [],
   "source": [
    "test['AdaBoost Predicted Open'] = model_ada.predict(X_test)"
   ]
  },
  {
   "cell_type": "code",
   "execution_count": 308,
   "metadata": {},
   "outputs": [
    {
     "data": {
      "text/html": [
       "<div>\n",
       "<style scoped>\n",
       "    .dataframe tbody tr th:only-of-type {\n",
       "        vertical-align: middle;\n",
       "    }\n",
       "\n",
       "    .dataframe tbody tr th {\n",
       "        vertical-align: top;\n",
       "    }\n",
       "\n",
       "    .dataframe thead th {\n",
       "        text-align: right;\n",
       "    }\n",
       "</style>\n",
       "<table border=\"1\" class=\"dataframe\">\n",
       "  <thead>\n",
       "    <tr style=\"text-align: right;\">\n",
       "      <th></th>\n",
       "      <th>Date</th>\n",
       "      <th>NIFTY_India Adj Close</th>\n",
       "      <th>Muthoot Adj Close</th>\n",
       "      <th>Euronext Adj Close</th>\n",
       "      <th>NASDAQ Adj Close</th>\n",
       "      <th>Actual Open</th>\n",
       "      <th>LR Predicted Open</th>\n",
       "      <th>SVR Predicted Open</th>\n",
       "      <th>Random Forest Predicted Open</th>\n",
       "      <th>XGBoost Predicted Open</th>\n",
       "      <th>AdaBoost Predicted Open</th>\n",
       "    </tr>\n",
       "  </thead>\n",
       "  <tbody>\n",
       "    <tr>\n",
       "      <th>0</th>\n",
       "      <td>2020-04-08</td>\n",
       "      <td>8792.200195</td>\n",
       "      <td>675.849976</td>\n",
       "      <td>872.619995</td>\n",
       "      <td>7887.259766</td>\n",
       "      <td>662.299988</td>\n",
       "      <td>678.072304</td>\n",
       "      <td>682.990965</td>\n",
       "      <td>693.594005</td>\n",
       "      <td>686.463623</td>\n",
       "      <td>698.745077</td>\n",
       "    </tr>\n",
       "    <tr>\n",
       "      <th>1</th>\n",
       "      <td>2020-04-09</td>\n",
       "      <td>8748.750000</td>\n",
       "      <td>687.150024</td>\n",
       "      <td>874.390015</td>\n",
       "      <td>8090.899902</td>\n",
       "      <td>700.000000</td>\n",
       "      <td>687.194755</td>\n",
       "      <td>692.200113</td>\n",
       "      <td>710.000000</td>\n",
       "      <td>686.463623</td>\n",
       "      <td>707.591212</td>\n",
       "    </tr>\n",
       "    <tr>\n",
       "      <th>2</th>\n",
       "      <td>2020-04-16</td>\n",
       "      <td>8925.299805</td>\n",
       "      <td>691.299988</td>\n",
       "      <td>857.039978</td>\n",
       "      <td>8393.179688</td>\n",
       "      <td>672.000000</td>\n",
       "      <td>687.976369</td>\n",
       "      <td>693.177793</td>\n",
       "      <td>710.000000</td>\n",
       "      <td>691.342163</td>\n",
       "      <td>708.246228</td>\n",
       "    </tr>\n",
       "    <tr>\n",
       "      <th>3</th>\n",
       "      <td>2020-04-17</td>\n",
       "      <td>8992.799805</td>\n",
       "      <td>693.599976</td>\n",
       "      <td>857.710022</td>\n",
       "      <td>8532.360352</td>\n",
       "      <td>715.099976</td>\n",
       "      <td>689.105846</td>\n",
       "      <td>694.304744</td>\n",
       "      <td>711.000000</td>\n",
       "      <td>729.810913</td>\n",
       "      <td>708.383778</td>\n",
       "    </tr>\n",
       "    <tr>\n",
       "      <th>4</th>\n",
       "      <td>2020-04-20</td>\n",
       "      <td>9266.750000</td>\n",
       "      <td>706.799988</td>\n",
       "      <td>883.280029</td>\n",
       "      <td>8650.139648</td>\n",
       "      <td>714.750000</td>\n",
       "      <td>703.858368</td>\n",
       "      <td>708.913382</td>\n",
       "      <td>725.726486</td>\n",
       "      <td>729.810913</td>\n",
       "      <td>710.429275</td>\n",
       "    </tr>\n",
       "  </tbody>\n",
       "</table>\n",
       "</div>"
      ],
      "text/plain": [
       "        Date  NIFTY_India Adj Close  Muthoot Adj Close  Euronext Adj Close  \\\n",
       "0 2020-04-08            8792.200195         675.849976          872.619995   \n",
       "1 2020-04-09            8748.750000         687.150024          874.390015   \n",
       "2 2020-04-16            8925.299805         691.299988          857.039978   \n",
       "3 2020-04-17            8992.799805         693.599976          857.710022   \n",
       "4 2020-04-20            9266.750000         706.799988          883.280029   \n",
       "\n",
       "   NASDAQ Adj Close  Actual Open  LR Predicted Open  SVR Predicted Open  \\\n",
       "0       7887.259766   662.299988         678.072304          682.990965   \n",
       "1       8090.899902   700.000000         687.194755          692.200113   \n",
       "2       8393.179688   672.000000         687.976369          693.177793   \n",
       "3       8532.360352   715.099976         689.105846          694.304744   \n",
       "4       8650.139648   714.750000         703.858368          708.913382   \n",
       "\n",
       "   Random Forest Predicted Open  XGBoost Predicted Open  \\\n",
       "0                    693.594005              686.463623   \n",
       "1                    710.000000              686.463623   \n",
       "2                    710.000000              691.342163   \n",
       "3                    711.000000              729.810913   \n",
       "4                    725.726486              729.810913   \n",
       "\n",
       "   AdaBoost Predicted Open  \n",
       "0               698.745077  \n",
       "1               707.591212  \n",
       "2               708.246228  \n",
       "3               708.383778  \n",
       "4               710.429275  "
      ]
     },
     "execution_count": 308,
     "metadata": {},
     "output_type": "execute_result"
    }
   ],
   "source": [
    "test.head(5)"
   ]
  },
  {
   "cell_type": "code",
   "execution_count": 309,
   "metadata": {},
   "outputs": [
    {
     "data": {
      "text/plain": [
       "0.9397933135235127"
      ]
     },
     "execution_count": 309,
     "metadata": {},
     "output_type": "execute_result"
    }
   ],
   "source": [
    "model_ada.score(X_test, test['Actual Open'])"
   ]
  },
  {
   "cell_type": "code",
   "execution_count": 310,
   "metadata": {},
   "outputs": [
    {
     "data": {
      "text/plain": [
       "176.08775502741352"
      ]
     },
     "execution_count": 310,
     "metadata": {},
     "output_type": "execute_result"
    }
   ],
   "source": [
    "# Mean squared error regression loss\n",
    "mean_squared_error(test['Actual Open'], test['AdaBoost Predicted Open'])"
   ]
  },
  {
   "cell_type": "markdown",
   "metadata": {},
   "source": [
    "# SVR model is selected for Stock Open Price prediction."
   ]
  },
  {
   "cell_type": "code",
   "execution_count": 179,
   "metadata": {},
   "outputs": [],
   "source": [
    "test.set_index('Date',inplace=True)"
   ]
  },
  {
   "cell_type": "code",
   "execution_count": 85,
   "metadata": {},
   "outputs": [
    {
     "data": {
      "image/png": "[encoded data removed]",
      "text/plain": [
       "<Figure size 1800x720 with 1 Axes>"
      ]
     },
     "metadata": {
      "needs_background": "light"
     },
     "output_type": "display_data"
    }
   ],
   "source": [
    "plt.figure(figsize = (25, 10))\n",
    "\n",
    "plt.plot(test['Actual Open'], 'bs-', label = 'Actual')\n",
    "plt.plot(test['SVR Predicted Open'], 'ro-', label = 'Predicted')\n",
    "plt.legend()\n",
    "plt.xlabel(\"Date\")\n",
    "plt.ylabel(\"Open Price\")\n",
    "\n",
    "plt.title('Muthoot Open Price prediction using SVR')\n",
    "plt.show()"
   ]
  },
  {
   "cell_type": "code",
   "execution_count": 86,
   "metadata": {},
   "outputs": [
    {
     "data": {
      "text/plain": [
       "['muthoot_SVR.joblib']"
      ]
     },
     "execution_count": 86,
     "metadata": {},
     "output_type": "execute_result"
    }
   ],
   "source": [
    "from joblib import dump, load\n",
    "dump(model_svr, 'muthoot_SVR.joblib')"
   ]
  },
  {
   "cell_type": "code",
   "execution_count": null,
   "metadata": {},
   "outputs": [],
   "source": []
  }
 ],
 "metadata": {
  "kernelspec": {
   "display_name": "Python 3",
   "language": "python",
   "name": "python3"
  },
  "language_info": {
   "codemirror_mode": {
    "name": "ipython",
    "version": 3
   },
   "file_extension": ".py",
   "mimetype": "text/x-python",
   "name": "python",
   "nbconvert_exporter": "python",
   "pygments_lexer": "ipython3",
   "version": "3.7.3"
  }
 },
 "nbformat": 4,
 "nbformat_minor": 4
}
