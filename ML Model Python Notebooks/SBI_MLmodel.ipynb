{
 "cells": [
  {
   "cell_type": "markdown",
   "metadata": {},
   "source": [
    "# AUTOMATED STOCK OPEN PRICE PREDICTION\n",
    "### AUTHOR : Aravind Ravikumar\n",
    "### DATE WRITTEN: 6-June-2020\n",
    "### Goal: To predict Open price of SBI "
   ]
  },
  {
   "cell_type": "code",
   "execution_count": 159,
   "metadata": {},
   "outputs": [],
   "source": [
    "import pandas as pd\n",
    "import numpy as np\n",
    "import warnings\n",
    "warnings.filterwarnings(\"ignore\")\n",
    "from sklearn.model_selection import train_test_split\n",
    "from sklearn.metrics import mean_squared_error\n",
    "from sklearn.linear_model import LinearRegression\n",
    "from sklearn.ensemble import RandomForestRegressor\n",
    "from sklearn.svm import SVR\n",
    "from sklearn.ensemble import AdaBoostRegressor\n",
    "import xgboost as xgb\n",
    "\n",
    "from sklearn.feature_selection import SelectFromModel\n",
    "from sklearn.model_selection import RandomizedSearchCV\n",
    "from sklearn.model_selection import GridSearchCV\n",
    "from sklearn.preprocessing import MinMaxScaler\n",
    "import matplotlib.pyplot as plt\n",
    "%matplotlib inline"
   ]
  },
  {
   "cell_type": "code",
   "execution_count": 160,
   "metadata": {},
   "outputs": [],
   "source": [
    "train = pd.read_csv('../Data/STOCKS.CSV')\n",
    "dfg = pd.read_csv('../Data/HangSeng.CSV')\n",
    "dfy = pd.read_csv('../Data/NYSE.CSV')\n",
    "dfz = pd.read_csv('../Data/Shenzhen.CSV')\n",
    "dfk = pd.read_csv('../Data/KOSPI.CSV')\n",
    "dfe = pd.read_csv('../Data/Euronext100.CSV')\n",
    "dfx = pd.read_csv('../Data/SGXNifty.CSV')\n",
    "dfn = pd.read_csv('../Data/NASDAQ.CSV')\n",
    "dfi = pd.read_csv('../Data/Nikkei.CSV')"
   ]
  },
  {
   "cell_type": "code",
   "execution_count": 161,
   "metadata": {},
   "outputs": [
    {
     "data": {
      "text/html": [
       "<div>\n",
       "<style scoped>\n",
       "    .dataframe tbody tr th:only-of-type {\n",
       "        vertical-align: middle;\n",
       "    }\n",
       "\n",
       "    .dataframe tbody tr th {\n",
       "        vertical-align: top;\n",
       "    }\n",
       "\n",
       "    .dataframe thead th {\n",
       "        text-align: right;\n",
       "    }\n",
       "</style>\n",
       "<table border=\"1\" class=\"dataframe\">\n",
       "  <thead>\n",
       "    <tr style=\"text-align: right;\">\n",
       "      <th></th>\n",
       "      <th>Date</th>\n",
       "      <th>Nikkei Open</th>\n",
       "    </tr>\n",
       "  </thead>\n",
       "  <tbody>\n",
       "    <tr>\n",
       "      <th>0</th>\n",
       "      <td>07-01-2015</td>\n",
       "      <td>16808.25977</td>\n",
       "    </tr>\n",
       "    <tr>\n",
       "      <th>1</th>\n",
       "      <td>08-01-2015</td>\n",
       "      <td>17067.40039</td>\n",
       "    </tr>\n",
       "    <tr>\n",
       "      <th>2</th>\n",
       "      <td>09-01-2015</td>\n",
       "      <td>17318.74023</td>\n",
       "    </tr>\n",
       "    <tr>\n",
       "      <th>3</th>\n",
       "      <td>13-01-2015</td>\n",
       "      <td>16970.88086</td>\n",
       "    </tr>\n",
       "    <tr>\n",
       "      <th>4</th>\n",
       "      <td>14-01-2015</td>\n",
       "      <td>16961.82031</td>\n",
       "    </tr>\n",
       "  </tbody>\n",
       "</table>\n",
       "</div>"
      ],
      "text/plain": [
       "         Date  Nikkei Open\n",
       "0  07-01-2015  16808.25977\n",
       "1  08-01-2015  17067.40039\n",
       "2  09-01-2015  17318.74023\n",
       "3  13-01-2015  16970.88086\n",
       "4  14-01-2015  16961.82031"
      ]
     },
     "execution_count": 161,
     "metadata": {},
     "output_type": "execute_result"
    }
   ],
   "source": [
    "dfi.head()"
   ]
  },
  {
   "cell_type": "code",
   "execution_count": 162,
   "metadata": {},
   "outputs": [
    {
     "data": {
      "text/html": [
       "<div>\n",
       "<style scoped>\n",
       "    .dataframe tbody tr th:only-of-type {\n",
       "        vertical-align: middle;\n",
       "    }\n",
       "\n",
       "    .dataframe tbody tr th {\n",
       "        vertical-align: top;\n",
       "    }\n",
       "\n",
       "    .dataframe thead th {\n",
       "        text-align: right;\n",
       "    }\n",
       "</style>\n",
       "<table border=\"1\" class=\"dataframe\">\n",
       "  <thead>\n",
       "    <tr style=\"text-align: right;\">\n",
       "      <th></th>\n",
       "      <th>Date</th>\n",
       "      <th>SGXNifty Open</th>\n",
       "    </tr>\n",
       "  </thead>\n",
       "  <tbody>\n",
       "    <tr>\n",
       "      <th>0</th>\n",
       "      <td>Jan 07, 2015</td>\n",
       "      <td>8,149.50</td>\n",
       "    </tr>\n",
       "    <tr>\n",
       "      <th>1</th>\n",
       "      <td>Jan 08, 2015</td>\n",
       "      <td>8,151.50</td>\n",
       "    </tr>\n",
       "    <tr>\n",
       "      <th>2</th>\n",
       "      <td>Jan 09, 2015</td>\n",
       "      <td>8,256.50</td>\n",
       "    </tr>\n",
       "    <tr>\n",
       "      <th>3</th>\n",
       "      <td>Jan 12, 2015</td>\n",
       "      <td>8,314.50</td>\n",
       "    </tr>\n",
       "    <tr>\n",
       "      <th>4</th>\n",
       "      <td>Jan 13, 2015</td>\n",
       "      <td>8,357.50</td>\n",
       "    </tr>\n",
       "  </tbody>\n",
       "</table>\n",
       "</div>"
      ],
      "text/plain": [
       "           Date SGXNifty Open\n",
       "0  Jan 07, 2015      8,149.50\n",
       "1  Jan 08, 2015      8,151.50\n",
       "2  Jan 09, 2015      8,256.50\n",
       "3  Jan 12, 2015      8,314.50\n",
       "4  Jan 13, 2015      8,357.50"
      ]
     },
     "execution_count": 162,
     "metadata": {},
     "output_type": "execute_result"
    }
   ],
   "source": [
    "dfx.head()"
   ]
  },
  {
   "cell_type": "markdown",
   "metadata": {},
   "source": [
    "## Converting to common date format"
   ]
  },
  {
   "cell_type": "code",
   "execution_count": 163,
   "metadata": {},
   "outputs": [],
   "source": [
    "train['Date'] =  pd.to_datetime(train['Date'], format='%d-%m-%Y')\n",
    "dfg['Date'] =  pd.to_datetime(dfg['Date'], format='%d-%m-%Y')\n",
    "dfy['Date'] =  pd.to_datetime(dfy['Date'], format='%d-%m-%Y')\n",
    "dfz['Date'] =  pd.to_datetime(dfz['Date'], format='%d-%m-%Y')\n",
    "dfk['Date'] =  pd.to_datetime(dfk['Date'], format='%d-%m-%Y')\n",
    "dfe['Date'] =  pd.to_datetime(dfe['Date'], format='%d-%m-%Y')\n",
    "dfx['Date'] =  pd.to_datetime(dfx['Date'], format='%b %d, %Y')\n",
    "dfn['Date'] =  pd.to_datetime(dfn['Date'], format='%d-%m-%Y')\n",
    "dfi['Date'] =  pd.to_datetime(dfi['Date'], format='%d-%m-%Y')"
   ]
  },
  {
   "cell_type": "markdown",
   "metadata": {},
   "source": [
    "## Merging Dataframes on the basis of date"
   ]
  },
  {
   "cell_type": "code",
   "execution_count": 164,
   "metadata": {},
   "outputs": [],
   "source": [
    "train = pd.merge(train,dfg,how='inner',on='Date')\n",
    "train = pd.merge(train,dfz,how='inner',on='Date')\n",
    "train = pd.merge(train,dfy,how='inner',on='Date')\n",
    "train = pd.merge(train,dfk,how='inner',on='Date')\n",
    "train = pd.merge(train,dfe,how='inner',on='Date')\n",
    "train = pd.merge(train,dfx,how='inner',on='Date')\n",
    "train = pd.merge(train,dfn,how='inner',on='Date')\n",
    "train = pd.merge(train,dfi,how='inner',on='Date')"
   ]
  },
  {
   "cell_type": "code",
   "execution_count": 165,
   "metadata": {},
   "outputs": [],
   "source": [
    "train['SGXNifty Open'] = train['SGXNifty Open'].str.replace(\",\",\"\").astype(float) # string to float conversion"
   ]
  },
  {
   "cell_type": "code",
   "execution_count": 166,
   "metadata": {},
   "outputs": [
    {
     "data": {
      "text/html": [
       "<div>\n",
       "<style scoped>\n",
       "    .dataframe tbody tr th:only-of-type {\n",
       "        vertical-align: middle;\n",
       "    }\n",
       "\n",
       "    .dataframe tbody tr th {\n",
       "        vertical-align: top;\n",
       "    }\n",
       "\n",
       "    .dataframe thead th {\n",
       "        text-align: right;\n",
       "    }\n",
       "</style>\n",
       "<table border=\"1\" class=\"dataframe\">\n",
       "  <thead>\n",
       "    <tr style=\"text-align: right;\">\n",
       "      <th></th>\n",
       "      <th>Date</th>\n",
       "      <th>NIFTY_India Adj Close</th>\n",
       "      <th>Escorts Adj Close</th>\n",
       "      <th>Muthoot Adj Close</th>\n",
       "      <th>SBI Adj Close</th>\n",
       "      <th>HCL Adj Close</th>\n",
       "      <th>Wipro Adj Close</th>\n",
       "      <th>Escorts Open</th>\n",
       "      <th>Muthoot Open</th>\n",
       "      <th>SBI Open</th>\n",
       "      <th>HCL Open</th>\n",
       "      <th>Wipro Open</th>\n",
       "      <th>HangSeng Open</th>\n",
       "      <th>Shenzhen Open</th>\n",
       "      <th>NYSE Adj Close</th>\n",
       "      <th>KOSPI Open</th>\n",
       "      <th>Euronext Adj Close</th>\n",
       "      <th>SGXNifty Open</th>\n",
       "      <th>NASDAQ Adj Close</th>\n",
       "      <th>Nikkei Open</th>\n",
       "    </tr>\n",
       "  </thead>\n",
       "  <tbody>\n",
       "    <tr>\n",
       "      <th>0</th>\n",
       "      <td>2015-01-07</td>\n",
       "      <td>8127.350098</td>\n",
       "      <td>119.312721</td>\n",
       "      <td>172.062637</td>\n",
       "      <td>289.701782</td>\n",
       "      <td>322.932098</td>\n",
       "      <td>183.633774</td>\n",
       "      <td>120.250000</td>\n",
       "      <td>195.899994</td>\n",
       "      <td>300.000000</td>\n",
       "      <td>384.875000</td>\n",
       "      <td>203.699997</td>\n",
       "      <td>23396.69922</td>\n",
       "      <td>11612.73047</td>\n",
       "      <td>10514.87012</td>\n",
       "      <td>1878.900024</td>\n",
       "      <td>805.469971</td>\n",
       "      <td>8149.5</td>\n",
       "      <td>4592.740234</td>\n",
       "      <td>16808.25977</td>\n",
       "    </tr>\n",
       "    <tr>\n",
       "      <th>1</th>\n",
       "      <td>2015-01-08</td>\n",
       "      <td>8102.100098</td>\n",
       "      <td>118.381363</td>\n",
       "      <td>171.755310</td>\n",
       "      <td>289.943268</td>\n",
       "      <td>315.258636</td>\n",
       "      <td>182.236313</td>\n",
       "      <td>122.099998</td>\n",
       "      <td>197.000000</td>\n",
       "      <td>305.000000</td>\n",
       "      <td>379.250000</td>\n",
       "      <td>208.556000</td>\n",
       "      <td>23920.34961</td>\n",
       "      <td>11624.58984</td>\n",
       "      <td>10627.12988</td>\n",
       "      <td>1895.849976</td>\n",
       "      <td>810.940002</td>\n",
       "      <td>8151.5</td>\n",
       "      <td>4650.470215</td>\n",
       "      <td>17067.40039</td>\n",
       "    </tr>\n",
       "    <tr>\n",
       "      <th>2</th>\n",
       "      <td>2015-01-09</td>\n",
       "      <td>8234.599609</td>\n",
       "      <td>123.626411</td>\n",
       "      <td>172.589493</td>\n",
       "      <td>294.483459</td>\n",
       "      <td>322.553589</td>\n",
       "      <td>183.549332</td>\n",
       "      <td>127.400002</td>\n",
       "      <td>201.050003</td>\n",
       "      <td>306.700012</td>\n",
       "      <td>384.162994</td>\n",
       "      <td>205.949997</td>\n",
       "      <td>24049.69922</td>\n",
       "      <td>11424.53027</td>\n",
       "      <td>10800.54004</td>\n",
       "      <td>1919.800049</td>\n",
       "      <td>837.729980</td>\n",
       "      <td>8256.5</td>\n",
       "      <td>4736.189941</td>\n",
       "      <td>17318.74023</td>\n",
       "    </tr>\n",
       "    <tr>\n",
       "      <th>3</th>\n",
       "      <td>2015-01-13</td>\n",
       "      <td>8323.000000</td>\n",
       "      <td>122.891121</td>\n",
       "      <td>172.238251</td>\n",
       "      <td>296.656952</td>\n",
       "      <td>331.226013</td>\n",
       "      <td>187.271072</td>\n",
       "      <td>125.250000</td>\n",
       "      <td>195.350006</td>\n",
       "      <td>308.149994</td>\n",
       "      <td>393.888000</td>\n",
       "      <td>208.912994</td>\n",
       "      <td>23908.23047</td>\n",
       "      <td>11250.87988</td>\n",
       "      <td>10640.74023</td>\n",
       "      <td>1915.030029</td>\n",
       "      <td>832.760010</td>\n",
       "      <td>8357.5</td>\n",
       "      <td>4664.709961</td>\n",
       "      <td>16970.88086</td>\n",
       "    </tr>\n",
       "    <tr>\n",
       "      <th>4</th>\n",
       "      <td>2015-01-14</td>\n",
       "      <td>8299.400391</td>\n",
       "      <td>124.067589</td>\n",
       "      <td>172.150452</td>\n",
       "      <td>294.724976</td>\n",
       "      <td>332.917969</td>\n",
       "      <td>189.780365</td>\n",
       "      <td>126.099998</td>\n",
       "      <td>196.199997</td>\n",
       "      <td>304.000000</td>\n",
       "      <td>398.975006</td>\n",
       "      <td>212.250000</td>\n",
       "      <td>24276.33008</td>\n",
       "      <td>11366.95020</td>\n",
       "      <td>10622.95996</td>\n",
       "      <td>1919.310059</td>\n",
       "      <td>845.299988</td>\n",
       "      <td>8343.5</td>\n",
       "      <td>4661.500000</td>\n",
       "      <td>16961.82031</td>\n",
       "    </tr>\n",
       "  </tbody>\n",
       "</table>\n",
       "</div>"
      ],
      "text/plain": [
       "        Date  NIFTY_India Adj Close  Escorts Adj Close  Muthoot Adj Close  \\\n",
       "0 2015-01-07            8127.350098         119.312721         172.062637   \n",
       "1 2015-01-08            8102.100098         118.381363         171.755310   \n",
       "2 2015-01-09            8234.599609         123.626411         172.589493   \n",
       "3 2015-01-13            8323.000000         122.891121         172.238251   \n",
       "4 2015-01-14            8299.400391         124.067589         172.150452   \n",
       "\n",
       "   SBI Adj Close  HCL Adj Close  Wipro Adj Close  Escorts Open  Muthoot Open  \\\n",
       "0     289.701782     322.932098       183.633774    120.250000    195.899994   \n",
       "1     289.943268     315.258636       182.236313    122.099998    197.000000   \n",
       "2     294.483459     322.553589       183.549332    127.400002    201.050003   \n",
       "3     296.656952     331.226013       187.271072    125.250000    195.350006   \n",
       "4     294.724976     332.917969       189.780365    126.099998    196.199997   \n",
       "\n",
       "     SBI Open    HCL Open  Wipro Open  HangSeng Open  Shenzhen Open  \\\n",
       "0  300.000000  384.875000  203.699997    23396.69922    11612.73047   \n",
       "1  305.000000  379.250000  208.556000    23920.34961    11624.58984   \n",
       "2  306.700012  384.162994  205.949997    24049.69922    11424.53027   \n",
       "3  308.149994  393.888000  208.912994    23908.23047    11250.87988   \n",
       "4  304.000000  398.975006  212.250000    24276.33008    11366.95020   \n",
       "\n",
       "   NYSE Adj Close   KOSPI Open  Euronext Adj Close  SGXNifty Open  \\\n",
       "0     10514.87012  1878.900024          805.469971         8149.5   \n",
       "1     10627.12988  1895.849976          810.940002         8151.5   \n",
       "2     10800.54004  1919.800049          837.729980         8256.5   \n",
       "3     10640.74023  1915.030029          832.760010         8357.5   \n",
       "4     10622.95996  1919.310059          845.299988         8343.5   \n",
       "\n",
       "   NASDAQ Adj Close  Nikkei Open  \n",
       "0       4592.740234  16808.25977  \n",
       "1       4650.470215  17067.40039  \n",
       "2       4736.189941  17318.74023  \n",
       "3       4664.709961  16970.88086  \n",
       "4       4661.500000  16961.82031  "
      ]
     },
     "execution_count": 166,
     "metadata": {},
     "output_type": "execute_result"
    }
   ],
   "source": [
    "train.head()"
   ]
  },
  {
   "cell_type": "code",
   "execution_count": 167,
   "metadata": {},
   "outputs": [
    {
     "data": {
      "text/plain": [
       "(1081, 20)"
      ]
     },
     "execution_count": 167,
     "metadata": {},
     "output_type": "execute_result"
    }
   ],
   "source": [
    "train.shape"
   ]
  },
  {
   "cell_type": "code",
   "execution_count": 168,
   "metadata": {},
   "outputs": [
    {
     "data": {
      "text/plain": [
       "Index(['Date', 'NIFTY_India Adj Close', 'Escorts Adj Close',\n",
       "       'Muthoot Adj Close', 'SBI Adj Close', 'HCL Adj Close',\n",
       "       'Wipro Adj Close', 'Escorts Open', 'Muthoot Open', 'SBI Open',\n",
       "       'HCL Open', 'Wipro Open', 'HangSeng Open', 'Shenzhen Open',\n",
       "       'NYSE Adj Close', 'KOSPI Open', 'Euronext Adj Close', 'SGXNifty Open',\n",
       "       'NASDAQ Adj Close', 'Nikkei Open'],\n",
       "      dtype='object')"
      ]
     },
     "execution_count": 168,
     "metadata": {},
     "output_type": "execute_result"
    }
   ],
   "source": [
    "train.columns"
   ]
  },
  {
   "cell_type": "code",
   "execution_count": 169,
   "metadata": {},
   "outputs": [],
   "source": [
    "# Rearrange columns\n",
    "\n",
    "train = train[['Date', 'NIFTY_India Adj Close', 'SBI Adj Close',\n",
    "       'HangSeng Open', 'Shenzhen Open',\n",
    "       'NYSE Adj Close', 'KOSPI Open', 'Euronext Adj Close', 'SGXNifty Open',\n",
    "       'NASDAQ Adj Close', 'Nikkei Open', 'SBI Open']]"
   ]
  },
  {
   "cell_type": "code",
   "execution_count": 170,
   "metadata": {},
   "outputs": [
    {
     "data": {
      "text/html": [
       "<div>\n",
       "<style scoped>\n",
       "    .dataframe tbody tr th:only-of-type {\n",
       "        vertical-align: middle;\n",
       "    }\n",
       "\n",
       "    .dataframe tbody tr th {\n",
       "        vertical-align: top;\n",
       "    }\n",
       "\n",
       "    .dataframe thead th {\n",
       "        text-align: right;\n",
       "    }\n",
       "</style>\n",
       "<table border=\"1\" class=\"dataframe\">\n",
       "  <thead>\n",
       "    <tr style=\"text-align: right;\">\n",
       "      <th></th>\n",
       "      <th>Date</th>\n",
       "      <th>NIFTY_India Adj Close</th>\n",
       "      <th>SBI Adj Close</th>\n",
       "      <th>HangSeng Open</th>\n",
       "      <th>Shenzhen Open</th>\n",
       "      <th>NYSE Adj Close</th>\n",
       "      <th>KOSPI Open</th>\n",
       "      <th>Euronext Adj Close</th>\n",
       "      <th>SGXNifty Open</th>\n",
       "      <th>NASDAQ Adj Close</th>\n",
       "      <th>Nikkei Open</th>\n",
       "      <th>SBI Open</th>\n",
       "    </tr>\n",
       "  </thead>\n",
       "  <tbody>\n",
       "    <tr>\n",
       "      <th>0</th>\n",
       "      <td>2015-01-07</td>\n",
       "      <td>8127.350098</td>\n",
       "      <td>289.701782</td>\n",
       "      <td>23396.69922</td>\n",
       "      <td>11612.73047</td>\n",
       "      <td>10514.87012</td>\n",
       "      <td>1878.900024</td>\n",
       "      <td>805.469971</td>\n",
       "      <td>8149.5</td>\n",
       "      <td>4592.740234</td>\n",
       "      <td>16808.25977</td>\n",
       "      <td>300.0</td>\n",
       "    </tr>\n",
       "    <tr>\n",
       "      <th>1</th>\n",
       "      <td>2015-01-08</td>\n",
       "      <td>8102.100098</td>\n",
       "      <td>289.943268</td>\n",
       "      <td>23920.34961</td>\n",
       "      <td>11624.58984</td>\n",
       "      <td>10627.12988</td>\n",
       "      <td>1895.849976</td>\n",
       "      <td>810.940002</td>\n",
       "      <td>8151.5</td>\n",
       "      <td>4650.470215</td>\n",
       "      <td>17067.40039</td>\n",
       "      <td>305.0</td>\n",
       "    </tr>\n",
       "  </tbody>\n",
       "</table>\n",
       "</div>"
      ],
      "text/plain": [
       "        Date  NIFTY_India Adj Close  SBI Adj Close  HangSeng Open  \\\n",
       "0 2015-01-07            8127.350098     289.701782    23396.69922   \n",
       "1 2015-01-08            8102.100098     289.943268    23920.34961   \n",
       "\n",
       "   Shenzhen Open  NYSE Adj Close   KOSPI Open  Euronext Adj Close  \\\n",
       "0    11612.73047     10514.87012  1878.900024          805.469971   \n",
       "1    11624.58984     10627.12988  1895.849976          810.940002   \n",
       "\n",
       "   SGXNifty Open  NASDAQ Adj Close  Nikkei Open  SBI Open  \n",
       "0         8149.5       4592.740234  16808.25977     300.0  \n",
       "1         8151.5       4650.470215  17067.40039     305.0  "
      ]
     },
     "execution_count": 170,
     "metadata": {},
     "output_type": "execute_result"
    }
   ],
   "source": [
    "train.head(2)"
   ]
  },
  {
   "cell_type": "code",
   "execution_count": 171,
   "metadata": {},
   "outputs": [
    {
     "data": {
      "text/plain": [
       "Date                      0\n",
       "NIFTY_India Adj Close     6\n",
       "SBI Adj Close             2\n",
       "HangSeng Open             3\n",
       "Shenzhen Open             1\n",
       "NYSE Adj Close            0\n",
       "KOSPI Open                5\n",
       "Euronext Adj Close        1\n",
       "SGXNifty Open             0\n",
       "NASDAQ Adj Close          0\n",
       "Nikkei Open              13\n",
       "SBI Open                  0\n",
       "dtype: int64"
      ]
     },
     "execution_count": 171,
     "metadata": {},
     "output_type": "execute_result"
    }
   ],
   "source": [
    "train.isnull().sum()"
   ]
  },
  {
   "cell_type": "code",
   "execution_count": 172,
   "metadata": {},
   "outputs": [
    {
     "data": {
      "text/html": [
       "<div>\n",
       "<style scoped>\n",
       "    .dataframe tbody tr th:only-of-type {\n",
       "        vertical-align: middle;\n",
       "    }\n",
       "\n",
       "    .dataframe tbody tr th {\n",
       "        vertical-align: top;\n",
       "    }\n",
       "\n",
       "    .dataframe thead th {\n",
       "        text-align: right;\n",
       "    }\n",
       "</style>\n",
       "<table border=\"1\" class=\"dataframe\">\n",
       "  <thead>\n",
       "    <tr style=\"text-align: right;\">\n",
       "      <th></th>\n",
       "      <th>Date</th>\n",
       "      <th>NIFTY_India Adj Close</th>\n",
       "      <th>SBI Adj Close</th>\n",
       "      <th>HangSeng Open</th>\n",
       "      <th>Shenzhen Open</th>\n",
       "      <th>NYSE Adj Close</th>\n",
       "      <th>KOSPI Open</th>\n",
       "      <th>Euronext Adj Close</th>\n",
       "      <th>SGXNifty Open</th>\n",
       "      <th>NASDAQ Adj Close</th>\n",
       "      <th>Nikkei Open</th>\n",
       "      <th>SBI Open</th>\n",
       "    </tr>\n",
       "  </thead>\n",
       "  <tbody>\n",
       "    <tr>\n",
       "      <th>27</th>\n",
       "      <td>2015-03-02</td>\n",
       "      <td>NaN</td>\n",
       "      <td>NaN</td>\n",
       "      <td>24996.75977</td>\n",
       "      <td>11869.959960</td>\n",
       "      <td>11062.79004</td>\n",
       "      <td>1996.719971</td>\n",
       "      <td>973.010010</td>\n",
       "      <td>8895.5</td>\n",
       "      <td>4963.529785</td>\n",
       "      <td>18869.40039</td>\n",
       "      <td>305.899994</td>\n",
       "    </tr>\n",
       "    <tr>\n",
       "      <th>990</th>\n",
       "      <td>2019-10-29</td>\n",
       "      <td>NaN</td>\n",
       "      <td>NaN</td>\n",
       "      <td>27027.56055</td>\n",
       "      <td>9812.480469</td>\n",
       "      <td>13186.42969</td>\n",
       "      <td>2103.919922</td>\n",
       "      <td>1099.329956</td>\n",
       "      <td>11668.0</td>\n",
       "      <td>8325.990234</td>\n",
       "      <td>22950.78906</td>\n",
       "      <td>283.149994</td>\n",
       "    </tr>\n",
       "  </tbody>\n",
       "</table>\n",
       "</div>"
      ],
      "text/plain": [
       "          Date  NIFTY_India Adj Close  SBI Adj Close  HangSeng Open  \\\n",
       "27  2015-03-02                    NaN            NaN    24996.75977   \n",
       "990 2019-10-29                    NaN            NaN    27027.56055   \n",
       "\n",
       "     Shenzhen Open  NYSE Adj Close   KOSPI Open  Euronext Adj Close  \\\n",
       "27    11869.959960     11062.79004  1996.719971          973.010010   \n",
       "990    9812.480469     13186.42969  2103.919922         1099.329956   \n",
       "\n",
       "     SGXNifty Open  NASDAQ Adj Close  Nikkei Open    SBI Open  \n",
       "27          8895.5       4963.529785  18869.40039  305.899994  \n",
       "990        11668.0       8325.990234  22950.78906  283.149994  "
      ]
     },
     "execution_count": 172,
     "metadata": {},
     "output_type": "execute_result"
    }
   ],
   "source": [
    "#Displaying rows having Null values\n",
    "\n",
    "train[train['SBI Adj Close'].isnull()]"
   ]
  },
  {
   "cell_type": "code",
   "execution_count": 173,
   "metadata": {},
   "outputs": [],
   "source": [
    "# strategies to fill null values\n",
    "#train['Escorts Open'][train['Date'] == '10/25/2019'] = train['Escorts Open'][train['Date'] == '10/27/2019']\n",
    "train['NIFTY_India Adj Close'].fillna(train['NIFTY_India Adj Close'].mean(),inplace=True)\n",
    "train['Nikkei Open'].fillna(train['Nikkei Open'].mean(),inplace=True)\n",
    "train.dropna(axis=0,inplace=True)"
   ]
  },
  {
   "cell_type": "code",
   "execution_count": 174,
   "metadata": {},
   "outputs": [
    {
     "data": {
      "text/plain": [
       "(1069, 12)"
      ]
     },
     "execution_count": 174,
     "metadata": {},
     "output_type": "execute_result"
    }
   ],
   "source": [
    "train.shape"
   ]
  },
  {
   "cell_type": "code",
   "execution_count": 175,
   "metadata": {},
   "outputs": [
    {
     "data": {
      "text/plain": [
       "Date                     0\n",
       "NIFTY_India Adj Close    0\n",
       "SBI Adj Close            0\n",
       "HangSeng Open            0\n",
       "Shenzhen Open            0\n",
       "NYSE Adj Close           0\n",
       "KOSPI Open               0\n",
       "Euronext Adj Close       0\n",
       "SGXNifty Open            0\n",
       "NASDAQ Adj Close         0\n",
       "Nikkei Open              0\n",
       "SBI Open                 0\n",
       "dtype: int64"
      ]
     },
     "execution_count": 175,
     "metadata": {},
     "output_type": "execute_result"
    }
   ],
   "source": [
    "train.isnull().sum()"
   ]
  },
  {
   "cell_type": "markdown",
   "metadata": {},
   "source": [
    "# Feature Selection Methods \n",
    "## Filter Method: Correlation Coefficient"
   ]
  },
  {
   "cell_type": "code",
   "execution_count": 176,
   "metadata": {},
   "outputs": [
    {
     "data": {
      "text/html": [
       "<div>\n",
       "<style scoped>\n",
       "    .dataframe tbody tr th:only-of-type {\n",
       "        vertical-align: middle;\n",
       "    }\n",
       "\n",
       "    .dataframe tbody tr th {\n",
       "        vertical-align: top;\n",
       "    }\n",
       "\n",
       "    .dataframe thead th {\n",
       "        text-align: right;\n",
       "    }\n",
       "</style>\n",
       "<table border=\"1\" class=\"dataframe\">\n",
       "  <thead>\n",
       "    <tr style=\"text-align: right;\">\n",
       "      <th></th>\n",
       "      <th>Date</th>\n",
       "      <th>NIFTY_India Adj Close</th>\n",
       "      <th>SBI Adj Close</th>\n",
       "      <th>HangSeng Open</th>\n",
       "      <th>Shenzhen Open</th>\n",
       "      <th>NYSE Adj Close</th>\n",
       "      <th>KOSPI Open</th>\n",
       "      <th>Euronext Adj Close</th>\n",
       "      <th>SGXNifty Open</th>\n",
       "      <th>NASDAQ Adj Close</th>\n",
       "      <th>Nikkei Open</th>\n",
       "      <th>SBI Open</th>\n",
       "    </tr>\n",
       "  </thead>\n",
       "  <tbody>\n",
       "    <tr>\n",
       "      <th>0</th>\n",
       "      <td>2015-01-07</td>\n",
       "      <td>8127.350098</td>\n",
       "      <td>289.701782</td>\n",
       "      <td>23396.69922</td>\n",
       "      <td>11612.73047</td>\n",
       "      <td>10514.87012</td>\n",
       "      <td>1878.900024</td>\n",
       "      <td>805.469971</td>\n",
       "      <td>8149.5</td>\n",
       "      <td>4592.740234</td>\n",
       "      <td>16808.25977</td>\n",
       "      <td>300.000000</td>\n",
       "    </tr>\n",
       "    <tr>\n",
       "      <th>1</th>\n",
       "      <td>2015-01-08</td>\n",
       "      <td>8102.100098</td>\n",
       "      <td>289.943268</td>\n",
       "      <td>23920.34961</td>\n",
       "      <td>11624.58984</td>\n",
       "      <td>10627.12988</td>\n",
       "      <td>1895.849976</td>\n",
       "      <td>810.940002</td>\n",
       "      <td>8151.5</td>\n",
       "      <td>4650.470215</td>\n",
       "      <td>17067.40039</td>\n",
       "      <td>305.000000</td>\n",
       "    </tr>\n",
       "    <tr>\n",
       "      <th>2</th>\n",
       "      <td>2015-01-09</td>\n",
       "      <td>8234.599609</td>\n",
       "      <td>294.483459</td>\n",
       "      <td>24049.69922</td>\n",
       "      <td>11424.53027</td>\n",
       "      <td>10800.54004</td>\n",
       "      <td>1919.800049</td>\n",
       "      <td>837.729980</td>\n",
       "      <td>8256.5</td>\n",
       "      <td>4736.189941</td>\n",
       "      <td>17318.74023</td>\n",
       "      <td>306.700012</td>\n",
       "    </tr>\n",
       "    <tr>\n",
       "      <th>3</th>\n",
       "      <td>2015-01-13</td>\n",
       "      <td>8323.000000</td>\n",
       "      <td>296.656952</td>\n",
       "      <td>23908.23047</td>\n",
       "      <td>11250.87988</td>\n",
       "      <td>10640.74023</td>\n",
       "      <td>1915.030029</td>\n",
       "      <td>832.760010</td>\n",
       "      <td>8357.5</td>\n",
       "      <td>4664.709961</td>\n",
       "      <td>16970.88086</td>\n",
       "      <td>308.149994</td>\n",
       "    </tr>\n",
       "    <tr>\n",
       "      <th>4</th>\n",
       "      <td>2015-01-14</td>\n",
       "      <td>8299.400391</td>\n",
       "      <td>294.724976</td>\n",
       "      <td>24276.33008</td>\n",
       "      <td>11366.95020</td>\n",
       "      <td>10622.95996</td>\n",
       "      <td>1919.310059</td>\n",
       "      <td>845.299988</td>\n",
       "      <td>8343.5</td>\n",
       "      <td>4661.500000</td>\n",
       "      <td>16961.82031</td>\n",
       "      <td>304.000000</td>\n",
       "    </tr>\n",
       "  </tbody>\n",
       "</table>\n",
       "</div>"
      ],
      "text/plain": [
       "        Date  NIFTY_India Adj Close  SBI Adj Close  HangSeng Open  \\\n",
       "0 2015-01-07            8127.350098     289.701782    23396.69922   \n",
       "1 2015-01-08            8102.100098     289.943268    23920.34961   \n",
       "2 2015-01-09            8234.599609     294.483459    24049.69922   \n",
       "3 2015-01-13            8323.000000     296.656952    23908.23047   \n",
       "4 2015-01-14            8299.400391     294.724976    24276.33008   \n",
       "\n",
       "   Shenzhen Open  NYSE Adj Close   KOSPI Open  Euronext Adj Close  \\\n",
       "0    11612.73047     10514.87012  1878.900024          805.469971   \n",
       "1    11624.58984     10627.12988  1895.849976          810.940002   \n",
       "2    11424.53027     10800.54004  1919.800049          837.729980   \n",
       "3    11250.87988     10640.74023  1915.030029          832.760010   \n",
       "4    11366.95020     10622.95996  1919.310059          845.299988   \n",
       "\n",
       "   SGXNifty Open  NASDAQ Adj Close  Nikkei Open    SBI Open  \n",
       "0         8149.5       4592.740234  16808.25977  300.000000  \n",
       "1         8151.5       4650.470215  17067.40039  305.000000  \n",
       "2         8256.5       4736.189941  17318.74023  306.700012  \n",
       "3         8357.5       4664.709961  16970.88086  308.149994  \n",
       "4         8343.5       4661.500000  16961.82031  304.000000  "
      ]
     },
     "execution_count": 176,
     "metadata": {},
     "output_type": "execute_result"
    }
   ],
   "source": [
    "train.head()"
   ]
  },
  {
   "cell_type": "code",
   "execution_count": 177,
   "metadata": {},
   "outputs": [
    {
     "data": {
      "text/html": [
       "<div>\n",
       "<style scoped>\n",
       "    .dataframe tbody tr th:only-of-type {\n",
       "        vertical-align: middle;\n",
       "    }\n",
       "\n",
       "    .dataframe tbody tr th {\n",
       "        vertical-align: top;\n",
       "    }\n",
       "\n",
       "    .dataframe thead th {\n",
       "        text-align: right;\n",
       "    }\n",
       "</style>\n",
       "<table border=\"1\" class=\"dataframe\">\n",
       "  <thead>\n",
       "    <tr style=\"text-align: right;\">\n",
       "      <th></th>\n",
       "      <th>NIFTY_India Adj Close</th>\n",
       "      <th>SBI Adj Close</th>\n",
       "      <th>HangSeng Open</th>\n",
       "      <th>Shenzhen Open</th>\n",
       "      <th>NYSE Adj Close</th>\n",
       "      <th>KOSPI Open</th>\n",
       "      <th>Euronext Adj Close</th>\n",
       "      <th>SGXNifty Open</th>\n",
       "      <th>NASDAQ Adj Close</th>\n",
       "      <th>Nikkei Open</th>\n",
       "      <th>SBI Open</th>\n",
       "    </tr>\n",
       "  </thead>\n",
       "  <tbody>\n",
       "    <tr>\n",
       "      <th>NIFTY_India Adj Close</th>\n",
       "      <td>1.000000</td>\n",
       "      <td>0.763757</td>\n",
       "      <td>0.766893</td>\n",
       "      <td>-0.450094</td>\n",
       "      <td>0.945338</td>\n",
       "      <td>0.495026</td>\n",
       "      <td>0.842400</td>\n",
       "      <td>0.998477</td>\n",
       "      <td>0.947671</td>\n",
       "      <td>0.824164</td>\n",
       "      <td>0.725532</td>\n",
       "    </tr>\n",
       "    <tr>\n",
       "      <th>SBI Adj Close</th>\n",
       "      <td>0.763757</td>\n",
       "      <td>1.000000</td>\n",
       "      <td>0.672758</td>\n",
       "      <td>-0.137789</td>\n",
       "      <td>0.755438</td>\n",
       "      <td>0.420404</td>\n",
       "      <td>0.738530</td>\n",
       "      <td>0.765776</td>\n",
       "      <td>0.640769</td>\n",
       "      <td>0.682354</td>\n",
       "      <td>0.994864</td>\n",
       "    </tr>\n",
       "    <tr>\n",
       "      <th>HangSeng Open</th>\n",
       "      <td>0.766893</td>\n",
       "      <td>0.672758</td>\n",
       "      <td>1.000000</td>\n",
       "      <td>-0.005471</td>\n",
       "      <td>0.833537</td>\n",
       "      <td>0.777748</td>\n",
       "      <td>0.806060</td>\n",
       "      <td>0.767356</td>\n",
       "      <td>0.703703</td>\n",
       "      <td>0.832053</td>\n",
       "      <td>0.651607</td>\n",
       "    </tr>\n",
       "    <tr>\n",
       "      <th>Shenzhen Open</th>\n",
       "      <td>-0.450094</td>\n",
       "      <td>-0.137789</td>\n",
       "      <td>-0.005471</td>\n",
       "      <td>1.000000</td>\n",
       "      <td>-0.303254</td>\n",
       "      <td>-0.018939</td>\n",
       "      <td>-0.083794</td>\n",
       "      <td>-0.452783</td>\n",
       "      <td>-0.446607</td>\n",
       "      <td>-0.141168</td>\n",
       "      <td>-0.097406</td>\n",
       "    </tr>\n",
       "    <tr>\n",
       "      <th>NYSE Adj Close</th>\n",
       "      <td>0.945338</td>\n",
       "      <td>0.755438</td>\n",
       "      <td>0.833537</td>\n",
       "      <td>-0.303254</td>\n",
       "      <td>1.000000</td>\n",
       "      <td>0.624710</td>\n",
       "      <td>0.919124</td>\n",
       "      <td>0.947106</td>\n",
       "      <td>0.920579</td>\n",
       "      <td>0.889342</td>\n",
       "      <td>0.722747</td>\n",
       "    </tr>\n",
       "    <tr>\n",
       "      <th>KOSPI Open</th>\n",
       "      <td>0.495026</td>\n",
       "      <td>0.420404</td>\n",
       "      <td>0.777748</td>\n",
       "      <td>-0.018939</td>\n",
       "      <td>0.624710</td>\n",
       "      <td>1.000000</td>\n",
       "      <td>0.624734</td>\n",
       "      <td>0.497214</td>\n",
       "      <td>0.417057</td>\n",
       "      <td>0.618370</td>\n",
       "      <td>0.394840</td>\n",
       "    </tr>\n",
       "    <tr>\n",
       "      <th>Euronext Adj Close</th>\n",
       "      <td>0.842400</td>\n",
       "      <td>0.738530</td>\n",
       "      <td>0.806060</td>\n",
       "      <td>-0.083794</td>\n",
       "      <td>0.919124</td>\n",
       "      <td>0.624734</td>\n",
       "      <td>1.000000</td>\n",
       "      <td>0.843630</td>\n",
       "      <td>0.810895</td>\n",
       "      <td>0.904074</td>\n",
       "      <td>0.719913</td>\n",
       "    </tr>\n",
       "    <tr>\n",
       "      <th>SGXNifty Open</th>\n",
       "      <td>0.998477</td>\n",
       "      <td>0.765776</td>\n",
       "      <td>0.767356</td>\n",
       "      <td>-0.452783</td>\n",
       "      <td>0.947106</td>\n",
       "      <td>0.497214</td>\n",
       "      <td>0.843630</td>\n",
       "      <td>1.000000</td>\n",
       "      <td>0.947391</td>\n",
       "      <td>0.825160</td>\n",
       "      <td>0.728189</td>\n",
       "    </tr>\n",
       "    <tr>\n",
       "      <th>NASDAQ Adj Close</th>\n",
       "      <td>0.947671</td>\n",
       "      <td>0.640769</td>\n",
       "      <td>0.703703</td>\n",
       "      <td>-0.446607</td>\n",
       "      <td>0.920579</td>\n",
       "      <td>0.417057</td>\n",
       "      <td>0.810895</td>\n",
       "      <td>0.947391</td>\n",
       "      <td>1.000000</td>\n",
       "      <td>0.821314</td>\n",
       "      <td>0.595813</td>\n",
       "    </tr>\n",
       "    <tr>\n",
       "      <th>Nikkei Open</th>\n",
       "      <td>0.824164</td>\n",
       "      <td>0.682354</td>\n",
       "      <td>0.832053</td>\n",
       "      <td>-0.141168</td>\n",
       "      <td>0.889342</td>\n",
       "      <td>0.618370</td>\n",
       "      <td>0.904074</td>\n",
       "      <td>0.825160</td>\n",
       "      <td>0.821314</td>\n",
       "      <td>1.000000</td>\n",
       "      <td>0.658250</td>\n",
       "    </tr>\n",
       "    <tr>\n",
       "      <th>SBI Open</th>\n",
       "      <td>0.725532</td>\n",
       "      <td>0.994864</td>\n",
       "      <td>0.651607</td>\n",
       "      <td>-0.097406</td>\n",
       "      <td>0.722747</td>\n",
       "      <td>0.394840</td>\n",
       "      <td>0.719913</td>\n",
       "      <td>0.728189</td>\n",
       "      <td>0.595813</td>\n",
       "      <td>0.658250</td>\n",
       "      <td>1.000000</td>\n",
       "    </tr>\n",
       "  </tbody>\n",
       "</table>\n",
       "</div>"
      ],
      "text/plain": [
       "                       NIFTY_India Adj Close  SBI Adj Close  HangSeng Open  \\\n",
       "NIFTY_India Adj Close               1.000000       0.763757       0.766893   \n",
       "SBI Adj Close                       0.763757       1.000000       0.672758   \n",
       "HangSeng Open                       0.766893       0.672758       1.000000   \n",
       "Shenzhen Open                      -0.450094      -0.137789      -0.005471   \n",
       "NYSE Adj Close                      0.945338       0.755438       0.833537   \n",
       "KOSPI Open                          0.495026       0.420404       0.777748   \n",
       "Euronext Adj Close                  0.842400       0.738530       0.806060   \n",
       "SGXNifty Open                       0.998477       0.765776       0.767356   \n",
       "NASDAQ Adj Close                    0.947671       0.640769       0.703703   \n",
       "Nikkei Open                         0.824164       0.682354       0.832053   \n",
       "SBI Open                            0.725532       0.994864       0.651607   \n",
       "\n",
       "                       Shenzhen Open  NYSE Adj Close  KOSPI Open  \\\n",
       "NIFTY_India Adj Close      -0.450094        0.945338    0.495026   \n",
       "SBI Adj Close              -0.137789        0.755438    0.420404   \n",
       "HangSeng Open              -0.005471        0.833537    0.777748   \n",
       "Shenzhen Open               1.000000       -0.303254   -0.018939   \n",
       "NYSE Adj Close             -0.303254        1.000000    0.624710   \n",
       "KOSPI Open                 -0.018939        0.624710    1.000000   \n",
       "Euronext Adj Close         -0.083794        0.919124    0.624734   \n",
       "SGXNifty Open              -0.452783        0.947106    0.497214   \n",
       "NASDAQ Adj Close           -0.446607        0.920579    0.417057   \n",
       "Nikkei Open                -0.141168        0.889342    0.618370   \n",
       "SBI Open                   -0.097406        0.722747    0.394840   \n",
       "\n",
       "                       Euronext Adj Close  SGXNifty Open  NASDAQ Adj Close  \\\n",
       "NIFTY_India Adj Close            0.842400       0.998477          0.947671   \n",
       "SBI Adj Close                    0.738530       0.765776          0.640769   \n",
       "HangSeng Open                    0.806060       0.767356          0.703703   \n",
       "Shenzhen Open                   -0.083794      -0.452783         -0.446607   \n",
       "NYSE Adj Close                   0.919124       0.947106          0.920579   \n",
       "KOSPI Open                       0.624734       0.497214          0.417057   \n",
       "Euronext Adj Close               1.000000       0.843630          0.810895   \n",
       "SGXNifty Open                    0.843630       1.000000          0.947391   \n",
       "NASDAQ Adj Close                 0.810895       0.947391          1.000000   \n",
       "Nikkei Open                      0.904074       0.825160          0.821314   \n",
       "SBI Open                         0.719913       0.728189          0.595813   \n",
       "\n",
       "                       Nikkei Open  SBI Open  \n",
       "NIFTY_India Adj Close     0.824164  0.725532  \n",
       "SBI Adj Close             0.682354  0.994864  \n",
       "HangSeng Open             0.832053  0.651607  \n",
       "Shenzhen Open            -0.141168 -0.097406  \n",
       "NYSE Adj Close            0.889342  0.722747  \n",
       "KOSPI Open                0.618370  0.394840  \n",
       "Euronext Adj Close        0.904074  0.719913  \n",
       "SGXNifty Open             0.825160  0.728189  \n",
       "NASDAQ Adj Close          0.821314  0.595813  \n",
       "Nikkei Open               1.000000  0.658250  \n",
       "SBI Open                  0.658250  1.000000  "
      ]
     },
     "execution_count": 177,
     "metadata": {},
     "output_type": "execute_result"
    }
   ],
   "source": [
    "cor = train.corr()\n",
    "cor"
   ]
  },
  {
   "cell_type": "code",
   "execution_count": 179,
   "metadata": {},
   "outputs": [
    {
     "data": {
      "text/plain": [
       "Index(['NIFTY_India Adj Close', 'SBI Adj Close', 'HangSeng Open',\n",
       "       'NYSE Adj Close', 'Euronext Adj Close', 'SGXNifty Open', 'Nikkei Open',\n",
       "       'SBI Open'],\n",
       "      dtype='object')"
      ]
     },
     "execution_count": 179,
     "metadata": {},
     "output_type": "execute_result"
    }
   ],
   "source": [
    "cor.index[abs(cor['SBI Open']) > .65]"
   ]
  },
  {
   "cell_type": "markdown",
   "metadata": {},
   "source": [
    "## Wrapper Method: Step forward feature selection"
   ]
  },
  {
   "cell_type": "code",
   "execution_count": 180,
   "metadata": {},
   "outputs": [],
   "source": [
    "X = train[train.columns[1:-1]]\n",
    "Y = train[train.columns[-1]]\n",
    "X_train, X_test, y_train, y_test = train_test_split(X, Y, test_size=0.2, random_state=42)"
   ]
  },
  {
   "cell_type": "code",
   "execution_count": 181,
   "metadata": {},
   "outputs": [
    {
     "name": "stdout",
     "output_type": "stream",
     "text": [
      "Index(['SBI Adj Close', 'HangSeng Open', 'KOSPI Open', 'Euronext Adj Close',\n",
      "       'NASDAQ Adj Close'],\n",
      "      dtype='object')\n"
     ]
    }
   ],
   "source": [
    "from mlxtend.feature_selection import SequentialFeatureSelector as SFS\n",
    "sfs = SFS(LinearRegression(), \n",
    "           k_features=5, \n",
    "           forward=True, \n",
    "           floating=False,\n",
    "           scoring='neg_mean_squared_error',\n",
    "           cv=5)\n",
    "\n",
    "# fit the object to the training data.\n",
    "sfs = sfs.fit(X_train, y_train)\n",
    "\n",
    "# print the selected features.\n",
    "selected_features = X_train.columns[list(sfs.k_feature_idx_)]\n",
    "print(selected_features)"
   ]
  },
  {
   "cell_type": "markdown",
   "metadata": {},
   "source": [
    "## Finding Independent Features"
   ]
  },
  {
   "cell_type": "code",
   "execution_count": 182,
   "metadata": {},
   "outputs": [],
   "source": [
    "train2 = train[['NIFTY_India Adj Close', 'SBI Adj Close', 'HangSeng Open',\n",
    "       'NYSE Adj Close', 'Euronext Adj Close', 'SGXNifty Open', 'Nikkei Open']]"
   ]
  },
  {
   "cell_type": "code",
   "execution_count": 183,
   "metadata": {},
   "outputs": [
    {
     "data": {
      "text/html": [
       "<div>\n",
       "<style scoped>\n",
       "    .dataframe tbody tr th:only-of-type {\n",
       "        vertical-align: middle;\n",
       "    }\n",
       "\n",
       "    .dataframe tbody tr th {\n",
       "        vertical-align: top;\n",
       "    }\n",
       "\n",
       "    .dataframe thead th {\n",
       "        text-align: right;\n",
       "    }\n",
       "</style>\n",
       "<table border=\"1\" class=\"dataframe\">\n",
       "  <thead>\n",
       "    <tr style=\"text-align: right;\">\n",
       "      <th></th>\n",
       "      <th>NIFTY_India Adj Close</th>\n",
       "      <th>SBI Adj Close</th>\n",
       "      <th>HangSeng Open</th>\n",
       "      <th>NYSE Adj Close</th>\n",
       "      <th>Euronext Adj Close</th>\n",
       "      <th>SGXNifty Open</th>\n",
       "      <th>Nikkei Open</th>\n",
       "    </tr>\n",
       "  </thead>\n",
       "  <tbody>\n",
       "    <tr>\n",
       "      <th>0</th>\n",
       "      <td>8127.350098</td>\n",
       "      <td>289.701782</td>\n",
       "      <td>23396.69922</td>\n",
       "      <td>10514.87012</td>\n",
       "      <td>805.469971</td>\n",
       "      <td>8149.5</td>\n",
       "      <td>16808.25977</td>\n",
       "    </tr>\n",
       "    <tr>\n",
       "      <th>1</th>\n",
       "      <td>8102.100098</td>\n",
       "      <td>289.943268</td>\n",
       "      <td>23920.34961</td>\n",
       "      <td>10627.12988</td>\n",
       "      <td>810.940002</td>\n",
       "      <td>8151.5</td>\n",
       "      <td>17067.40039</td>\n",
       "    </tr>\n",
       "  </tbody>\n",
       "</table>\n",
       "</div>"
      ],
      "text/plain": [
       "   NIFTY_India Adj Close  SBI Adj Close  HangSeng Open  NYSE Adj Close  \\\n",
       "0            8127.350098     289.701782    23396.69922     10514.87012   \n",
       "1            8102.100098     289.943268    23920.34961     10627.12988   \n",
       "\n",
       "   Euronext Adj Close  SGXNifty Open  Nikkei Open  \n",
       "0          805.469971         8149.5  16808.25977  \n",
       "1          810.940002         8151.5  17067.40039  "
      ]
     },
     "execution_count": 183,
     "metadata": {},
     "output_type": "execute_result"
    }
   ],
   "source": [
    "train2.head(2)"
   ]
  },
  {
   "cell_type": "code",
   "execution_count": 184,
   "metadata": {},
   "outputs": [
    {
     "data": {
      "text/html": [
       "<div>\n",
       "<style scoped>\n",
       "    .dataframe tbody tr th:only-of-type {\n",
       "        vertical-align: middle;\n",
       "    }\n",
       "\n",
       "    .dataframe tbody tr th {\n",
       "        vertical-align: top;\n",
       "    }\n",
       "\n",
       "    .dataframe thead th {\n",
       "        text-align: right;\n",
       "    }\n",
       "</style>\n",
       "<table border=\"1\" class=\"dataframe\">\n",
       "  <thead>\n",
       "    <tr style=\"text-align: right;\">\n",
       "      <th></th>\n",
       "      <th>NIFTY_India Adj Close</th>\n",
       "      <th>SBI Adj Close</th>\n",
       "      <th>HangSeng Open</th>\n",
       "      <th>NYSE Adj Close</th>\n",
       "      <th>Euronext Adj Close</th>\n",
       "      <th>SGXNifty Open</th>\n",
       "      <th>Nikkei Open</th>\n",
       "    </tr>\n",
       "  </thead>\n",
       "  <tbody>\n",
       "    <tr>\n",
       "      <th>NIFTY_India Adj Close</th>\n",
       "      <td>1.000000</td>\n",
       "      <td>0.763757</td>\n",
       "      <td>0.766893</td>\n",
       "      <td>0.945338</td>\n",
       "      <td>0.842400</td>\n",
       "      <td>0.998477</td>\n",
       "      <td>0.824164</td>\n",
       "    </tr>\n",
       "    <tr>\n",
       "      <th>SBI Adj Close</th>\n",
       "      <td>0.763757</td>\n",
       "      <td>1.000000</td>\n",
       "      <td>0.672758</td>\n",
       "      <td>0.755438</td>\n",
       "      <td>0.738530</td>\n",
       "      <td>0.765776</td>\n",
       "      <td>0.682354</td>\n",
       "    </tr>\n",
       "    <tr>\n",
       "      <th>HangSeng Open</th>\n",
       "      <td>0.766893</td>\n",
       "      <td>0.672758</td>\n",
       "      <td>1.000000</td>\n",
       "      <td>0.833537</td>\n",
       "      <td>0.806060</td>\n",
       "      <td>0.767356</td>\n",
       "      <td>0.832053</td>\n",
       "    </tr>\n",
       "    <tr>\n",
       "      <th>NYSE Adj Close</th>\n",
       "      <td>0.945338</td>\n",
       "      <td>0.755438</td>\n",
       "      <td>0.833537</td>\n",
       "      <td>1.000000</td>\n",
       "      <td>0.919124</td>\n",
       "      <td>0.947106</td>\n",
       "      <td>0.889342</td>\n",
       "    </tr>\n",
       "    <tr>\n",
       "      <th>Euronext Adj Close</th>\n",
       "      <td>0.842400</td>\n",
       "      <td>0.738530</td>\n",
       "      <td>0.806060</td>\n",
       "      <td>0.919124</td>\n",
       "      <td>1.000000</td>\n",
       "      <td>0.843630</td>\n",
       "      <td>0.904074</td>\n",
       "    </tr>\n",
       "    <tr>\n",
       "      <th>SGXNifty Open</th>\n",
       "      <td>0.998477</td>\n",
       "      <td>0.765776</td>\n",
       "      <td>0.767356</td>\n",
       "      <td>0.947106</td>\n",
       "      <td>0.843630</td>\n",
       "      <td>1.000000</td>\n",
       "      <td>0.825160</td>\n",
       "    </tr>\n",
       "    <tr>\n",
       "      <th>Nikkei Open</th>\n",
       "      <td>0.824164</td>\n",
       "      <td>0.682354</td>\n",
       "      <td>0.832053</td>\n",
       "      <td>0.889342</td>\n",
       "      <td>0.904074</td>\n",
       "      <td>0.825160</td>\n",
       "      <td>1.000000</td>\n",
       "    </tr>\n",
       "  </tbody>\n",
       "</table>\n",
       "</div>"
      ],
      "text/plain": [
       "                       NIFTY_India Adj Close  SBI Adj Close  HangSeng Open  \\\n",
       "NIFTY_India Adj Close               1.000000       0.763757       0.766893   \n",
       "SBI Adj Close                       0.763757       1.000000       0.672758   \n",
       "HangSeng Open                       0.766893       0.672758       1.000000   \n",
       "NYSE Adj Close                      0.945338       0.755438       0.833537   \n",
       "Euronext Adj Close                  0.842400       0.738530       0.806060   \n",
       "SGXNifty Open                       0.998477       0.765776       0.767356   \n",
       "Nikkei Open                         0.824164       0.682354       0.832053   \n",
       "\n",
       "                       NYSE Adj Close  Euronext Adj Close  SGXNifty Open  \\\n",
       "NIFTY_India Adj Close        0.945338            0.842400       0.998477   \n",
       "SBI Adj Close                0.755438            0.738530       0.765776   \n",
       "HangSeng Open                0.833537            0.806060       0.767356   \n",
       "NYSE Adj Close               1.000000            0.919124       0.947106   \n",
       "Euronext Adj Close           0.919124            1.000000       0.843630   \n",
       "SGXNifty Open                0.947106            0.843630       1.000000   \n",
       "Nikkei Open                  0.889342            0.904074       0.825160   \n",
       "\n",
       "                       Nikkei Open  \n",
       "NIFTY_India Adj Close     0.824164  \n",
       "SBI Adj Close             0.682354  \n",
       "HangSeng Open             0.832053  \n",
       "NYSE Adj Close            0.889342  \n",
       "Euronext Adj Close        0.904074  \n",
       "SGXNifty Open             0.825160  \n",
       "Nikkei Open               1.000000  "
      ]
     },
     "execution_count": 184,
     "metadata": {},
     "output_type": "execute_result"
    }
   ],
   "source": [
    "cor2 = train2.corr()\n",
    "cor2"
   ]
  },
  {
   "cell_type": "markdown",
   "metadata": {},
   "source": [
    "## It shows that Singapore Nifty Open and Indian Nifty Close are highly correlated. Similarly, NYSE Close and Euronext Close are correlated with each other and also to Indian Nifty Close."
   ]
  },
  {
   "cell_type": "markdown",
   "metadata": {},
   "source": [
    "## Normalization"
   ]
  },
  {
   "cell_type": "code",
   "execution_count": 29,
   "metadata": {},
   "outputs": [],
   "source": [
    "#X = train[train.columns[0:-1]]\n",
    "# Y = train[train.columns[-1]]\n"
   ]
  },
  {
   "cell_type": "code",
   "execution_count": 30,
   "metadata": {},
   "outputs": [],
   "source": [
    "# scaler = MinMaxScaler()\n",
    "# scaler.fit(X_train)\n",
    "# X_tr = scaler.transform(X_train)\n",
    "# X_te = scaler.transform(X_test)    \n",
    "# #Converting n-d array to dataframe\n",
    "# X_train = pd.DataFrame(X_tr, columns=['Escorts Adj Close', 'NIFTY_India Adj Close', 'HangSeng Open',\n",
    "#        'Nikkei Open'])\n",
    "# X_test = pd.DataFrame(X_te, columns=['Escorts Adj Close', 'NIFTY_India Adj Close', 'HangSeng Open',\n",
    "#        'Nikkei Open'])"
   ]
  },
  {
   "cell_type": "markdown",
   "metadata": {},
   "source": [
    "## Feature Selection using Ensemble Random Forest"
   ]
  },
  {
   "cell_type": "code",
   "execution_count": 185,
   "metadata": {},
   "outputs": [],
   "source": [
    "X = train[train.columns[1:-1]]\n",
    "Y = train[train.columns[-1]]"
   ]
  },
  {
   "cell_type": "code",
   "execution_count": 186,
   "metadata": {},
   "outputs": [],
   "source": [
    "model = RandomForestRegressor(max_depth=4, n_estimators=160)"
   ]
  },
  {
   "cell_type": "code",
   "execution_count": 187,
   "metadata": {},
   "outputs": [
    {
     "data": {
      "text/plain": [
       "RandomForestRegressor(bootstrap=True, ccp_alpha=0.0, criterion='mse',\n",
       "                      max_depth=4, max_features='auto', max_leaf_nodes=None,\n",
       "                      max_samples=None, min_impurity_decrease=0.0,\n",
       "                      min_impurity_split=None, min_samples_leaf=1,\n",
       "                      min_samples_split=2, min_weight_fraction_leaf=0.0,\n",
       "                      n_estimators=160, n_jobs=None, oob_score=False,\n",
       "                      random_state=None, verbose=0, warm_start=False)"
      ]
     },
     "execution_count": 187,
     "metadata": {},
     "output_type": "execute_result"
    }
   ],
   "source": [
    "model.fit(X,Y)"
   ]
  },
  {
   "cell_type": "code",
   "execution_count": 188,
   "metadata": {},
   "outputs": [],
   "source": [
    "labels = list(X.columns)[0:-1]"
   ]
  },
  {
   "cell_type": "code",
   "execution_count": 189,
   "metadata": {},
   "outputs": [
    {
     "name": "stdout",
     "output_type": "stream",
     "text": [
      "('NIFTY_India Adj Close', 0.0)\n",
      "('SBI Adj Close', 0.9997702359934165)\n",
      "('HangSeng Open', 0.0)\n",
      "('Shenzhen Open', 5.377919891461504e-05)\n",
      "('NYSE Adj Close', 2.777974959576571e-05)\n",
      "('KOSPI Open', 0.0)\n",
      "('Euronext Adj Close', 0.0)\n",
      "('SGXNifty Open', 2.7091409881966894e-05)\n",
      "('NASDAQ Adj Close', 8.927724627195349e-05)\n"
     ]
    }
   ],
   "source": [
    "for feature in zip(labels, model.feature_importances_):\n",
    "    print(feature)"
   ]
  },
  {
   "cell_type": "code",
   "execution_count": 190,
   "metadata": {},
   "outputs": [
    {
     "data": {
      "text/plain": [
       "SelectFromModel(estimator=RandomForestRegressor(bootstrap=True, ccp_alpha=0.0,\n",
       "                                                criterion='mse', max_depth=4,\n",
       "                                                max_features='auto',\n",
       "                                                max_leaf_nodes=None,\n",
       "                                                max_samples=None,\n",
       "                                                min_impurity_decrease=0.0,\n",
       "                                                min_impurity_split=None,\n",
       "                                                min_samples_leaf=1,\n",
       "                                                min_samples_split=2,\n",
       "                                                min_weight_fraction_leaf=0.0,\n",
       "                                                n_estimators=160, n_jobs=None,\n",
       "                                                oob_score=False,\n",
       "                                                random_state=None, verbose=0,\n",
       "                                                warm_start=False),\n",
       "                max_features=None, norm_order=1, prefit=False, threshold=1e-05)"
      ]
     },
     "execution_count": 190,
     "metadata": {},
     "output_type": "execute_result"
    }
   ],
   "source": [
    "sfm = SelectFromModel(model, threshold=1e-05)\n",
    "sfm.fit(X,Y)"
   ]
  },
  {
   "cell_type": "code",
   "execution_count": 192,
   "metadata": {},
   "outputs": [],
   "source": [
    "# for index in sfm.get_support(indices=True):\n",
    "#     print(labels[index])"
   ]
  },
  {
   "cell_type": "code",
   "execution_count": null,
   "metadata": {},
   "outputs": [],
   "source": [
    "# X_train_imp = sfm.transform(X)\n",
    "# X_test_imp = sfm.transform(X_test)"
   ]
  },
  {
   "cell_type": "markdown",
   "metadata": {},
   "source": [
    "## Since all features are numerical, we give importance to correlation feature selection.\n",
    "## Link: https://machinelearningmastery.com/feature-selection-with-real-and-categorical-data/"
   ]
  },
  {
   "cell_type": "markdown",
   "metadata": {},
   "source": [
    "## Selecting Features"
   ]
  },
  {
   "cell_type": "code",
   "execution_count": 193,
   "metadata": {},
   "outputs": [
    {
     "data": {
      "text/html": [
       "<div>\n",
       "<style scoped>\n",
       "    .dataframe tbody tr th:only-of-type {\n",
       "        vertical-align: middle;\n",
       "    }\n",
       "\n",
       "    .dataframe tbody tr th {\n",
       "        vertical-align: top;\n",
       "    }\n",
       "\n",
       "    .dataframe thead th {\n",
       "        text-align: right;\n",
       "    }\n",
       "</style>\n",
       "<table border=\"1\" class=\"dataframe\">\n",
       "  <thead>\n",
       "    <tr style=\"text-align: right;\">\n",
       "      <th></th>\n",
       "      <th>NIFTY_India Adj Close</th>\n",
       "      <th>SBI Adj Close</th>\n",
       "      <th>HangSeng Open</th>\n",
       "      <th>Euronext Adj Close</th>\n",
       "      <th>SBI Open</th>\n",
       "    </tr>\n",
       "  </thead>\n",
       "  <tbody>\n",
       "    <tr>\n",
       "      <th>0</th>\n",
       "      <td>8127.350098</td>\n",
       "      <td>289.701782</td>\n",
       "      <td>23396.69922</td>\n",
       "      <td>805.469971</td>\n",
       "      <td>300.0</td>\n",
       "    </tr>\n",
       "    <tr>\n",
       "      <th>1</th>\n",
       "      <td>8102.100098</td>\n",
       "      <td>289.943268</td>\n",
       "      <td>23920.34961</td>\n",
       "      <td>810.940002</td>\n",
       "      <td>305.0</td>\n",
       "    </tr>\n",
       "  </tbody>\n",
       "</table>\n",
       "</div>"
      ],
      "text/plain": [
       "   NIFTY_India Adj Close  SBI Adj Close  HangSeng Open  Euronext Adj Close  \\\n",
       "0            8127.350098     289.701782    23396.69922          805.469971   \n",
       "1            8102.100098     289.943268    23920.34961          810.940002   \n",
       "\n",
       "   SBI Open  \n",
       "0     300.0  \n",
       "1     305.0  "
      ]
     },
     "execution_count": 193,
     "metadata": {},
     "output_type": "execute_result"
    }
   ],
   "source": [
    "#Dont forget to add target column\n",
    "train_final = train[['NIFTY_India Adj Close', \n",
    "                     'SBI Adj Close',\n",
    "                    'HangSeng Open', \n",
    "                    # 'Shenzhen Open',\n",
    "                    #'NYSE Adj Close', \n",
    "                     #'KOSPI Open', \n",
    "                     'Euronext Adj Close',\n",
    "                     #'Nikkei Open',\n",
    "                     'SBI Open']]\n",
    "train_final.head(2)"
   ]
  },
  {
   "cell_type": "markdown",
   "metadata": {},
   "source": [
    "# Handle outliers using IQR"
   ]
  },
  {
   "cell_type": "code",
   "execution_count": 194,
   "metadata": {},
   "outputs": [
    {
     "name": "stdout",
     "output_type": "stream",
     "text": [
      "NIFTY_India Adj Close    2438.500000\n",
      "SBI Adj Close              46.609436\n",
      "HangSeng Open            4994.279300\n",
      "Euronext Adj Close        134.730041\n",
      "SBI Open                   45.949997\n",
      "dtype: float64\n"
     ]
    }
   ],
   "source": [
    "Q1 = train_final.quantile(0.25)\n",
    "Q3 = train_final.quantile(0.75)\n",
    "IQR = Q3 - Q1\n",
    "print(IQR)"
   ]
  },
  {
   "cell_type": "code",
   "execution_count": 195,
   "metadata": {},
   "outputs": [
    {
     "data": {
      "text/plain": [
       "(1025, 5)"
      ]
     },
     "execution_count": 195,
     "metadata": {},
     "output_type": "execute_result"
    }
   ],
   "source": [
    "train_final = train_final[~((train_final < (Q1 - 1.5 * IQR)) |(train_final > (Q3 + 1.5 * IQR))).any(axis=1)]\n",
    "train_final.shape"
   ]
  },
  {
   "cell_type": "code",
   "execution_count": 196,
   "metadata": {},
   "outputs": [
    {
     "data": {
      "text/html": [
       "<div>\n",
       "<style scoped>\n",
       "    .dataframe tbody tr th:only-of-type {\n",
       "        vertical-align: middle;\n",
       "    }\n",
       "\n",
       "    .dataframe tbody tr th {\n",
       "        vertical-align: top;\n",
       "    }\n",
       "\n",
       "    .dataframe thead th {\n",
       "        text-align: right;\n",
       "    }\n",
       "</style>\n",
       "<table border=\"1\" class=\"dataframe\">\n",
       "  <thead>\n",
       "    <tr style=\"text-align: right;\">\n",
       "      <th></th>\n",
       "      <th>NIFTY_India Adj Close</th>\n",
       "      <th>SBI Adj Close</th>\n",
       "      <th>HangSeng Open</th>\n",
       "      <th>Euronext Adj Close</th>\n",
       "      <th>SBI Open</th>\n",
       "    </tr>\n",
       "  </thead>\n",
       "  <tbody>\n",
       "    <tr>\n",
       "      <th>0</th>\n",
       "      <td>8127.350098</td>\n",
       "      <td>289.701782</td>\n",
       "      <td>23396.69922</td>\n",
       "      <td>805.469971</td>\n",
       "      <td>300.0</td>\n",
       "    </tr>\n",
       "    <tr>\n",
       "      <th>1</th>\n",
       "      <td>8102.100098</td>\n",
       "      <td>289.943268</td>\n",
       "      <td>23920.34961</td>\n",
       "      <td>810.940002</td>\n",
       "      <td>305.0</td>\n",
       "    </tr>\n",
       "  </tbody>\n",
       "</table>\n",
       "</div>"
      ],
      "text/plain": [
       "   NIFTY_India Adj Close  SBI Adj Close  HangSeng Open  Euronext Adj Close  \\\n",
       "0            8127.350098     289.701782    23396.69922          805.469971   \n",
       "1            8102.100098     289.943268    23920.34961          810.940002   \n",
       "\n",
       "   SBI Open  \n",
       "0     300.0  \n",
       "1     305.0  "
      ]
     },
     "execution_count": 196,
     "metadata": {},
     "output_type": "execute_result"
    }
   ],
   "source": [
    "train_final.head(2)"
   ]
  },
  {
   "cell_type": "markdown",
   "metadata": {},
   "source": [
    "## Test Data"
   ]
  },
  {
   "cell_type": "code",
   "execution_count": 197,
   "metadata": {},
   "outputs": [],
   "source": [
    "test = pd.read_csv('../Data/STOCKS_test.CSV')\n",
    "dfgt = pd.read_csv('../Data/HangSeng_test.CSV')\n",
    "dfyt = pd.read_csv('../Data/NYSE_test.CSV')\n",
    "dfzt = pd.read_csv('../Data/Shenzhen_test.CSV')\n",
    "dfkt = pd.read_csv('../Data/KOSPI_test.CSV')\n",
    "dfet = pd.read_csv('../Data/Euronext100_test.CSV')\n",
    "dfit = pd.read_csv('../Data/Nikkei_test.CSV')"
   ]
  },
  {
   "cell_type": "code",
   "execution_count": 198,
   "metadata": {},
   "outputs": [],
   "source": [
    "#Converting to common date format\n",
    "\n",
    "test['Date'] =  pd.to_datetime(test['Date'], format='%d-%m-%Y')\n",
    "dfgt['Date'] =  pd.to_datetime(dfgt['Date'], format='%d-%m-%Y')\n",
    "dfyt['Date'] =  pd.to_datetime(dfyt['Date'], format='%d-%m-%Y')\n",
    "dfzt['Date'] =  pd.to_datetime(dfzt['Date'], format='%d-%m-%Y')\n",
    "dfkt['Date'] =  pd.to_datetime(dfkt['Date'], format='%d-%m-%Y')\n",
    "dfet['Date'] =  pd.to_datetime(dfet['Date'], format='%d-%m-%Y')\n",
    "dfit['Date'] =  pd.to_datetime(dfit['Date'], format='%d-%m-%Y')"
   ]
  },
  {
   "cell_type": "code",
   "execution_count": 199,
   "metadata": {},
   "outputs": [],
   "source": [
    "#Merging Dataframes based on date\n",
    "\n",
    "test = pd.merge(test,dfgt,how='inner',on='Date')\n",
    "test = pd.merge(test,dfzt,how='inner',on='Date')\n",
    "test = pd.merge(test,dfyt,how='inner',on='Date')\n",
    "test = pd.merge(test,dfkt,how='inner',on='Date')\n",
    "test = pd.merge(test,dfet,how='inner',on='Date')\n",
    "test = pd.merge(test,dfit,how='inner',on='Date')"
   ]
  },
  {
   "cell_type": "code",
   "execution_count": 200,
   "metadata": {},
   "outputs": [
    {
     "data": {
      "text/html": [
       "<div>\n",
       "<style scoped>\n",
       "    .dataframe tbody tr th:only-of-type {\n",
       "        vertical-align: middle;\n",
       "    }\n",
       "\n",
       "    .dataframe tbody tr th {\n",
       "        vertical-align: top;\n",
       "    }\n",
       "\n",
       "    .dataframe thead th {\n",
       "        text-align: right;\n",
       "    }\n",
       "</style>\n",
       "<table border=\"1\" class=\"dataframe\">\n",
       "  <thead>\n",
       "    <tr style=\"text-align: right;\">\n",
       "      <th></th>\n",
       "      <th>Date</th>\n",
       "      <th>NIFTY_India Adj Close</th>\n",
       "      <th>Escorts Adj Close</th>\n",
       "      <th>Muthoot Adj Close</th>\n",
       "      <th>SBI Adj Close</th>\n",
       "      <th>HCL Adj Close</th>\n",
       "      <th>Wipro Adj Close</th>\n",
       "      <th>Escorts Open</th>\n",
       "      <th>Muthoot Open</th>\n",
       "      <th>SBI Open</th>\n",
       "      <th>HCL Open</th>\n",
       "      <th>Wipro Open</th>\n",
       "      <th>HangSeng Open</th>\n",
       "      <th>Shenzhen Open</th>\n",
       "      <th>NYSE Adj Close</th>\n",
       "      <th>KOSPI Open</th>\n",
       "      <th>Euronext Adj Close</th>\n",
       "      <th>Nikkei Open</th>\n",
       "    </tr>\n",
       "  </thead>\n",
       "  <tbody>\n",
       "    <tr>\n",
       "      <th>0</th>\n",
       "      <td>2020-04-08</td>\n",
       "      <td>8792.200195</td>\n",
       "      <td>663.750000</td>\n",
       "      <td>675.849976</td>\n",
       "      <td>186.399994</td>\n",
       "      <td>451.149994</td>\n",
       "      <td>191.899994</td>\n",
       "      <td>653.700012</td>\n",
       "      <td>662.299988</td>\n",
       "      <td>182.899994</td>\n",
       "      <td>451.000000</td>\n",
       "      <td>191.500000</td>\n",
       "      <td>24191.32031</td>\n",
       "      <td>10372.75977</td>\n",
       "      <td>10537.04004</td>\n",
       "      <td>1815.750000</td>\n",
       "      <td>872.619995</td>\n",
       "      <td>19047.75977</td>\n",
       "    </tr>\n",
       "    <tr>\n",
       "      <th>1</th>\n",
       "      <td>2020-04-09</td>\n",
       "      <td>8748.750000</td>\n",
       "      <td>642.349976</td>\n",
       "      <td>687.150024</td>\n",
       "      <td>183.000000</td>\n",
       "      <td>463.100006</td>\n",
       "      <td>192.899994</td>\n",
       "      <td>661.000000</td>\n",
       "      <td>700.000000</td>\n",
       "      <td>188.000000</td>\n",
       "      <td>480.700012</td>\n",
       "      <td>198.399994</td>\n",
       "      <td>24181.32031</td>\n",
       "      <td>10453.86035</td>\n",
       "      <td>10902.58984</td>\n",
       "      <td>1838.089966</td>\n",
       "      <td>874.390015</td>\n",
       "      <td>19376.00000</td>\n",
       "    </tr>\n",
       "    <tr>\n",
       "      <th>2</th>\n",
       "      <td>2020-04-16</td>\n",
       "      <td>8925.299805</td>\n",
       "      <td>714.700012</td>\n",
       "      <td>691.299988</td>\n",
       "      <td>182.350006</td>\n",
       "      <td>478.750000</td>\n",
       "      <td>186.550003</td>\n",
       "      <td>710.000000</td>\n",
       "      <td>672.000000</td>\n",
       "      <td>182.000000</td>\n",
       "      <td>473.000000</td>\n",
       "      <td>180.000000</td>\n",
       "      <td>24025.44922</td>\n",
       "      <td>10361.76953</td>\n",
       "      <td>10843.91992</td>\n",
       "      <td>1839.510010</td>\n",
       "      <td>857.039978</td>\n",
       "      <td>19311.30078</td>\n",
       "    </tr>\n",
       "    <tr>\n",
       "      <th>3</th>\n",
       "      <td>2020-04-17</td>\n",
       "      <td>8992.799805</td>\n",
       "      <td>714.299988</td>\n",
       "      <td>693.599976</td>\n",
       "      <td>188.500000</td>\n",
       "      <td>459.750000</td>\n",
       "      <td>187.850006</td>\n",
       "      <td>744.000000</td>\n",
       "      <td>715.099976</td>\n",
       "      <td>196.000000</td>\n",
       "      <td>470.000000</td>\n",
       "      <td>192.500000</td>\n",
       "      <td>24457.83008</td>\n",
       "      <td>10562.90039</td>\n",
       "      <td>10818.03027</td>\n",
       "      <td>1893.310059</td>\n",
       "      <td>857.710022</td>\n",
       "      <td>19575.84961</td>\n",
       "    </tr>\n",
       "    <tr>\n",
       "      <th>4</th>\n",
       "      <td>2020-04-20</td>\n",
       "      <td>9266.750000</td>\n",
       "      <td>746.200012</td>\n",
       "      <td>706.799988</td>\n",
       "      <td>193.250000</td>\n",
       "      <td>455.250000</td>\n",
       "      <td>187.000000</td>\n",
       "      <td>749.450012</td>\n",
       "      <td>714.750000</td>\n",
       "      <td>194.000000</td>\n",
       "      <td>458.000000</td>\n",
       "      <td>189.000000</td>\n",
       "      <td>24503.56055</td>\n",
       "      <td>10553.54981</td>\n",
       "      <td>11208.29004</td>\n",
       "      <td>1908.339966</td>\n",
       "      <td>883.280029</td>\n",
       "      <td>19689.84961</td>\n",
       "    </tr>\n",
       "  </tbody>\n",
       "</table>\n",
       "</div>"
      ],
      "text/plain": [
       "        Date  NIFTY_India Adj Close  Escorts Adj Close  Muthoot Adj Close  \\\n",
       "0 2020-04-08            8792.200195         663.750000         675.849976   \n",
       "1 2020-04-09            8748.750000         642.349976         687.150024   \n",
       "2 2020-04-16            8925.299805         714.700012         691.299988   \n",
       "3 2020-04-17            8992.799805         714.299988         693.599976   \n",
       "4 2020-04-20            9266.750000         746.200012         706.799988   \n",
       "\n",
       "   SBI Adj Close  HCL Adj Close  Wipro Adj Close  Escorts Open  Muthoot Open  \\\n",
       "0     186.399994     451.149994       191.899994    653.700012    662.299988   \n",
       "1     183.000000     463.100006       192.899994    661.000000    700.000000   \n",
       "2     182.350006     478.750000       186.550003    710.000000    672.000000   \n",
       "3     188.500000     459.750000       187.850006    744.000000    715.099976   \n",
       "4     193.250000     455.250000       187.000000    749.450012    714.750000   \n",
       "\n",
       "     SBI Open    HCL Open  Wipro Open  HangSeng Open  Shenzhen Open  \\\n",
       "0  182.899994  451.000000  191.500000    24191.32031    10372.75977   \n",
       "1  188.000000  480.700012  198.399994    24181.32031    10453.86035   \n",
       "2  182.000000  473.000000  180.000000    24025.44922    10361.76953   \n",
       "3  196.000000  470.000000  192.500000    24457.83008    10562.90039   \n",
       "4  194.000000  458.000000  189.000000    24503.56055    10553.54981   \n",
       "\n",
       "   NYSE Adj Close   KOSPI Open  Euronext Adj Close  Nikkei Open  \n",
       "0     10537.04004  1815.750000          872.619995  19047.75977  \n",
       "1     10902.58984  1838.089966          874.390015  19376.00000  \n",
       "2     10843.91992  1839.510010          857.039978  19311.30078  \n",
       "3     10818.03027  1893.310059          857.710022  19575.84961  \n",
       "4     11208.29004  1908.339966          883.280029  19689.84961  "
      ]
     },
     "execution_count": 200,
     "metadata": {},
     "output_type": "execute_result"
    }
   ],
   "source": [
    "test.head()"
   ]
  },
  {
   "cell_type": "code",
   "execution_count": 201,
   "metadata": {},
   "outputs": [
    {
     "data": {
      "text/plain": [
       "(26, 18)"
      ]
     },
     "execution_count": 201,
     "metadata": {},
     "output_type": "execute_result"
    }
   ],
   "source": [
    "test.shape"
   ]
  },
  {
   "cell_type": "code",
   "execution_count": 202,
   "metadata": {},
   "outputs": [
    {
     "data": {
      "text/plain": [
       "Index(['Date', 'NIFTY_India Adj Close', 'Escorts Adj Close',\n",
       "       'Muthoot Adj Close', 'SBI Adj Close', 'HCL Adj Close',\n",
       "       'Wipro Adj Close', 'Escorts Open', 'Muthoot Open', 'SBI Open',\n",
       "       'HCL Open', 'Wipro Open', 'HangSeng Open', 'Shenzhen Open',\n",
       "       'NYSE Adj Close', 'KOSPI Open', 'Euronext Adj Close', 'Nikkei Open'],\n",
       "      dtype='object')"
      ]
     },
     "execution_count": 202,
     "metadata": {},
     "output_type": "execute_result"
    }
   ],
   "source": [
    "test.columns"
   ]
  },
  {
   "cell_type": "code",
   "execution_count": 203,
   "metadata": {},
   "outputs": [],
   "source": [
    "# Rearrange columns\n",
    "\n",
    "test = test[['Date','NIFTY_India Adj Close', \n",
    "                     'SBI Adj Close',\n",
    "                    'HangSeng Open', \n",
    "                    # 'Shenzhen Open',\n",
    "                    #'NYSE Adj Close', \n",
    "                     #'KOSPI Open', \n",
    "                     'Euronext Adj Close',\n",
    "                      #'Nikkei Open',\n",
    "                     'SBI Open']]"
   ]
  },
  {
   "cell_type": "code",
   "execution_count": 204,
   "metadata": {},
   "outputs": [
    {
     "data": {
      "text/html": [
       "<div>\n",
       "<style scoped>\n",
       "    .dataframe tbody tr th:only-of-type {\n",
       "        vertical-align: middle;\n",
       "    }\n",
       "\n",
       "    .dataframe tbody tr th {\n",
       "        vertical-align: top;\n",
       "    }\n",
       "\n",
       "    .dataframe thead th {\n",
       "        text-align: right;\n",
       "    }\n",
       "</style>\n",
       "<table border=\"1\" class=\"dataframe\">\n",
       "  <thead>\n",
       "    <tr style=\"text-align: right;\">\n",
       "      <th></th>\n",
       "      <th>Date</th>\n",
       "      <th>NIFTY_India Adj Close</th>\n",
       "      <th>SBI Adj Close</th>\n",
       "      <th>HangSeng Open</th>\n",
       "      <th>Euronext Adj Close</th>\n",
       "      <th>SBI Open</th>\n",
       "    </tr>\n",
       "  </thead>\n",
       "  <tbody>\n",
       "    <tr>\n",
       "      <th>0</th>\n",
       "      <td>2020-04-08</td>\n",
       "      <td>8792.200195</td>\n",
       "      <td>186.399994</td>\n",
       "      <td>24191.32031</td>\n",
       "      <td>872.619995</td>\n",
       "      <td>182.899994</td>\n",
       "    </tr>\n",
       "    <tr>\n",
       "      <th>1</th>\n",
       "      <td>2020-04-09</td>\n",
       "      <td>8748.750000</td>\n",
       "      <td>183.000000</td>\n",
       "      <td>24181.32031</td>\n",
       "      <td>874.390015</td>\n",
       "      <td>188.000000</td>\n",
       "    </tr>\n",
       "    <tr>\n",
       "      <th>2</th>\n",
       "      <td>2020-04-16</td>\n",
       "      <td>8925.299805</td>\n",
       "      <td>182.350006</td>\n",
       "      <td>24025.44922</td>\n",
       "      <td>857.039978</td>\n",
       "      <td>182.000000</td>\n",
       "    </tr>\n",
       "    <tr>\n",
       "      <th>3</th>\n",
       "      <td>2020-04-17</td>\n",
       "      <td>8992.799805</td>\n",
       "      <td>188.500000</td>\n",
       "      <td>24457.83008</td>\n",
       "      <td>857.710022</td>\n",
       "      <td>196.000000</td>\n",
       "    </tr>\n",
       "    <tr>\n",
       "      <th>4</th>\n",
       "      <td>2020-04-20</td>\n",
       "      <td>9266.750000</td>\n",
       "      <td>193.250000</td>\n",
       "      <td>24503.56055</td>\n",
       "      <td>883.280029</td>\n",
       "      <td>194.000000</td>\n",
       "    </tr>\n",
       "  </tbody>\n",
       "</table>\n",
       "</div>"
      ],
      "text/plain": [
       "        Date  NIFTY_India Adj Close  SBI Adj Close  HangSeng Open  \\\n",
       "0 2020-04-08            8792.200195     186.399994    24191.32031   \n",
       "1 2020-04-09            8748.750000     183.000000    24181.32031   \n",
       "2 2020-04-16            8925.299805     182.350006    24025.44922   \n",
       "3 2020-04-17            8992.799805     188.500000    24457.83008   \n",
       "4 2020-04-20            9266.750000     193.250000    24503.56055   \n",
       "\n",
       "   Euronext Adj Close    SBI Open  \n",
       "0          872.619995  182.899994  \n",
       "1          874.390015  188.000000  \n",
       "2          857.039978  182.000000  \n",
       "3          857.710022  196.000000  \n",
       "4          883.280029  194.000000  "
      ]
     },
     "execution_count": 204,
     "metadata": {},
     "output_type": "execute_result"
    }
   ],
   "source": [
    "test.head()"
   ]
  },
  {
   "cell_type": "code",
   "execution_count": 205,
   "metadata": {
    "scrolled": true
   },
   "outputs": [
    {
     "data": {
      "text/plain": [
       "Date                     0\n",
       "NIFTY_India Adj Close    0\n",
       "SBI Adj Close            0\n",
       "HangSeng Open            0\n",
       "Euronext Adj Close       0\n",
       "SBI Open                 0\n",
       "dtype: int64"
      ]
     },
     "execution_count": 205,
     "metadata": {},
     "output_type": "execute_result"
    }
   ],
   "source": [
    "test.isnull().sum()"
   ]
  },
  {
   "cell_type": "markdown",
   "metadata": {},
   "source": [
    "## Apply Machine Learning Models"
   ]
  },
  {
   "cell_type": "code",
   "execution_count": 206,
   "metadata": {},
   "outputs": [],
   "source": [
    "X = train_final[train_final.columns[0:-1]]\n",
    "Y = train_final[train_final.columns[-1]]"
   ]
  },
  {
   "cell_type": "code",
   "execution_count": 207,
   "metadata": {},
   "outputs": [],
   "source": [
    "X_test = test[test.columns[1:-1]]"
   ]
  },
  {
   "cell_type": "code",
   "execution_count": 208,
   "metadata": {},
   "outputs": [],
   "source": [
    "test.rename(columns = {'SBI Open':'Actual Open'}, inplace=True)"
   ]
  },
  {
   "cell_type": "code",
   "execution_count": 209,
   "metadata": {},
   "outputs": [
    {
     "data": {
      "text/html": [
       "<div>\n",
       "<style scoped>\n",
       "    .dataframe tbody tr th:only-of-type {\n",
       "        vertical-align: middle;\n",
       "    }\n",
       "\n",
       "    .dataframe tbody tr th {\n",
       "        vertical-align: top;\n",
       "    }\n",
       "\n",
       "    .dataframe thead th {\n",
       "        text-align: right;\n",
       "    }\n",
       "</style>\n",
       "<table border=\"1\" class=\"dataframe\">\n",
       "  <thead>\n",
       "    <tr style=\"text-align: right;\">\n",
       "      <th></th>\n",
       "      <th>Date</th>\n",
       "      <th>NIFTY_India Adj Close</th>\n",
       "      <th>SBI Adj Close</th>\n",
       "      <th>HangSeng Open</th>\n",
       "      <th>Euronext Adj Close</th>\n",
       "      <th>Actual Open</th>\n",
       "    </tr>\n",
       "  </thead>\n",
       "  <tbody>\n",
       "    <tr>\n",
       "      <th>0</th>\n",
       "      <td>2020-04-08</td>\n",
       "      <td>8792.200195</td>\n",
       "      <td>186.399994</td>\n",
       "      <td>24191.32031</td>\n",
       "      <td>872.619995</td>\n",
       "      <td>182.899994</td>\n",
       "    </tr>\n",
       "    <tr>\n",
       "      <th>1</th>\n",
       "      <td>2020-04-09</td>\n",
       "      <td>8748.750000</td>\n",
       "      <td>183.000000</td>\n",
       "      <td>24181.32031</td>\n",
       "      <td>874.390015</td>\n",
       "      <td>188.000000</td>\n",
       "    </tr>\n",
       "    <tr>\n",
       "      <th>2</th>\n",
       "      <td>2020-04-16</td>\n",
       "      <td>8925.299805</td>\n",
       "      <td>182.350006</td>\n",
       "      <td>24025.44922</td>\n",
       "      <td>857.039978</td>\n",
       "      <td>182.000000</td>\n",
       "    </tr>\n",
       "    <tr>\n",
       "      <th>3</th>\n",
       "      <td>2020-04-17</td>\n",
       "      <td>8992.799805</td>\n",
       "      <td>188.500000</td>\n",
       "      <td>24457.83008</td>\n",
       "      <td>857.710022</td>\n",
       "      <td>196.000000</td>\n",
       "    </tr>\n",
       "    <tr>\n",
       "      <th>4</th>\n",
       "      <td>2020-04-20</td>\n",
       "      <td>9266.750000</td>\n",
       "      <td>193.250000</td>\n",
       "      <td>24503.56055</td>\n",
       "      <td>883.280029</td>\n",
       "      <td>194.000000</td>\n",
       "    </tr>\n",
       "  </tbody>\n",
       "</table>\n",
       "</div>"
      ],
      "text/plain": [
       "        Date  NIFTY_India Adj Close  SBI Adj Close  HangSeng Open  \\\n",
       "0 2020-04-08            8792.200195     186.399994    24191.32031   \n",
       "1 2020-04-09            8748.750000     183.000000    24181.32031   \n",
       "2 2020-04-16            8925.299805     182.350006    24025.44922   \n",
       "3 2020-04-17            8992.799805     188.500000    24457.83008   \n",
       "4 2020-04-20            9266.750000     193.250000    24503.56055   \n",
       "\n",
       "   Euronext Adj Close  Actual Open  \n",
       "0          872.619995   182.899994  \n",
       "1          874.390015   188.000000  \n",
       "2          857.039978   182.000000  \n",
       "3          857.710022   196.000000  \n",
       "4          883.280029   194.000000  "
      ]
     },
     "execution_count": 209,
     "metadata": {},
     "output_type": "execute_result"
    }
   ],
   "source": [
    "test.head()"
   ]
  },
  {
   "cell_type": "markdown",
   "metadata": {},
   "source": [
    "## 1. Linear Regression Model"
   ]
  },
  {
   "cell_type": "code",
   "execution_count": 210,
   "metadata": {},
   "outputs": [
    {
     "data": {
      "text/html": [
       "<div>\n",
       "<style scoped>\n",
       "    .dataframe tbody tr th:only-of-type {\n",
       "        vertical-align: middle;\n",
       "    }\n",
       "\n",
       "    .dataframe tbody tr th {\n",
       "        vertical-align: top;\n",
       "    }\n",
       "\n",
       "    .dataframe thead th {\n",
       "        text-align: right;\n",
       "    }\n",
       "</style>\n",
       "<table border=\"1\" class=\"dataframe\">\n",
       "  <thead>\n",
       "    <tr style=\"text-align: right;\">\n",
       "      <th></th>\n",
       "      <th>NIFTY_India Adj Close</th>\n",
       "      <th>SBI Adj Close</th>\n",
       "      <th>HangSeng Open</th>\n",
       "      <th>Euronext Adj Close</th>\n",
       "    </tr>\n",
       "  </thead>\n",
       "  <tbody>\n",
       "    <tr>\n",
       "      <th>0</th>\n",
       "      <td>8127.350098</td>\n",
       "      <td>289.701782</td>\n",
       "      <td>23396.69922</td>\n",
       "      <td>805.469971</td>\n",
       "    </tr>\n",
       "    <tr>\n",
       "      <th>1</th>\n",
       "      <td>8102.100098</td>\n",
       "      <td>289.943268</td>\n",
       "      <td>23920.34961</td>\n",
       "      <td>810.940002</td>\n",
       "    </tr>\n",
       "    <tr>\n",
       "      <th>2</th>\n",
       "      <td>8234.599609</td>\n",
       "      <td>294.483459</td>\n",
       "      <td>24049.69922</td>\n",
       "      <td>837.729980</td>\n",
       "    </tr>\n",
       "    <tr>\n",
       "      <th>3</th>\n",
       "      <td>8323.000000</td>\n",
       "      <td>296.656952</td>\n",
       "      <td>23908.23047</td>\n",
       "      <td>832.760010</td>\n",
       "    </tr>\n",
       "    <tr>\n",
       "      <th>4</th>\n",
       "      <td>8299.400391</td>\n",
       "      <td>294.724976</td>\n",
       "      <td>24276.33008</td>\n",
       "      <td>845.299988</td>\n",
       "    </tr>\n",
       "  </tbody>\n",
       "</table>\n",
       "</div>"
      ],
      "text/plain": [
       "   NIFTY_India Adj Close  SBI Adj Close  HangSeng Open  Euronext Adj Close\n",
       "0            8127.350098     289.701782    23396.69922          805.469971\n",
       "1            8102.100098     289.943268    23920.34961          810.940002\n",
       "2            8234.599609     294.483459    24049.69922          837.729980\n",
       "3            8323.000000     296.656952    23908.23047          832.760010\n",
       "4            8299.400391     294.724976    24276.33008          845.299988"
      ]
     },
     "execution_count": 210,
     "metadata": {},
     "output_type": "execute_result"
    }
   ],
   "source": [
    "X.head()"
   ]
  },
  {
   "cell_type": "code",
   "execution_count": 211,
   "metadata": {},
   "outputs": [],
   "source": [
    "model_linear = LinearRegression()"
   ]
  },
  {
   "cell_type": "code",
   "execution_count": 212,
   "metadata": {},
   "outputs": [
    {
     "data": {
      "text/plain": [
       "LinearRegression(copy_X=True, fit_intercept=True, n_jobs=None, normalize=False)"
      ]
     },
     "execution_count": 212,
     "metadata": {},
     "output_type": "execute_result"
    }
   ],
   "source": [
    "model_linear.fit(X,Y)"
   ]
  },
  {
   "cell_type": "code",
   "execution_count": 213,
   "metadata": {},
   "outputs": [
    {
     "data": {
      "text/plain": [
       "array([-2.96954662e-03,  1.03562092e+00, -2.62296698e-05,  1.48981211e-02])"
      ]
     },
     "execution_count": 213,
     "metadata": {},
     "output_type": "execute_result"
    }
   ],
   "source": [
    "model_linear.coef_"
   ]
  },
  {
   "cell_type": "code",
   "execution_count": 214,
   "metadata": {},
   "outputs": [
    {
     "data": {
      "text/html": [
       "<div>\n",
       "<style scoped>\n",
       "    .dataframe tbody tr th:only-of-type {\n",
       "        vertical-align: middle;\n",
       "    }\n",
       "\n",
       "    .dataframe tbody tr th {\n",
       "        vertical-align: top;\n",
       "    }\n",
       "\n",
       "    .dataframe thead th {\n",
       "        text-align: right;\n",
       "    }\n",
       "</style>\n",
       "<table border=\"1\" class=\"dataframe\">\n",
       "  <thead>\n",
       "    <tr style=\"text-align: right;\">\n",
       "      <th></th>\n",
       "      <th>NIFTY_India Adj Close</th>\n",
       "      <th>SBI Adj Close</th>\n",
       "      <th>HangSeng Open</th>\n",
       "      <th>Euronext Adj Close</th>\n",
       "    </tr>\n",
       "  </thead>\n",
       "  <tbody>\n",
       "    <tr>\n",
       "      <th>0</th>\n",
       "      <td>8792.200195</td>\n",
       "      <td>186.399994</td>\n",
       "      <td>24191.32031</td>\n",
       "      <td>872.619995</td>\n",
       "    </tr>\n",
       "    <tr>\n",
       "      <th>1</th>\n",
       "      <td>8748.750000</td>\n",
       "      <td>183.000000</td>\n",
       "      <td>24181.32031</td>\n",
       "      <td>874.390015</td>\n",
       "    </tr>\n",
       "    <tr>\n",
       "      <th>2</th>\n",
       "      <td>8925.299805</td>\n",
       "      <td>182.350006</td>\n",
       "      <td>24025.44922</td>\n",
       "      <td>857.039978</td>\n",
       "    </tr>\n",
       "    <tr>\n",
       "      <th>3</th>\n",
       "      <td>8992.799805</td>\n",
       "      <td>188.500000</td>\n",
       "      <td>24457.83008</td>\n",
       "      <td>857.710022</td>\n",
       "    </tr>\n",
       "    <tr>\n",
       "      <th>4</th>\n",
       "      <td>9266.750000</td>\n",
       "      <td>193.250000</td>\n",
       "      <td>24503.56055</td>\n",
       "      <td>883.280029</td>\n",
       "    </tr>\n",
       "  </tbody>\n",
       "</table>\n",
       "</div>"
      ],
      "text/plain": [
       "   NIFTY_India Adj Close  SBI Adj Close  HangSeng Open  Euronext Adj Close\n",
       "0            8792.200195     186.399994    24191.32031          872.619995\n",
       "1            8748.750000     183.000000    24181.32031          874.390015\n",
       "2            8925.299805     182.350006    24025.44922          857.039978\n",
       "3            8992.799805     188.500000    24457.83008          857.710022\n",
       "4            9266.750000     193.250000    24503.56055          883.280029"
      ]
     },
     "execution_count": 214,
     "metadata": {},
     "output_type": "execute_result"
    }
   ],
   "source": [
    "X_test.head()"
   ]
  },
  {
   "cell_type": "code",
   "execution_count": 215,
   "metadata": {},
   "outputs": [],
   "source": [
    "test['LR Predicted Open'] = model_linear.predict(X_test)"
   ]
  },
  {
   "cell_type": "code",
   "execution_count": 216,
   "metadata": {},
   "outputs": [
    {
     "data": {
      "text/html": [
       "<div>\n",
       "<style scoped>\n",
       "    .dataframe tbody tr th:only-of-type {\n",
       "        vertical-align: middle;\n",
       "    }\n",
       "\n",
       "    .dataframe tbody tr th {\n",
       "        vertical-align: top;\n",
       "    }\n",
       "\n",
       "    .dataframe thead th {\n",
       "        text-align: right;\n",
       "    }\n",
       "</style>\n",
       "<table border=\"1\" class=\"dataframe\">\n",
       "  <thead>\n",
       "    <tr style=\"text-align: right;\">\n",
       "      <th></th>\n",
       "      <th>Date</th>\n",
       "      <th>NIFTY_India Adj Close</th>\n",
       "      <th>SBI Adj Close</th>\n",
       "      <th>HangSeng Open</th>\n",
       "      <th>Euronext Adj Close</th>\n",
       "      <th>Actual Open</th>\n",
       "      <th>LR Predicted Open</th>\n",
       "    </tr>\n",
       "  </thead>\n",
       "  <tbody>\n",
       "    <tr>\n",
       "      <th>0</th>\n",
       "      <td>2020-04-08</td>\n",
       "      <td>8792.200195</td>\n",
       "      <td>186.399994</td>\n",
       "      <td>24191.32031</td>\n",
       "      <td>872.619995</td>\n",
       "      <td>182.899994</td>\n",
       "      <td>187.002958</td>\n",
       "    </tr>\n",
       "    <tr>\n",
       "      <th>1</th>\n",
       "      <td>2020-04-09</td>\n",
       "      <td>8748.750000</td>\n",
       "      <td>183.000000</td>\n",
       "      <td>24181.32031</td>\n",
       "      <td>874.390015</td>\n",
       "      <td>188.000000</td>\n",
       "      <td>183.637513</td>\n",
       "    </tr>\n",
       "    <tr>\n",
       "      <th>2</th>\n",
       "      <td>2020-04-16</td>\n",
       "      <td>8925.299805</td>\n",
       "      <td>182.350006</td>\n",
       "      <td>24025.44922</td>\n",
       "      <td>857.039978</td>\n",
       "      <td>182.000000</td>\n",
       "      <td>182.185698</td>\n",
       "    </tr>\n",
       "    <tr>\n",
       "      <th>3</th>\n",
       "      <td>2020-04-17</td>\n",
       "      <td>8992.799805</td>\n",
       "      <td>188.500000</td>\n",
       "      <td>24457.83008</td>\n",
       "      <td>857.710022</td>\n",
       "      <td>196.000000</td>\n",
       "      <td>188.352958</td>\n",
       "    </tr>\n",
       "    <tr>\n",
       "      <th>4</th>\n",
       "      <td>2020-04-20</td>\n",
       "      <td>9266.750000</td>\n",
       "      <td>193.250000</td>\n",
       "      <td>24503.56055</td>\n",
       "      <td>883.280029</td>\n",
       "      <td>194.000000</td>\n",
       "      <td>192.838395</td>\n",
       "    </tr>\n",
       "  </tbody>\n",
       "</table>\n",
       "</div>"
      ],
      "text/plain": [
       "        Date  NIFTY_India Adj Close  SBI Adj Close  HangSeng Open  \\\n",
       "0 2020-04-08            8792.200195     186.399994    24191.32031   \n",
       "1 2020-04-09            8748.750000     183.000000    24181.32031   \n",
       "2 2020-04-16            8925.299805     182.350006    24025.44922   \n",
       "3 2020-04-17            8992.799805     188.500000    24457.83008   \n",
       "4 2020-04-20            9266.750000     193.250000    24503.56055   \n",
       "\n",
       "   Euronext Adj Close  Actual Open  LR Predicted Open  \n",
       "0          872.619995   182.899994         187.002958  \n",
       "1          874.390015   188.000000         183.637513  \n",
       "2          857.039978   182.000000         182.185698  \n",
       "3          857.710022   196.000000         188.352958  \n",
       "4          883.280029   194.000000         192.838395  "
      ]
     },
     "execution_count": 216,
     "metadata": {},
     "output_type": "execute_result"
    }
   ],
   "source": [
    "test.head()"
   ]
  },
  {
   "cell_type": "code",
   "execution_count": 217,
   "metadata": {},
   "outputs": [
    {
     "data": {
      "text/plain": [
       "0.9316005595083486"
      ]
     },
     "execution_count": 217,
     "metadata": {},
     "output_type": "execute_result"
    }
   ],
   "source": [
    "model_linear.score(X_test, test['Actual Open'])"
   ]
  },
  {
   "cell_type": "code",
   "execution_count": 218,
   "metadata": {},
   "outputs": [
    {
     "data": {
      "text/plain": [
       "13.160960971817461"
      ]
     },
     "execution_count": 218,
     "metadata": {},
     "output_type": "execute_result"
    }
   ],
   "source": [
    "# Mean squared error regression loss\n",
    "mean_squared_error(test['Actual Open'], test['LR Predicted Open'])"
   ]
  },
  {
   "cell_type": "markdown",
   "metadata": {},
   "source": [
    "## 2. Support Vector Regression"
   ]
  },
  {
   "cell_type": "code",
   "execution_count": 219,
   "metadata": {},
   "outputs": [],
   "source": [
    "model_svr = SVR()"
   ]
  },
  {
   "cell_type": "code",
   "execution_count": 142,
   "metadata": {},
   "outputs": [],
   "source": [
    "hyperparameter_grid = {'kernel':['rbf', 'linear'],\n",
    "                       'C':[.01, .1, 1, 10, 50, 100],\n",
    "                       'tol': [1e-4, 1e-3]\n",
    "                      }\n",
    "                       \n",
    "grid_cv = GridSearchCV(estimator=model_svr,\n",
    "            param_grid=hyperparameter_grid,\n",
    "            cv=5,\n",
    "            scoring = 'neg_mean_squared_error',\n",
    "            n_jobs = -1,\n",
    "            verbose = 5 )"
   ]
  },
  {
   "cell_type": "code",
   "execution_count": 143,
   "metadata": {},
   "outputs": [
    {
     "name": "stdout",
     "output_type": "stream",
     "text": [
      "Fitting 5 folds for each of 24 candidates, totalling 120 fits\n"
     ]
    },
    {
     "name": "stderr",
     "output_type": "stream",
     "text": [
      "[Parallel(n_jobs=-1)]: Using backend LokyBackend with 4 concurrent workers.\n",
      "[Parallel(n_jobs=-1)]: Done  10 tasks      | elapsed:    1.7s\n",
      "[Parallel(n_jobs=-1)]: Done  64 tasks      | elapsed:   51.2s\n",
      "[Parallel(n_jobs=-1)]: Done 120 out of 120 | elapsed:  2.0min finished\n"
     ]
    },
    {
     "data": {
      "text/plain": [
       "GridSearchCV(cv=5, error_score=nan,\n",
       "             estimator=SVR(C=1.0, cache_size=200, coef0=0.0, degree=3,\n",
       "                           epsilon=0.1, gamma='scale', kernel='rbf',\n",
       "                           max_iter=-1, shrinking=True, tol=0.001,\n",
       "                           verbose=False),\n",
       "             iid='deprecated', n_jobs=-1,\n",
       "             param_grid={'C': [0.01, 0.1, 1, 10, 50, 100],\n",
       "                         'kernel': ['rbf', 'linear'], 'tol': [0.0001, 0.001]},\n",
       "             pre_dispatch='2*n_jobs', refit=True, return_train_score=False,\n",
       "             scoring='neg_mean_squared_error', verbose=5)"
      ]
     },
     "execution_count": 143,
     "metadata": {},
     "output_type": "execute_result"
    }
   ],
   "source": [
    "grid_cv.fit(X,Y)"
   ]
  },
  {
   "cell_type": "code",
   "execution_count": 144,
   "metadata": {},
   "outputs": [
    {
     "data": {
      "text/plain": [
       "SVR(C=0.01, cache_size=200, coef0=0.0, degree=3, epsilon=0.1, gamma='scale',\n",
       "    kernel='linear', max_iter=-1, shrinking=True, tol=0.0001, verbose=False)"
      ]
     },
     "execution_count": 144,
     "metadata": {},
     "output_type": "execute_result"
    }
   ],
   "source": [
    "grid_cv.best_estimator_"
   ]
  },
  {
   "cell_type": "code",
   "execution_count": 220,
   "metadata": {},
   "outputs": [],
   "source": [
    "model_svr = SVR(C=0.01, cache_size=200, coef0=0.0, degree=3, epsilon=0.1, gamma='scale',\n",
    "    kernel='linear', max_iter=-1, shrinking=True, tol=0.001, verbose=False)"
   ]
  },
  {
   "cell_type": "code",
   "execution_count": 221,
   "metadata": {},
   "outputs": [
    {
     "data": {
      "text/plain": [
       "SVR(C=0.01, cache_size=200, coef0=0.0, degree=3, epsilon=0.1, gamma='scale',\n",
       "    kernel='linear', max_iter=-1, shrinking=True, tol=0.001, verbose=False)"
      ]
     },
     "execution_count": 221,
     "metadata": {},
     "output_type": "execute_result"
    }
   ],
   "source": [
    "model_svr.fit(X,Y)"
   ]
  },
  {
   "cell_type": "code",
   "execution_count": 222,
   "metadata": {},
   "outputs": [],
   "source": [
    "test['SVR Predicted Open'] = model_svr.predict(X_test)"
   ]
  },
  {
   "cell_type": "code",
   "execution_count": 223,
   "metadata": {},
   "outputs": [
    {
     "data": {
      "text/html": [
       "<div>\n",
       "<style scoped>\n",
       "    .dataframe tbody tr th:only-of-type {\n",
       "        vertical-align: middle;\n",
       "    }\n",
       "\n",
       "    .dataframe tbody tr th {\n",
       "        vertical-align: top;\n",
       "    }\n",
       "\n",
       "    .dataframe thead th {\n",
       "        text-align: right;\n",
       "    }\n",
       "</style>\n",
       "<table border=\"1\" class=\"dataframe\">\n",
       "  <thead>\n",
       "    <tr style=\"text-align: right;\">\n",
       "      <th></th>\n",
       "      <th>Date</th>\n",
       "      <th>NIFTY_India Adj Close</th>\n",
       "      <th>SBI Adj Close</th>\n",
       "      <th>HangSeng Open</th>\n",
       "      <th>Euronext Adj Close</th>\n",
       "      <th>Actual Open</th>\n",
       "      <th>LR Predicted Open</th>\n",
       "      <th>SVR Predicted Open</th>\n",
       "    </tr>\n",
       "  </thead>\n",
       "  <tbody>\n",
       "    <tr>\n",
       "      <th>0</th>\n",
       "      <td>2020-04-08</td>\n",
       "      <td>8792.200195</td>\n",
       "      <td>186.399994</td>\n",
       "      <td>24191.32031</td>\n",
       "      <td>872.619995</td>\n",
       "      <td>182.899994</td>\n",
       "      <td>187.002958</td>\n",
       "      <td>187.456459</td>\n",
       "    </tr>\n",
       "    <tr>\n",
       "      <th>1</th>\n",
       "      <td>2020-04-09</td>\n",
       "      <td>8748.750000</td>\n",
       "      <td>183.000000</td>\n",
       "      <td>24181.32031</td>\n",
       "      <td>874.390015</td>\n",
       "      <td>188.000000</td>\n",
       "      <td>183.637513</td>\n",
       "      <td>184.081599</td>\n",
       "    </tr>\n",
       "    <tr>\n",
       "      <th>2</th>\n",
       "      <td>2020-04-16</td>\n",
       "      <td>8925.299805</td>\n",
       "      <td>182.350006</td>\n",
       "      <td>24025.44922</td>\n",
       "      <td>857.039978</td>\n",
       "      <td>182.000000</td>\n",
       "      <td>182.185698</td>\n",
       "      <td>182.751902</td>\n",
       "    </tr>\n",
       "    <tr>\n",
       "      <th>3</th>\n",
       "      <td>2020-04-17</td>\n",
       "      <td>8992.799805</td>\n",
       "      <td>188.500000</td>\n",
       "      <td>24457.83008</td>\n",
       "      <td>857.710022</td>\n",
       "      <td>196.000000</td>\n",
       "      <td>188.352958</td>\n",
       "      <td>188.950314</td>\n",
       "    </tr>\n",
       "    <tr>\n",
       "      <th>4</th>\n",
       "      <td>2020-04-20</td>\n",
       "      <td>9266.750000</td>\n",
       "      <td>193.250000</td>\n",
       "      <td>24503.56055</td>\n",
       "      <td>883.280029</td>\n",
       "      <td>194.000000</td>\n",
       "      <td>192.838395</td>\n",
       "      <td>193.388579</td>\n",
       "    </tr>\n",
       "  </tbody>\n",
       "</table>\n",
       "</div>"
      ],
      "text/plain": [
       "        Date  NIFTY_India Adj Close  SBI Adj Close  HangSeng Open  \\\n",
       "0 2020-04-08            8792.200195     186.399994    24191.32031   \n",
       "1 2020-04-09            8748.750000     183.000000    24181.32031   \n",
       "2 2020-04-16            8925.299805     182.350006    24025.44922   \n",
       "3 2020-04-17            8992.799805     188.500000    24457.83008   \n",
       "4 2020-04-20            9266.750000     193.250000    24503.56055   \n",
       "\n",
       "   Euronext Adj Close  Actual Open  LR Predicted Open  SVR Predicted Open  \n",
       "0          872.619995   182.899994         187.002958          187.456459  \n",
       "1          874.390015   188.000000         183.637513          184.081599  \n",
       "2          857.039978   182.000000         182.185698          182.751902  \n",
       "3          857.710022   196.000000         188.352958          188.950314  \n",
       "4          883.280029   194.000000         192.838395          193.388579  "
      ]
     },
     "execution_count": 223,
     "metadata": {},
     "output_type": "execute_result"
    }
   ],
   "source": [
    "test.head()"
   ]
  },
  {
   "cell_type": "code",
   "execution_count": 224,
   "metadata": {},
   "outputs": [],
   "source": [
    "#test.drop('Predicted Open',axis=1)"
   ]
  },
  {
   "cell_type": "code",
   "execution_count": 225,
   "metadata": {},
   "outputs": [
    {
     "data": {
      "text/plain": [
       "0.9390352326715157"
      ]
     },
     "execution_count": 225,
     "metadata": {},
     "output_type": "execute_result"
    }
   ],
   "source": [
    "model_svr.score(X_test, test['Actual Open'])"
   ]
  },
  {
   "cell_type": "code",
   "execution_count": 226,
   "metadata": {},
   "outputs": [
    {
     "data": {
      "text/plain": [
       "11.730431092693632"
      ]
     },
     "execution_count": 226,
     "metadata": {},
     "output_type": "execute_result"
    }
   ],
   "source": [
    "# Mean squared error regression loss\n",
    "mean_squared_error(test['Actual Open'], test['SVR Predicted Open'])"
   ]
  },
  {
   "cell_type": "markdown",
   "metadata": {},
   "source": [
    "## 3. Random Forest Regressor"
   ]
  },
  {
   "cell_type": "code",
   "execution_count": 227,
   "metadata": {},
   "outputs": [],
   "source": [
    "model_rf = RandomForestRegressor()"
   ]
  },
  {
   "cell_type": "code",
   "execution_count": 228,
   "metadata": {},
   "outputs": [],
   "source": [
    "hyperparameter_grid = {'n_estimators':[ _ for _ in range(20,150,10)],\n",
    "                       'max_depth':[_ for _ in range(4,20,2)],\n",
    "                       'max_features': ['sqrt','auto'],\n",
    "                       'min_samples_leaf': [1,2,3],\n",
    "                       'bootstrap':[True, False] }\n",
    "\n",
    "\n",
    "grid_cv = GridSearchCV(estimator=model_rf,\n",
    "            param_grid=hyperparameter_grid,\n",
    "            cv=5, \n",
    "            scoring = 'neg_mean_squared_error',\n",
    "            n_jobs = -1,\n",
    "            verbose = 5 )"
   ]
  },
  {
   "cell_type": "code",
   "execution_count": 229,
   "metadata": {},
   "outputs": [
    {
     "name": "stdout",
     "output_type": "stream",
     "text": [
      "Fitting 5 folds for each of 1248 candidates, totalling 6240 fits\n"
     ]
    },
    {
     "name": "stderr",
     "output_type": "stream",
     "text": [
      "[Parallel(n_jobs=-1)]: Using backend LokyBackend with 4 concurrent workers.\n",
      "[Parallel(n_jobs=-1)]: Done  10 tasks      | elapsed:    2.0s\n",
      "[Parallel(n_jobs=-1)]: Done  98 tasks      | elapsed:    4.0s\n",
      "[Parallel(n_jobs=-1)]: Done 278 tasks      | elapsed:    9.0s\n",
      "[Parallel(n_jobs=-1)]: Done 530 tasks      | elapsed:   16.2s\n",
      "[Parallel(n_jobs=-1)]: Done 854 tasks      | elapsed:   26.9s\n",
      "[Parallel(n_jobs=-1)]: Done 1250 tasks      | elapsed:   40.9s\n",
      "[Parallel(n_jobs=-1)]: Done 1718 tasks      | elapsed:   58.1s\n",
      "[Parallel(n_jobs=-1)]: Done 2258 tasks      | elapsed:  1.3min\n",
      "[Parallel(n_jobs=-1)]: Done 2870 tasks      | elapsed:  1.7min\n",
      "[Parallel(n_jobs=-1)]: Done 3554 tasks      | elapsed:  2.1min\n",
      "[Parallel(n_jobs=-1)]: Done 4310 tasks      | elapsed:  2.6min\n",
      "[Parallel(n_jobs=-1)]: Done 5138 tasks      | elapsed:  3.4min\n",
      "[Parallel(n_jobs=-1)]: Done 6038 tasks      | elapsed:  4.2min\n",
      "[Parallel(n_jobs=-1)]: Done 6240 out of 6240 | elapsed:  4.5min finished\n"
     ]
    },
    {
     "data": {
      "text/plain": [
       "GridSearchCV(cv=5, error_score=nan,\n",
       "             estimator=RandomForestRegressor(bootstrap=True, ccp_alpha=0.0,\n",
       "                                             criterion='mse', max_depth=None,\n",
       "                                             max_features='auto',\n",
       "                                             max_leaf_nodes=None,\n",
       "                                             max_samples=None,\n",
       "                                             min_impurity_decrease=0.0,\n",
       "                                             min_impurity_split=None,\n",
       "                                             min_samples_leaf=1,\n",
       "                                             min_samples_split=2,\n",
       "                                             min_weight_fraction_leaf=0.0,\n",
       "                                             n_estimators=100, n_jobs=None,\n",
       "                                             oob_score=False, rand...\n",
       "                                             verbose=0, warm_start=False),\n",
       "             iid='deprecated', n_jobs=-1,\n",
       "             param_grid={'bootstrap': [True, False],\n",
       "                         'max_depth': [4, 6, 8, 10, 12, 14, 16, 18],\n",
       "                         'max_features': ['sqrt', 'auto'],\n",
       "                         'min_samples_leaf': [1, 2, 3],\n",
       "                         'n_estimators': [20, 30, 40, 50, 60, 70, 80, 90, 100,\n",
       "                                          110, 120, 130, 140]},\n",
       "             pre_dispatch='2*n_jobs', refit=True, return_train_score=False,\n",
       "             scoring='neg_mean_squared_error', verbose=5)"
      ]
     },
     "execution_count": 229,
     "metadata": {},
     "output_type": "execute_result"
    }
   ],
   "source": [
    "grid_cv.fit(X,Y)"
   ]
  },
  {
   "cell_type": "code",
   "execution_count": 142,
   "metadata": {},
   "outputs": [
    {
     "data": {
      "text/plain": [
       "RandomForestRegressor(bootstrap=True, ccp_alpha=0.0, criterion='mse',\n",
       "                      max_depth=8, max_features='auto', max_leaf_nodes=None,\n",
       "                      max_samples=None, min_impurity_decrease=0.0,\n",
       "                      min_impurity_split=None, min_samples_leaf=3,\n",
       "                      min_samples_split=2, min_weight_fraction_leaf=0.0,\n",
       "                      n_estimators=40, n_jobs=None, oob_score=False,\n",
       "                      random_state=None, verbose=0, warm_start=False)"
      ]
     },
     "execution_count": 142,
     "metadata": {},
     "output_type": "execute_result"
    }
   ],
   "source": [
    "grid_cv.best_estimator_"
   ]
  },
  {
   "cell_type": "code",
   "execution_count": 279,
   "metadata": {},
   "outputs": [],
   "source": [
    "model_rf = RandomForestRegressor(bootstrap=True, ccp_alpha=0.0, criterion='mse',\n",
    "                      max_depth=8, max_features='auto', max_leaf_nodes=None,\n",
    "                      max_samples=None, min_impurity_decrease=0.0,\n",
    "                      min_impurity_split=None, min_samples_leaf=3,\n",
    "                      min_samples_split=2, min_weight_fraction_leaf=0.0,\n",
    "                      n_estimators=100, n_jobs=None, oob_score=False,\n",
    "                      random_state=None, verbose=0, warm_start=False)"
   ]
  },
  {
   "cell_type": "code",
   "execution_count": 280,
   "metadata": {},
   "outputs": [
    {
     "data": {
      "text/plain": [
       "RandomForestRegressor(bootstrap=True, ccp_alpha=0.0, criterion='mse',\n",
       "                      max_depth=8, max_features='auto', max_leaf_nodes=None,\n",
       "                      max_samples=None, min_impurity_decrease=0.0,\n",
       "                      min_impurity_split=None, min_samples_leaf=3,\n",
       "                      min_samples_split=2, min_weight_fraction_leaf=0.0,\n",
       "                      n_estimators=100, n_jobs=None, oob_score=False,\n",
       "                      random_state=None, verbose=0, warm_start=False)"
      ]
     },
     "execution_count": 280,
     "metadata": {},
     "output_type": "execute_result"
    }
   ],
   "source": [
    "model_rf.fit(X,Y)"
   ]
  },
  {
   "cell_type": "code",
   "execution_count": 281,
   "metadata": {},
   "outputs": [],
   "source": [
    "test['Random Forest Predicted Open'] = model_rf.predict(X_test)"
   ]
  },
  {
   "cell_type": "code",
   "execution_count": 282,
   "metadata": {},
   "outputs": [
    {
     "data": {
      "text/html": [
       "<div>\n",
       "<style scoped>\n",
       "    .dataframe tbody tr th:only-of-type {\n",
       "        vertical-align: middle;\n",
       "    }\n",
       "\n",
       "    .dataframe tbody tr th {\n",
       "        vertical-align: top;\n",
       "    }\n",
       "\n",
       "    .dataframe thead th {\n",
       "        text-align: right;\n",
       "    }\n",
       "</style>\n",
       "<table border=\"1\" class=\"dataframe\">\n",
       "  <thead>\n",
       "    <tr style=\"text-align: right;\">\n",
       "      <th></th>\n",
       "      <th>Date</th>\n",
       "      <th>NIFTY_India Adj Close</th>\n",
       "      <th>SBI Adj Close</th>\n",
       "      <th>HangSeng Open</th>\n",
       "      <th>Euronext Adj Close</th>\n",
       "      <th>Actual Open</th>\n",
       "      <th>LR Predicted Open</th>\n",
       "      <th>SVR Predicted Open</th>\n",
       "      <th>Random Forest Predicted Open</th>\n",
       "    </tr>\n",
       "  </thead>\n",
       "  <tbody>\n",
       "    <tr>\n",
       "      <th>0</th>\n",
       "      <td>2020-04-08</td>\n",
       "      <td>8792.200195</td>\n",
       "      <td>186.399994</td>\n",
       "      <td>24191.32031</td>\n",
       "      <td>872.619995</td>\n",
       "      <td>182.899994</td>\n",
       "      <td>187.002958</td>\n",
       "      <td>187.456459</td>\n",
       "      <td>190.322282</td>\n",
       "    </tr>\n",
       "    <tr>\n",
       "      <th>1</th>\n",
       "      <td>2020-04-09</td>\n",
       "      <td>8748.750000</td>\n",
       "      <td>183.000000</td>\n",
       "      <td>24181.32031</td>\n",
       "      <td>874.390015</td>\n",
       "      <td>188.000000</td>\n",
       "      <td>183.637513</td>\n",
       "      <td>184.081599</td>\n",
       "      <td>189.223958</td>\n",
       "    </tr>\n",
       "    <tr>\n",
       "      <th>2</th>\n",
       "      <td>2020-04-16</td>\n",
       "      <td>8925.299805</td>\n",
       "      <td>182.350006</td>\n",
       "      <td>24025.44922</td>\n",
       "      <td>857.039978</td>\n",
       "      <td>182.000000</td>\n",
       "      <td>182.185698</td>\n",
       "      <td>182.751902</td>\n",
       "      <td>189.047625</td>\n",
       "    </tr>\n",
       "    <tr>\n",
       "      <th>3</th>\n",
       "      <td>2020-04-17</td>\n",
       "      <td>8992.799805</td>\n",
       "      <td>188.500000</td>\n",
       "      <td>24457.83008</td>\n",
       "      <td>857.710022</td>\n",
       "      <td>196.000000</td>\n",
       "      <td>188.352958</td>\n",
       "      <td>188.950314</td>\n",
       "      <td>191.844784</td>\n",
       "    </tr>\n",
       "    <tr>\n",
       "      <th>4</th>\n",
       "      <td>2020-04-20</td>\n",
       "      <td>9266.750000</td>\n",
       "      <td>193.250000</td>\n",
       "      <td>24503.56055</td>\n",
       "      <td>883.280029</td>\n",
       "      <td>194.000000</td>\n",
       "      <td>192.838395</td>\n",
       "      <td>193.388579</td>\n",
       "      <td>197.596133</td>\n",
       "    </tr>\n",
       "  </tbody>\n",
       "</table>\n",
       "</div>"
      ],
      "text/plain": [
       "        Date  NIFTY_India Adj Close  SBI Adj Close  HangSeng Open  \\\n",
       "0 2020-04-08            8792.200195     186.399994    24191.32031   \n",
       "1 2020-04-09            8748.750000     183.000000    24181.32031   \n",
       "2 2020-04-16            8925.299805     182.350006    24025.44922   \n",
       "3 2020-04-17            8992.799805     188.500000    24457.83008   \n",
       "4 2020-04-20            9266.750000     193.250000    24503.56055   \n",
       "\n",
       "   Euronext Adj Close  Actual Open  LR Predicted Open  SVR Predicted Open  \\\n",
       "0          872.619995   182.899994         187.002958          187.456459   \n",
       "1          874.390015   188.000000         183.637513          184.081599   \n",
       "2          857.039978   182.000000         182.185698          182.751902   \n",
       "3          857.710022   196.000000         188.352958          188.950314   \n",
       "4          883.280029   194.000000         192.838395          193.388579   \n",
       "\n",
       "   Random Forest Predicted Open  \n",
       "0                    190.322282  \n",
       "1                    189.223958  \n",
       "2                    189.047625  \n",
       "3                    191.844784  \n",
       "4                    197.596133  "
      ]
     },
     "execution_count": 282,
     "metadata": {},
     "output_type": "execute_result"
    }
   ],
   "source": [
    "test.head()"
   ]
  },
  {
   "cell_type": "code",
   "execution_count": 283,
   "metadata": {},
   "outputs": [
    {
     "data": {
      "text/plain": [
       "-1.2727191441634598"
      ]
     },
     "execution_count": 283,
     "metadata": {},
     "output_type": "execute_result"
    }
   ],
   "source": [
    "model_rf.score(X_test, test['Actual Open'])"
   ]
  },
  {
   "cell_type": "code",
   "execution_count": 284,
   "metadata": {},
   "outputs": [
    {
     "data": {
      "text/plain": [
       "437.30135423971115"
      ]
     },
     "execution_count": 284,
     "metadata": {},
     "output_type": "execute_result"
    }
   ],
   "source": [
    "# Mean squared error regression loss\n",
    "mean_squared_error(test['Actual Open'], test['Random Forest Predicted Open'])"
   ]
  },
  {
   "cell_type": "markdown",
   "metadata": {},
   "source": [
    "## 4. XGBoost Regressor"
   ]
  },
  {
   "cell_type": "code",
   "execution_count": 285,
   "metadata": {},
   "outputs": [],
   "source": [
    "model_xg = xgb.XGBRegressor()"
   ]
  },
  {
   "cell_type": "code",
   "execution_count": 286,
   "metadata": {},
   "outputs": [],
   "source": [
    "hyperparameter_grid = {  \n",
    "    \"n_estimators\": [_ for _ in range(20,200,20)],\n",
    "    \"max_depth\": [_ for _ in range(2,14,2)],\n",
    "    \"learning_rate\": [0.01, 0.1, 0.3, 0.5],\n",
    "    \"colsample_bytree\": [0.4, 0.6, 0.8, 1.0],\n",
    "    'colsample_bylevel': [0.4, 0.6, 0.8, 1.0],\n",
    "    'min_child_weight': [0.5, 1.0, 3.0, 5.0, 7.0, 10.0],\n",
    "    \"subsample\": [0.5, 0.7, 0.9, 1.0],\n",
    "    \"gamma\": [0, 0.25, 0.5, 1.0],\n",
    "    'reg_lambda': [0.1, 1.0, 5.0, 10.0, 50.0, 100.0],\n",
    "    \n",
    "    \n",
    "}\n",
    "                       \n",
    "\n",
    "random_cv = RandomizedSearchCV(estimator=model_xg,\n",
    "            param_distributions=hyperparameter_grid,\n",
    "            cv=5, n_iter=100, \n",
    "            scoring = 'neg_mean_squared_error',\n",
    "            n_jobs = -1,\n",
    "            verbose = 5 )"
   ]
  },
  {
   "cell_type": "code",
   "execution_count": 287,
   "metadata": {},
   "outputs": [
    {
     "name": "stdout",
     "output_type": "stream",
     "text": [
      "Fitting 5 folds for each of 100 candidates, totalling 500 fits\n"
     ]
    },
    {
     "name": "stderr",
     "output_type": "stream",
     "text": [
      "[Parallel(n_jobs=-1)]: Using backend LokyBackend with 4 concurrent workers.\n",
      "[Parallel(n_jobs=-1)]: Done  10 tasks      | elapsed:    6.9s\n",
      "[Parallel(n_jobs=-1)]: Done  89 tasks      | elapsed:    8.6s\n",
      "[Parallel(n_jobs=-1)]: Done 353 tasks      | elapsed:   12.8s\n",
      "[Parallel(n_jobs=-1)]: Done 493 out of 500 | elapsed:   15.4s remaining:    0.1s\n",
      "[Parallel(n_jobs=-1)]: Done 500 out of 500 | elapsed:   15.5s finished\n"
     ]
    },
    {
     "data": {
      "text/plain": [
       "RandomizedSearchCV(cv=5, error_score=nan,\n",
       "                   estimator=XGBRegressor(base_score=None, booster=None,\n",
       "                                          colsample_bylevel=None,\n",
       "                                          colsample_bynode=None,\n",
       "                                          colsample_bytree=None, gamma=None,\n",
       "                                          gpu_id=None, importance_type='gain',\n",
       "                                          interaction_constraints=None,\n",
       "                                          learning_rate=None,\n",
       "                                          max_delta_step=None, max_depth=None,\n",
       "                                          min_child_weight=None, missing=nan,\n",
       "                                          monotone_constraints=None,\n",
       "                                          n_...\n",
       "                                        'learning_rate': [0.01, 0.1, 0.3, 0.5],\n",
       "                                        'max_depth': [2, 4, 6, 8, 10, 12],\n",
       "                                        'min_child_weight': [0.5, 1.0, 3.0, 5.0,\n",
       "                                                             7.0, 10.0],\n",
       "                                        'n_estimators': [20, 40, 60, 80, 100,\n",
       "                                                         120, 140, 160, 180],\n",
       "                                        'reg_lambda': [0.1, 1.0, 5.0, 10.0,\n",
       "                                                       50.0, 100.0],\n",
       "                                        'subsample': [0.5, 0.7, 0.9, 1.0]},\n",
       "                   pre_dispatch='2*n_jobs', random_state=None, refit=True,\n",
       "                   return_train_score=False, scoring='neg_mean_squared_error',\n",
       "                   verbose=5)"
      ]
     },
     "execution_count": 287,
     "metadata": {},
     "output_type": "execute_result"
    }
   ],
   "source": [
    "random_cv.fit(X,Y)"
   ]
  },
  {
   "cell_type": "code",
   "execution_count": 288,
   "metadata": {},
   "outputs": [
    {
     "data": {
      "text/plain": [
       "XGBRegressor(base_score=0.5, booster=None, colsample_bylevel=1.0,\n",
       "             colsample_bynode=1, colsample_bytree=1.0, gamma=1.0, gpu_id=-1,\n",
       "             importance_type='gain', interaction_constraints=None,\n",
       "             learning_rate=0.1, max_delta_step=0, max_depth=6,\n",
       "             min_child_weight=3.0, missing=nan, monotone_constraints=None,\n",
       "             n_estimators=160, n_jobs=0, num_parallel_tree=1,\n",
       "             objective='reg:squarederror', random_state=0, reg_alpha=0,\n",
       "             reg_lambda=1.0, scale_pos_weight=1, subsample=0.5,\n",
       "             tree_method=None, validate_parameters=False, verbosity=None)"
      ]
     },
     "execution_count": 288,
     "metadata": {},
     "output_type": "execute_result"
    }
   ],
   "source": [
    "random_cv.best_estimator_"
   ]
  },
  {
   "cell_type": "code",
   "execution_count": 296,
   "metadata": {},
   "outputs": [],
   "source": [
    "model_xg = xgb.XGBRegressor(base_score=0.5, booster=None, colsample_bylevel=1.0,\n",
    "             colsample_bynode=1, colsample_bytree=1.0, gamma=1.0, gpu_id=-1,\n",
    "             importance_type='gain', interaction_constraints=None,\n",
    "             learning_rate=0.1, max_delta_step=0, max_depth=6,\n",
    "             min_child_weight=3.0, monotone_constraints=None,\n",
    "             n_estimators=60, n_jobs=0, num_parallel_tree=1,\n",
    "             objective='reg:squarederror', random_state=0, reg_alpha=0,\n",
    "             reg_lambda=1.0, scale_pos_weight=1, subsample=0.5,\n",
    "             tree_method=None, validate_parameters=False, verbosity=None)"
   ]
  },
  {
   "cell_type": "code",
   "execution_count": 297,
   "metadata": {},
   "outputs": [
    {
     "data": {
      "text/plain": [
       "XGBRegressor(base_score=0.5, booster=None, colsample_bylevel=1.0,\n",
       "             colsample_bynode=1, colsample_bytree=1.0, gamma=1.0, gpu_id=-1,\n",
       "             importance_type='gain', interaction_constraints=None,\n",
       "             learning_rate=0.1, max_delta_step=0, max_depth=6,\n",
       "             min_child_weight=3.0, missing=nan, monotone_constraints=None,\n",
       "             n_estimators=60, n_jobs=0, num_parallel_tree=1,\n",
       "             objective='reg:squarederror', random_state=0, reg_alpha=0,\n",
       "             reg_lambda=1.0, scale_pos_weight=1, subsample=0.5,\n",
       "             tree_method=None, validate_parameters=False, verbosity=None)"
      ]
     },
     "execution_count": 297,
     "metadata": {},
     "output_type": "execute_result"
    }
   ],
   "source": [
    "model_xg.fit(X,Y)"
   ]
  },
  {
   "cell_type": "code",
   "execution_count": 298,
   "metadata": {},
   "outputs": [
    {
     "data": {
      "text/html": [
       "<div>\n",
       "<style scoped>\n",
       "    .dataframe tbody tr th:only-of-type {\n",
       "        vertical-align: middle;\n",
       "    }\n",
       "\n",
       "    .dataframe tbody tr th {\n",
       "        vertical-align: top;\n",
       "    }\n",
       "\n",
       "    .dataframe thead th {\n",
       "        text-align: right;\n",
       "    }\n",
       "</style>\n",
       "<table border=\"1\" class=\"dataframe\">\n",
       "  <thead>\n",
       "    <tr style=\"text-align: right;\">\n",
       "      <th></th>\n",
       "      <th>NIFTY_India Adj Close</th>\n",
       "      <th>SBI Adj Close</th>\n",
       "      <th>HangSeng Open</th>\n",
       "      <th>Euronext Adj Close</th>\n",
       "    </tr>\n",
       "  </thead>\n",
       "  <tbody>\n",
       "    <tr>\n",
       "      <th>0</th>\n",
       "      <td>8792.200195</td>\n",
       "      <td>186.399994</td>\n",
       "      <td>24191.32031</td>\n",
       "      <td>872.619995</td>\n",
       "    </tr>\n",
       "    <tr>\n",
       "      <th>1</th>\n",
       "      <td>8748.750000</td>\n",
       "      <td>183.000000</td>\n",
       "      <td>24181.32031</td>\n",
       "      <td>874.390015</td>\n",
       "    </tr>\n",
       "    <tr>\n",
       "      <th>2</th>\n",
       "      <td>8925.299805</td>\n",
       "      <td>182.350006</td>\n",
       "      <td>24025.44922</td>\n",
       "      <td>857.039978</td>\n",
       "    </tr>\n",
       "    <tr>\n",
       "      <th>3</th>\n",
       "      <td>8992.799805</td>\n",
       "      <td>188.500000</td>\n",
       "      <td>24457.83008</td>\n",
       "      <td>857.710022</td>\n",
       "    </tr>\n",
       "    <tr>\n",
       "      <th>4</th>\n",
       "      <td>9266.750000</td>\n",
       "      <td>193.250000</td>\n",
       "      <td>24503.56055</td>\n",
       "      <td>883.280029</td>\n",
       "    </tr>\n",
       "  </tbody>\n",
       "</table>\n",
       "</div>"
      ],
      "text/plain": [
       "   NIFTY_India Adj Close  SBI Adj Close  HangSeng Open  Euronext Adj Close\n",
       "0            8792.200195     186.399994    24191.32031          872.619995\n",
       "1            8748.750000     183.000000    24181.32031          874.390015\n",
       "2            8925.299805     182.350006    24025.44922          857.039978\n",
       "3            8992.799805     188.500000    24457.83008          857.710022\n",
       "4            9266.750000     193.250000    24503.56055          883.280029"
      ]
     },
     "execution_count": 298,
     "metadata": {},
     "output_type": "execute_result"
    }
   ],
   "source": [
    "X_test.head()"
   ]
  },
  {
   "cell_type": "code",
   "execution_count": 299,
   "metadata": {},
   "outputs": [],
   "source": [
    "test['XGBoost Predicted Open'] = model_xg.predict(X_test)"
   ]
  },
  {
   "cell_type": "code",
   "execution_count": 300,
   "metadata": {},
   "outputs": [
    {
     "data": {
      "text/html": [
       "<div>\n",
       "<style scoped>\n",
       "    .dataframe tbody tr th:only-of-type {\n",
       "        vertical-align: middle;\n",
       "    }\n",
       "\n",
       "    .dataframe tbody tr th {\n",
       "        vertical-align: top;\n",
       "    }\n",
       "\n",
       "    .dataframe thead th {\n",
       "        text-align: right;\n",
       "    }\n",
       "</style>\n",
       "<table border=\"1\" class=\"dataframe\">\n",
       "  <thead>\n",
       "    <tr style=\"text-align: right;\">\n",
       "      <th></th>\n",
       "      <th>Date</th>\n",
       "      <th>NIFTY_India Adj Close</th>\n",
       "      <th>SBI Adj Close</th>\n",
       "      <th>HangSeng Open</th>\n",
       "      <th>Euronext Adj Close</th>\n",
       "      <th>Actual Open</th>\n",
       "      <th>LR Predicted Open</th>\n",
       "      <th>SVR Predicted Open</th>\n",
       "      <th>Random Forest Predicted Open</th>\n",
       "      <th>XGBoost Predicted Open</th>\n",
       "    </tr>\n",
       "  </thead>\n",
       "  <tbody>\n",
       "    <tr>\n",
       "      <th>0</th>\n",
       "      <td>2020-04-08</td>\n",
       "      <td>8792.200195</td>\n",
       "      <td>186.399994</td>\n",
       "      <td>24191.32031</td>\n",
       "      <td>872.619995</td>\n",
       "      <td>182.899994</td>\n",
       "      <td>187.002958</td>\n",
       "      <td>187.456459</td>\n",
       "      <td>190.322282</td>\n",
       "      <td>187.430420</td>\n",
       "    </tr>\n",
       "    <tr>\n",
       "      <th>1</th>\n",
       "      <td>2020-04-09</td>\n",
       "      <td>8748.750000</td>\n",
       "      <td>183.000000</td>\n",
       "      <td>24181.32031</td>\n",
       "      <td>874.390015</td>\n",
       "      <td>188.000000</td>\n",
       "      <td>183.637513</td>\n",
       "      <td>184.081599</td>\n",
       "      <td>189.223958</td>\n",
       "      <td>185.779602</td>\n",
       "    </tr>\n",
       "    <tr>\n",
       "      <th>2</th>\n",
       "      <td>2020-04-16</td>\n",
       "      <td>8925.299805</td>\n",
       "      <td>182.350006</td>\n",
       "      <td>24025.44922</td>\n",
       "      <td>857.039978</td>\n",
       "      <td>182.000000</td>\n",
       "      <td>182.185698</td>\n",
       "      <td>182.751902</td>\n",
       "      <td>189.047625</td>\n",
       "      <td>185.386475</td>\n",
       "    </tr>\n",
       "    <tr>\n",
       "      <th>3</th>\n",
       "      <td>2020-04-17</td>\n",
       "      <td>8992.799805</td>\n",
       "      <td>188.500000</td>\n",
       "      <td>24457.83008</td>\n",
       "      <td>857.710022</td>\n",
       "      <td>196.000000</td>\n",
       "      <td>188.352958</td>\n",
       "      <td>188.950314</td>\n",
       "      <td>191.844784</td>\n",
       "      <td>188.908218</td>\n",
       "    </tr>\n",
       "    <tr>\n",
       "      <th>4</th>\n",
       "      <td>2020-04-20</td>\n",
       "      <td>9266.750000</td>\n",
       "      <td>193.250000</td>\n",
       "      <td>24503.56055</td>\n",
       "      <td>883.280029</td>\n",
       "      <td>194.000000</td>\n",
       "      <td>192.838395</td>\n",
       "      <td>193.388579</td>\n",
       "      <td>197.596133</td>\n",
       "      <td>193.931946</td>\n",
       "    </tr>\n",
       "  </tbody>\n",
       "</table>\n",
       "</div>"
      ],
      "text/plain": [
       "        Date  NIFTY_India Adj Close  SBI Adj Close  HangSeng Open  \\\n",
       "0 2020-04-08            8792.200195     186.399994    24191.32031   \n",
       "1 2020-04-09            8748.750000     183.000000    24181.32031   \n",
       "2 2020-04-16            8925.299805     182.350006    24025.44922   \n",
       "3 2020-04-17            8992.799805     188.500000    24457.83008   \n",
       "4 2020-04-20            9266.750000     193.250000    24503.56055   \n",
       "\n",
       "   Euronext Adj Close  Actual Open  LR Predicted Open  SVR Predicted Open  \\\n",
       "0          872.619995   182.899994         187.002958          187.456459   \n",
       "1          874.390015   188.000000         183.637513          184.081599   \n",
       "2          857.039978   182.000000         182.185698          182.751902   \n",
       "3          857.710022   196.000000         188.352958          188.950314   \n",
       "4          883.280029   194.000000         192.838395          193.388579   \n",
       "\n",
       "   Random Forest Predicted Open  XGBoost Predicted Open  \n",
       "0                    190.322282              187.430420  \n",
       "1                    189.223958              185.779602  \n",
       "2                    189.047625              185.386475  \n",
       "3                    191.844784              188.908218  \n",
       "4                    197.596133              193.931946  "
      ]
     },
     "execution_count": 300,
     "metadata": {},
     "output_type": "execute_result"
    }
   ],
   "source": [
    "test.head()"
   ]
  },
  {
   "cell_type": "code",
   "execution_count": 301,
   "metadata": {},
   "outputs": [
    {
     "data": {
      "text/plain": [
       "-0.6260267942024458"
      ]
     },
     "execution_count": 301,
     "metadata": {},
     "output_type": "execute_result"
    }
   ],
   "source": [
    "model_xg.score(X_test, test['Actual Open'])"
   ]
  },
  {
   "cell_type": "code",
   "execution_count": 302,
   "metadata": {},
   "outputs": [
    {
     "data": {
      "text/plain": [
       "312.86915541713944"
      ]
     },
     "execution_count": 302,
     "metadata": {},
     "output_type": "execute_result"
    }
   ],
   "source": [
    "# Mean squared error regression loss\n",
    "mean_squared_error(test['Actual Open'], test['XGBoost Predicted Open'])"
   ]
  },
  {
   "cell_type": "markdown",
   "metadata": {},
   "source": [
    "## 5. AdaBoost Regressor"
   ]
  },
  {
   "cell_type": "code",
   "execution_count": 303,
   "metadata": {},
   "outputs": [],
   "source": [
    "model_ada = AdaBoostRegressor()"
   ]
  },
  {
   "cell_type": "code",
   "execution_count": 304,
   "metadata": {},
   "outputs": [],
   "source": [
    "hyperparameter_grid = {'n_estimators':[20, 40, 50, 60, 80, 100, 200, 400, 1000],\n",
    "                       'learning_rate':[0.1, 0.3, 0.5],\n",
    "                       'loss': ['linear','square'] }\n",
    "\n",
    "\n",
    "grid_cv = GridSearchCV(estimator=model_ada,\n",
    "            param_grid=hyperparameter_grid,\n",
    "            cv=5, \n",
    "            scoring = 'neg_mean_squared_error',\n",
    "            n_jobs = -1,\n",
    "            verbose = 5 )"
   ]
  },
  {
   "cell_type": "code",
   "execution_count": 305,
   "metadata": {},
   "outputs": [
    {
     "name": "stdout",
     "output_type": "stream",
     "text": [
      "Fitting 5 folds for each of 54 candidates, totalling 270 fits\n"
     ]
    },
    {
     "name": "stderr",
     "output_type": "stream",
     "text": [
      "[Parallel(n_jobs=-1)]: Using backend LokyBackend with 4 concurrent workers.\n",
      "[Parallel(n_jobs=-1)]: Done  10 tasks      | elapsed:    3.2s\n",
      "[Parallel(n_jobs=-1)]: Done  64 tasks      | elapsed:    5.8s\n",
      "[Parallel(n_jobs=-1)]: Done 154 tasks      | elapsed:   12.4s\n",
      "[Parallel(n_jobs=-1)]: Done 270 out of 270 | elapsed:   25.5s finished\n"
     ]
    },
    {
     "data": {
      "text/plain": [
       "GridSearchCV(cv=5, error_score=nan,\n",
       "             estimator=AdaBoostRegressor(base_estimator=None, learning_rate=1.0,\n",
       "                                         loss='linear', n_estimators=50,\n",
       "                                         random_state=None),\n",
       "             iid='deprecated', n_jobs=-1,\n",
       "             param_grid={'learning_rate': [0.1, 0.3, 0.5],\n",
       "                         'loss': ['linear', 'square'],\n",
       "                         'n_estimators': [20, 40, 50, 60, 80, 100, 200, 400,\n",
       "                                          1000]},\n",
       "             pre_dispatch='2*n_jobs', refit=True, return_train_score=False,\n",
       "             scoring='neg_mean_squared_error', verbose=5)"
      ]
     },
     "execution_count": 305,
     "metadata": {},
     "output_type": "execute_result"
    }
   ],
   "source": [
    "grid_cv.fit(X,Y)"
   ]
  },
  {
   "cell_type": "code",
   "execution_count": 306,
   "metadata": {},
   "outputs": [
    {
     "data": {
      "text/plain": [
       "AdaBoostRegressor(base_estimator=None, learning_rate=0.5, loss='square',\n",
       "                  n_estimators=60, random_state=None)"
      ]
     },
     "execution_count": 306,
     "metadata": {},
     "output_type": "execute_result"
    }
   ],
   "source": [
    "grid_cv.best_estimator_"
   ]
  },
  {
   "cell_type": "code",
   "execution_count": 331,
   "metadata": {},
   "outputs": [],
   "source": [
    "model_ada = AdaBoostRegressor(base_estimator=None, learning_rate=0.5, loss='square',\n",
    "                  n_estimators=1000, random_state=None)"
   ]
  },
  {
   "cell_type": "code",
   "execution_count": 332,
   "metadata": {},
   "outputs": [
    {
     "data": {
      "text/plain": [
       "AdaBoostRegressor(base_estimator=None, learning_rate=0.5, loss='square',\n",
       "                  n_estimators=1000, random_state=None)"
      ]
     },
     "execution_count": 332,
     "metadata": {},
     "output_type": "execute_result"
    }
   ],
   "source": [
    "model_ada.fit(X,Y)"
   ]
  },
  {
   "cell_type": "code",
   "execution_count": 333,
   "metadata": {},
   "outputs": [],
   "source": [
    "test['AdaBoost Predicted Open'] = model_ada.predict(X_test)"
   ]
  },
  {
   "cell_type": "code",
   "execution_count": 334,
   "metadata": {},
   "outputs": [
    {
     "data": {
      "text/html": [
       "<div>\n",
       "<style scoped>\n",
       "    .dataframe tbody tr th:only-of-type {\n",
       "        vertical-align: middle;\n",
       "    }\n",
       "\n",
       "    .dataframe tbody tr th {\n",
       "        vertical-align: top;\n",
       "    }\n",
       "\n",
       "    .dataframe thead th {\n",
       "        text-align: right;\n",
       "    }\n",
       "</style>\n",
       "<table border=\"1\" class=\"dataframe\">\n",
       "  <thead>\n",
       "    <tr style=\"text-align: right;\">\n",
       "      <th></th>\n",
       "      <th>Date</th>\n",
       "      <th>NIFTY_India Adj Close</th>\n",
       "      <th>SBI Adj Close</th>\n",
       "      <th>HangSeng Open</th>\n",
       "      <th>Euronext Adj Close</th>\n",
       "      <th>Actual Open</th>\n",
       "      <th>LR Predicted Open</th>\n",
       "      <th>SVR Predicted Open</th>\n",
       "      <th>Random Forest Predicted Open</th>\n",
       "      <th>XGBoost Predicted Open</th>\n",
       "      <th>AdaBoost Predicted Open</th>\n",
       "    </tr>\n",
       "  </thead>\n",
       "  <tbody>\n",
       "    <tr>\n",
       "      <th>0</th>\n",
       "      <td>2020-04-08</td>\n",
       "      <td>8792.200195</td>\n",
       "      <td>186.399994</td>\n",
       "      <td>24191.32031</td>\n",
       "      <td>872.619995</td>\n",
       "      <td>182.899994</td>\n",
       "      <td>187.002958</td>\n",
       "      <td>187.456459</td>\n",
       "      <td>190.322282</td>\n",
       "      <td>187.430420</td>\n",
       "      <td>195.266666</td>\n",
       "    </tr>\n",
       "    <tr>\n",
       "      <th>1</th>\n",
       "      <td>2020-04-09</td>\n",
       "      <td>8748.750000</td>\n",
       "      <td>183.000000</td>\n",
       "      <td>24181.32031</td>\n",
       "      <td>874.390015</td>\n",
       "      <td>188.000000</td>\n",
       "      <td>183.637513</td>\n",
       "      <td>184.081599</td>\n",
       "      <td>189.223958</td>\n",
       "      <td>185.779602</td>\n",
       "      <td>195.266666</td>\n",
       "    </tr>\n",
       "    <tr>\n",
       "      <th>2</th>\n",
       "      <td>2020-04-16</td>\n",
       "      <td>8925.299805</td>\n",
       "      <td>182.350006</td>\n",
       "      <td>24025.44922</td>\n",
       "      <td>857.039978</td>\n",
       "      <td>182.000000</td>\n",
       "      <td>182.185698</td>\n",
       "      <td>182.751902</td>\n",
       "      <td>189.047625</td>\n",
       "      <td>185.386475</td>\n",
       "      <td>195.266667</td>\n",
       "    </tr>\n",
       "    <tr>\n",
       "      <th>3</th>\n",
       "      <td>2020-04-17</td>\n",
       "      <td>8992.799805</td>\n",
       "      <td>188.500000</td>\n",
       "      <td>24457.83008</td>\n",
       "      <td>857.710022</td>\n",
       "      <td>196.000000</td>\n",
       "      <td>188.352958</td>\n",
       "      <td>188.950314</td>\n",
       "      <td>191.844784</td>\n",
       "      <td>188.908218</td>\n",
       "      <td>195.266667</td>\n",
       "    </tr>\n",
       "    <tr>\n",
       "      <th>4</th>\n",
       "      <td>2020-04-20</td>\n",
       "      <td>9266.750000</td>\n",
       "      <td>193.250000</td>\n",
       "      <td>24503.56055</td>\n",
       "      <td>883.280029</td>\n",
       "      <td>194.000000</td>\n",
       "      <td>192.838395</td>\n",
       "      <td>193.388579</td>\n",
       "      <td>197.596133</td>\n",
       "      <td>193.931946</td>\n",
       "      <td>200.707316</td>\n",
       "    </tr>\n",
       "  </tbody>\n",
       "</table>\n",
       "</div>"
      ],
      "text/plain": [
       "        Date  NIFTY_India Adj Close  SBI Adj Close  HangSeng Open  \\\n",
       "0 2020-04-08            8792.200195     186.399994    24191.32031   \n",
       "1 2020-04-09            8748.750000     183.000000    24181.32031   \n",
       "2 2020-04-16            8925.299805     182.350006    24025.44922   \n",
       "3 2020-04-17            8992.799805     188.500000    24457.83008   \n",
       "4 2020-04-20            9266.750000     193.250000    24503.56055   \n",
       "\n",
       "   Euronext Adj Close  Actual Open  LR Predicted Open  SVR Predicted Open  \\\n",
       "0          872.619995   182.899994         187.002958          187.456459   \n",
       "1          874.390015   188.000000         183.637513          184.081599   \n",
       "2          857.039978   182.000000         182.185698          182.751902   \n",
       "3          857.710022   196.000000         188.352958          188.950314   \n",
       "4          883.280029   194.000000         192.838395          193.388579   \n",
       "\n",
       "   Random Forest Predicted Open  XGBoost Predicted Open  \\\n",
       "0                    190.322282              187.430420   \n",
       "1                    189.223958              185.779602   \n",
       "2                    189.047625              185.386475   \n",
       "3                    191.844784              188.908218   \n",
       "4                    197.596133              193.931946   \n",
       "\n",
       "   AdaBoost Predicted Open  \n",
       "0               195.266666  \n",
       "1               195.266666  \n",
       "2               195.266667  \n",
       "3               195.266667  \n",
       "4               200.707316  "
      ]
     },
     "execution_count": 334,
     "metadata": {},
     "output_type": "execute_result"
    }
   ],
   "source": [
    "test.head(5)"
   ]
  },
  {
   "cell_type": "code",
   "execution_count": 335,
   "metadata": {},
   "outputs": [
    {
     "data": {
      "text/plain": [
       "-2.616919214289081"
      ]
     },
     "execution_count": 335,
     "metadata": {},
     "output_type": "execute_result"
    }
   ],
   "source": [
    "model_ada.score(X_test, test['Actual Open'])"
   ]
  },
  {
   "cell_type": "code",
   "execution_count": 336,
   "metadata": {},
   "outputs": [
    {
     "data": {
      "text/plain": [
       "695.9433041456742"
      ]
     },
     "execution_count": 336,
     "metadata": {},
     "output_type": "execute_result"
    }
   ],
   "source": [
    "# Mean squared error regression loss\n",
    "mean_squared_error(test['Actual Open'], test['AdaBoost Predicted Open'])"
   ]
  },
  {
   "cell_type": "markdown",
   "metadata": {},
   "source": [
    "# SVR model is selected for Stock Open Price prediction."
   ]
  },
  {
   "cell_type": "code",
   "execution_count": 337,
   "metadata": {},
   "outputs": [],
   "source": [
    "test.set_index('Date',inplace=True)"
   ]
  },
  {
   "cell_type": "code",
   "execution_count": 338,
   "metadata": {},
   "outputs": [
    {
     "data": {
      "image/png": "[encoded data removed]",
      "text/plain": [
       "<Figure size 1800x720 with 1 Axes>"
      ]
     },
     "metadata": {
      "needs_background": "light"
     },
     "output_type": "display_data"
    }
   ],
   "source": [
    "plt.figure(figsize = (25, 10))\n",
    "\n",
    "plt.plot(test['Actual Open'], 'bs-', label = 'Actual')\n",
    "plt.plot(test['SVR Predicted Open'], 'ro-', label = 'Predicted')\n",
    "plt.legend()\n",
    "plt.xlabel(\"Date\")\n",
    "plt.ylabel(\"Open Price\")\n",
    "\n",
    "plt.title('SBI Open Price Price prediction using SVR')\n",
    "plt.show()"
   ]
  },
  {
   "cell_type": "code",
   "execution_count": 339,
   "metadata": {},
   "outputs": [
    {
     "data": {
      "text/plain": [
       "['sbi_SVR.joblib']"
      ]
     },
     "execution_count": 339,
     "metadata": {},
     "output_type": "execute_result"
    }
   ],
   "source": [
    "from joblib import dump, load\n",
    "dump(model_svr, 'sbi_SVR.joblib')"
   ]
  },
  {
   "cell_type": "code",
   "execution_count": null,
   "metadata": {},
   "outputs": [],
   "source": []
  }
 ],
 "metadata": {
  "kernelspec": {
   "display_name": "Python 3",
   "language": "python",
   "name": "python3"
  },
  "language_info": {
   "codemirror_mode": {
    "name": "ipython",
    "version": 3
   },
   "file_extension": ".py",
   "mimetype": "text/x-python",
   "name": "python",
   "nbconvert_exporter": "python",
   "pygments_lexer": "ipython3",
   "version": "3.7.3"
  }
 },
 "nbformat": 4,
 "nbformat_minor": 4
}
